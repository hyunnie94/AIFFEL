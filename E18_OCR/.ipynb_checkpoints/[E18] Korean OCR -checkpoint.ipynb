{
 "cells": [
  {
   "cell_type": "markdown",
   "id": "anonymous-seller",
   "metadata": {},
   "source": [
    "# 18-9. 프로젝트 : 다양한 OCR모델 비교하기\n",
    "\n",
    "### [루브릭]\n",
    "1. OCR을 활용하여 구현하려는 서비스의 기획이 타당한가?\n",
    "    - 목표로 하는 서비스가 OCR를 적용 가능하며, OCR을 활용했을 때 더욱 유용해진다.\n",
    "    \n",
    "    \n",
    "2. 모델 평가기준이 명확하고 체계적으로 세워졌는가?\n",
    "    - 평가 기준에 부합하는 테스트 데이터의 특징이 무엇인지 명확하게 제시되었다.\n",
    "    \n",
    "    \n",
    "3. 평가기준에 따라 충분한 분량의 테스트가 진행되고 그 결과가 잘 정리되었는가?\n",
    "    - 최대 20장까지의 테스트 이미지를 사용해 제시된 평가 기준에 따른 테스트 결과가 잘 정리되어 결론이 도출되었다.\n",
    "\n",
    "\n",
    "### [학습 과정]\n",
    "\n",
    "1. 검증용 데이터셋 준비\n",
    "2. Google OCR API, keras-ocr, Tesseract로 테스트 진행\n",
    "3. 테스트 결과 정리\n",
    "4. 결과 분석과 결론 제시\n",
    "\n",
    "### [결론 및 회고]"
   ]
  },
  {
   "cell_type": "markdown",
   "id": "ranging-recipient",
   "metadata": {},
   "source": [
    "## 1. 검증용 데이터셋 준비\n",
    "\n",
    "- 크기가 매우 작은 데이터\n",
    "- 모양이 특이한 (wierd) 데이터\n",
    "- 노이즈가 큰 데이터\n"
   ]
  },
  {
   "cell_type": "code",
   "execution_count": null,
   "id": "optional-sheet",
   "metadata": {},
   "outputs": [],
   "source": []
  },
  {
   "cell_type": "code",
   "execution_count": null,
   "id": "hawaiian-herald",
   "metadata": {},
   "outputs": [],
   "source": []
  },
  {
   "cell_type": "code",
   "execution_count": null,
   "id": "binding-albania",
   "metadata": {},
   "outputs": [],
   "source": []
  },
  {
   "cell_type": "code",
   "execution_count": null,
   "id": "interim-growth",
   "metadata": {},
   "outputs": [],
   "source": []
  },
  {
   "cell_type": "code",
   "execution_count": null,
   "id": "subjective-ozone",
   "metadata": {},
   "outputs": [],
   "source": []
  },
  {
   "cell_type": "code",
   "execution_count": null,
   "id": "detected-making",
   "metadata": {},
   "outputs": [],
   "source": []
  },
  {
   "cell_type": "code",
   "execution_count": null,
   "id": "spanish-peace",
   "metadata": {},
   "outputs": [],
   "source": []
  },
  {
   "cell_type": "code",
   "execution_count": null,
   "id": "increased-income",
   "metadata": {},
   "outputs": [],
   "source": []
  },
  {
   "cell_type": "code",
   "execution_count": null,
   "id": "necessary-making",
   "metadata": {},
   "outputs": [],
   "source": []
  },
  {
   "cell_type": "code",
   "execution_count": null,
   "id": "lined-charter",
   "metadata": {},
   "outputs": [],
   "source": []
  },
  {
   "cell_type": "code",
   "execution_count": null,
   "id": "conceptual-function",
   "metadata": {},
   "outputs": [],
   "source": []
  }
 ],
 "metadata": {
  "kernelspec": {
   "display_name": "Python 3",
   "language": "python",
   "name": "python3"
  },
  "language_info": {
   "codemirror_mode": {
    "name": "ipython",
    "version": 3
   },
   "file_extension": ".py",
   "mimetype": "text/x-python",
   "name": "python",
   "nbconvert_exporter": "python",
   "pygments_lexer": "ipython3",
   "version": "3.7.9"
  }
 },
 "nbformat": 4,
 "nbformat_minor": 5
}
