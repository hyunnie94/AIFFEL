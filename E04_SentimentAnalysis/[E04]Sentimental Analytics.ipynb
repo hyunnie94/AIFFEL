{
 "cells": [
  {
   "cell_type": "markdown",
   "metadata": {},
   "source": [
    "# 4-11. 프로젝트 : 네이버 영화리뷰 감성분석 도전하기\n",
    "\n",
    " \n",
    "### [루브릭]\n",
    "\n",
    "평가문항\t상세기준\n",
    "1. 다양한 방법으로 Text Classification 태스크를 성공적으로 구현하였다. \n",
    "    - 3가지 이상의 모델이 성공적으로 시도됨\n",
    "2. gensim을 활용하여 자체학습된 혹은 사전학습된 임베딩 레이어를 분석하였다. \n",
    "    - gensim의 유사단어 찾기를 활용하여 자체학습한 임베딩과 사전학습 임베딩을 적절히 분석함\n",
    "3. 한국어 Word2Vec을 활용하여 가시적인 성능향상을 달성했다. \n",
    "    - 네이버 영화리뷰 데이터 감성분석 정확도를 85% 이상 달성함\n",
    "\n",
    "### [학습 과정]\n",
    "1) 데이터 준비와 확인  \n",
    "2) 데이터로더 구성  \n",
    "3) 모델구성을 위한 데이터 분석 및 가공  \n",
    "4) 모델 구성 및 validation set 구성  \n",
    "5) 모델 훈련 개시  \n",
    "6) Loss Accuracy 그래프 시각화   \n",
    "7) 학습된 Embedding 레이어 분석  \n",
    "8) 한국어 Word2Vec 임베딩 활용하여 성능 개선  \n",
    "\n",
    "### [결과 및 회고]"
   ]
  },
  {
   "cell_type": "markdown",
   "metadata": {},
   "source": [
    "### 데이터 준비와 확인"
   ]
  },
  {
   "cell_type": "code",
   "execution_count": 1,
   "metadata": {},
   "outputs": [
    {
     "data": {
      "text/html": [
       "<div>\n",
       "<style scoped>\n",
       "    .dataframe tbody tr th:only-of-type {\n",
       "        vertical-align: middle;\n",
       "    }\n",
       "\n",
       "    .dataframe tbody tr th {\n",
       "        vertical-align: top;\n",
       "    }\n",
       "\n",
       "    .dataframe thead th {\n",
       "        text-align: right;\n",
       "    }\n",
       "</style>\n",
       "<table border=\"1\" class=\"dataframe\">\n",
       "  <thead>\n",
       "    <tr style=\"text-align: right;\">\n",
       "      <th></th>\n",
       "      <th>id</th>\n",
       "      <th>document</th>\n",
       "      <th>label</th>\n",
       "    </tr>\n",
       "  </thead>\n",
       "  <tbody>\n",
       "    <tr>\n",
       "      <th>0</th>\n",
       "      <td>9976970</td>\n",
       "      <td>아 더빙.. 진짜 짜증나네요 목소리</td>\n",
       "      <td>0</td>\n",
       "    </tr>\n",
       "    <tr>\n",
       "      <th>1</th>\n",
       "      <td>3819312</td>\n",
       "      <td>흠...포스터보고 초딩영화줄....오버연기조차 가볍지 않구나</td>\n",
       "      <td>1</td>\n",
       "    </tr>\n",
       "    <tr>\n",
       "      <th>2</th>\n",
       "      <td>10265843</td>\n",
       "      <td>너무재밓었다그래서보는것을추천한다</td>\n",
       "      <td>0</td>\n",
       "    </tr>\n",
       "    <tr>\n",
       "      <th>3</th>\n",
       "      <td>9045019</td>\n",
       "      <td>교도소 이야기구먼 ..솔직히 재미는 없다..평점 조정</td>\n",
       "      <td>0</td>\n",
       "    </tr>\n",
       "    <tr>\n",
       "      <th>4</th>\n",
       "      <td>6483659</td>\n",
       "      <td>사이몬페그의 익살스런 연기가 돋보였던 영화!스파이더맨에서 늙어보이기만 했던 커스틴 ...</td>\n",
       "      <td>1</td>\n",
       "    </tr>\n",
       "  </tbody>\n",
       "</table>\n",
       "</div>"
      ],
      "text/plain": [
       "         id                                           document  label\n",
       "0   9976970                                아 더빙.. 진짜 짜증나네요 목소리      0\n",
       "1   3819312                  흠...포스터보고 초딩영화줄....오버연기조차 가볍지 않구나      1\n",
       "2  10265843                                  너무재밓었다그래서보는것을추천한다      0\n",
       "3   9045019                      교도소 이야기구먼 ..솔직히 재미는 없다..평점 조정      0\n",
       "4   6483659  사이몬페그의 익살스런 연기가 돋보였던 영화!스파이더맨에서 늙어보이기만 했던 커스틴 ...      1"
      ]
     },
     "execution_count": 1,
     "metadata": {},
     "output_type": "execute_result"
    }
   ],
   "source": [
    "import pandas as pd\n",
    "import urllib.request\n",
    "%matplotlib inline\n",
    "import matplotlib.pyplot as plt\n",
    "import re\n",
    "from konlpy.tag import Okt\n",
    "from tensorflow import keras\n",
    "from tensorflow.keras.preprocessing.text import Tokenizer\n",
    "import numpy as np\n",
    "from tensorflow.keras.preprocessing.sequence import pad_sequences\n",
    "from collections import Counter\n",
    "\n",
    "\n",
    "# 데이터를 읽어봅시다. \n",
    "train_data = pd.read_table('~/aiffel/E04_SentimentAnalysis/ratings_train.txt')\n",
    "test_data = pd.read_table('~/aiffel/E04_SentimentAnalysis/ratings_test.txt')\n",
    "\n",
    "train_data.head()"
   ]
  },
  {
   "cell_type": "markdown",
   "metadata": {},
   "source": [
    "### 데이터로더 구성\n",
    "\n",
    "* 데이터의 중복 제거\n",
    "* NaN 결측치 제거\n",
    "* 한국어 토크나이저로 토큰화\n",
    "* 불용어(Stopwords) 제거\n",
    "* 사전word_to_index 구성\n",
    "* 텍스트 스트링을 사전 인덱스 스트링으로 변환\n",
    "* X_train, y_train, X_test, y_test, word_to_index 리턴\n"
   ]
  },
  {
   "cell_type": "code",
   "execution_count": 2,
   "metadata": {},
   "outputs": [
    {
     "name": "stdout",
     "output_type": "stream",
     "text": [
      "훈련 샘플 개수: 146182, 테스트 개수: 49157\n",
      "53965\n"
     ]
    }
   ],
   "source": [
    "from konlpy.tag import Mecab\n",
    "tokenizer = Mecab()\n",
    "stopwords = ['의','가','이','은','들','는','좀','잘','걍','과','도','를','으로','자','에','와','한','하다']\n",
    "\n",
    "def load_data(train_data, test_data, num_words=70000):\n",
    "    train_data.drop_duplicates(subset=['document'], inplace=True) # 데이터 중복 제거\n",
    "    train_data = train_data.dropna(how='any')          # 결측치 제거       \n",
    "    test_data.drop_duplicates(subset=['document'], inplace=True) # 데이터 중복 제거\n",
    "    test_data = test_data.dropna(how = 'any')          # 결측치 제거\n",
    "    \n",
    "    X_train = []\n",
    "    for sentence in train_data['document']:\n",
    "        temp_X = tokenizer.morphs(sentence) # 토큰화\n",
    "        temp_X = [word for word in temp_X if not word in stopwords] # stopwords 제거\n",
    "        X_train.append(temp_X)\n",
    "\n",
    "    X_test = []\n",
    "    for sentence in test_data['document']:\n",
    "        temp_X = tokenizer.morphs(sentence) # 토큰화\n",
    "        temp_X = [word for word in temp_X if not word in stopwords] # stopwords 제거\n",
    "        X_test.append(temp_X)\n",
    "\n",
    "    words = np.concatenate(X_train).tolist()\n",
    "    counter = Counter(words)\n",
    "    counter = counter.most_common(70000-4)\n",
    "    vocab = ['<PAD>', '<BOS>', '<UNK>', '<UNUSED>'] + [key for key, _ in counter]\n",
    "    word_to_index = {word:index for index, word in enumerate(vocab)}\n",
    "\n",
    "    def wordlist_to_indexlist(wordlist):\n",
    "        return [word_to_index[word] if word in word_to_index else word_to_index['<UNK>'] for word in wordlist]\n",
    "\n",
    "    X_train = list(map(wordlist_to_indexlist, X_train))\n",
    "    X_test = list(map(wordlist_to_indexlist, X_test))\n",
    "\n",
    "    return X_train, np.array(list(train_data['label'])), X_test, np.array(list(test_data['label'])), word_to_index\n",
    "    \n",
    "    \n",
    "    \n",
    "X_train, y_train, X_test, y_test, word_to_index = load_data(train_data, test_data)\n",
    "print(\"훈련 샘플 개수: {}, 테스트 개수: {}\".format(len(X_train), len(X_test)))\n",
    "print(len(word_to_index))"
   ]
  },
  {
   "cell_type": "code",
   "execution_count": 3,
   "metadata": {},
   "outputs": [],
   "source": [
    "index_to_word = {index:word for word, index in word_to_index.items()}"
   ]
  },
  {
   "cell_type": "code",
   "execution_count": 4,
   "metadata": {},
   "outputs": [],
   "source": [
    "# 문장 1개를 활용할 딕셔너리와 함께 주면, 단어 인덱스 리스트 벡터로 변환해 주는 함수입니다. \n",
    "# 단, 모든 문장은 <BOS>로 시작하는 것으로 합니다. \n",
    "def get_encoded_sentence(sentence, word_to_index):\n",
    "    return [word_to_index['<BOS>']]+[word_to_index[word] if word in word_to_index else word_to_index['<UNK>'] for word in sentence.split()]\n",
    "\n",
    "# 여러 개의 문장 리스트를 한꺼번에 단어 인덱스 리스트 벡터로 encode해 주는 함수입니다. \n",
    "def get_encoded_sentences(sentences, word_to_index):\n",
    "    return [get_encoded_sentence(sentence, word_to_index) for sentence in sentences]\n",
    "\n",
    "# 숫자 벡터로 encode된 문장을 원래대로 decode하는 함수입니다. \n",
    "def get_decoded_sentence(encoded_sentence, index_to_word):\n",
    "    return ' '.join(index_to_word[index] if index in index_to_word else '<UNK>' for index in encoded_sentence[1:])  #[1:]를 통해 <BOS>를 제외\n",
    "\n",
    "# 여러개의 숫자 벡터로 encode된 문장을 한꺼번에 원래대로 decode하는 함수입니다. \n",
    "def get_decoded_sentences(encoded_sentences, index_to_word):\n",
    "    return [get_decoded_sentence(encoded_sentence, index_to_word) for encoded_sentence in encoded_sentences]"
   ]
  },
  {
   "cell_type": "markdown",
   "metadata": {},
   "source": [
    "### 모델구성을 위한 데이터 분석 및 가공\n",
    "* 데이터셋 내 문장 길이 분포\n",
    "* 적절한 최대 문장 길이 지정\n",
    "* keras.preprocessing.sequence.pad_sequences 을 활용한 패딩 추가"
   ]
  },
  {
   "cell_type": "code",
   "execution_count": 5,
   "metadata": {},
   "outputs": [
    {
     "name": "stdout",
     "output_type": "stream",
     "text": [
      "1번째 리뷰 문장 길이:  10\n",
      "2번째 리뷰 문장 길이:  17\n"
     ]
    }
   ],
   "source": [
    "print('1번째 리뷰 문장 길이: ', len(X_train[0]))\n",
    "print('2번째 리뷰 문장 길이: ', len(X_train[1]))"
   ]
  },
  {
   "cell_type": "code",
   "execution_count": 6,
   "metadata": {},
   "outputs": [
    {
     "name": "stdout",
     "output_type": "stream",
     "text": [
      "문장길이 평균 :  15.96938143432699\n",
      "문장길이 최대 :  116\n",
      "문장길이 표준편차 :  12.843571939469296\n",
      "pad_sequences maxlen :  41\n",
      "전체 문장의 0.9342988343341575%가 maxlen 설정값 이내에 포함됩니다. \n"
     ]
    }
   ],
   "source": [
    "total_data_text = list(X_train) + list(X_test)\n",
    "# 텍스트데이터 문장길이의 리스트를 생성\n",
    "num_tokens = [len(tokens) for tokens in total_data_text]\n",
    "\n",
    "num_tokens = np.array(num_tokens)\n",
    "# 문장길이의 평균값, 최대값, 표준편차를 계산\n",
    "print('문장길이 평균 : ', np.mean(num_tokens))\n",
    "print('문장길이 최대 : ', np.max(num_tokens))\n",
    "print('문장길이 표준편차 : ', np.std(num_tokens))\n",
    "\n",
    "# 예를들어, 최대 길이를 (평균 + 2*표준편차)로 한다면,  \n",
    "max_tokens = np.mean(num_tokens) + 2 * np.std(num_tokens)\n",
    "maxlen = int(max_tokens)\n",
    "print('pad_sequences maxlen : ', maxlen)\n",
    "print('전체 문장의 {}%가 maxlen 설정값 이내에 포함됩니다. '.format(np.sum(num_tokens < max_tokens) / len(num_tokens)))"
   ]
  },
  {
   "cell_type": "code",
   "execution_count": 7,
   "metadata": {},
   "outputs": [
    {
     "name": "stdout",
     "output_type": "stream",
     "text": [
      "(146182, 41)\n"
     ]
    }
   ],
   "source": [
    "X_train = keras.preprocessing.sequence.pad_sequences(X_train,\n",
    "                                                        value=word_to_index[\"<PAD>\"],\n",
    "                                                        padding='pre', # 혹은 'pre'\n",
    "                                                        maxlen=maxlen)\n",
    "\n",
    "X_test = keras.preprocessing.sequence.pad_sequences(X_test,\n",
    "                                                       value=word_to_index[\"<PAD>\"],\n",
    "                                                       padding='pre', # 혹은 'pre'\n",
    "                                                       maxlen=maxlen)\n",
    "\n",
    "\n",
    "print(X_train.shape)"
   ]
  },
  {
   "cell_type": "markdown",
   "metadata": {},
   "source": [
    "# 1. RNN - LSTM 사용 모델 \n",
    "\n",
    "### 모델 구성 및 validation set 구성"
   ]
  },
  {
   "cell_type": "code",
   "execution_count": 8,
   "metadata": {},
   "outputs": [
    {
     "name": "stdout",
     "output_type": "stream",
     "text": [
      "Model: \"sequential\"\n",
      "_________________________________________________________________\n",
      "Layer (type)                 Output Shape              Param #   \n",
      "=================================================================\n",
      "embedding (Embedding)        (None, None, 128)         6907520   \n",
      "_________________________________________________________________\n",
      "lstm (LSTM)                  (None, 32)                20608     \n",
      "_________________________________________________________________\n",
      "dropout (Dropout)            (None, 32)                0         \n",
      "_________________________________________________________________\n",
      "dense (Dense)                (None, 16)                528       \n",
      "_________________________________________________________________\n",
      "dense_1 (Dense)              (None, 1)                 17        \n",
      "=================================================================\n",
      "Total params: 6,928,673\n",
      "Trainable params: 6,928,673\n",
      "Non-trainable params: 0\n",
      "_________________________________________________________________\n"
     ]
    }
   ],
   "source": [
    "vocab_size = len(word_to_index)   # 어휘 사전의 크기\n",
    "word_vector_dim = 128  # 워드 벡터의 차원수 \n",
    "\n",
    "model = keras.Sequential()\n",
    "model.add(keras.layers.Embedding(vocab_size, word_vector_dim, input_shape=(None,)))\n",
    "model.add(keras.layers.LSTM(32))   \n",
    "model.add(keras.layers.Dropout(0.5))\n",
    "model.add(keras.layers.Dense(16, activation='relu',kernel_regularizer='l1'))\n",
    "model.add(keras.layers.Dense(1, activation='sigmoid'))  # 최종 출력은 긍정/부정을 나타내는 1dim\n",
    "\n",
    "model.summary()"
   ]
  },
  {
   "cell_type": "code",
   "execution_count": 9,
   "metadata": {},
   "outputs": [
    {
     "name": "stdout",
     "output_type": "stream",
     "text": [
      "(96182, 41)\n",
      "(96182,)\n"
     ]
    }
   ],
   "source": [
    "# validation set 50000건 분리\n",
    "X_val = X_train[:50000]   \n",
    "y_val = y_train[:50000]\n",
    "\n",
    "# validation set을 제외한 나머지 약 100000건\n",
    "partial_X_train = X_train[50000:]  \n",
    "partial_y_train = y_train[50000:]\n",
    "\n",
    "print(partial_X_train.shape)\n",
    "print(partial_y_train.shape)"
   ]
  },
  {
   "cell_type": "markdown",
   "metadata": {},
   "source": [
    "### 모델 훈련 개시"
   ]
  },
  {
   "cell_type": "code",
   "execution_count": 10,
   "metadata": {},
   "outputs": [
    {
     "name": "stdout",
     "output_type": "stream",
     "text": [
      "Epoch 1/20\n",
      "188/188 [==============================] - 10s 55ms/step - loss: 1.0333 - accuracy: 0.7734 - val_loss: 0.6094 - val_accuracy: 0.8445\n",
      "Epoch 2/20\n",
      "188/188 [==============================] - 10s 55ms/step - loss: 0.4499 - accuracy: 0.8700 - val_loss: 0.4110 - val_accuracy: 0.8504\n",
      "Epoch 3/20\n",
      "188/188 [==============================] - 10s 55ms/step - loss: 0.3331 - accuracy: 0.8987 - val_loss: 0.4078 - val_accuracy: 0.8491\n",
      "Epoch 4/20\n",
      "188/188 [==============================] - 11s 56ms/step - loss: 0.2872 - accuracy: 0.9160 - val_loss: 0.4182 - val_accuracy: 0.8473\n",
      "Epoch 5/20\n",
      "188/188 [==============================] - 11s 56ms/step - loss: 0.2521 - accuracy: 0.9286 - val_loss: 0.4202 - val_accuracy: 0.8475\n",
      "Epoch 6/20\n",
      "188/188 [==============================] - 11s 56ms/step - loss: 0.2270 - accuracy: 0.9379 - val_loss: 0.4415 - val_accuracy: 0.8418\n",
      "Epoch 7/20\n",
      "188/188 [==============================] - 11s 56ms/step - loss: 0.2057 - accuracy: 0.9455 - val_loss: 0.4651 - val_accuracy: 0.8438\n",
      "Epoch 8/20\n",
      "188/188 [==============================] - 10s 56ms/step - loss: 0.1882 - accuracy: 0.9516 - val_loss: 0.4751 - val_accuracy: 0.8410\n",
      "Epoch 9/20\n",
      "188/188 [==============================] - 10s 55ms/step - loss: 0.1760 - accuracy: 0.9556 - val_loss: 0.4899 - val_accuracy: 0.8400\n",
      "Epoch 10/20\n",
      "188/188 [==============================] - 10s 55ms/step - loss: 0.1613 - accuracy: 0.9608 - val_loss: 0.4921 - val_accuracy: 0.8392\n",
      "Epoch 11/20\n",
      "188/188 [==============================] - 11s 56ms/step - loss: 0.1527 - accuracy: 0.9637 - val_loss: 0.4890 - val_accuracy: 0.8374\n",
      "Epoch 12/20\n",
      "188/188 [==============================] - 10s 56ms/step - loss: 0.1432 - accuracy: 0.9671 - val_loss: 0.5178 - val_accuracy: 0.8377\n",
      "Epoch 13/20\n",
      "188/188 [==============================] - 11s 57ms/step - loss: 0.1315 - accuracy: 0.9709 - val_loss: 0.5231 - val_accuracy: 0.8336\n",
      "Epoch 14/20\n",
      "188/188 [==============================] - 10s 55ms/step - loss: 0.1235 - accuracy: 0.9735 - val_loss: 0.5522 - val_accuracy: 0.8343\n",
      "Epoch 15/20\n",
      "188/188 [==============================] - 11s 57ms/step - loss: 0.1203 - accuracy: 0.9740 - val_loss: 0.5795 - val_accuracy: 0.8345\n",
      "Epoch 16/20\n",
      "188/188 [==============================] - 11s 56ms/step - loss: 0.1142 - accuracy: 0.9754 - val_loss: 0.5853 - val_accuracy: 0.8363\n",
      "Epoch 17/20\n",
      "188/188 [==============================] - 11s 57ms/step - loss: 0.1097 - accuracy: 0.9775 - val_loss: 0.5826 - val_accuracy: 0.8357\n",
      "Epoch 18/20\n",
      "188/188 [==============================] - 11s 56ms/step - loss: 0.1042 - accuracy: 0.9792 - val_loss: 0.6131 - val_accuracy: 0.8338\n",
      "Epoch 19/20\n",
      "188/188 [==============================] - 11s 56ms/step - loss: 0.0991 - accuracy: 0.9803 - val_loss: 0.6016 - val_accuracy: 0.8350\n",
      "Epoch 20/20\n",
      "188/188 [==============================] - 11s 56ms/step - loss: 0.0955 - accuracy: 0.9814 - val_loss: 0.6305 - val_accuracy: 0.8303\n"
     ]
    }
   ],
   "source": [
    "model.compile(optimizer='adam',\n",
    "              loss='binary_crossentropy',\n",
    "              metrics=['accuracy'])\n",
    "              \n",
    "epochs=20\n",
    "\n",
    "history = model.fit(partial_X_train,\n",
    "                    partial_y_train,\n",
    "                    epochs=epochs,\n",
    "                    batch_size=512,\n",
    "                    validation_data=(X_val, y_val),\n",
    "                    verbose=1)"
   ]
  },
  {
   "cell_type": "code",
   "execution_count": 11,
   "metadata": {},
   "outputs": [
    {
     "name": "stdout",
     "output_type": "stream",
     "text": [
      "1537/1537 - 2s - loss: 0.6495 - accuracy: 0.8267\n",
      "[0.6495411992073059, 0.8266574740409851]\n"
     ]
    }
   ],
   "source": [
    "results = model.evaluate(X_test,  y_test, verbose=2)\n",
    "\n",
    "print(results)"
   ]
  },
  {
   "cell_type": "markdown",
   "metadata": {},
   "source": [
    "### Loss Accuracy 그래프 시각화"
   ]
  },
  {
   "cell_type": "code",
   "execution_count": 12,
   "metadata": {},
   "outputs": [
    {
     "name": "stdout",
     "output_type": "stream",
     "text": [
      "dict_keys(['loss', 'accuracy', 'val_loss', 'val_accuracy'])\n"
     ]
    }
   ],
   "source": [
    "history_dict = history.history\n",
    "print(history_dict.keys()) # epoch에 따른 그래프를 그려볼 수 있는 항목들"
   ]
  },
  {
   "cell_type": "code",
   "execution_count": 13,
   "metadata": {},
   "outputs": [
    {
     "data": {
      "image/png": "[encoded data removed]",
      "text/plain": [
       "<Figure size 936x288 with 2 Axes>"
      ]
     },
     "metadata": {
      "needs_background": "light"
     },
     "output_type": "display_data"
    }
   ],
   "source": [
    "import matplotlib.pyplot as plt\n",
    "\n",
    "acc = history_dict['accuracy']\n",
    "val_acc = history_dict['val_accuracy']\n",
    "loss = history_dict['loss']\n",
    "val_loss = history_dict['val_loss']\n",
    "\n",
    "epochs = range(1, len(acc) + 1)\n",
    "\n",
    "fig = plt.figure(figsize=(13,4))\n",
    "ax1 = fig.add_subplot(1,2,1)\n",
    "plt.plot(epochs, loss, 'bo', label='Training loss')\n",
    "# b는 \"파란 실선\"입니다\n",
    "plt.plot(epochs, val_loss, 'b', label='Validation loss')\n",
    "plt.title('Training and validation loss')\n",
    "plt.xlabel('Epochs')\n",
    "plt.ylabel('Loss')\n",
    "plt.legend()\n",
    "\n",
    "\n",
    "ax2 = fig.add_subplot(1,2,2)\n",
    "plt.plot(epochs, acc, 'bo', label='Training acc')\n",
    "plt.plot(epochs, val_acc, 'b', label='Validation acc')\n",
    "plt.title('Training and validation accuracy')\n",
    "plt.xlabel('Epochs')\n",
    "plt.ylabel('Accuracy')\n",
    "plt.legend()\n",
    "\n",
    "plt.show()"
   ]
  },
  {
   "cell_type": "markdown",
   "metadata": {},
   "source": [
    "### 학습된 Embedding 레이어 분석"
   ]
  },
  {
   "cell_type": "code",
   "execution_count": 14,
   "metadata": {},
   "outputs": [
    {
     "name": "stdout",
     "output_type": "stream",
     "text": [
      "(53965, 128)\n"
     ]
    }
   ],
   "source": [
    "embedding_layer = model.layers[0]\n",
    "weights = embedding_layer.get_weights()[0]\n",
    "print(weights.shape)    # shape: (vocab_size, embedding_dim)"
   ]
  },
  {
   "cell_type": "code",
   "execution_count": 15,
   "metadata": {},
   "outputs": [],
   "source": [
    "import os\n",
    "\n",
    "# 학습한 Embedding 파라미터를 파일에 써서 저장\n",
    "word2vec_file_path = os.getenv('HOME')+'/project/AIFFEL/E04_SentimentAnalysis/word2vec.txt'\n",
    "f = open(word2vec_file_path, 'w')\n",
    "f.write('{} {}\\n'.format(vocab_size-4, word_vector_dim))  # 몇개의 벡터를 얼마 사이즈로 기재할지 타이틀을 씁니다.\n",
    "\n",
    "# 단어 개수(에서 특수문자 4개는 제외하고)만큼의 워드 벡터를 파일에 기록합니다. \n",
    "vectors = model.get_weights()[0]\n",
    "for i in range(4,vocab_size):\n",
    "    f.write('{} {}\\n'.format(index_to_word[i], ' '.join(map(str, list(vectors[i, :])))))\n",
    "f.close()"
   ]
  },
  {
   "cell_type": "code",
   "execution_count": 16,
   "metadata": {},
   "outputs": [
    {
     "data": {
      "text/plain": [
       "array([-0.19786546, -0.04943256, -0.07674669,  0.20678557, -0.18779239,\n",
       "       -0.04084165, -0.13554753, -0.05734522, -0.15852782,  0.0227826 ,\n",
       "       -0.08828393, -0.04263936,  0.05757281, -0.11911887, -0.00556321,\n",
       "        0.10164688, -0.07197463,  0.00651307,  0.11538884,  0.07674778,\n",
       "        0.17512874, -0.06478366,  0.21894884, -0.08305722,  0.30858615,\n",
       "        0.14551038,  0.12680572,  0.16425231, -0.05901917, -0.02375334,\n",
       "        0.01029019, -0.08072741,  0.16802087,  0.09036814,  0.10802275,\n",
       "       -0.1056712 , -0.14267494, -0.14662246,  0.1220006 , -0.16221593,\n",
       "        0.02718861, -0.00313632, -0.05866132, -0.03443403,  0.01182544,\n",
       "        0.04324584, -0.14748925, -0.03744295, -0.06644654, -0.04726657,\n",
       "       -0.04330624, -0.13499345,  0.0374801 , -0.05628301, -0.12609252,\n",
       "       -0.05926226,  0.04688856, -0.01958591,  0.10666806,  0.09624846,\n",
       "        0.2326641 , -0.07381903, -0.01707847,  0.13907154,  0.0759753 ,\n",
       "       -0.07793642, -0.03092518, -0.0747443 , -0.15669405, -0.13108568,\n",
       "        0.04796406, -0.03978892, -0.09974904,  0.10958263,  0.00434917,\n",
       "        0.13216475,  0.08764777, -0.04333322, -0.10307343,  0.12357768,\n",
       "       -0.03567768,  0.09258207, -0.02251659,  0.17803891, -0.06903603,\n",
       "       -0.04500374, -0.02273043,  0.03468543, -0.02732601, -0.01570749,\n",
       "        0.01969173,  0.07763709, -0.09446249,  0.15816788,  0.02947199,\n",
       "        0.10383745, -0.00853587,  0.0552269 ,  0.13369873,  0.01917222,\n",
       "        0.007771  , -0.11237828,  0.07406251,  0.0788491 , -0.01568568,\n",
       "       -0.00201763,  0.00483095,  0.134363  ,  0.08079608, -0.16826667,\n",
       "       -0.02979036, -0.08560554, -0.17905094,  0.05777149,  0.05447691,\n",
       "       -0.15288751, -0.04368541, -0.0647524 ,  0.02830612, -0.00629326,\n",
       "       -0.0439277 ,  0.09220161,  0.00339829,  0.03998981,  0.23980488,\n",
       "        0.04851212,  0.09314945,  0.07140209], dtype=float32)"
      ]
     },
     "execution_count": 16,
     "metadata": {},
     "output_type": "execute_result"
    }
   ],
   "source": [
    "from gensim.models.keyedvectors import Word2VecKeyedVectors\n",
    "\n",
    "word_vectors = Word2VecKeyedVectors.load_word2vec_format(word2vec_file_path, binary=False)\n",
    "vector = word_vectors['좋']\n",
    "vector"
   ]
  },
  {
   "cell_type": "code",
   "execution_count": 18,
   "metadata": {},
   "outputs": [
    {
     "data": {
      "text/plain": [
       "[('재미있', 0.8387051820755005),\n",
       " ('교과서', 0.8299769163131714),\n",
       " ('원조', 0.7940458059310913),\n",
       " ('편안', 0.7931122779846191),\n",
       " ('짱', 0.7878395915031433),\n",
       " ('맘', 0.785856306552887),\n",
       " ('곰', 0.7804996967315674),\n",
       " ('아련', 0.7776148319244385),\n",
       " ('쩔', 0.7768019437789917),\n",
       " ('만족', 0.7742387652397156)]"
      ]
     },
     "execution_count": 18,
     "metadata": {},
     "output_type": "execute_result"
    }
   ],
   "source": [
    "word_vectors.similar_by_word(\"좋\")"
   ]
  },
  {
   "cell_type": "markdown",
   "metadata": {},
   "source": [
    "### 한국어 Word2Vec 임베딩 활용하여 성능 개선"
   ]
  },
  {
   "cell_type": "code",
   "execution_count": 19,
   "metadata": {},
   "outputs": [
    {
     "name": "stderr",
     "output_type": "stream",
     "text": [
      "/home/ssac18/anaconda3/envs/aiffel/lib/python3.7/site-packages/ipykernel_launcher.py:3: DeprecationWarning: Call to deprecated `__getitem__` (Method will be removed in 4.0.0, use self.wv.__getitem__() instead).\n",
      "  This is separate from the ipykernel package so we can avoid doing imports until\n"
     ]
    },
    {
     "data": {
      "text/plain": [
       "array([ 1.0640332 , -2.2912955 ,  3.3337867 , -2.1199276 , -3.0332334 ,\n",
       "       -0.19465393, -2.481366  , -0.10735121,  2.5207045 ,  0.8627388 ,\n",
       "       -0.45329845, -2.0046058 , -0.01572813,  0.5299075 ,  0.30947903,\n",
       "       -0.9715863 , -0.9571187 , -0.60102916,  0.90976727, -1.9047512 ,\n",
       "       -1.2195476 , -1.1592524 ,  0.8524444 ,  1.8657554 , -0.3389445 ,\n",
       "       -0.49982402,  1.1301196 , -0.5019951 ,  1.1161596 , -1.1941459 ,\n",
       "        0.940446  ,  1.2571095 , -0.30472234,  1.9796319 , -1.1565856 ,\n",
       "       -0.23786964, -0.6009812 ,  0.5220223 ,  0.82051736, -1.5666542 ,\n",
       "       -0.02252442, -1.4792949 ,  1.3666244 ,  1.4165231 ,  1.5582582 ,\n",
       "        0.8805346 ,  3.4146652 , -1.9629716 ,  0.8763886 ,  1.3238906 ,\n",
       "        0.4521591 ,  0.7075807 , -2.176243  , -0.20598859, -2.23883   ,\n",
       "       -1.6937513 , -2.2974951 , -0.46340045,  0.942308  ,  0.6221677 ,\n",
       "        1.5814389 , -0.9991125 , -1.0794336 ,  0.9742524 , -0.8817606 ,\n",
       "        1.5110779 , -2.426482  ,  0.05825558,  2.1984208 ,  0.35296234,\n",
       "        3.1952312 ,  1.8155069 , -1.1671705 ,  1.07751   ,  4.8135138 ,\n",
       "       -0.60856414,  0.96072876,  0.8439502 ,  0.3770566 , -1.6768107 ,\n",
       "       -3.1595662 , -0.14261521,  2.0824883 , -0.11094837, -2.1942945 ,\n",
       "        0.801251  , -0.5296651 ,  1.3014761 , -2.6290061 , -1.4189166 ,\n",
       "        0.902155  , -1.0913172 , -1.0048355 ,  2.9072917 ,  0.9966304 ,\n",
       "       -1.2174375 , -0.9657722 , -1.0152395 ,  0.36920968,  3.3126214 ,\n",
       "        0.03072724,  1.2522703 , -1.8932865 ,  0.43378967, -0.2971605 ,\n",
       "        1.8355585 ,  0.19106394,  0.91579884, -4.395526  , -2.782803  ,\n",
       "        4.157614  , -2.9051135 , -2.238838  , -2.609383  ,  0.45237398,\n",
       "       -1.0346476 , -3.2167242 ,  0.39689595, -1.7131122 ,  0.9475062 ,\n",
       "       -1.1475829 , -0.14993533, -0.31696472, -2.1121385 , -0.7437849 ,\n",
       "        0.8559741 ,  0.6292434 , -0.14344764,  1.0021055 ,  0.01381943,\n",
       "        1.7172662 , -1.6198753 ,  2.2224152 , -0.13469009,  0.7198687 ,\n",
       "        3.6921475 , -1.4100598 , -0.7387036 , -0.6864579 ,  0.4902703 ,\n",
       "        0.01796604, -0.7128891 , -0.36713868, -1.0794181 ,  2.2457912 ,\n",
       "        1.9138381 , -1.7702909 , -0.33142793, -2.752764  ,  0.60539377,\n",
       "       -1.1330652 , -1.432214  , -0.00514037,  0.01048426, -0.35118294,\n",
       "       -0.27634418,  0.85496026,  2.6362362 ,  0.6963407 ,  1.8802122 ,\n",
       "        0.2852981 , -1.9456061 , -0.284934  , -0.48388445,  0.79360694,\n",
       "       -2.74617   , -0.05845991, -1.576361  , -1.9945118 ,  1.8401434 ,\n",
       "        3.085636  , -1.684523  , -0.03559533, -0.45918506,  1.3162051 ,\n",
       "       -0.25565395,  0.01258983, -0.973847  ,  0.21768694, -0.02744086,\n",
       "       -1.5970165 , -0.8845844 , -0.3702187 , -4.0633225 , -0.75575995,\n",
       "       -2.2488348 , -0.40003732, -1.2609444 , -1.5897131 ,  2.197729  ,\n",
       "        0.64992595,  2.000548  ,  2.2584677 ,  0.92214584,  2.573234  ,\n",
       "        0.12080476, -0.9508957 ,  2.7701526 , -1.0781038 ,  1.288294  ],\n",
       "      dtype=float32)"
      ]
     },
     "execution_count": 19,
     "metadata": {},
     "output_type": "execute_result"
    }
   ],
   "source": [
    "import gensim\n",
    "ko_model = gensim.models.Word2Vec.load('/home/ssac18/aiffel/E04_SentimentAnalysis/ko/ko.bin')\n",
    "vector = ko_model['좋']\n",
    "vector    "
   ]
  },
  {
   "cell_type": "code",
   "execution_count": 20,
   "metadata": {},
   "outputs": [
    {
     "name": "stderr",
     "output_type": "stream",
     "text": [
      "/home/ssac18/anaconda3/envs/aiffel/lib/python3.7/site-packages/ipykernel_launcher.py:1: DeprecationWarning: Call to deprecated `similar_by_word` (Method will be removed in 4.0.0, use self.wv.similar_by_word() instead).\n",
      "  \"\"\"Entry point for launching an IPython kernel.\n"
     ]
    },
    {
     "data": {
      "text/plain": [
       "[('괜찮', 0.6849220991134644),\n",
       " ('나쁘', 0.6538200378417969),\n",
       " ('낫', 0.6441531777381897),\n",
       " ('좋아지', 0.6410495042800903),\n",
       " ('높', 0.5870170593261719),\n",
       " ('낮', 0.5831267833709717),\n",
       " ('알맞', 0.5798174142837524),\n",
       " ('많', 0.5643985867500305),\n",
       " ('귀찮', 0.5478721857070923),\n",
       " ('밝', 0.5269372463226318)]"
      ]
     },
     "execution_count": 20,
     "metadata": {},
     "output_type": "execute_result"
    }
   ],
   "source": [
    "ko_model.similar_by_word(\"좋\")"
   ]
  },
  {
   "cell_type": "code",
   "execution_count": 21,
   "metadata": {},
   "outputs": [
    {
     "name": "stderr",
     "output_type": "stream",
     "text": [
      "/home/ssac18/anaconda3/envs/aiffel/lib/python3.7/site-packages/ipykernel_launcher.py:7: DeprecationWarning: Call to deprecated `__contains__` (Method will be removed in 4.0.0, use self.wv.__contains__() instead).\n",
      "  import sys\n",
      "/home/ssac18/anaconda3/envs/aiffel/lib/python3.7/site-packages/ipykernel_launcher.py:8: DeprecationWarning: Call to deprecated `__getitem__` (Method will be removed in 4.0.0, use self.wv.__getitem__() instead).\n",
      "  \n"
     ]
    }
   ],
   "source": [
    "word_vector_dim = 200  # 워드 벡터의 차원수 (변경가능한 하이퍼파라미터)\n",
    "\n",
    "embedding_matrix = np.random.rand(vocab_size, word_vector_dim)\n",
    "\n",
    "# embedding_matrix에 Word2Vec 워드벡터를 단어 하나씩마다 차례차례 카피한다.\n",
    "for i in range(4,vocab_size):\n",
    "    if index_to_word[i] in ko_model:\n",
    "        embedding_matrix[i] = ko_model[index_to_word[i]]"
   ]
  },
  {
   "cell_type": "code",
   "execution_count": 22,
   "metadata": {},
   "outputs": [
    {
     "name": "stdout",
     "output_type": "stream",
     "text": [
      "Model: \"sequential_1\"\n",
      "_________________________________________________________________\n",
      "Layer (type)                 Output Shape              Param #   \n",
      "=================================================================\n",
      "embedding_1 (Embedding)      (None, 41, 200)           10793000  \n",
      "_________________________________________________________________\n",
      "lstm_1 (LSTM)                (None, 32)                29824     \n",
      "_________________________________________________________________\n",
      "dropout_1 (Dropout)          (None, 32)                0         \n",
      "_________________________________________________________________\n",
      "dense_2 (Dense)              (None, 32)                1056      \n",
      "_________________________________________________________________\n",
      "dense_3 (Dense)              (None, 1)                 33        \n",
      "=================================================================\n",
      "Total params: 10,823,913\n",
      "Trainable params: 10,823,913\n",
      "Non-trainable params: 0\n",
      "_________________________________________________________________\n"
     ]
    }
   ],
   "source": [
    "from tensorflow.keras.initializers import Constant\n",
    "\n",
    "vocab_size = len(word_to_index)   # 어휘 사전의 크기\n",
    "word_vector_dim = 200  # 워드 벡터의 차원수 \n",
    "\n",
    "# 모델 구성\n",
    "model = keras.Sequential()\n",
    "model.add(keras.layers.Embedding(vocab_size, \n",
    "                                 word_vector_dim, \n",
    "                                 embeddings_initializer=Constant(embedding_matrix),  # 카피한 임베딩을 여기서 활용\n",
    "                                 input_length=maxlen, \n",
    "                                 trainable=True))   # trainable을 True로 주면 Fine-tuning\n",
    "model.add(keras.layers.LSTM(32))   \n",
    "model.add(keras.layers.Dropout(0.5))\n",
    "model.add(keras.layers.Dense(32, activation='relu',kernel_regularizer='l1'))\n",
    "model.add(keras.layers.Dense(1, activation='sigmoid'))  # 최종 출력은 긍정/부정을 나타내는 1dim\n",
    "\n",
    "model.summary()"
   ]
  },
  {
   "cell_type": "code",
   "execution_count": 24,
   "metadata": {},
   "outputs": [
    {
     "name": "stdout",
     "output_type": "stream",
     "text": [
      "Epoch 1/20\n",
      "188/188 [==============================] - 19s 103ms/step - loss: 1.3594 - accuracy: 0.7144 - val_loss: 0.7109 - val_accuracy: 0.8101\n",
      "Epoch 2/20\n",
      "188/188 [==============================] - 19s 102ms/step - loss: 0.5202 - accuracy: 0.8336 - val_loss: 0.4391 - val_accuracy: 0.8442\n",
      "Epoch 3/20\n",
      "188/188 [==============================] - 19s 99ms/step - loss: 0.3947 - accuracy: 0.8706 - val_loss: 0.4047 - val_accuracy: 0.8517\n",
      "Epoch 4/20\n",
      "188/188 [==============================] - 19s 100ms/step - loss: 0.3397 - accuracy: 0.8948 - val_loss: 0.3957 - val_accuracy: 0.8540\n",
      "Epoch 5/20\n",
      "188/188 [==============================] - 19s 99ms/step - loss: 0.2991 - accuracy: 0.9109 - val_loss: 0.4010 - val_accuracy: 0.8530\n",
      "Epoch 6/20\n",
      "188/188 [==============================] - 19s 100ms/step - loss: 0.2702 - accuracy: 0.9228 - val_loss: 0.4006 - val_accuracy: 0.8540\n",
      "Epoch 7/20\n",
      "188/188 [==============================] - 19s 99ms/step - loss: 0.2456 - accuracy: 0.9321 - val_loss: 0.4166 - val_accuracy: 0.8519\n",
      "Epoch 8/20\n",
      "188/188 [==============================] - 18s 98ms/step - loss: 0.2260 - accuracy: 0.9388 - val_loss: 0.4303 - val_accuracy: 0.8510\n",
      "Epoch 9/20\n",
      "188/188 [==============================] - 19s 100ms/step - loss: 0.2092 - accuracy: 0.9458 - val_loss: 0.4523 - val_accuracy: 0.8488\n",
      "Epoch 10/20\n",
      "188/188 [==============================] - 19s 100ms/step - loss: 0.1959 - accuracy: 0.9508 - val_loss: 0.4522 - val_accuracy: 0.8498\n",
      "Epoch 11/20\n",
      "188/188 [==============================] - 19s 101ms/step - loss: 0.1858 - accuracy: 0.9544 - val_loss: 0.4755 - val_accuracy: 0.8476\n",
      "Epoch 12/20\n",
      "188/188 [==============================] - 19s 99ms/step - loss: 0.1758 - accuracy: 0.9575 - val_loss: 0.4643 - val_accuracy: 0.8484\n",
      "Epoch 13/20\n",
      "188/188 [==============================] - 19s 101ms/step - loss: 0.1636 - accuracy: 0.9621 - val_loss: 0.4851 - val_accuracy: 0.8457\n",
      "Epoch 14/20\n",
      "188/188 [==============================] - 19s 103ms/step - loss: 0.1571 - accuracy: 0.9638 - val_loss: 0.4949 - val_accuracy: 0.8444\n",
      "Epoch 15/20\n",
      "188/188 [==============================] - 19s 101ms/step - loss: 0.1502 - accuracy: 0.9660 - val_loss: 0.5116 - val_accuracy: 0.8455\n",
      "Epoch 16/20\n",
      "188/188 [==============================] - 19s 99ms/step - loss: 0.1477 - accuracy: 0.9668 - val_loss: 0.5291 - val_accuracy: 0.8433\n",
      "Epoch 17/20\n",
      "188/188 [==============================] - 19s 99ms/step - loss: 0.1384 - accuracy: 0.9700 - val_loss: 0.5186 - val_accuracy: 0.8422\n",
      "Epoch 18/20\n",
      "188/188 [==============================] - 19s 99ms/step - loss: 0.1297 - accuracy: 0.9728 - val_loss: 0.5256 - val_accuracy: 0.8423\n",
      "Epoch 19/20\n",
      "188/188 [==============================] - 18s 98ms/step - loss: 0.1239 - accuracy: 0.9752 - val_loss: 0.5455 - val_accuracy: 0.8425\n",
      "Epoch 20/20\n",
      "188/188 [==============================] - 19s 99ms/step - loss: 0.1216 - accuracy: 0.9754 - val_loss: 0.5702 - val_accuracy: 0.8408\n"
     ]
    }
   ],
   "source": [
    "# 학습의 진행\n",
    "model.compile(optimizer='adam',\n",
    "              loss='binary_crossentropy',\n",
    "              metrics=['accuracy'])\n",
    "              \n",
    "epochs=20  \n",
    "\n",
    "history = model.fit(partial_X_train,\n",
    "                    partial_y_train,\n",
    "                    epochs=epochs,\n",
    "                    batch_size=512,\n",
    "                    validation_data=(X_val, y_val),\n",
    "                    verbose=1)"
   ]
  },
  {
   "cell_type": "code",
   "execution_count": 25,
   "metadata": {},
   "outputs": [
    {
     "name": "stdout",
     "output_type": "stream",
     "text": [
      "1537/1537 - 3s - loss: 0.5938 - accuracy: 0.8359\n",
      "[0.593834638595581, 0.8359338641166687]\n"
     ]
    }
   ],
   "source": [
    "results = model.evaluate(X_test,  y_test, verbose=2)\n",
    "\n",
    "print(results)"
   ]
  },
  {
   "cell_type": "code",
   "execution_count": 26,
   "metadata": {},
   "outputs": [
    {
     "data": {
      "image/png": "[encoded data removed]",
      "text/plain": [
       "<Figure size 936x288 with 2 Axes>"
      ]
     },
     "metadata": {
      "needs_background": "light"
     },
     "output_type": "display_data"
    }
   ],
   "source": [
    "acc = history_dict['accuracy']\n",
    "val_acc = history_dict['val_accuracy']\n",
    "loss = history_dict['loss']\n",
    "val_loss = history_dict['val_loss']\n",
    "\n",
    "epochs = range(1, len(acc) + 1)\n",
    "\n",
    "fig = plt.figure(figsize=(13,4))\n",
    "ax1 = fig.add_subplot(1,2,1)\n",
    "plt.plot(epochs, loss, 'bo', label='Training loss')\n",
    "# b는 \"파란 실선\"입니다\n",
    "plt.plot(epochs, val_loss, 'b', label='Validation loss')\n",
    "plt.title('Training and validation loss')\n",
    "plt.xlabel('Epochs')\n",
    "plt.ylabel('Loss')\n",
    "plt.legend()\n",
    "\n",
    "\n",
    "ax2 = fig.add_subplot(1,2,2)\n",
    "plt.plot(epochs, acc, 'bo', label='Training acc')\n",
    "plt.plot(epochs, val_acc, 'b', label='Validation acc')\n",
    "plt.title('Training and validation accuracy')\n",
    "plt.xlabel('Epochs')\n",
    "plt.ylabel('Accuracy')\n",
    "#plt.ylim(0.5,1)\n",
    "plt.legend()\n",
    "\n",
    "plt.show()"
   ]
  },
  {
   "cell_type": "markdown",
   "metadata": {},
   "source": [
    "---\n",
    "# 2. 1-D CNN  - GlobalMaxPooling1D() 사용 모델\n",
    "\n",
    "### 모델 구성 및 validation set 구성"
   ]
  },
  {
   "cell_type": "code",
   "execution_count": 27,
   "metadata": {},
   "outputs": [
    {
     "name": "stdout",
     "output_type": "stream",
     "text": [
      "Model: \"sequential_2\"\n",
      "_________________________________________________________________\n",
      "Layer (type)                 Output Shape              Param #   \n",
      "=================================================================\n",
      "embedding_2 (Embedding)      (None, None, 128)         6907520   \n",
      "_________________________________________________________________\n",
      "conv1d (Conv1D)              (None, None, 32)          28704     \n",
      "_________________________________________________________________\n",
      "max_pooling1d (MaxPooling1D) (None, None, 32)          0         \n",
      "_________________________________________________________________\n",
      "conv1d_1 (Conv1D)            (None, None, 16)          3600      \n",
      "_________________________________________________________________\n",
      "global_max_pooling1d (Global (None, 16)                0         \n",
      "_________________________________________________________________\n",
      "dropout_2 (Dropout)          (None, 16)                0         \n",
      "_________________________________________________________________\n",
      "dense_4 (Dense)              (None, 16)                272       \n",
      "_________________________________________________________________\n",
      "dense_5 (Dense)              (None, 1)                 17        \n",
      "=================================================================\n",
      "Total params: 6,940,113\n",
      "Trainable params: 6,940,113\n",
      "Non-trainable params: 0\n",
      "_________________________________________________________________\n"
     ]
    }
   ],
   "source": [
    "vocab_size = len(word_to_index)\n",
    "word_vector_dim = 128   \n",
    "\n",
    "model = keras.Sequential()\n",
    "model.add(keras.layers.Embedding(vocab_size, word_vector_dim, input_shape=(None,)))\n",
    "model.add(keras.layers.Conv1D(32, 7, activation='relu'))\n",
    "model.add(keras.layers.MaxPooling1D(5))\n",
    "model.add(keras.layers.Conv1D(16, 7, activation='relu'))\n",
    "model.add(keras.layers.GlobalMaxPooling1D())\n",
    "model.add(keras.layers.Dropout(0.5))\n",
    "model.add(keras.layers.Dense(16, activation='relu',kernel_regularizer='l1'))\n",
    "model.add(keras.layers.Dense(1, activation='sigmoid'))  \n",
    "\n",
    "model.summary()"
   ]
  },
  {
   "cell_type": "code",
   "execution_count": 28,
   "metadata": {},
   "outputs": [
    {
     "name": "stdout",
     "output_type": "stream",
     "text": [
      "(96182, 41)\n",
      "(96182,)\n"
     ]
    }
   ],
   "source": [
    "X_val = X_train[:50000]   \n",
    "y_val = y_train[:50000]\n",
    "\n",
    "\n",
    "partial_X_train = X_train[50000:]  \n",
    "partial_y_train = y_train[50000:]\n",
    "\n",
    "print(partial_X_train.shape)\n",
    "print(partial_y_train.shape)"
   ]
  },
  {
   "cell_type": "code",
   "execution_count": 29,
   "metadata": {},
   "outputs": [
    {
     "name": "stdout",
     "output_type": "stream",
     "text": [
      "Epoch 1/20\n",
      "188/188 [==============================] - 24s 128ms/step - loss: 0.8989 - accuracy: 0.7211 - val_loss: 0.5643 - val_accuracy: 0.8440\n",
      "Epoch 2/20\n",
      "188/188 [==============================] - 10s 52ms/step - loss: 0.4513 - accuracy: 0.8665 - val_loss: 0.3817 - val_accuracy: 0.8527\n",
      "Epoch 3/20\n",
      "188/188 [==============================] - 10s 55ms/step - loss: 0.3129 - accuracy: 0.8992 - val_loss: 0.3711 - val_accuracy: 0.8524\n",
      "Epoch 4/20\n",
      "188/188 [==============================] - 10s 53ms/step - loss: 0.2601 - accuracy: 0.9211 - val_loss: 0.3964 - val_accuracy: 0.8510\n",
      "Epoch 5/20\n",
      "188/188 [==============================] - 10s 53ms/step - loss: 0.2154 - accuracy: 0.9382 - val_loss: 0.4286 - val_accuracy: 0.8468\n",
      "Epoch 6/20\n",
      "188/188 [==============================] - 10s 55ms/step - loss: 0.1775 - accuracy: 0.9531 - val_loss: 0.4579 - val_accuracy: 0.8448\n",
      "Epoch 7/20\n",
      "188/188 [==============================] - 10s 54ms/step - loss: 0.1480 - accuracy: 0.9635 - val_loss: 0.5053 - val_accuracy: 0.8420\n",
      "Epoch 8/20\n",
      "188/188 [==============================] - 10s 53ms/step - loss: 0.1243 - accuracy: 0.9705 - val_loss: 0.5591 - val_accuracy: 0.8394\n",
      "Epoch 9/20\n",
      "188/188 [==============================] - 10s 53ms/step - loss: 0.1055 - accuracy: 0.9764 - val_loss: 0.6183 - val_accuracy: 0.8375\n",
      "Epoch 10/20\n",
      "188/188 [==============================] - 10s 53ms/step - loss: 0.0909 - accuracy: 0.9802 - val_loss: 0.6631 - val_accuracy: 0.8333\n",
      "Epoch 11/20\n",
      "188/188 [==============================] - 10s 53ms/step - loss: 0.0804 - accuracy: 0.9832 - val_loss: 0.7143 - val_accuracy: 0.8337\n",
      "Epoch 12/20\n",
      "188/188 [==============================] - 10s 54ms/step - loss: 0.0718 - accuracy: 0.9854 - val_loss: 0.7307 - val_accuracy: 0.8324\n",
      "Epoch 13/20\n",
      "188/188 [==============================] - 10s 53ms/step - loss: 0.0636 - accuracy: 0.9876 - val_loss: 0.7539 - val_accuracy: 0.8296\n",
      "Epoch 14/20\n",
      "188/188 [==============================] - 10s 54ms/step - loss: 0.0588 - accuracy: 0.9884 - val_loss: 0.8018 - val_accuracy: 0.8301\n",
      "Epoch 15/20\n",
      "188/188 [==============================] - 10s 53ms/step - loss: 0.0530 - accuracy: 0.9901 - val_loss: 0.8534 - val_accuracy: 0.8280\n",
      "Epoch 16/20\n",
      "188/188 [==============================] - 10s 53ms/step - loss: 0.0491 - accuracy: 0.9903 - val_loss: 0.9058 - val_accuracy: 0.8279\n",
      "Epoch 17/20\n",
      "188/188 [==============================] - 10s 53ms/step - loss: 0.0452 - accuracy: 0.9916 - val_loss: 0.8993 - val_accuracy: 0.8269\n",
      "Epoch 18/20\n",
      "188/188 [==============================] - 10s 53ms/step - loss: 0.0430 - accuracy: 0.9918 - val_loss: 0.9182 - val_accuracy: 0.8286\n",
      "Epoch 19/20\n",
      "188/188 [==============================] - 10s 54ms/step - loss: 0.0398 - accuracy: 0.9928 - val_loss: 0.9999 - val_accuracy: 0.8264\n",
      "Epoch 20/20\n",
      "188/188 [==============================] - 10s 53ms/step - loss: 0.0390 - accuracy: 0.9928 - val_loss: 0.9939 - val_accuracy: 0.8266\n"
     ]
    }
   ],
   "source": [
    "model.compile(optimizer='adam',\n",
    "              loss='binary_crossentropy',\n",
    "              metrics=['accuracy'])\n",
    "              \n",
    "epochs=20  \n",
    "\n",
    "history = model.fit(partial_X_train,\n",
    "                    partial_y_train,\n",
    "                    epochs=epochs,\n",
    "                    batch_size=512,\n",
    "                    validation_data=(X_val, y_val),\n",
    "                    verbose=1)"
   ]
  },
  {
   "cell_type": "code",
   "execution_count": 30,
   "metadata": {},
   "outputs": [
    {
     "name": "stdout",
     "output_type": "stream",
     "text": [
      "1537/1537 - 5s - loss: 1.0239 - accuracy: 0.8231\n",
      "[1.0239043235778809, 0.8230770826339722]\n"
     ]
    }
   ],
   "source": [
    "results = model.evaluate(X_test,  y_test, verbose=2)\n",
    "\n",
    "print(results)"
   ]
  },
  {
   "cell_type": "code",
   "execution_count": 31,
   "metadata": {},
   "outputs": [
    {
     "name": "stdout",
     "output_type": "stream",
     "text": [
      "dict_keys(['loss', 'accuracy', 'val_loss', 'val_accuracy'])\n"
     ]
    }
   ],
   "source": [
    "history_dict = history.history\n",
    "print(history_dict.keys()) "
   ]
  },
  {
   "cell_type": "markdown",
   "metadata": {},
   "source": [
    "### Loss Accuracy 그래프 시각화"
   ]
  },
  {
   "cell_type": "code",
   "execution_count": 32,
   "metadata": {
    "scrolled": true
   },
   "outputs": [
    {
     "data": {
      "image/png": "[encoded data removed]",
      "text/plain": [
       "<Figure size 936x288 with 2 Axes>"
      ]
     },
     "metadata": {
      "needs_background": "light"
     },
     "output_type": "display_data"
    }
   ],
   "source": [
    "import matplotlib.pyplot as plt\n",
    "\n",
    "acc = history_dict['accuracy']\n",
    "val_acc = history_dict['val_accuracy']\n",
    "loss = history_dict['loss']\n",
    "val_loss = history_dict['val_loss']\n",
    "\n",
    "epochs = range(1, len(acc) + 1)\n",
    "\n",
    "fig = plt.figure(figsize=(13,4))\n",
    "ax1 = fig.add_subplot(1,2,1)\n",
    "# \"bo\"는 \"파란색 점\"입니다\n",
    "plt.plot(epochs, loss, 'bo', label='Training loss')\n",
    "# b는 \"파란 실선\"입니다\n",
    "plt.plot(epochs, val_loss, 'b', label='Validation loss')\n",
    "plt.title('Training and validation loss')\n",
    "plt.xlabel('Epochs')\n",
    "plt.ylabel('Loss')\n",
    "plt.legend()\n",
    "\n",
    "\n",
    "ax2 = fig.add_subplot(1,2,2)\n",
    "plt.plot(epochs, acc, 'bo', label='Training acc')\n",
    "plt.plot(epochs, val_acc, 'b', label='Validation acc')\n",
    "plt.title('Training and validation accuracy')\n",
    "plt.xlabel('Epochs')\n",
    "plt.ylabel('Accuracy')\n",
    "plt.legend()\n",
    "\n",
    "plt.show()"
   ]
  },
  {
   "cell_type": "markdown",
   "metadata": {},
   "source": [
    "### 학습된 Embedding 레이어 분석"
   ]
  },
  {
   "cell_type": "code",
   "execution_count": 33,
   "metadata": {},
   "outputs": [
    {
     "name": "stdout",
     "output_type": "stream",
     "text": [
      "(53965, 128)\n"
     ]
    }
   ],
   "source": [
    "embedding_layer = model.layers[0]\n",
    "weights = embedding_layer.get_weights()[0]\n",
    "print(weights.shape)    # shape: (vocab_size, embedding_dim)"
   ]
  },
  {
   "cell_type": "code",
   "execution_count": 34,
   "metadata": {},
   "outputs": [],
   "source": [
    "import os\n",
    "\n",
    "# 학습한 Embedding 파라미터를 파일에 써서 저장\n",
    "word2vec_file_path = os.getenv('HOME')+'/project/AIFFEL/E04_SentimentAnalysis/word2vec.txt'\n",
    "f = open(word2vec_file_path, 'w')\n",
    "f.write('{} {}\\n'.format(vocab_size-4, word_vector_dim))  # 몇개의 벡터를 얼마 사이즈로 기재할지 타이틀을 씁니다.\n",
    "\n",
    "# 단어 개수(에서 특수문자 4개는 제외하고)만큼의 워드 벡터를 파일에 기록합니다. \n",
    "vectors = model.get_weights()[0]\n",
    "for i in range(4,vocab_size):\n",
    "    f.write('{} {}\\n'.format(index_to_word[i], ' '.join(map(str, list(vectors[i, :])))))\n",
    "f.close()"
   ]
  },
  {
   "cell_type": "code",
   "execution_count": 35,
   "metadata": {},
   "outputs": [
    {
     "data": {
      "text/plain": [
       "array([ 8.94278735e-02, -1.01409733e-01, -6.87256572e-04, -1.19340923e-02,\n",
       "        2.47566737e-02,  9.55714472e-03, -3.14634456e-03,  4.77062538e-02,\n",
       "        1.11028932e-01,  9.45389941e-02,  7.22624585e-02,  1.37822717e-01,\n",
       "        1.35477483e-02,  1.67103447e-02,  6.75566867e-02,  7.16362447e-02,\n",
       "       -1.33139327e-01, -8.12350512e-02, -3.00749671e-03,  5.55216558e-02,\n",
       "       -9.01782066e-02,  8.16599354e-02,  1.07060179e-01,  2.07077656e-02,\n",
       "       -7.53600746e-02, -6.05151132e-02, -1.14974350e-01, -1.51045434e-02,\n",
       "       -1.15221098e-01, -2.59417631e-02, -4.61937003e-02,  5.14470227e-02,\n",
       "        4.14776281e-02,  7.36930668e-02, -6.19329475e-02,  3.60633284e-02,\n",
       "        5.50461859e-02, -3.72081399e-02,  4.74672578e-02,  5.21528423e-02,\n",
       "        1.06541619e-01,  9.64723676e-02,  8.75071809e-03,  1.04567476e-01,\n",
       "        5.59916310e-02, -7.56109506e-02, -5.10882959e-02,  3.19106430e-02,\n",
       "       -1.25858665e-01,  3.60811353e-02, -2.52755191e-02,  2.04065621e-01,\n",
       "        4.16748039e-02, -7.88221285e-02, -1.14542022e-01, -5.32265194e-02,\n",
       "        2.57261540e-03,  4.67731729e-02, -1.48430884e-01, -1.95851736e-02,\n",
       "        3.24354209e-02, -5.57577945e-02,  1.01314165e-01,  1.79342002e-01,\n",
       "       -4.20927741e-02,  1.59712639e-02,  1.34567380e-01,  1.04499884e-01,\n",
       "        1.21308081e-02, -4.11868207e-02,  1.22360826e-01, -1.06228068e-02,\n",
       "       -3.48950014e-03,  1.56987756e-01,  5.33339493e-02,  5.66219389e-02,\n",
       "        1.16849974e-01, -1.32913049e-02,  1.37178879e-02,  3.50065641e-02,\n",
       "       -1.35407493e-01, -1.17177457e-01,  7.09857792e-03,  7.66824260e-02,\n",
       "        6.73469752e-02,  8.12048987e-02,  1.37154972e-02, -1.12339206e-01,\n",
       "       -2.23190598e-02, -4.71166074e-02,  8.92205164e-02,  5.45684770e-02,\n",
       "        1.49816764e-03,  1.89876519e-02, -9.98459533e-02, -1.55947238e-01,\n",
       "       -2.40627397e-02,  1.02724429e-04, -6.17781505e-02, -5.23928739e-03,\n",
       "       -1.43337185e-02,  1.30008878e-02, -1.16046622e-01,  7.26169795e-02,\n",
       "        1.08772181e-01,  3.53606679e-02,  5.57042025e-02, -1.94949880e-01,\n",
       "       -7.45050386e-02,  5.06927110e-02, -1.29093111e-01, -7.35833868e-02,\n",
       "        1.06264427e-01,  1.20921778e-02, -4.31449562e-02, -7.90395215e-03,\n",
       "       -8.47555697e-02, -7.20067695e-02, -4.09050323e-02, -1.26634032e-01,\n",
       "        6.91324919e-02, -6.14355803e-02,  1.57184482e-01, -1.70953032e-02,\n",
       "        1.35256499e-02,  8.72516111e-02,  5.13183593e-04, -4.24261242e-02],\n",
       "      dtype=float32)"
      ]
     },
     "execution_count": 35,
     "metadata": {},
     "output_type": "execute_result"
    }
   ],
   "source": [
    "from gensim.models.keyedvectors import Word2VecKeyedVectors\n",
    "\n",
    "word_vectors = Word2VecKeyedVectors.load_word2vec_format(word2vec_file_path, binary=False)\n",
    "vector = word_vectors['좋']\n",
    "vector"
   ]
  },
  {
   "cell_type": "code",
   "execution_count": 36,
   "metadata": {},
   "outputs": [
    {
     "data": {
      "text/plain": [
       "[('!!!!!!!~~~~~~~~~', 0.6914083957672119),\n",
       " ('이쁜', 0.6786265969276428),\n",
       " ('이지훈', 0.6621902585029602),\n",
       " ('라오', 0.6612460017204285),\n",
       " ('감이', 0.6606247425079346),\n",
       " ('마바리', 0.6570593118667603),\n",
       " ('여라', 0.6560837626457214),\n",
       " ('군대', 0.6544933319091797),\n",
       " ('앴', 0.652912437915802),\n",
       " ('백룡', 0.6496391892433167)]"
      ]
     },
     "execution_count": 36,
     "metadata": {},
     "output_type": "execute_result"
    }
   ],
   "source": [
    "word_vectors.similar_by_word(\"좋\")"
   ]
  },
  {
   "cell_type": "markdown",
   "metadata": {},
   "source": [
    "### 한국어 Word2Vec 임베딩 활용하여 성능 개선"
   ]
  },
  {
   "cell_type": "code",
   "execution_count": 37,
   "metadata": {},
   "outputs": [
    {
     "name": "stderr",
     "output_type": "stream",
     "text": [
      "/home/ssac18/anaconda3/envs/aiffel/lib/python3.7/site-packages/ipykernel_launcher.py:3: DeprecationWarning: Call to deprecated `__getitem__` (Method will be removed in 4.0.0, use self.wv.__getitem__() instead).\n",
      "  This is separate from the ipykernel package so we can avoid doing imports until\n"
     ]
    },
    {
     "data": {
      "text/plain": [
       "array([ 1.0640332 , -2.2912955 ,  3.3337867 , -2.1199276 , -3.0332334 ,\n",
       "       -0.19465393, -2.481366  , -0.10735121,  2.5207045 ,  0.8627388 ,\n",
       "       -0.45329845, -2.0046058 , -0.01572813,  0.5299075 ,  0.30947903,\n",
       "       -0.9715863 , -0.9571187 , -0.60102916,  0.90976727, -1.9047512 ,\n",
       "       -1.2195476 , -1.1592524 ,  0.8524444 ,  1.8657554 , -0.3389445 ,\n",
       "       -0.49982402,  1.1301196 , -0.5019951 ,  1.1161596 , -1.1941459 ,\n",
       "        0.940446  ,  1.2571095 , -0.30472234,  1.9796319 , -1.1565856 ,\n",
       "       -0.23786964, -0.6009812 ,  0.5220223 ,  0.82051736, -1.5666542 ,\n",
       "       -0.02252442, -1.4792949 ,  1.3666244 ,  1.4165231 ,  1.5582582 ,\n",
       "        0.8805346 ,  3.4146652 , -1.9629716 ,  0.8763886 ,  1.3238906 ,\n",
       "        0.4521591 ,  0.7075807 , -2.176243  , -0.20598859, -2.23883   ,\n",
       "       -1.6937513 , -2.2974951 , -0.46340045,  0.942308  ,  0.6221677 ,\n",
       "        1.5814389 , -0.9991125 , -1.0794336 ,  0.9742524 , -0.8817606 ,\n",
       "        1.5110779 , -2.426482  ,  0.05825558,  2.1984208 ,  0.35296234,\n",
       "        3.1952312 ,  1.8155069 , -1.1671705 ,  1.07751   ,  4.8135138 ,\n",
       "       -0.60856414,  0.96072876,  0.8439502 ,  0.3770566 , -1.6768107 ,\n",
       "       -3.1595662 , -0.14261521,  2.0824883 , -0.11094837, -2.1942945 ,\n",
       "        0.801251  , -0.5296651 ,  1.3014761 , -2.6290061 , -1.4189166 ,\n",
       "        0.902155  , -1.0913172 , -1.0048355 ,  2.9072917 ,  0.9966304 ,\n",
       "       -1.2174375 , -0.9657722 , -1.0152395 ,  0.36920968,  3.3126214 ,\n",
       "        0.03072724,  1.2522703 , -1.8932865 ,  0.43378967, -0.2971605 ,\n",
       "        1.8355585 ,  0.19106394,  0.91579884, -4.395526  , -2.782803  ,\n",
       "        4.157614  , -2.9051135 , -2.238838  , -2.609383  ,  0.45237398,\n",
       "       -1.0346476 , -3.2167242 ,  0.39689595, -1.7131122 ,  0.9475062 ,\n",
       "       -1.1475829 , -0.14993533, -0.31696472, -2.1121385 , -0.7437849 ,\n",
       "        0.8559741 ,  0.6292434 , -0.14344764,  1.0021055 ,  0.01381943,\n",
       "        1.7172662 , -1.6198753 ,  2.2224152 , -0.13469009,  0.7198687 ,\n",
       "        3.6921475 , -1.4100598 , -0.7387036 , -0.6864579 ,  0.4902703 ,\n",
       "        0.01796604, -0.7128891 , -0.36713868, -1.0794181 ,  2.2457912 ,\n",
       "        1.9138381 , -1.7702909 , -0.33142793, -2.752764  ,  0.60539377,\n",
       "       -1.1330652 , -1.432214  , -0.00514037,  0.01048426, -0.35118294,\n",
       "       -0.27634418,  0.85496026,  2.6362362 ,  0.6963407 ,  1.8802122 ,\n",
       "        0.2852981 , -1.9456061 , -0.284934  , -0.48388445,  0.79360694,\n",
       "       -2.74617   , -0.05845991, -1.576361  , -1.9945118 ,  1.8401434 ,\n",
       "        3.085636  , -1.684523  , -0.03559533, -0.45918506,  1.3162051 ,\n",
       "       -0.25565395,  0.01258983, -0.973847  ,  0.21768694, -0.02744086,\n",
       "       -1.5970165 , -0.8845844 , -0.3702187 , -4.0633225 , -0.75575995,\n",
       "       -2.2488348 , -0.40003732, -1.2609444 , -1.5897131 ,  2.197729  ,\n",
       "        0.64992595,  2.000548  ,  2.2584677 ,  0.92214584,  2.573234  ,\n",
       "        0.12080476, -0.9508957 ,  2.7701526 , -1.0781038 ,  1.288294  ],\n",
       "      dtype=float32)"
      ]
     },
     "execution_count": 37,
     "metadata": {},
     "output_type": "execute_result"
    }
   ],
   "source": [
    "import gensim\n",
    "ko_model = gensim.models.Word2Vec.load('/home/ssac18/aiffel/E04_SentimentAnalysis/ko/ko.bin')\n",
    "vector = ko_model['좋']\n",
    "vector    "
   ]
  },
  {
   "cell_type": "code",
   "execution_count": 38,
   "metadata": {},
   "outputs": [
    {
     "name": "stderr",
     "output_type": "stream",
     "text": [
      "/home/ssac18/anaconda3/envs/aiffel/lib/python3.7/site-packages/ipykernel_launcher.py:1: DeprecationWarning: Call to deprecated `similar_by_word` (Method will be removed in 4.0.0, use self.wv.similar_by_word() instead).\n",
      "  \"\"\"Entry point for launching an IPython kernel.\n"
     ]
    },
    {
     "data": {
      "text/plain": [
       "[('괜찮', 0.6849220991134644),\n",
       " ('나쁘', 0.6538200378417969),\n",
       " ('낫', 0.6441531777381897),\n",
       " ('좋아지', 0.6410495042800903),\n",
       " ('높', 0.5870170593261719),\n",
       " ('낮', 0.5831267833709717),\n",
       " ('알맞', 0.5798174142837524),\n",
       " ('많', 0.5643985867500305),\n",
       " ('귀찮', 0.5478721857070923),\n",
       " ('밝', 0.5269372463226318)]"
      ]
     },
     "execution_count": 38,
     "metadata": {},
     "output_type": "execute_result"
    }
   ],
   "source": [
    "ko_model.similar_by_word(\"좋\")"
   ]
  },
  {
   "cell_type": "code",
   "execution_count": 39,
   "metadata": {},
   "outputs": [
    {
     "name": "stderr",
     "output_type": "stream",
     "text": [
      "/home/ssac18/anaconda3/envs/aiffel/lib/python3.7/site-packages/ipykernel_launcher.py:7: DeprecationWarning: Call to deprecated `__contains__` (Method will be removed in 4.0.0, use self.wv.__contains__() instead).\n",
      "  import sys\n",
      "/home/ssac18/anaconda3/envs/aiffel/lib/python3.7/site-packages/ipykernel_launcher.py:8: DeprecationWarning: Call to deprecated `__getitem__` (Method will be removed in 4.0.0, use self.wv.__getitem__() instead).\n",
      "  \n"
     ]
    }
   ],
   "source": [
    "word_vector_dim = 200  # 워드 벡터의 차원수 (변경가능한 하이퍼파라미터)\n",
    "\n",
    "embedding_matrix = np.random.rand(vocab_size, word_vector_dim)\n",
    "\n",
    "# embedding_matrix에 Word2Vec 워드벡터를 단어 하나씩마다 차례차례 카피한다.\n",
    "for i in range(4,vocab_size):\n",
    "    if index_to_word[i] in ko_model:\n",
    "        embedding_matrix[i] = ko_model[index_to_word[i]]"
   ]
  },
  {
   "cell_type": "code",
   "execution_count": 40,
   "metadata": {},
   "outputs": [
    {
     "name": "stdout",
     "output_type": "stream",
     "text": [
      "Model: \"sequential_3\"\n",
      "_________________________________________________________________\n",
      "Layer (type)                 Output Shape              Param #   \n",
      "=================================================================\n",
      "embedding_3 (Embedding)      (None, 41, 200)           10793000  \n",
      "_________________________________________________________________\n",
      "conv1d_2 (Conv1D)            (None, 35, 16)            22416     \n",
      "_________________________________________________________________\n",
      "max_pooling1d_1 (MaxPooling1 (None, 7, 16)             0         \n",
      "_________________________________________________________________\n",
      "conv1d_3 (Conv1D)            (None, 1, 16)             1808      \n",
      "_________________________________________________________________\n",
      "global_max_pooling1d_1 (Glob (None, 16)                0         \n",
      "_________________________________________________________________\n",
      "dropout_3 (Dropout)          (None, 16)                0         \n",
      "_________________________________________________________________\n",
      "dense_6 (Dense)              (None, 16)                272       \n",
      "_________________________________________________________________\n",
      "dense_7 (Dense)              (None, 1)                 17        \n",
      "=================================================================\n",
      "Total params: 10,817,513\n",
      "Trainable params: 10,817,513\n",
      "Non-trainable params: 0\n",
      "_________________________________________________________________\n"
     ]
    }
   ],
   "source": [
    "from tensorflow.keras.initializers import Constant\n",
    "\n",
    "vocab_size = len(word_to_index)   # 어휘 사전의 크기\n",
    "word_vector_dim = 200  # 워드 벡터의 차원수 \n",
    "\n",
    "# 모델 구성\n",
    "model = keras.Sequential()\n",
    "model.add(keras.layers.Embedding(vocab_size, \n",
    "                                 word_vector_dim, \n",
    "                                 embeddings_initializer=Constant(embedding_matrix),  # 카피한 임베딩을 여기서 활용\n",
    "                                 input_length=maxlen, \n",
    "                                 trainable=True))   # trainable을 True로 주면 Fine-tuning\n",
    "model.add(keras.layers.Conv1D(16, 7, activation='relu'))\n",
    "model.add(keras.layers.MaxPooling1D(5))\n",
    "model.add(keras.layers.Conv1D(16, 7, activation='relu'))\n",
    "model.add(keras.layers.GlobalMaxPooling1D())\n",
    "model.add(keras.layers.Dropout(0.5))\n",
    "model.add(keras.layers.Dense(16, activation='relu',kernel_regularizer='l1'))\n",
    "model.add(keras.layers.Dense(1, activation='sigmoid')) \n",
    "\n",
    "model.summary()"
   ]
  },
  {
   "cell_type": "code",
   "execution_count": 41,
   "metadata": {},
   "outputs": [
    {
     "name": "stdout",
     "output_type": "stream",
     "text": [
      "Epoch 1/20\n",
      "188/188 [==============================] - 31s 163ms/step - loss: 0.9770 - accuracy: 0.6513 - val_loss: 0.7043 - val_accuracy: 0.7657\n",
      "Epoch 2/20\n",
      "188/188 [==============================] - 18s 98ms/step - loss: 0.5786 - accuracy: 0.7915 - val_loss: 0.4560 - val_accuracy: 0.8201\n",
      "Epoch 3/20\n",
      "188/188 [==============================] - 18s 98ms/step - loss: 0.4219 - accuracy: 0.8390 - val_loss: 0.4013 - val_accuracy: 0.8341\n",
      "Epoch 4/20\n",
      "188/188 [==============================] - 18s 98ms/step - loss: 0.3634 - accuracy: 0.8673 - val_loss: 0.3793 - val_accuracy: 0.8430\n",
      "Epoch 5/20\n",
      "188/188 [==============================] - 18s 98ms/step - loss: 0.3235 - accuracy: 0.8863 - val_loss: 0.3815 - val_accuracy: 0.8445\n",
      "Epoch 6/20\n",
      "188/188 [==============================] - 19s 100ms/step - loss: 0.2869 - accuracy: 0.9037 - val_loss: 0.3823 - val_accuracy: 0.8461\n",
      "Epoch 7/20\n",
      "188/188 [==============================] - 18s 98ms/step - loss: 0.2571 - accuracy: 0.9173 - val_loss: 0.4010 - val_accuracy: 0.8466\n",
      "Epoch 8/20\n",
      "188/188 [==============================] - 18s 98ms/step - loss: 0.2268 - accuracy: 0.9303 - val_loss: 0.4232 - val_accuracy: 0.8451\n",
      "Epoch 9/20\n",
      "188/188 [==============================] - 18s 98ms/step - loss: 0.2024 - accuracy: 0.9401 - val_loss: 0.4340 - val_accuracy: 0.8437\n",
      "Epoch 10/20\n",
      "188/188 [==============================] - 18s 98ms/step - loss: 0.1805 - accuracy: 0.9489 - val_loss: 0.4672 - val_accuracy: 0.8422\n",
      "Epoch 11/20\n",
      "188/188 [==============================] - 18s 98ms/step - loss: 0.1604 - accuracy: 0.9561 - val_loss: 0.5104 - val_accuracy: 0.8382\n",
      "Epoch 12/20\n",
      "188/188 [==============================] - 18s 97ms/step - loss: 0.1428 - accuracy: 0.9625 - val_loss: 0.5493 - val_accuracy: 0.8362\n",
      "Epoch 13/20\n",
      "188/188 [==============================] - 19s 98ms/step - loss: 0.1285 - accuracy: 0.9676 - val_loss: 0.5752 - val_accuracy: 0.8350\n",
      "Epoch 14/20\n",
      "188/188 [==============================] - 18s 98ms/step - loss: 0.1172 - accuracy: 0.9711 - val_loss: 0.6301 - val_accuracy: 0.8318\n",
      "Epoch 15/20\n",
      "188/188 [==============================] - 18s 98ms/step - loss: 0.1044 - accuracy: 0.9753 - val_loss: 0.6478 - val_accuracy: 0.8337\n",
      "Epoch 16/20\n",
      "188/188 [==============================] - 18s 98ms/step - loss: 0.0960 - accuracy: 0.9779 - val_loss: 0.6919 - val_accuracy: 0.8295\n",
      "Epoch 17/20\n",
      "188/188 [==============================] - 18s 98ms/step - loss: 0.0877 - accuracy: 0.9809 - val_loss: 0.7443 - val_accuracy: 0.8305\n",
      "Epoch 18/20\n",
      "188/188 [==============================] - 18s 98ms/step - loss: 0.0813 - accuracy: 0.9822 - val_loss: 0.7453 - val_accuracy: 0.8303\n",
      "Epoch 19/20\n",
      "188/188 [==============================] - 19s 98ms/step - loss: 0.0744 - accuracy: 0.9841 - val_loss: 0.7957 - val_accuracy: 0.8293\n",
      "Epoch 20/20\n",
      "188/188 [==============================] - 18s 98ms/step - loss: 0.0671 - accuracy: 0.9864 - val_loss: 0.8725 - val_accuracy: 0.8269\n"
     ]
    }
   ],
   "source": [
    "# 학습의 진행\n",
    "model.compile(optimizer='adam',\n",
    "              loss='binary_crossentropy',\n",
    "              metrics=['accuracy'])\n",
    "              \n",
    "epochs=20  \n",
    "\n",
    "history = model.fit(partial_X_train,\n",
    "                    partial_y_train,\n",
    "                    epochs=epochs,\n",
    "                    batch_size=512,\n",
    "                    validation_data=(X_val, y_val),\n",
    "                    verbose=1)"
   ]
  },
  {
   "cell_type": "code",
   "execution_count": 42,
   "metadata": {},
   "outputs": [
    {
     "name": "stdout",
     "output_type": "stream",
     "text": [
      "1537/1537 - 5s - loss: 0.8933 - accuracy: 0.8244\n",
      "[0.8933070302009583, 0.8244197368621826]\n"
     ]
    }
   ],
   "source": [
    "results = model.evaluate(X_test,  y_test, verbose=2)\n",
    "\n",
    "print(results)"
   ]
  },
  {
   "cell_type": "code",
   "execution_count": 43,
   "metadata": {},
   "outputs": [
    {
     "name": "stdout",
     "output_type": "stream",
     "text": [
      "dict_keys(['loss', 'accuracy', 'val_loss', 'val_accuracy'])\n"
     ]
    }
   ],
   "source": [
    "history_dict = history.history\n",
    "print(history_dict.keys()) "
   ]
  },
  {
   "cell_type": "code",
   "execution_count": 44,
   "metadata": {},
   "outputs": [
    {
     "data": {
      "image/png": "[encoded data removed]",
      "text/plain": [
       "<Figure size 936x288 with 2 Axes>"
      ]
     },
     "metadata": {
      "needs_background": "light"
     },
     "output_type": "display_data"
    }
   ],
   "source": [
    "acc = history_dict['accuracy']\n",
    "val_acc = history_dict['val_accuracy']\n",
    "loss = history_dict['loss']\n",
    "val_loss = history_dict['val_loss']\n",
    "\n",
    "epochs = range(1, len(acc) + 1)\n",
    "\n",
    "fig = plt.figure(figsize=(13,4))\n",
    "ax1 = fig.add_subplot(1,2,1)\n",
    "plt.plot(epochs, loss, 'bo', label='Training loss')\n",
    "# b는 \"파란 실선\"입니다\n",
    "plt.plot(epochs, val_loss, 'b', label='Validation loss')\n",
    "plt.title('Training and validation loss')\n",
    "plt.xlabel('Epochs')\n",
    "plt.ylabel('Loss')\n",
    "plt.legend()\n",
    "\n",
    "\n",
    "ax2 = fig.add_subplot(1,2,2)\n",
    "plt.plot(epochs, acc, 'bo', label='Training acc')\n",
    "plt.plot(epochs, val_acc, 'b', label='Validation acc')\n",
    "plt.title('Training and validation accuracy')\n",
    "plt.xlabel('Epochs')\n",
    "plt.ylabel('Accuracy')\n",
    "#plt.ylim(0.5,1)\n",
    "plt.legend()\n",
    "\n",
    "plt.show()"
   ]
  },
  {
   "cell_type": "markdown",
   "metadata": {},
   "source": [
    "---\n",
    "# 3. GlobalMaxPooling1D() 하나만 사용한 모델\n",
    "\n",
    "### 모델 구성 및 validation set 구성"
   ]
  },
  {
   "cell_type": "code",
   "execution_count": 45,
   "metadata": {},
   "outputs": [
    {
     "name": "stdout",
     "output_type": "stream",
     "text": [
      "Model: \"sequential_4\"\n",
      "_________________________________________________________________\n",
      "Layer (type)                 Output Shape              Param #   \n",
      "=================================================================\n",
      "embedding_4 (Embedding)      (None, None, 128)         6907520   \n",
      "_________________________________________________________________\n",
      "global_max_pooling1d_2 (Glob (None, 128)               0         \n",
      "_________________________________________________________________\n",
      "dropout_4 (Dropout)          (None, 128)               0         \n",
      "_________________________________________________________________\n",
      "dense_8 (Dense)              (None, 16)                2064      \n",
      "_________________________________________________________________\n",
      "dense_9 (Dense)              (None, 1)                 17        \n",
      "=================================================================\n",
      "Total params: 6,909,601\n",
      "Trainable params: 6,909,601\n",
      "Non-trainable params: 0\n",
      "_________________________________________________________________\n"
     ]
    }
   ],
   "source": [
    "vocab_size = len(word_to_index)  \n",
    "word_vector_dim = 128   \n",
    "\n",
    "model = keras.Sequential()\n",
    "model.add(keras.layers.Embedding(vocab_size, word_vector_dim, input_shape=(None,)))\n",
    "model.add(keras.layers.GlobalMaxPooling1D())\n",
    "model.add(keras.layers.Dropout(0.5))\n",
    "model.add(keras.layers.Dense(16, activation='relu',kernel_regularizer='l1'))\n",
    "model.add(keras.layers.Dense(1, activation='sigmoid')) \n",
    "\n",
    "model.summary()"
   ]
  },
  {
   "cell_type": "code",
   "execution_count": 46,
   "metadata": {},
   "outputs": [
    {
     "name": "stdout",
     "output_type": "stream",
     "text": [
      "(96182, 41)\n",
      "(96182,)\n"
     ]
    }
   ],
   "source": [
    "X_val = X_train[:50000]   \n",
    "y_val = y_train[:50000]\n",
    "\n",
    "partial_X_train = X_train[50000:]  \n",
    "partial_y_train = y_train[50000:]\n",
    "\n",
    "print(partial_X_train.shape)\n",
    "print(partial_y_train.shape)"
   ]
  },
  {
   "cell_type": "code",
   "execution_count": 47,
   "metadata": {},
   "outputs": [
    {
     "name": "stdout",
     "output_type": "stream",
     "text": [
      "Epoch 1/20\n",
      "188/188 [==============================] - 10s 52ms/step - loss: 1.4124 - accuracy: 0.7078 - val_loss: 0.7139 - val_accuracy: 0.7756\n",
      "Epoch 2/20\n",
      "188/188 [==============================] - 10s 51ms/step - loss: 0.6839 - accuracy: 0.7295 - val_loss: 0.6384 - val_accuracy: 0.7561\n",
      "Epoch 3/20\n",
      "188/188 [==============================] - 10s 52ms/step - loss: 0.5902 - accuracy: 0.7765 - val_loss: 0.5377 - val_accuracy: 0.8103\n",
      "Epoch 4/20\n",
      "188/188 [==============================] - 10s 52ms/step - loss: 0.5296 - accuracy: 0.8200 - val_loss: 0.5022 - val_accuracy: 0.8225\n",
      "Epoch 5/20\n",
      "188/188 [==============================] - 9s 49ms/step - loss: 0.4986 - accuracy: 0.8343 - val_loss: 0.4816 - val_accuracy: 0.8270\n",
      "Epoch 6/20\n",
      "188/188 [==============================] - 9s 49ms/step - loss: 0.4748 - accuracy: 0.8427 - val_loss: 0.4663 - val_accuracy: 0.8309\n",
      "Epoch 7/20\n",
      "188/188 [==============================] - 10s 52ms/step - loss: 0.4555 - accuracy: 0.8504 - val_loss: 0.4547 - val_accuracy: 0.8337\n",
      "Epoch 8/20\n",
      "188/188 [==============================] - 10s 54ms/step - loss: 0.4404 - accuracy: 0.8548 - val_loss: 0.4465 - val_accuracy: 0.8357\n",
      "Epoch 9/20\n",
      "188/188 [==============================] - 10s 54ms/step - loss: 0.4270 - accuracy: 0.8605 - val_loss: 0.4395 - val_accuracy: 0.8377\n",
      "Epoch 10/20\n",
      "188/188 [==============================] - 10s 54ms/step - loss: 0.4149 - accuracy: 0.8649 - val_loss: 0.4347 - val_accuracy: 0.8379\n",
      "Epoch 11/20\n",
      "188/188 [==============================] - 10s 52ms/step - loss: 0.4039 - accuracy: 0.8683 - val_loss: 0.4298 - val_accuracy: 0.8393\n",
      "Epoch 12/20\n",
      "188/188 [==============================] - 10s 53ms/step - loss: 0.3938 - accuracy: 0.8720 - val_loss: 0.4267 - val_accuracy: 0.8401\n",
      "Epoch 13/20\n",
      "188/188 [==============================] - 10s 53ms/step - loss: 0.3838 - accuracy: 0.8753 - val_loss: 0.4246 - val_accuracy: 0.8413\n",
      "Epoch 14/20\n",
      "188/188 [==============================] - 10s 52ms/step - loss: 0.3740 - accuracy: 0.8803 - val_loss: 0.4214 - val_accuracy: 0.8425\n",
      "Epoch 15/20\n",
      "188/188 [==============================] - 10s 52ms/step - loss: 0.3671 - accuracy: 0.8834 - val_loss: 0.4194 - val_accuracy: 0.8435\n",
      "Epoch 16/20\n",
      "188/188 [==============================] - 10s 53ms/step - loss: 0.3587 - accuracy: 0.8861 - val_loss: 0.4179 - val_accuracy: 0.8439\n",
      "Epoch 17/20\n",
      "188/188 [==============================] - 10s 51ms/step - loss: 0.3498 - accuracy: 0.8895 - val_loss: 0.4171 - val_accuracy: 0.8441\n",
      "Epoch 18/20\n",
      "188/188 [==============================] - 10s 51ms/step - loss: 0.3430 - accuracy: 0.8926 - val_loss: 0.4155 - val_accuracy: 0.8450\n",
      "Epoch 19/20\n",
      "188/188 [==============================] - 10s 53ms/step - loss: 0.3343 - accuracy: 0.8959 - val_loss: 0.4147 - val_accuracy: 0.8454\n",
      "Epoch 20/20\n",
      "188/188 [==============================] - 10s 53ms/step - loss: 0.3283 - accuracy: 0.8990 - val_loss: 0.4132 - val_accuracy: 0.8460\n"
     ]
    }
   ],
   "source": [
    "model.compile(optimizer='adam',\n",
    "              loss='binary_crossentropy',\n",
    "              metrics=['accuracy'])\n",
    "              \n",
    "epochs=20  \n",
    "\n",
    "history = model.fit(partial_X_train,\n",
    "                    partial_y_train,\n",
    "                    epochs=epochs,\n",
    "                    batch_size=512,\n",
    "                    validation_data=(X_val, y_val),\n",
    "                    verbose=1)"
   ]
  },
  {
   "cell_type": "code",
   "execution_count": 48,
   "metadata": {},
   "outputs": [
    {
     "name": "stdout",
     "output_type": "stream",
     "text": [
      "1537/1537 - 2s - loss: 0.4186 - accuracy: 0.8436\n",
      "[0.41855865716934204, 0.843582808971405]\n"
     ]
    }
   ],
   "source": [
    "results = model.evaluate(X_test,  y_test, verbose=2)\n",
    "\n",
    "print(results)"
   ]
  },
  {
   "cell_type": "code",
   "execution_count": 49,
   "metadata": {},
   "outputs": [
    {
     "name": "stdout",
     "output_type": "stream",
     "text": [
      "dict_keys(['loss', 'accuracy', 'val_loss', 'val_accuracy'])\n"
     ]
    }
   ],
   "source": [
    "history_dict = history.history\n",
    "print(history_dict.keys()) "
   ]
  },
  {
   "cell_type": "markdown",
   "metadata": {},
   "source": [
    "### Loss Accuracy 그래프 시각화"
   ]
  },
  {
   "cell_type": "code",
   "execution_count": 50,
   "metadata": {
    "scrolled": false
   },
   "outputs": [
    {
     "data": {
      "image/png": "[encoded data removed]",
      "text/plain": [
       "<Figure size 936x288 with 2 Axes>"
      ]
     },
     "metadata": {
      "needs_background": "light"
     },
     "output_type": "display_data"
    }
   ],
   "source": [
    "import matplotlib.pyplot as plt\n",
    "\n",
    "acc = history_dict['accuracy']\n",
    "val_acc = history_dict['val_accuracy']\n",
    "loss = history_dict['loss']\n",
    "val_loss = history_dict['val_loss']\n",
    "\n",
    "epochs = range(1, len(acc) + 1)\n",
    "\n",
    "fig = plt.figure(figsize=(13,4))\n",
    "ax1 = fig.add_subplot(1,2,1)\n",
    "# \"bo\"는 \"파란색 점\"입니다\n",
    "plt.plot(epochs, loss, 'bo', label='Training loss')\n",
    "# b는 \"파란 실선\"입니다\n",
    "plt.plot(epochs, val_loss, 'b', label='Validation loss')\n",
    "plt.title('Training and validation loss')\n",
    "plt.xlabel('Epochs')\n",
    "plt.ylabel('Loss')\n",
    "#plt.ylim(-1, 1.5)\n",
    "plt.legend()\n",
    "ax2 = fig.add_subplot(1,2,2)\n",
    "plt.plot(epochs, acc, 'bo', label='Training acc')\n",
    "plt.plot(epochs, val_acc, 'b', label='Validation acc')\n",
    "plt.title('Training and validation accuracy')\n",
    "plt.xlabel('Epochs')\n",
    "plt.ylabel('Accuracy')\n",
    "#plt.ylim(0.5,1)\n",
    "plt.legend()\n",
    "\n",
    "plt.show()"
   ]
  },
  {
   "cell_type": "markdown",
   "metadata": {},
   "source": [
    "### 학습된 Embedding 레이어 분석"
   ]
  },
  {
   "cell_type": "code",
   "execution_count": 51,
   "metadata": {},
   "outputs": [
    {
     "name": "stdout",
     "output_type": "stream",
     "text": [
      "(53965, 128)\n"
     ]
    }
   ],
   "source": [
    "embedding_layer = model.layers[0]\n",
    "weights = embedding_layer.get_weights()[0]\n",
    "print(weights.shape)    # shape: (vocab_size, embedding_dim)"
   ]
  },
  {
   "cell_type": "code",
   "execution_count": 52,
   "metadata": {},
   "outputs": [],
   "source": [
    "import os\n",
    "\n",
    "# 학습한 Embedding 파라미터를 파일에 써서 저장\n",
    "word2vec_file_path = os.getenv('HOME')+'/project/AIFFEL/E04_SentimentAnalysis/word2vec.txt'\n",
    "f = open(word2vec_file_path, 'w')\n",
    "f.write('{} {}\\n'.format(vocab_size-4, word_vector_dim))  # 몇개의 벡터를 얼마 사이즈로 기재할지 타이틀을 씁니다.\n",
    "\n",
    "# 단어 개수(에서 특수문자 4개는 제외하고)만큼의 워드 벡터를 파일에 기록합니다. \n",
    "vectors = model.get_weights()[0]\n",
    "for i in range(4,vocab_size):\n",
    "    f.write('{} {}\\n'.format(index_to_word[i], ' '.join(map(str, list(vectors[i, :])))))\n",
    "f.close()"
   ]
  },
  {
   "cell_type": "code",
   "execution_count": 53,
   "metadata": {},
   "outputs": [
    {
     "data": {
      "text/plain": [
       "array([-2.73595989e-01,  1.28963903e-01, -4.37450185e-02, -3.09685823e-02,\n",
       "        5.85968018e-01, -5.73901052e-04,  4.06841278e-01,  2.45976701e-01,\n",
       "       -4.36739326e-02, -4.41155210e-02,  1.49519995e-01,  1.72869384e-01,\n",
       "        5.43648779e-01, -3.82801406e-02,  3.92217450e-02, -1.92482583e-02,\n",
       "       -3.39721926e-02, -6.89639300e-02, -4.60293479e-02, -3.22912335e-02,\n",
       "       -2.50057055e-04, -3.47712375e-02, -6.03972599e-02, -2.64950618e-02,\n",
       "        7.39233941e-02,  9.66082811e-02,  2.64018625e-01,  1.46134654e-02,\n",
       "        2.49843001e-01,  1.56833399e-02, -4.41352986e-02,  2.14148879e-01,\n",
       "        1.00040436e-03, -5.19975089e-02,  9.09316614e-02,  7.32187182e-03,\n",
       "        2.26099908e-01, -3.56179327e-02, -3.01408768e-01, -3.07239443e-02,\n",
       "        3.47330868e-02,  6.73450470e-01, -4.83873719e-03, -1.66076317e-01,\n",
       "       -1.45329773e-01, -2.99111724e-01, -1.86041519e-01,  6.57051444e-01,\n",
       "        6.99426457e-02,  3.05716783e-01, -3.92886288e-02,  2.15320438e-01,\n",
       "       -3.14422660e-02, -8.77820328e-02, -3.45933847e-02, -2.65275687e-01,\n",
       "        2.66606584e-02, -2.32620724e-02, -2.29070336e-02, -2.74496436e-01,\n",
       "       -6.41288683e-02,  2.03440651e-01, -4.15119343e-02, -1.32830087e-02,\n",
       "       -1.12943776e-01, -3.65363583e-02, -1.84475914e-01,  1.17018335e-02,\n",
       "       -1.93591654e-01, -1.04028014e-02, -3.90670970e-02, -5.08542396e-02,\n",
       "        5.23295961e-02,  2.40479454e-01, -2.09777102e-01, -2.71712076e-02,\n",
       "        2.18464181e-01, -3.94851565e-02,  1.00985505e-01, -3.01535785e-01,\n",
       "       -2.04524115e-01,  2.88820118e-01,  1.98258497e-02, -3.43747996e-02,\n",
       "       -2.96189427e-01,  2.63343006e-01,  4.62373495e-01, -6.99668005e-02,\n",
       "       -4.08142172e-02, -6.42300621e-02, -1.30603939e-01, -6.22775555e-02,\n",
       "       -6.16409853e-02, -2.48279255e-02, -4.48330771e-03,  1.60152502e-02,\n",
       "       -1.73592865e-01, -2.53711231e-02, -2.38141626e-01, -1.44881874e-01,\n",
       "        2.32000202e-01, -7.21293539e-02, -3.86501178e-02, -2.12532148e-01,\n",
       "       -3.37786898e-02, -7.00835437e-02, -1.45857617e-01, -3.11941236e-01,\n",
       "       -2.97582243e-02, -4.37887013e-02, -4.47619148e-02, -4.23800945e-02,\n",
       "       -3.55434306e-02, -3.96774188e-02, -3.01193208e-01, -6.58757091e-02,\n",
       "       -4.73938696e-02, -2.57353097e-01, -3.96422856e-02, -1.36185780e-01,\n",
       "       -2.56646603e-01,  1.26474813e-01, -4.51077148e-03, -1.86952978e-01,\n",
       "       -1.77408174e-01,  3.16071600e-01,  4.25476879e-01, -2.26979256e-02],\n",
       "      dtype=float32)"
      ]
     },
     "execution_count": 53,
     "metadata": {},
     "output_type": "execute_result"
    }
   ],
   "source": [
    "from gensim.models.keyedvectors import Word2VecKeyedVectors\n",
    "\n",
    "word_vectors = Word2VecKeyedVectors.load_word2vec_format(word2vec_file_path, binary=False)\n",
    "vector = word_vectors['좋']\n",
    "vector"
   ]
  },
  {
   "cell_type": "code",
   "execution_count": 54,
   "metadata": {},
   "outputs": [
    {
     "data": {
      "text/plain": [
       "[('만찬', 0.6684145927429199),\n",
       " ('참신', 0.6457814574241638),\n",
       " ('집요', 0.6426976323127747),\n",
       " ('bbbbbbbbbbbbbbbbbbbb', 0.6334915161132812),\n",
       " ('차갑', 0.627949595451355),\n",
       " ('노예', 0.6175498962402344),\n",
       " ('박진감', 0.6174359917640686),\n",
       " ('긴박감', 0.6113206148147583),\n",
       " ('파이팅', 0.6058259010314941),\n",
       " ('오늘날', 0.605722188949585)]"
      ]
     },
     "execution_count": 54,
     "metadata": {},
     "output_type": "execute_result"
    }
   ],
   "source": [
    "word_vectors.similar_by_word(\"좋\")"
   ]
  },
  {
   "cell_type": "markdown",
   "metadata": {},
   "source": [
    "### 한국어 Word2Vec 임베딩 활용하여 성능 개선"
   ]
  },
  {
   "cell_type": "code",
   "execution_count": 55,
   "metadata": {},
   "outputs": [
    {
     "name": "stderr",
     "output_type": "stream",
     "text": [
      "/home/ssac18/anaconda3/envs/aiffel/lib/python3.7/site-packages/ipykernel_launcher.py:3: DeprecationWarning: Call to deprecated `__getitem__` (Method will be removed in 4.0.0, use self.wv.__getitem__() instead).\n",
      "  This is separate from the ipykernel package so we can avoid doing imports until\n"
     ]
    },
    {
     "data": {
      "text/plain": [
       "array([ 1.0640332 , -2.2912955 ,  3.3337867 , -2.1199276 , -3.0332334 ,\n",
       "       -0.19465393, -2.481366  , -0.10735121,  2.5207045 ,  0.8627388 ,\n",
       "       -0.45329845, -2.0046058 , -0.01572813,  0.5299075 ,  0.30947903,\n",
       "       -0.9715863 , -0.9571187 , -0.60102916,  0.90976727, -1.9047512 ,\n",
       "       -1.2195476 , -1.1592524 ,  0.8524444 ,  1.8657554 , -0.3389445 ,\n",
       "       -0.49982402,  1.1301196 , -0.5019951 ,  1.1161596 , -1.1941459 ,\n",
       "        0.940446  ,  1.2571095 , -0.30472234,  1.9796319 , -1.1565856 ,\n",
       "       -0.23786964, -0.6009812 ,  0.5220223 ,  0.82051736, -1.5666542 ,\n",
       "       -0.02252442, -1.4792949 ,  1.3666244 ,  1.4165231 ,  1.5582582 ,\n",
       "        0.8805346 ,  3.4146652 , -1.9629716 ,  0.8763886 ,  1.3238906 ,\n",
       "        0.4521591 ,  0.7075807 , -2.176243  , -0.20598859, -2.23883   ,\n",
       "       -1.6937513 , -2.2974951 , -0.46340045,  0.942308  ,  0.6221677 ,\n",
       "        1.5814389 , -0.9991125 , -1.0794336 ,  0.9742524 , -0.8817606 ,\n",
       "        1.5110779 , -2.426482  ,  0.05825558,  2.1984208 ,  0.35296234,\n",
       "        3.1952312 ,  1.8155069 , -1.1671705 ,  1.07751   ,  4.8135138 ,\n",
       "       -0.60856414,  0.96072876,  0.8439502 ,  0.3770566 , -1.6768107 ,\n",
       "       -3.1595662 , -0.14261521,  2.0824883 , -0.11094837, -2.1942945 ,\n",
       "        0.801251  , -0.5296651 ,  1.3014761 , -2.6290061 , -1.4189166 ,\n",
       "        0.902155  , -1.0913172 , -1.0048355 ,  2.9072917 ,  0.9966304 ,\n",
       "       -1.2174375 , -0.9657722 , -1.0152395 ,  0.36920968,  3.3126214 ,\n",
       "        0.03072724,  1.2522703 , -1.8932865 ,  0.43378967, -0.2971605 ,\n",
       "        1.8355585 ,  0.19106394,  0.91579884, -4.395526  , -2.782803  ,\n",
       "        4.157614  , -2.9051135 , -2.238838  , -2.609383  ,  0.45237398,\n",
       "       -1.0346476 , -3.2167242 ,  0.39689595, -1.7131122 ,  0.9475062 ,\n",
       "       -1.1475829 , -0.14993533, -0.31696472, -2.1121385 , -0.7437849 ,\n",
       "        0.8559741 ,  0.6292434 , -0.14344764,  1.0021055 ,  0.01381943,\n",
       "        1.7172662 , -1.6198753 ,  2.2224152 , -0.13469009,  0.7198687 ,\n",
       "        3.6921475 , -1.4100598 , -0.7387036 , -0.6864579 ,  0.4902703 ,\n",
       "        0.01796604, -0.7128891 , -0.36713868, -1.0794181 ,  2.2457912 ,\n",
       "        1.9138381 , -1.7702909 , -0.33142793, -2.752764  ,  0.60539377,\n",
       "       -1.1330652 , -1.432214  , -0.00514037,  0.01048426, -0.35118294,\n",
       "       -0.27634418,  0.85496026,  2.6362362 ,  0.6963407 ,  1.8802122 ,\n",
       "        0.2852981 , -1.9456061 , -0.284934  , -0.48388445,  0.79360694,\n",
       "       -2.74617   , -0.05845991, -1.576361  , -1.9945118 ,  1.8401434 ,\n",
       "        3.085636  , -1.684523  , -0.03559533, -0.45918506,  1.3162051 ,\n",
       "       -0.25565395,  0.01258983, -0.973847  ,  0.21768694, -0.02744086,\n",
       "       -1.5970165 , -0.8845844 , -0.3702187 , -4.0633225 , -0.75575995,\n",
       "       -2.2488348 , -0.40003732, -1.2609444 , -1.5897131 ,  2.197729  ,\n",
       "        0.64992595,  2.000548  ,  2.2584677 ,  0.92214584,  2.573234  ,\n",
       "        0.12080476, -0.9508957 ,  2.7701526 , -1.0781038 ,  1.288294  ],\n",
       "      dtype=float32)"
      ]
     },
     "execution_count": 55,
     "metadata": {},
     "output_type": "execute_result"
    }
   ],
   "source": [
    "import gensim\n",
    "ko_model = gensim.models.Word2Vec.load('/home/ssac18/aiffel/E04_SentimentAnalysis/ko/ko.bin')\n",
    "vector = ko_model['좋']\n",
    "vector    "
   ]
  },
  {
   "cell_type": "code",
   "execution_count": 56,
   "metadata": {},
   "outputs": [
    {
     "name": "stderr",
     "output_type": "stream",
     "text": [
      "/home/ssac18/anaconda3/envs/aiffel/lib/python3.7/site-packages/ipykernel_launcher.py:1: DeprecationWarning: Call to deprecated `similar_by_word` (Method will be removed in 4.0.0, use self.wv.similar_by_word() instead).\n",
      "  \"\"\"Entry point for launching an IPython kernel.\n"
     ]
    },
    {
     "data": {
      "text/plain": [
       "[('괜찮', 0.6849220991134644),\n",
       " ('나쁘', 0.6538200378417969),\n",
       " ('낫', 0.6441531777381897),\n",
       " ('좋아지', 0.6410495042800903),\n",
       " ('높', 0.5870170593261719),\n",
       " ('낮', 0.5831267833709717),\n",
       " ('알맞', 0.5798174142837524),\n",
       " ('많', 0.5643985867500305),\n",
       " ('귀찮', 0.5478721857070923),\n",
       " ('밝', 0.5269372463226318)]"
      ]
     },
     "execution_count": 56,
     "metadata": {},
     "output_type": "execute_result"
    }
   ],
   "source": [
    "ko_model.similar_by_word(\"좋\")"
   ]
  },
  {
   "cell_type": "code",
   "execution_count": 62,
   "metadata": {},
   "outputs": [
    {
     "name": "stderr",
     "output_type": "stream",
     "text": [
      "/home/ssac18/anaconda3/envs/aiffel/lib/python3.7/site-packages/ipykernel_launcher.py:7: DeprecationWarning: Call to deprecated `__contains__` (Method will be removed in 4.0.0, use self.wv.__contains__() instead).\n",
      "  import sys\n",
      "/home/ssac18/anaconda3/envs/aiffel/lib/python3.7/site-packages/ipykernel_launcher.py:8: DeprecationWarning: Call to deprecated `__getitem__` (Method will be removed in 4.0.0, use self.wv.__getitem__() instead).\n",
      "  \n"
     ]
    }
   ],
   "source": [
    "word_vector_dim = 200  # 워드 벡터의 차원수 (변경가능한 하이퍼파라미터)\n",
    "\n",
    "embedding_matrix = np.random.rand(vocab_size, word_vector_dim)\n",
    "\n",
    "# embedding_matrix에 Word2Vec 워드벡터를 단어 하나씩마다 차례차례 카피한다.\n",
    "for i in range(4,vocab_size):\n",
    "    if index_to_word[i] in ko_model:\n",
    "        embedding_matrix[i] = ko_model[index_to_word[i]]"
   ]
  },
  {
   "cell_type": "code",
   "execution_count": 63,
   "metadata": {
    "scrolled": false
   },
   "outputs": [
    {
     "name": "stdout",
     "output_type": "stream",
     "text": [
      "Model: \"sequential_6\"\n",
      "_________________________________________________________________\n",
      "Layer (type)                 Output Shape              Param #   \n",
      "=================================================================\n",
      "embedding_6 (Embedding)      (None, 41, 200)           10793000  \n",
      "_________________________________________________________________\n",
      "global_max_pooling1d_4 (Glob (None, 200)               0         \n",
      "_________________________________________________________________\n",
      "dropout_6 (Dropout)          (None, 200)               0         \n",
      "_________________________________________________________________\n",
      "dense_12 (Dense)             (None, 16)                3216      \n",
      "_________________________________________________________________\n",
      "dense_13 (Dense)             (None, 1)                 17        \n",
      "=================================================================\n",
      "Total params: 10,796,233\n",
      "Trainable params: 10,796,233\n",
      "Non-trainable params: 0\n",
      "_________________________________________________________________\n"
     ]
    }
   ],
   "source": [
    "from tensorflow.keras.initializers import Constant\n",
    "\n",
    "vocab_size = len(word_to_index)   # 어휘 사전의 크기\n",
    "word_vector_dim = 200  # 워드 벡터의 차원수 \n",
    "\n",
    "# 모델 구성\n",
    "model = keras.Sequential()\n",
    "model.add(keras.layers.Embedding(vocab_size, \n",
    "                                 word_vector_dim, \n",
    "                                 embeddings_initializer=Constant(embedding_matrix),  # 카피한 임베딩을 여기서 활용\n",
    "                                 input_length=maxlen, \n",
    "                                 trainable=True))   # trainable을 True로 주면 Fine-tuning\n",
    "model.add(keras.layers.GlobalMaxPooling1D())\n",
    "model.add(keras.layers.Dropout(0.5))\n",
    "model.add(keras.layers.Dense(16, activation='relu',kernel_regularizer='l1'))\n",
    "model.add(keras.layers.Dense(1, activation='sigmoid')) \n",
    "\n",
    "model.summary()"
   ]
  },
  {
   "cell_type": "code",
   "execution_count": 64,
   "metadata": {},
   "outputs": [
    {
     "name": "stdout",
     "output_type": "stream",
     "text": [
      "Epoch 1/20\n",
      "188/188 [==============================] - 19s 99ms/step - loss: 2.5316 - accuracy: 0.5140 - val_loss: 1.5632 - val_accuracy: 0.5415\n",
      "Epoch 2/20\n",
      "188/188 [==============================] - 18s 98ms/step - loss: 1.1467 - accuracy: 0.5134 - val_loss: 0.8411 - val_accuracy: 0.5249\n",
      "Epoch 3/20\n",
      "188/188 [==============================] - 18s 98ms/step - loss: 0.7426 - accuracy: 0.5268 - val_loss: 0.7028 - val_accuracy: 0.5492\n",
      "Epoch 4/20\n",
      "188/188 [==============================] - 18s 98ms/step - loss: 0.6995 - accuracy: 0.5633 - val_loss: 0.6936 - val_accuracy: 0.5802\n",
      "Epoch 5/20\n",
      "188/188 [==============================] - 18s 97ms/step - loss: 0.6939 - accuracy: 0.5783 - val_loss: 0.6833 - val_accuracy: 0.6299\n",
      "Epoch 6/20\n",
      "188/188 [==============================] - 18s 97ms/step - loss: 0.6863 - accuracy: 0.5974 - val_loss: 0.6729 - val_accuracy: 0.6584\n",
      "Epoch 7/20\n",
      "188/188 [==============================] - 19s 100ms/step - loss: 0.6795 - accuracy: 0.6133 - val_loss: 0.6582 - val_accuracy: 0.6883\n",
      "Epoch 8/20\n",
      "188/188 [==============================] - 18s 97ms/step - loss: 0.6686 - accuracy: 0.6331 - val_loss: 0.6390 - val_accuracy: 0.7185\n",
      "Epoch 9/20\n",
      "188/188 [==============================] - 18s 98ms/step - loss: 0.6573 - accuracy: 0.6502 - val_loss: 0.6206 - val_accuracy: 0.7312\n",
      "Epoch 10/20\n",
      "188/188 [==============================] - 18s 98ms/step - loss: 0.6464 - accuracy: 0.6655 - val_loss: 0.6056 - val_accuracy: 0.7393\n",
      "Epoch 11/20\n",
      "188/188 [==============================] - 18s 97ms/step - loss: 0.6324 - accuracy: 0.6803 - val_loss: 0.5880 - val_accuracy: 0.7558\n",
      "Epoch 12/20\n",
      "188/188 [==============================] - 18s 98ms/step - loss: 0.6192 - accuracy: 0.6958 - val_loss: 0.5765 - val_accuracy: 0.7506\n",
      "Epoch 13/20\n",
      "188/188 [==============================] - 18s 97ms/step - loss: 0.6047 - accuracy: 0.7081 - val_loss: 0.5569 - val_accuracy: 0.7733\n",
      "Epoch 14/20\n",
      "188/188 [==============================] - 18s 97ms/step - loss: 0.5913 - accuracy: 0.7198 - val_loss: 0.5470 - val_accuracy: 0.7677\n",
      "Epoch 15/20\n",
      "188/188 [==============================] - 18s 97ms/step - loss: 0.5813 - accuracy: 0.7282 - val_loss: 0.5310 - val_accuracy: 0.7853\n",
      "Epoch 16/20\n",
      "188/188 [==============================] - 18s 95ms/step - loss: 0.5690 - accuracy: 0.7374 - val_loss: 0.5196 - val_accuracy: 0.7862\n",
      "Epoch 17/20\n",
      "188/188 [==============================] - 18s 97ms/step - loss: 0.5587 - accuracy: 0.7453 - val_loss: 0.5144 - val_accuracy: 0.7846\n",
      "Epoch 18/20\n",
      "188/188 [==============================] - 18s 96ms/step - loss: 0.5481 - accuracy: 0.7529 - val_loss: 0.5101 - val_accuracy: 0.7803\n",
      "Epoch 19/20\n",
      "188/188 [==============================] - 18s 97ms/step - loss: 0.5379 - accuracy: 0.7609 - val_loss: 0.4906 - val_accuracy: 0.8022\n",
      "Epoch 20/20\n",
      "188/188 [==============================] - 18s 98ms/step - loss: 0.5283 - accuracy: 0.7668 - val_loss: 0.4815 - val_accuracy: 0.8061\n"
     ]
    }
   ],
   "source": [
    "# 학습의 진행\n",
    "model.compile(optimizer='adam',\n",
    "              loss='binary_crossentropy',\n",
    "              metrics=['accuracy'])\n",
    "              \n",
    "epochs=20  \n",
    "\n",
    "history = model.fit(partial_X_train,\n",
    "                    partial_y_train,\n",
    "                    epochs=epochs,\n",
    "                    batch_size=512,\n",
    "                    validation_data=(X_val, y_val),\n",
    "                    verbose=1)"
   ]
  },
  {
   "cell_type": "code",
   "execution_count": 65,
   "metadata": {},
   "outputs": [
    {
     "name": "stdout",
     "output_type": "stream",
     "text": [
      "1537/1537 - 2s - loss: 0.4861 - accuracy: 0.8019\n",
      "[0.4860602021217346, 0.8019203543663025]\n"
     ]
    }
   ],
   "source": [
    "results = model.evaluate(X_test,  y_test, verbose=2)\n",
    "\n",
    "print(results)"
   ]
  },
  {
   "cell_type": "markdown",
   "metadata": {},
   "source": [
    "### Loss Accuracy 그래프 시각화"
   ]
  },
  {
   "cell_type": "code",
   "execution_count": 66,
   "metadata": {},
   "outputs": [
    {
     "data": {
      "image/png": "[encoded data removed]",
      "text/plain": [
       "<Figure size 936x288 with 2 Axes>"
      ]
     },
     "metadata": {
      "needs_background": "light"
     },
     "output_type": "display_data"
    }
   ],
   "source": [
    "import matplotlib.pyplot as plt\n",
    "\n",
    "acc = history_dict['accuracy']\n",
    "val_acc = history_dict['val_accuracy']\n",
    "loss = history_dict['loss']\n",
    "val_loss = history_dict['val_loss']\n",
    "\n",
    "epochs = range(1, len(acc) + 1)\n",
    "\n",
    "fig = plt.figure(figsize=(13,4))\n",
    "ax1 = fig.add_subplot(1,2,1)\n",
    "# \"bo\"는 \"파란색 점\"입니다\n",
    "plt.plot(epochs, loss, 'bo', label='Training loss')\n",
    "# b는 \"파란 실선\"입니다\n",
    "plt.plot(epochs, val_loss, 'b', label='Validation loss')\n",
    "plt.title('Training and validation loss')\n",
    "plt.xlabel('Epochs')\n",
    "plt.ylabel('Loss')\n",
    "#plt.ylim(-1, 1.5)\n",
    "plt.legend()\n",
    "ax2 = fig.add_subplot(1,2,2)\n",
    "plt.plot(epochs, acc, 'bo', label='Training acc')\n",
    "plt.plot(epochs, val_acc, 'b', label='Validation acc')\n",
    "plt.title('Training and validation accuracy')\n",
    "plt.xlabel('Epochs')\n",
    "plt.ylabel('Accuracy')\n",
    "#plt.ylim(0.5,1)\n",
    "plt.legend()\n",
    "\n",
    "plt.show()"
   ]
  },
  {
   "cell_type": "markdown",
   "metadata": {},
   "source": [
    "---\n",
    "---\n"
   ]
  },
  {
   "cell_type": "markdown",
   "metadata": {},
   "source": [
    "## [결과 및 회고]\n",
    "\n",
    "총 3가지의 모델 \n",
    "* RNN - LSTM 사용 모델\n",
    "* 1D CNN - GlobalMaxPooling1D() 사용 모델\n",
    "* GlobalMaxPooling1D() 하나만 사용한 모델\n",
    "\n",
    "을 통해 감성분석을 하였는데, 가장 성능이 좋은 모델은 __GlobalMaxPooling1D() 하나만 사용한 모델__ 이었습니다.  \n",
    "__loss: 0.4186 - accuracy: 0.8436__ 결과를 얻을 수 있었습니다.   \n",
    "처음에 정규화를 시키지 않았을 때는 accuracy가 약 82.7~ 8%로 비슷하긴 했지만 1d cnn > GlobalMaxPooling1D() > RNN - LSTM 의 순서로 높은 성능을 보였습니다.   \n",
    "85%이상의 좋은 성능이 보이지 않아 Dropout 레이어 1개 추가하고 l1 정규화 층을 추가해준 후 accuracy 순서는 GlobaMaxPooling1D > RNN > 1D CNN 이였습니다.   \n",
    "각각 모델에 word2vec 임베딩을 해준 후 성능의 차이는 크게 보이지 않았으나, Loss, Accuracy 그래프를 보면 GlobaMaxPooling1D 하나만 사용한 모델이 오버피팅이 잘 잡혔음을 볼 수 있었습니다.  \n",
    "\n",
    "이번 프로젝트를 통해 NLP를 처음 접해서인지, 전체적인 자연어 처리과정 자체도 생소하고 어렵게 느껴졌습니다. 각각의 세부 파라미터들이 무엇을 의미하는지, 등을 파악하는 것도 쉽지 않았습니다. 또한 노드를 진행할 때는 word2vec 임베딩을 하기 전 후가 성능 차이가 매우 크게 났었는데, 한국어 감성 분석시에는 확연한 차이가 드러나지 않았고 심지어 그 전보다 결과가 낮게 나오기도 했습니다. 언어적 차이에 의한 것인지, 운이 안좋았던 것인지, 어떻게 하면 더 성능을 올릴 수 있을 지 궁금합니다.   \n",
    "사실 1-D CNN + RNN 모델도 구현하려고 시도했으나 실패했습니다. 실패 원인은 input shape를 설정해주는데 있어 이해가 부족했기 때문입니다. 1dCNN과 RNN을 결합하려면 같은 형태의 input 값을 주었어야 했는데, 알맞은 input shape를 찾지 못했습니다. 이 부분에 관련하여 입력과 출력의 형태나 전체 흐름에 대해 잘 이해하기 위해 더 많은 공부를 할 것입니다.  \n"
   ]
  },
  {
   "cell_type": "code",
   "execution_count": null,
   "metadata": {},
   "outputs": [],
   "source": []
  }
 ],
 "metadata": {
  "kernelspec": {
   "display_name": "Python 3",
   "language": "python",
   "name": "python3"
  },
  "language_info": {
   "codemirror_mode": {
    "name": "ipython",
    "version": 3
   },
   "file_extension": ".py",
   "mimetype": "text/x-python",
   "name": "python",
   "nbconvert_exporter": "python",
   "pygments_lexer": "ipython3",
   "version": "3.7.9"
  }
 },
 "nbformat": 4,
 "nbformat_minor": 4
}
