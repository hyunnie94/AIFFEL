{
 "cells": [
  {
   "cell_type": "markdown",
   "id": "economic-calendar",
   "metadata": {},
   "source": [
    "# 17-6. 프로젝트 - Movielens 영화 SBR\n",
    "\n",
    "### [루브릭]\n",
    "1. Movielens 데이터셋을 session based recommendation 관점으로 전처리하는 과정이 체계적으로 진행되었다.\n",
    "    - 데이터셋의 면밀한 분석을 토대로 세션단위 정의 과정(길이분석, 시간분석)을 합리적으로 수행한 과정이 기술되었다.\n",
    "    \n",
    "    \n",
    "2. RNN 기반의 예측 모델이 정상적으로 구성되어 안정적으로 훈련이 진행되었다.\n",
    "    - 적절한 epoch만큼의 학습이 진행되는 과정에서 train loss가 안정적으로 감소하고, validation 단계에서의 Recall, MRR이 개선되는 것이 확인된다.\n",
    "    \n",
    "    \n",
    "3. 세션정의, 모델구조, 하이퍼파라미터 등을 변경해서 실험하여 Recall, MRR 등의 변화추이를 관찰하였다.\n",
    "    - 3가지 이상의 변화를 시도하고 그 실험결과를 체계적으로 분석하였다.\n",
    "\n",
    "\n",
    "### [학습과정]\n",
    "1. 데이터의 전처리\n",
    "2. 미니 배치의 구성\n",
    "3. 모델 구성\n",
    "4. 모델 학습\n",
    "5. 모델 테스트\n",
    "\n",
    "\n",
    "### [결론 및 회고]"
   ]
  },
  {
   "cell_type": "markdown",
   "id": "frank-alexander",
   "metadata": {},
   "source": [
    "## 1. 데이터의 전처리\n",
    "### 1-1. Data Load"
   ]
  },
  {
   "cell_type": "code",
   "execution_count": 1,
   "id": "confidential-warning",
   "metadata": {},
   "outputs": [],
   "source": [
    "import os\n",
    "import datetime as dt\n",
    "from pathlib import Path\n",
    "\n",
    "import numpy as np\n",
    "import pandas as pd\n",
    "import warnings\n",
    "import matplotlib.pyplot as plt\n",
    "\n",
    "warnings.filterwarnings('ignore')"
   ]
  },
  {
   "cell_type": "code",
   "execution_count": 2,
   "id": "streaming-accuracy",
   "metadata": {
    "scrolled": false
   },
   "outputs": [
    {
     "data": {
      "text/html": [
       "<div>\n",
       "<style scoped>\n",
       "    .dataframe tbody tr th:only-of-type {\n",
       "        vertical-align: middle;\n",
       "    }\n",
       "\n",
       "    .dataframe tbody tr th {\n",
       "        vertical-align: top;\n",
       "    }\n",
       "\n",
       "    .dataframe thead th {\n",
       "        text-align: right;\n",
       "    }\n",
       "</style>\n",
       "<table border=\"1\" class=\"dataframe\">\n",
       "  <thead>\n",
       "    <tr style=\"text-align: right;\">\n",
       "      <th></th>\n",
       "      <th>UserId</th>\n",
       "      <th>ItemId</th>\n",
       "      <th>Rating</th>\n",
       "      <th>Time</th>\n",
       "    </tr>\n",
       "  </thead>\n",
       "  <tbody>\n",
       "    <tr>\n",
       "      <th>31</th>\n",
       "      <td>1</td>\n",
       "      <td>3186</td>\n",
       "      <td>4</td>\n",
       "      <td>978300019</td>\n",
       "    </tr>\n",
       "    <tr>\n",
       "      <th>22</th>\n",
       "      <td>1</td>\n",
       "      <td>1270</td>\n",
       "      <td>5</td>\n",
       "      <td>978300055</td>\n",
       "    </tr>\n",
       "    <tr>\n",
       "      <th>27</th>\n",
       "      <td>1</td>\n",
       "      <td>1721</td>\n",
       "      <td>4</td>\n",
       "      <td>978300055</td>\n",
       "    </tr>\n",
       "    <tr>\n",
       "      <th>37</th>\n",
       "      <td>1</td>\n",
       "      <td>1022</td>\n",
       "      <td>5</td>\n",
       "      <td>978300055</td>\n",
       "    </tr>\n",
       "    <tr>\n",
       "      <th>24</th>\n",
       "      <td>1</td>\n",
       "      <td>2340</td>\n",
       "      <td>3</td>\n",
       "      <td>978300103</td>\n",
       "    </tr>\n",
       "    <tr>\n",
       "      <th>...</th>\n",
       "      <td>...</td>\n",
       "      <td>...</td>\n",
       "      <td>...</td>\n",
       "      <td>...</td>\n",
       "    </tr>\n",
       "    <tr>\n",
       "      <th>1000019</th>\n",
       "      <td>6040</td>\n",
       "      <td>2917</td>\n",
       "      <td>4</td>\n",
       "      <td>997454429</td>\n",
       "    </tr>\n",
       "    <tr>\n",
       "      <th>999988</th>\n",
       "      <td>6040</td>\n",
       "      <td>1921</td>\n",
       "      <td>4</td>\n",
       "      <td>997454464</td>\n",
       "    </tr>\n",
       "    <tr>\n",
       "      <th>1000172</th>\n",
       "      <td>6040</td>\n",
       "      <td>1784</td>\n",
       "      <td>3</td>\n",
       "      <td>997454464</td>\n",
       "    </tr>\n",
       "    <tr>\n",
       "      <th>1000167</th>\n",
       "      <td>6040</td>\n",
       "      <td>161</td>\n",
       "      <td>3</td>\n",
       "      <td>997454486</td>\n",
       "    </tr>\n",
       "    <tr>\n",
       "      <th>1000042</th>\n",
       "      <td>6040</td>\n",
       "      <td>1221</td>\n",
       "      <td>4</td>\n",
       "      <td>998315055</td>\n",
       "    </tr>\n",
       "  </tbody>\n",
       "</table>\n",
       "<p>1000209 rows × 4 columns</p>\n",
       "</div>"
      ],
      "text/plain": [
       "         UserId  ItemId  Rating       Time\n",
       "31            1    3186       4  978300019\n",
       "22            1    1270       5  978300055\n",
       "27            1    1721       4  978300055\n",
       "37            1    1022       5  978300055\n",
       "24            1    2340       3  978300103\n",
       "...         ...     ...     ...        ...\n",
       "1000019    6040    2917       4  997454429\n",
       "999988     6040    1921       4  997454464\n",
       "1000172    6040    1784       3  997454464\n",
       "1000167    6040     161       3  997454486\n",
       "1000042    6040    1221       4  998315055\n",
       "\n",
       "[1000209 rows x 4 columns]"
      ]
     },
     "execution_count": 2,
     "metadata": {},
     "output_type": "execute_result"
    }
   ],
   "source": [
    "data_path = Path(os.getenv('HOME')+'/aiffel/E17_SessionBasedRecommendation/data/yoochoose-data/ml-1m') \n",
    "train_path = data_path / 'ratings.dat'\n",
    "\n",
    "def load_data(data_path: Path, nrows=None):\n",
    "    data = pd.read_csv(data_path, sep='::', header=None, usecols=[0, 1, 2, 3], dtype={0: np.int32, 1: np.int32, 2: np.int32}, nrows=nrows)\n",
    "    data.columns = ['UserId', 'ItemId', 'Rating', 'Time']\n",
    "    return data\n",
    "\n",
    "data = load_data(train_path, None)\n",
    "data.sort_values(['UserId', 'Time'], inplace=True)  # data를 id와 시간 순서로 정렬해줍니다.\n",
    "data"
   ]
  },
  {
   "cell_type": "markdown",
   "id": "billion-wiring",
   "metadata": {},
   "source": [
    "\n",
    "유저ID 수와 아이템ID 수를 확인해봅니다. 유저ID가 6040개, 아이템ID는 3706개가 있습니다."
   ]
  },
  {
   "cell_type": "code",
   "execution_count": 3,
   "id": "unauthorized-second",
   "metadata": {},
   "outputs": [
    {
     "data": {
      "text/plain": [
       "(6040, 3706)"
      ]
     },
     "execution_count": 3,
     "metadata": {},
     "output_type": "execute_result"
    }
   ],
   "source": [
    "data['UserId'].nunique(), data['ItemId'].nunique()"
   ]
  },
  {
   "cell_type": "markdown",
   "id": "fatty-concern",
   "metadata": {},
   "source": [
    "### 2-2. Session Length"
   ]
  },
  {
   "cell_type": "code",
   "execution_count": 4,
   "id": "responsible-timing",
   "metadata": {},
   "outputs": [
    {
     "data": {
      "text/plain": [
       "UserId\n",
       "1        53\n",
       "2       129\n",
       "3        51\n",
       "4        21\n",
       "5       198\n",
       "       ... \n",
       "6036    888\n",
       "6037    202\n",
       "6038     20\n",
       "6039    123\n",
       "6040    341\n",
       "Length: 6040, dtype: int64"
      ]
     },
     "execution_count": 4,
     "metadata": {},
     "output_type": "execute_result"
    }
   ],
   "source": [
    "user_length = data.groupby('UserId').size()   # 한 유저ID가 몇 개의 영화에 평점 데이터를 남겼는지\n",
    "user_length"
   ]
  },
  {
   "cell_type": "code",
   "execution_count": 5,
   "id": "apparent-radiation",
   "metadata": {},
   "outputs": [
    {
     "data": {
      "text/plain": [
       "(96.0, 165.5975165562914)"
      ]
     },
     "execution_count": 5,
     "metadata": {},
     "output_type": "execute_result"
    }
   ],
   "source": [
    "user_length.median(), user_length.mean()   # 평균 한 유저ID 당 약 165개 평점을 남김, 중앙값은 96개"
   ]
  },
  {
   "cell_type": "code",
   "execution_count": 6,
   "id": "authorized-singapore",
   "metadata": {},
   "outputs": [
    {
     "data": {
      "text/plain": [
       "(20, 2314)"
      ]
     },
     "execution_count": 6,
     "metadata": {},
     "output_type": "execute_result"
    }
   ],
   "source": [
    "user_length.min(), user_length.max()  # 최소 20개, 최대 2314개"
   ]
  },
  {
   "cell_type": "code",
   "execution_count": 7,
   "id": "proof-manor",
   "metadata": {
    "scrolled": true
   },
   "outputs": [
    {
     "data": {
      "text/plain": [
       "1343.181000000005"
      ]
     },
     "execution_count": 7,
     "metadata": {},
     "output_type": "execute_result"
    }
   ],
   "source": [
    "user_length.quantile(0.999)           # 99.9%의 유저들은 1343개 이하의 rating을 가지고 있습니다."
   ]
  },
  {
   "cell_type": "code",
   "execution_count": 8,
   "id": "tender-dover",
   "metadata": {},
   "outputs": [
    {
     "data": {
      "text/plain": [
       "2033.790399999547"
      ]
     },
     "execution_count": 8,
     "metadata": {},
     "output_type": "execute_result"
    }
   ],
   "source": [
    "user_length.quantile(0.9999) "
   ]
  },
  {
   "cell_type": "code",
   "execution_count": 9,
   "id": "vocational-catch",
   "metadata": {},
   "outputs": [
    {
     "data": {
      "image/png": "[encoded data removed]",
      "text/plain": [
       "<Figure size 1440x432 with 1 Axes>"
      ]
     },
     "metadata": {
      "needs_background": "light"
     },
     "output_type": "display_data"
    }
   ],
   "source": [
    "plt.figure(figsize=(20,6))\n",
    "plt.boxplot(user_length, vert=0)\n",
    "plt.show()"
   ]
  },
  {
   "cell_type": "code",
   "execution_count": 10,
   "id": "abroad-culture",
   "metadata": {},
   "outputs": [
    {
     "data": {
      "text/plain": [
       "20      0.014238\n",
       "21      0.029305\n",
       "22      0.042053\n",
       "23      0.055464\n",
       "24      0.068874\n",
       "          ...   \n",
       "1271    0.998179\n",
       "1277    0.998344\n",
       "1286    0.998510\n",
       "1302    0.998675\n",
       "1323    0.998841\n",
       "Length: 736, dtype: float64"
      ]
     },
     "execution_count": 10,
     "metadata": {},
     "output_type": "execute_result"
    }
   ],
   "source": [
    "length_count = user_length.groupby(user_length).size()\n",
    "length_percent_cumsum = length_count.cumsum() / length_count.sum()\n",
    "length_percent_cumsum_999 = length_percent_cumsum[length_percent_cumsum < 0.999]\n",
    "\n",
    "length_percent_cumsum_999"
   ]
  },
  {
   "cell_type": "code",
   "execution_count": 11,
   "id": "funded-patent",
   "metadata": {},
   "outputs": [
    {
     "data": {
      "image/png": "[encoded data removed]",
      "text/plain": [
       "<Figure size 1440x720 with 1 Axes>"
      ]
     },
     "metadata": {
      "needs_background": "light"
     },
     "output_type": "display_data"
    }
   ],
   "source": [
    "import matplotlib.pyplot as plt\n",
    "\n",
    "plt.figure(figsize=(20, 10))\n",
    "plt.bar(x=length_percent_cumsum_999.index,\n",
    "        height=length_percent_cumsum_999, color='skyblue')\n",
    "#plt.xticks(length_percent_cumsum_999.index)\n",
    "#plt.yticks(np.arange(0, 1.01, 0.05))\n",
    "plt.title('Cumsum Percentage Until 0.999', size=20)\n",
    "plt.show()"
   ]
  },
  {
   "cell_type": "markdown",
   "id": "chief-metro",
   "metadata": {},
   "source": [
    "데이터를 보니 일단 99.9%의 User가 남긴 평점 데이터는\n",
    "* 20부터 약 1400까지 그 스펙트럼이 매우 넓고\n",
    "* 그 값들이 매우 다양함을 볼 수 있습니다.\n"
   ]
  },
  {
   "cell_type": "code",
   "execution_count": 12,
   "id": "assured-chaos",
   "metadata": {},
   "outputs": [
    {
     "data": {
      "text/plain": [
       "ItemId\n",
       "2858    3428\n",
       "260     2991\n",
       "1196    2990\n",
       "1210    2883\n",
       "480     2672\n",
       "2028    2653\n",
       "589     2649\n",
       "2571    2590\n",
       "1270    2583\n",
       "593     2578\n",
       "Name: UserId, dtype: int64"
      ]
     },
     "execution_count": 12,
     "metadata": {},
     "output_type": "execute_result"
    }
   ],
   "source": [
    "# 어떤 영화에 세션 수가 많은지 보겠습니다\n",
    "mv_count = data.groupby('ItemId')['UserId'].count()\n",
    "mv_count.sort_values(ascending=False).head(10)"
   ]
  },
  {
   "cell_type": "code",
   "execution_count": 13,
   "id": "meaningful-journal",
   "metadata": {},
   "outputs": [
    {
     "data": {
      "image/png": "[encoded data removed]",
      "text/plain": [
       "<Figure size 1440x720 with 1 Axes>"
      ]
     },
     "metadata": {
      "needs_background": "light"
     },
     "output_type": "display_data"
    }
   ],
   "source": [
    "plt.figure(figsize=(20,10))\n",
    "plt.hist(mv_count, bins=100, density=False, alpha=0.7, histtype='stepfilled')\n",
    "plt.show()"
   ]
  },
  {
   "cell_type": "markdown",
   "id": "designing-rwanda",
   "metadata": {},
   "source": [
    "평점이 100개 이내인 영화가 거의 대부분입니다. 개수 자체는 선호도와 연관이 크게 없는 것 같습니다. "
   ]
  },
  {
   "cell_type": "code",
   "execution_count": null,
   "id": "selected-wrapping",
   "metadata": {},
   "outputs": [],
   "source": []
  },
  {
   "cell_type": "code",
   "execution_count": 14,
   "id": "pacific-ceremony",
   "metadata": {},
   "outputs": [
    {
     "data": {
      "text/html": [
       "<div>\n",
       "<style scoped>\n",
       "    .dataframe tbody tr th:only-of-type {\n",
       "        vertical-align: middle;\n",
       "    }\n",
       "\n",
       "    .dataframe tbody tr th {\n",
       "        vertical-align: top;\n",
       "    }\n",
       "\n",
       "    .dataframe thead th {\n",
       "        text-align: right;\n",
       "    }\n",
       "</style>\n",
       "<table border=\"1\" class=\"dataframe\">\n",
       "  <thead>\n",
       "    <tr style=\"text-align: right;\">\n",
       "      <th></th>\n",
       "      <th>UserId</th>\n",
       "      <th>ItemId</th>\n",
       "      <th>Rating</th>\n",
       "      <th>Time</th>\n",
       "    </tr>\n",
       "  </thead>\n",
       "  <tbody>\n",
       "    <tr>\n",
       "      <th>696969</th>\n",
       "      <td>4169</td>\n",
       "      <td>1268</td>\n",
       "      <td>5</td>\n",
       "      <td>965333392</td>\n",
       "    </tr>\n",
       "    <tr>\n",
       "      <th>697168</th>\n",
       "      <td>4169</td>\n",
       "      <td>2617</td>\n",
       "      <td>4</td>\n",
       "      <td>965333392</td>\n",
       "    </tr>\n",
       "    <tr>\n",
       "      <th>697185</th>\n",
       "      <td>4169</td>\n",
       "      <td>2628</td>\n",
       "      <td>4</td>\n",
       "      <td>965333392</td>\n",
       "    </tr>\n",
       "    <tr>\n",
       "      <th>697219</th>\n",
       "      <td>4169</td>\n",
       "      <td>2653</td>\n",
       "      <td>4</td>\n",
       "      <td>965333392</td>\n",
       "    </tr>\n",
       "    <tr>\n",
       "      <th>697275</th>\n",
       "      <td>4169</td>\n",
       "      <td>423</td>\n",
       "      <td>3</td>\n",
       "      <td>965333392</td>\n",
       "    </tr>\n",
       "    <tr>\n",
       "      <th>...</th>\n",
       "      <td>...</td>\n",
       "      <td>...</td>\n",
       "      <td>...</td>\n",
       "      <td>...</td>\n",
       "    </tr>\n",
       "    <tr>\n",
       "      <th>697882</th>\n",
       "      <td>4169</td>\n",
       "      <td>3754</td>\n",
       "      <td>2</td>\n",
       "      <td>1024174347</td>\n",
       "    </tr>\n",
       "    <tr>\n",
       "      <th>695702</th>\n",
       "      <td>4169</td>\n",
       "      <td>1413</td>\n",
       "      <td>3</td>\n",
       "      <td>1024175031</td>\n",
       "    </tr>\n",
       "    <tr>\n",
       "      <th>697358</th>\n",
       "      <td>4169</td>\n",
       "      <td>494</td>\n",
       "      <td>4</td>\n",
       "      <td>1024175760</td>\n",
       "    </tr>\n",
       "    <tr>\n",
       "      <th>695945</th>\n",
       "      <td>4169</td>\n",
       "      <td>1804</td>\n",
       "      <td>2</td>\n",
       "      <td>1024175783</td>\n",
       "    </tr>\n",
       "    <tr>\n",
       "      <th>696446</th>\n",
       "      <td>4169</td>\n",
       "      <td>1548</td>\n",
       "      <td>3</td>\n",
       "      <td>1024176337</td>\n",
       "    </tr>\n",
       "  </tbody>\n",
       "</table>\n",
       "<p>2314 rows × 4 columns</p>\n",
       "</div>"
      ],
      "text/plain": [
       "        UserId  ItemId  Rating        Time\n",
       "696969    4169    1268       5   965333392\n",
       "697168    4169    2617       4   965333392\n",
       "697185    4169    2628       4   965333392\n",
       "697219    4169    2653       4   965333392\n",
       "697275    4169     423       3   965333392\n",
       "...        ...     ...     ...         ...\n",
       "697882    4169    3754       2  1024174347\n",
       "695702    4169    1413       3  1024175031\n",
       "697358    4169     494       4  1024175760\n",
       "695945    4169    1804       2  1024175783\n",
       "696446    4169    1548       3  1024176337\n",
       "\n",
       "[2314 rows x 4 columns]"
      ]
     },
     "execution_count": 14,
     "metadata": {},
     "output_type": "execute_result"
    }
   ],
   "source": [
    "long_rating = user_length[user_length==2314].index[0]\n",
    "data[data['UserId']==long_rating]"
   ]
  },
  {
   "cell_type": "markdown",
   "id": "elementary-transfer",
   "metadata": {},
   "source": [
    "유저 아이디 4169 얘는 뭔데 영화 평점을 2314개나 남긴거지..   \n",
    "근데 boxplot을 보니 1000개 이상 데이터를 남긴 사람도 은근히 있다. 그럼 2000개 넘게 남긴 것도 그렇게 이상하지 않은거 아닐까?\n",
    "그치만 세션 길이 2000이 넘는 것은 boxplot 상의 이상치들 중에서도 매우 멀리 떨어져 있기도 하고   \n",
    "평점을 남긴 시간대를 보면 초까지 똑같은 시간에 남겼다는게 말이 안되기 때문에 뒤에서 얘는 지우겠습니다. "
   ]
  },
  {
   "cell_type": "code",
   "execution_count": null,
   "id": "stuck-arcade",
   "metadata": {},
   "outputs": [],
   "source": []
  },
  {
   "cell_type": "markdown",
   "id": "backed-train",
   "metadata": {},
   "source": [
    "\n",
    "Time을 살펴보겠습니다.\n",
    "\n",
    "### 2-3. Session Time"
   ]
  },
  {
   "cell_type": "code",
   "execution_count": 15,
   "id": "behind-closer",
   "metadata": {},
   "outputs": [],
   "source": [
    "import datetime"
   ]
  },
  {
   "cell_type": "code",
   "execution_count": 16,
   "id": "needed-coordinate",
   "metadata": {},
   "outputs": [],
   "source": [
    "# 우선 Time 컬럼이 보기가 힘드니 Date 로 바꿔서 보겠습니다\n",
    "\n",
    "dt = datetime.datetime.strptime('1970-01-01', '%Y-%m-%d')\n",
    "tmp = data['Time']\n",
    "datatime = []\n",
    "for i in tmp:\n",
    "    date = dt + datetime.timedelta(seconds= i)\n",
    "    tmp = date.strftime('%Y-%m-%d')\n",
    "    datatime.append(tmp)\n",
    "\n",
    "data['Date'] = datatime"
   ]
  },
  {
   "cell_type": "code",
   "execution_count": 17,
   "id": "major-vermont",
   "metadata": {},
   "outputs": [
    {
     "data": {
      "text/html": [
       "<div>\n",
       "<style scoped>\n",
       "    .dataframe tbody tr th:only-of-type {\n",
       "        vertical-align: middle;\n",
       "    }\n",
       "\n",
       "    .dataframe tbody tr th {\n",
       "        vertical-align: top;\n",
       "    }\n",
       "\n",
       "    .dataframe thead th {\n",
       "        text-align: right;\n",
       "    }\n",
       "</style>\n",
       "<table border=\"1\" class=\"dataframe\">\n",
       "  <thead>\n",
       "    <tr style=\"text-align: right;\">\n",
       "      <th></th>\n",
       "      <th>UserId</th>\n",
       "      <th>ItemId</th>\n",
       "      <th>Rating</th>\n",
       "      <th>Time</th>\n",
       "      <th>Date</th>\n",
       "    </tr>\n",
       "  </thead>\n",
       "  <tbody>\n",
       "    <tr>\n",
       "      <th>31</th>\n",
       "      <td>1</td>\n",
       "      <td>3186</td>\n",
       "      <td>4</td>\n",
       "      <td>978300019</td>\n",
       "      <td>2000-12-31</td>\n",
       "    </tr>\n",
       "    <tr>\n",
       "      <th>22</th>\n",
       "      <td>1</td>\n",
       "      <td>1270</td>\n",
       "      <td>5</td>\n",
       "      <td>978300055</td>\n",
       "      <td>2000-12-31</td>\n",
       "    </tr>\n",
       "    <tr>\n",
       "      <th>27</th>\n",
       "      <td>1</td>\n",
       "      <td>1721</td>\n",
       "      <td>4</td>\n",
       "      <td>978300055</td>\n",
       "      <td>2000-12-31</td>\n",
       "    </tr>\n",
       "    <tr>\n",
       "      <th>37</th>\n",
       "      <td>1</td>\n",
       "      <td>1022</td>\n",
       "      <td>5</td>\n",
       "      <td>978300055</td>\n",
       "      <td>2000-12-31</td>\n",
       "    </tr>\n",
       "    <tr>\n",
       "      <th>24</th>\n",
       "      <td>1</td>\n",
       "      <td>2340</td>\n",
       "      <td>3</td>\n",
       "      <td>978300103</td>\n",
       "      <td>2000-12-31</td>\n",
       "    </tr>\n",
       "    <tr>\n",
       "      <th>...</th>\n",
       "      <td>...</td>\n",
       "      <td>...</td>\n",
       "      <td>...</td>\n",
       "      <td>...</td>\n",
       "      <td>...</td>\n",
       "    </tr>\n",
       "    <tr>\n",
       "      <th>1000019</th>\n",
       "      <td>6040</td>\n",
       "      <td>2917</td>\n",
       "      <td>4</td>\n",
       "      <td>997454429</td>\n",
       "      <td>2001-08-10</td>\n",
       "    </tr>\n",
       "    <tr>\n",
       "      <th>999988</th>\n",
       "      <td>6040</td>\n",
       "      <td>1921</td>\n",
       "      <td>4</td>\n",
       "      <td>997454464</td>\n",
       "      <td>2001-08-10</td>\n",
       "    </tr>\n",
       "    <tr>\n",
       "      <th>1000172</th>\n",
       "      <td>6040</td>\n",
       "      <td>1784</td>\n",
       "      <td>3</td>\n",
       "      <td>997454464</td>\n",
       "      <td>2001-08-10</td>\n",
       "    </tr>\n",
       "    <tr>\n",
       "      <th>1000167</th>\n",
       "      <td>6040</td>\n",
       "      <td>161</td>\n",
       "      <td>3</td>\n",
       "      <td>997454486</td>\n",
       "      <td>2001-08-10</td>\n",
       "    </tr>\n",
       "    <tr>\n",
       "      <th>1000042</th>\n",
       "      <td>6040</td>\n",
       "      <td>1221</td>\n",
       "      <td>4</td>\n",
       "      <td>998315055</td>\n",
       "      <td>2001-08-20</td>\n",
       "    </tr>\n",
       "  </tbody>\n",
       "</table>\n",
       "<p>1000209 rows × 5 columns</p>\n",
       "</div>"
      ],
      "text/plain": [
       "         UserId  ItemId  Rating       Time        Date\n",
       "31            1    3186       4  978300019  2000-12-31\n",
       "22            1    1270       5  978300055  2000-12-31\n",
       "27            1    1721       4  978300055  2000-12-31\n",
       "37            1    1022       5  978300055  2000-12-31\n",
       "24            1    2340       3  978300103  2000-12-31\n",
       "...         ...     ...     ...        ...         ...\n",
       "1000019    6040    2917       4  997454429  2001-08-10\n",
       "999988     6040    1921       4  997454464  2001-08-10\n",
       "1000172    6040    1784       3  997454464  2001-08-10\n",
       "1000167    6040     161       3  997454486  2001-08-10\n",
       "1000042    6040    1221       4  998315055  2001-08-20\n",
       "\n",
       "[1000209 rows x 5 columns]"
      ]
     },
     "execution_count": 17,
     "metadata": {},
     "output_type": "execute_result"
    }
   ],
   "source": [
    "data"
   ]
  },
  {
   "cell_type": "code",
   "execution_count": 18,
   "id": "designed-plain",
   "metadata": {},
   "outputs": [
    {
     "name": "stdout",
     "output_type": "stream",
     "text": [
      "2000-04-25\n",
      "2003-02-28\n"
     ]
    }
   ],
   "source": [
    "oldest, latest = data['Date'].min(), data['Date'].max()\n",
    "print(oldest) \n",
    "print(latest)"
   ]
  },
  {
   "cell_type": "code",
   "execution_count": 19,
   "id": "according-hamilton",
   "metadata": {},
   "outputs": [],
   "source": [
    "# 2000년 4월부터 2003년 2월까지의 데이터임을 알 수 있습니다. "
   ]
  },
  {
   "cell_type": "code",
   "execution_count": 20,
   "id": "caring-threat",
   "metadata": {},
   "outputs": [],
   "source": [
    "yr2000 = data[data['Date'].str.contains('2000')]\n",
    "yr2001 = data[data['Date'].str.contains('2001')]\n",
    "yr2002 = data[data['Date'].str.contains('2002')]\n",
    "yr2003 = data[data['Date'].str.contains('2003')]"
   ]
  },
  {
   "cell_type": "code",
   "execution_count": 21,
   "id": "random-antenna",
   "metadata": {},
   "outputs": [
    {
     "name": "stdout",
     "output_type": "stream",
     "text": [
      "904757\n",
      "68058\n",
      "24046\n",
      "3348\n"
     ]
    }
   ],
   "source": [
    "print(len(yr2000))\n",
    "print(len(yr2001))\n",
    "print(len(yr2002))\n",
    "print(len(yr2003))"
   ]
  },
  {
   "cell_type": "code",
   "execution_count": 22,
   "id": "official-program",
   "metadata": {
    "scrolled": true
   },
   "outputs": [],
   "source": [
    "# 시간 흐름에 따른 영화 선호 함 보기\n",
    "# 전체 기간에서 평점이 많이 남겨진 영화"
   ]
  },
  {
   "cell_type": "code",
   "execution_count": 23,
   "id": "amended-ending",
   "metadata": {
    "scrolled": true
   },
   "outputs": [
    {
     "data": {
      "text/plain": [
       "Rating\n",
       "1     56174\n",
       "2    107557\n",
       "3    261197\n",
       "4    348971\n",
       "5    226310\n",
       "Name: ItemId, dtype: int64"
      ]
     },
     "execution_count": 23,
     "metadata": {},
     "output_type": "execute_result"
    }
   ],
   "source": [
    "#영화 평점 분포 확인\n",
    "\n",
    "mv_rate = data.groupby('Rating')['ItemId'].count()\n",
    "mv_rate"
   ]
  },
  {
   "cell_type": "markdown",
   "id": "documentary-macro",
   "metadata": {},
   "source": [
    "1점인 영화는 선호하는 영화에서 거리가 머니 나중에 제거해주겠습니다. "
   ]
  },
  {
   "cell_type": "code",
   "execution_count": 24,
   "id": "round-carroll",
   "metadata": {},
   "outputs": [
    {
     "data": {
      "text/plain": [
       "ItemId\n",
       "2858    3291\n",
       "1196    2846\n",
       "260     2834\n",
       "1210    2772\n",
       "480     2559\n",
       "589     2547\n",
       "2028    2538\n",
       "1270    2448\n",
       "2571    2446\n",
       "1580    2433\n",
       "Name: UserId, dtype: int64"
      ]
     },
     "execution_count": 24,
     "metadata": {},
     "output_type": "execute_result"
    }
   ],
   "source": [
    "# 2000년도에 가장 인기있는 영화는?\n",
    "mv_count0 = yr2000.groupby('ItemId')['UserId'].count()\n",
    "mv_count0.sort_values(ascending=False).head(10)"
   ]
  },
  {
   "cell_type": "code",
   "execution_count": 25,
   "id": "guilty-design",
   "metadata": {},
   "outputs": [
    {
     "data": {
      "text/plain": [
       "ItemId\n",
       "3897    266\n",
       "3578    241\n",
       "3751    213\n",
       "3948    211\n",
       "3317    199\n",
       "3911    181\n",
       "3408    179\n",
       "3863    157\n",
       "3793    151\n",
       "3753    151\n",
       "Name: UserId, dtype: int64"
      ]
     },
     "execution_count": 25,
     "metadata": {},
     "output_type": "execute_result"
    }
   ],
   "source": [
    "# 2001년도에 가장 인기있는 영화는?\n",
    "mv_count1 = yr2001.groupby('ItemId')['UserId'].count()\n",
    "mv_count1.sort_values(ascending=False).head(10)"
   ]
  },
  {
   "cell_type": "code",
   "execution_count": 26,
   "id": "initial-telling",
   "metadata": {},
   "outputs": [
    {
     "data": {
      "text/plain": [
       "ItemId\n",
       "3897    68\n",
       "3911    67\n",
       "3949    57\n",
       "3317    57\n",
       "1393    56\n",
       "1265    52\n",
       "3948    49\n",
       "3578    48\n",
       "2628    48\n",
       "2959    46\n",
       "Name: UserId, dtype: int64"
      ]
     },
     "execution_count": 26,
     "metadata": {},
     "output_type": "execute_result"
    }
   ],
   "source": [
    "# 2002년도에 가장 인기있는 영화는?\n",
    "mv_count2 = yr2002.groupby('ItemId')['UserId'].count()\n",
    "mv_count2.sort_values(ascending=False).head(10)"
   ]
  },
  {
   "cell_type": "code",
   "execution_count": 27,
   "id": "educated-bracelet",
   "metadata": {},
   "outputs": [
    {
     "data": {
      "text/plain": [
       "ItemId\n",
       "2011    14\n",
       "2959    12\n",
       "3948    12\n",
       "2502    12\n",
       "2012    11\n",
       "3911    11\n",
       "1095    11\n",
       "2028    10\n",
       "750     10\n",
       "2300     9\n",
       "Name: UserId, dtype: int64"
      ]
     },
     "execution_count": 27,
     "metadata": {},
     "output_type": "execute_result"
    }
   ],
   "source": [
    "# 2003년도에 가장 인기있는 영화는?\n",
    "mv_count3 = yr2003.groupby('ItemId')['UserId'].count()\n",
    "mv_count3.sort_values(ascending=False).head(10)"
   ]
  },
  {
   "cell_type": "markdown",
   "id": "coated-polls",
   "metadata": {},
   "source": [
    "데이터를 살펴보니 해가 지날 수록 세션 수(유저 수)가 점점 줄어들고 있습니다. 매년 평점이 많이 남았던 영화가 달라졌지만 3897번 영화처럼 꾸준히 많은 평점을 받은 영화도 있습니다."
   ]
  },
  {
   "cell_type": "markdown",
   "id": "floating-winter",
   "metadata": {},
   "source": [
    "### 2-4. Rating score"
   ]
  },
  {
   "cell_type": "code",
   "execution_count": 28,
   "id": "inclusive-consent",
   "metadata": {},
   "outputs": [
    {
     "data": {
      "text/plain": [
       "Rating\n",
       "1     56174\n",
       "2    107557\n",
       "3    261197\n",
       "4    348971\n",
       "5    226310\n",
       "Name: ItemId, dtype: int64"
      ]
     },
     "execution_count": 28,
     "metadata": {},
     "output_type": "execute_result"
    }
   ],
   "source": [
    "# 가장 높은 평점을 가진 영화는 무엇인가\n",
    "# 평점 순으로 줄세워보기\n",
    "#영화 평점 분포 확인\n",
    "\n",
    "mv_rate = data.groupby('Rating')['ItemId'].count()\n",
    "mv_rate"
   ]
  },
  {
   "cell_type": "code",
   "execution_count": 29,
   "id": "verbal-windows",
   "metadata": {},
   "outputs": [
    {
     "data": {
      "text/plain": [
       "Rating\n",
       "1     51027\n",
       "2     96069\n",
       "3    234296\n",
       "4    314446\n",
       "5    208919\n",
       "Name: ItemId, dtype: int64"
      ]
     },
     "execution_count": 29,
     "metadata": {},
     "output_type": "execute_result"
    }
   ],
   "source": [
    "yr2000_rate = yr2000.groupby('Rating')['ItemId'].count()\n",
    "yr2000_rate"
   ]
  },
  {
   "cell_type": "code",
   "execution_count": 30,
   "id": "terminal-vocabulary",
   "metadata": {},
   "outputs": [
    {
     "data": {
      "text/plain": [
       "Rating\n",
       "1     3539\n",
       "2     7986\n",
       "3    19150\n",
       "4    24839\n",
       "5    12544\n",
       "Name: ItemId, dtype: int64"
      ]
     },
     "execution_count": 30,
     "metadata": {},
     "output_type": "execute_result"
    }
   ],
   "source": [
    "yr2001_rate = yr2001.groupby('Rating')['ItemId'].count()\n",
    "yr2001_rate"
   ]
  },
  {
   "cell_type": "code",
   "execution_count": 31,
   "id": "fewer-genealogy",
   "metadata": {},
   "outputs": [
    {
     "data": {
      "text/plain": [
       "Rating\n",
       "1    1356\n",
       "2    3113\n",
       "3    6898\n",
       "4    8500\n",
       "5    4179\n",
       "Name: ItemId, dtype: int64"
      ]
     },
     "execution_count": 31,
     "metadata": {},
     "output_type": "execute_result"
    }
   ],
   "source": [
    "yr2002_rate = yr2002.groupby('Rating')['ItemId'].count()\n",
    "yr2002_rate"
   ]
  },
  {
   "cell_type": "code",
   "execution_count": 32,
   "id": "sweet-cyprus",
   "metadata": {},
   "outputs": [
    {
     "data": {
      "text/plain": [
       "Rating\n",
       "1     252\n",
       "2     389\n",
       "3     853\n",
       "4    1186\n",
       "5     668\n",
       "Name: ItemId, dtype: int64"
      ]
     },
     "execution_count": 32,
     "metadata": {},
     "output_type": "execute_result"
    }
   ],
   "source": [
    "yr2003_rate = yr2003.groupby('Rating')['ItemId'].count()\n",
    "yr2003_rate"
   ]
  },
  {
   "cell_type": "code",
   "execution_count": 33,
   "id": "grand-tiffany",
   "metadata": {},
   "outputs": [
    {
     "data": {
      "text/plain": [
       "1000209"
      ]
     },
     "execution_count": 33,
     "metadata": {},
     "output_type": "execute_result"
    }
   ],
   "source": [
    "orginal_data_size = len(data)\n",
    "orginal_data_size"
   ]
  },
  {
   "cell_type": "code",
   "execution_count": 34,
   "id": "liberal-switch",
   "metadata": {},
   "outputs": [
    {
     "name": "stdout",
     "output_type": "stream",
     "text": [
      "orginal_data_size: 1000209, filtered_data_size: 836478\n",
      "Ratio of Remaining Data is 83.63%\n"
     ]
    }
   ],
   "source": [
    "# 전체 데이터셋에서 Rating 3점 이상만 남기겠습니다.\n",
    "\n",
    "data = data[data['Rating']>=3]\n",
    "\n",
    "filtered_data_size = len(data)\n",
    "\n",
    "print(f'orginal_data_size: {orginal_data_size}, filtered_data_size: {filtered_data_size}')\n",
    "print(f'Ratio of Remaining Data is {filtered_data_size / orginal_data_size:.2%}')"
   ]
  },
  {
   "cell_type": "code",
   "execution_count": 35,
   "id": "opponent-exclusion",
   "metadata": {},
   "outputs": [
    {
     "data": {
      "text/html": [
       "<div>\n",
       "<style scoped>\n",
       "    .dataframe tbody tr th:only-of-type {\n",
       "        vertical-align: middle;\n",
       "    }\n",
       "\n",
       "    .dataframe tbody tr th {\n",
       "        vertical-align: top;\n",
       "    }\n",
       "\n",
       "    .dataframe thead th {\n",
       "        text-align: right;\n",
       "    }\n",
       "</style>\n",
       "<table border=\"1\" class=\"dataframe\">\n",
       "  <thead>\n",
       "    <tr style=\"text-align: right;\">\n",
       "      <th></th>\n",
       "      <th>UserId</th>\n",
       "      <th>ItemId</th>\n",
       "      <th>Rating</th>\n",
       "      <th>Time</th>\n",
       "      <th>Date</th>\n",
       "    </tr>\n",
       "  </thead>\n",
       "  <tbody>\n",
       "  </tbody>\n",
       "</table>\n",
       "</div>"
      ],
      "text/plain": [
       "Empty DataFrame\n",
       "Columns: [UserId, ItemId, Rating, Time, Date]\n",
       "Index: []"
      ]
     },
     "execution_count": 35,
     "metadata": {},
     "output_type": "execute_result"
    }
   ],
   "source": [
    "data[data['Rating']==2]"
   ]
  },
  {
   "cell_type": "code",
   "execution_count": 36,
   "id": "laden-austin",
   "metadata": {
    "scrolled": true
   },
   "outputs": [
    {
     "data": {
      "text/html": [
       "<div>\n",
       "<style scoped>\n",
       "    .dataframe tbody tr th:only-of-type {\n",
       "        vertical-align: middle;\n",
       "    }\n",
       "\n",
       "    .dataframe tbody tr th {\n",
       "        vertical-align: top;\n",
       "    }\n",
       "\n",
       "    .dataframe thead th {\n",
       "        text-align: right;\n",
       "    }\n",
       "</style>\n",
       "<table border=\"1\" class=\"dataframe\">\n",
       "  <thead>\n",
       "    <tr style=\"text-align: right;\">\n",
       "      <th></th>\n",
       "      <th>UserId</th>\n",
       "      <th>ItemId</th>\n",
       "      <th>Rating</th>\n",
       "      <th>Time</th>\n",
       "      <th>Date</th>\n",
       "    </tr>\n",
       "  </thead>\n",
       "  <tbody>\n",
       "  </tbody>\n",
       "</table>\n",
       "</div>"
      ],
      "text/plain": [
       "Empty DataFrame\n",
       "Columns: [UserId, ItemId, Rating, Time, Date]\n",
       "Index: []"
      ]
     },
     "execution_count": 36,
     "metadata": {},
     "output_type": "execute_result"
    }
   ],
   "source": [
    "data[data['Rating']==1]"
   ]
  },
  {
   "cell_type": "markdown",
   "id": "casual-youth",
   "metadata": {},
   "source": [
    "잘 제거됐습니다"
   ]
  },
  {
   "cell_type": "markdown",
   "id": "pursuant-hostel",
   "metadata": {},
   "source": [
    "### 2-5. Data Cleansing"
   ]
  },
  {
   "cell_type": "code",
   "execution_count": 43,
   "id": "scheduled-victor",
   "metadata": {},
   "outputs": [],
   "source": [
    "# 앞서 말했듯이 너무 긴 세션을 가지고 있는 UserID를 제거해주겠습니다.\n",
    "# 남긴 평점이 적다고 해서 선호하는 영화가 아니라는 건 아니기도 하고 적은 평점을 가진 영화가 대부분이기도 하기때문에 \n",
    "# 다른 cleansing 처리는 하지 않습니다.\n",
    "\n",
    "def cleanse_long_session(data: pd.DataFrame, longest):\n",
    "    session_len = data.groupby('UserId').size()\n",
    "    session_use = session_len[session_len < longest].index\n",
    "    data = data[data['UserId'].isin(session_use)]\n",
    "    return data\n",
    "\n",
    "def cleanse_recursive(data: pd.DataFrame, longest) -> pd.DataFrame:\n",
    "    while True:\n",
    "        before_len = len(data)\n",
    "        data = cleanse_long_session(data, longest)\n",
    "        after_len = len(data)\n",
    "        if before_len == after_len:\n",
    "            break\n",
    "    return data"
   ]
  },
  {
   "cell_type": "code",
   "execution_count": 44,
   "id": "structural-theology",
   "metadata": {},
   "outputs": [],
   "source": [
    "data = cleanse_recursive(data, 2314)"
   ]
  },
  {
   "cell_type": "code",
   "execution_count": 45,
   "id": "thick-dressing",
   "metadata": {},
   "outputs": [],
   "source": [
    "user_length = data.groupby('UserId').size()   # 한 유저ID가 몇 개의 영화에 평점 데이터를 남겼는지"
   ]
  },
  {
   "cell_type": "code",
   "execution_count": 46,
   "id": "british-project",
   "metadata": {},
   "outputs": [
    {
     "data": {
      "image/png": "[encoded data removed]",
      "text/plain": [
       "<Figure size 1440x432 with 1 Axes>"
      ]
     },
     "metadata": {
      "needs_background": "light"
     },
     "output_type": "display_data"
    }
   ],
   "source": [
    "plt.figure(figsize=(20,6))\n",
    "plt.boxplot(user_length, vert=0)\n",
    "plt.show()"
   ]
  },
  {
   "cell_type": "markdown",
   "id": "prescription-transcription",
   "metadata": {},
   "source": [
    "잘 제거됐습니다."
   ]
  },
  {
   "cell_type": "markdown",
   "id": "optical-gateway",
   "metadata": {},
   "source": [
    "### 2-6. Train/ Valid/ Test split"
   ]
  },
  {
   "cell_type": "code",
   "execution_count": 47,
   "id": "polar-circle",
   "metadata": {},
   "outputs": [],
   "source": [
    "# 영화는 최근 본 영화가 마음에 들을수록 그와 비슷한 영화를 보게 될 확률이 높아집니다. 따라서\n",
    "# 2000년 4월~2001년 4월 까지를 train set, \n",
    "#2001년 5월~ 2001년 12월 까지를 Valid set, \n",
    "#2002년 1월~ 2003년 2월까지의 데이터를 Test set으로 두겠습니다."
   ]
  },
  {
   "cell_type": "code",
   "execution_count": 70,
   "id": "square-scheduling",
   "metadata": {},
   "outputs": [
    {
     "data": {
      "text/plain": [
       "'2003-02-28'"
      ]
     },
     "execution_count": 70,
     "metadata": {},
     "output_type": "execute_result"
    }
   ],
   "source": [
    "data['Date'].max()"
   ]
  },
  {
   "cell_type": "code",
   "execution_count": 49,
   "id": "impressive-vienna",
   "metadata": {},
   "outputs": [
    {
     "data": {
      "text/plain": [
       "UserId\n",
       "1       2001-01-06\n",
       "2       2000-12-31\n",
       "3       2000-12-31\n",
       "4       2000-12-31\n",
       "5       2000-12-31\n",
       "           ...    \n",
       "6036    2000-04-26\n",
       "6037    2000-04-27\n",
       "6038    2000-04-26\n",
       "6039    2000-04-26\n",
       "6040    2001-08-20\n",
       "Name: Date, Length: 6039, dtype: object"
      ]
     },
     "execution_count": 49,
     "metadata": {},
     "output_type": "execute_result"
    }
   ],
   "source": [
    "data.groupby('UserId')['Date'].max()"
   ]
  },
  {
   "cell_type": "code",
   "execution_count": 71,
   "id": "sufficient-cabin",
   "metadata": {},
   "outputs": [],
   "source": [
    "from dateutil.relativedelta import relativedelta\n",
    "from datetime import datetime\n",
    "\n",
    "def split_by_month(data: pd.DataFrame, n_months: int):\n",
    "    final_time = pd.to_datetime(data['Date'].max())\n",
    "    #print(final_time)\n",
    "    session_last_time = data.groupby('UserId')['Date'].max()\n",
    "    tmp = final_time - relativedelta(months = n_months)   # 맨 끝 날짜에서 n개월을 뺍니다\n",
    "    tmpdate = tmp.strftime('%Y-%m-%d') # string 타입으로 변환\n",
    "    #print(tmp)\n",
    "    session_in_train = session_last_time[session_last_time < tmpdate].index\n",
    "    session_in_test = session_last_time[session_last_time >= tmpdate].index\n",
    "    \n",
    "    before_date = data[data['UserId'].isin(session_in_train)]\n",
    "    after_date = data[data['UserId'].isin(session_in_test)]\n",
    "    after_date = after_date[after_date['ItemId'].isin(before_date['ItemId'])]\n",
    "    return before_date, after_date"
   ]
  },
  {
   "cell_type": "code",
   "execution_count": 72,
   "id": "mobile-andrews",
   "metadata": {},
   "outputs": [],
   "source": [
    "train, test = split_by_month(data, n_months=14)\n",
    "train, valid = split_by_month(train, n_months=8)"
   ]
  },
  {
   "cell_type": "markdown",
   "id": "advanced-north",
   "metadata": {},
   "source": [
    "cleansing 한 전체 데이터 셋에 대해 다시 나눠주고"
   ]
  },
  {
   "cell_type": "code",
   "execution_count": 73,
   "id": "qualified-bishop",
   "metadata": {},
   "outputs": [
    {
     "data": {
      "text/html": [
       "<div>\n",
       "<style scoped>\n",
       "    .dataframe tbody tr th:only-of-type {\n",
       "        vertical-align: middle;\n",
       "    }\n",
       "\n",
       "    .dataframe tbody tr th {\n",
       "        vertical-align: top;\n",
       "    }\n",
       "\n",
       "    .dataframe thead th {\n",
       "        text-align: right;\n",
       "    }\n",
       "</style>\n",
       "<table border=\"1\" class=\"dataframe\">\n",
       "  <thead>\n",
       "    <tr style=\"text-align: right;\">\n",
       "      <th></th>\n",
       "      <th>UserId</th>\n",
       "      <th>ItemId</th>\n",
       "      <th>Rating</th>\n",
       "      <th>Time</th>\n",
       "      <th>Date</th>\n",
       "    </tr>\n",
       "  </thead>\n",
       "  <tbody>\n",
       "    <tr>\n",
       "      <th>31</th>\n",
       "      <td>1</td>\n",
       "      <td>3186</td>\n",
       "      <td>4</td>\n",
       "      <td>978300019</td>\n",
       "      <td>2000-12-31</td>\n",
       "    </tr>\n",
       "    <tr>\n",
       "      <th>22</th>\n",
       "      <td>1</td>\n",
       "      <td>1270</td>\n",
       "      <td>5</td>\n",
       "      <td>978300055</td>\n",
       "      <td>2000-12-31</td>\n",
       "    </tr>\n",
       "    <tr>\n",
       "      <th>27</th>\n",
       "      <td>1</td>\n",
       "      <td>1721</td>\n",
       "      <td>4</td>\n",
       "      <td>978300055</td>\n",
       "      <td>2000-12-31</td>\n",
       "    </tr>\n",
       "    <tr>\n",
       "      <th>37</th>\n",
       "      <td>1</td>\n",
       "      <td>1022</td>\n",
       "      <td>5</td>\n",
       "      <td>978300055</td>\n",
       "      <td>2000-12-31</td>\n",
       "    </tr>\n",
       "    <tr>\n",
       "      <th>24</th>\n",
       "      <td>1</td>\n",
       "      <td>2340</td>\n",
       "      <td>3</td>\n",
       "      <td>978300103</td>\n",
       "      <td>2000-12-31</td>\n",
       "    </tr>\n",
       "    <tr>\n",
       "      <th>...</th>\n",
       "      <td>...</td>\n",
       "      <td>...</td>\n",
       "      <td>...</td>\n",
       "      <td>...</td>\n",
       "      <td>...</td>\n",
       "    </tr>\n",
       "    <tr>\n",
       "      <th>999798</th>\n",
       "      <td>6039</td>\n",
       "      <td>1148</td>\n",
       "      <td>4</td>\n",
       "      <td>956758002</td>\n",
       "      <td>2000-04-26</td>\n",
       "    </tr>\n",
       "    <tr>\n",
       "      <th>999764</th>\n",
       "      <td>6039</td>\n",
       "      <td>912</td>\n",
       "      <td>4</td>\n",
       "      <td>956758029</td>\n",
       "      <td>2000-04-26</td>\n",
       "    </tr>\n",
       "    <tr>\n",
       "      <th>999771</th>\n",
       "      <td>6039</td>\n",
       "      <td>922</td>\n",
       "      <td>5</td>\n",
       "      <td>956758029</td>\n",
       "      <td>2000-04-26</td>\n",
       "    </tr>\n",
       "    <tr>\n",
       "      <th>999815</th>\n",
       "      <td>6039</td>\n",
       "      <td>1204</td>\n",
       "      <td>5</td>\n",
       "      <td>956758029</td>\n",
       "      <td>2000-04-26</td>\n",
       "    </tr>\n",
       "    <tr>\n",
       "      <th>999826</th>\n",
       "      <td>6039</td>\n",
       "      <td>1254</td>\n",
       "      <td>4</td>\n",
       "      <td>956758029</td>\n",
       "      <td>2000-04-26</td>\n",
       "    </tr>\n",
       "  </tbody>\n",
       "</table>\n",
       "<p>590449 rows × 5 columns</p>\n",
       "</div>"
      ],
      "text/plain": [
       "        UserId  ItemId  Rating       Time        Date\n",
       "31           1    3186       4  978300019  2000-12-31\n",
       "22           1    1270       5  978300055  2000-12-31\n",
       "27           1    1721       4  978300055  2000-12-31\n",
       "37           1    1022       5  978300055  2000-12-31\n",
       "24           1    2340       3  978300103  2000-12-31\n",
       "...        ...     ...     ...        ...         ...\n",
       "999798    6039    1148       4  956758002  2000-04-26\n",
       "999764    6039     912       4  956758029  2000-04-26\n",
       "999771    6039     922       5  956758029  2000-04-26\n",
       "999815    6039    1204       5  956758029  2000-04-26\n",
       "999826    6039    1254       4  956758029  2000-04-26\n",
       "\n",
       "[590449 rows x 5 columns]"
      ]
     },
     "execution_count": 73,
     "metadata": {},
     "output_type": "execute_result"
    }
   ],
   "source": [
    "#train = pd.concat([yr2000,yr2001], ignore_index=True)\n",
    "train"
   ]
  },
  {
   "cell_type": "code",
   "execution_count": 74,
   "id": "duplicate-belarus",
   "metadata": {},
   "outputs": [
    {
     "data": {
      "text/plain": [
       "'2001-04-25'"
      ]
     },
     "execution_count": 74,
     "metadata": {},
     "output_type": "execute_result"
    }
   ],
   "source": [
    "train['Date'].max()"
   ]
  },
  {
   "cell_type": "code",
   "execution_count": 75,
   "id": "persistent-darwin",
   "metadata": {},
   "outputs": [
    {
     "data": {
      "text/html": [
       "<div>\n",
       "<style scoped>\n",
       "    .dataframe tbody tr th:only-of-type {\n",
       "        vertical-align: middle;\n",
       "    }\n",
       "\n",
       "    .dataframe tbody tr th {\n",
       "        vertical-align: top;\n",
       "    }\n",
       "\n",
       "    .dataframe thead th {\n",
       "        text-align: right;\n",
       "    }\n",
       "</style>\n",
       "<table border=\"1\" class=\"dataframe\">\n",
       "  <thead>\n",
       "    <tr style=\"text-align: right;\">\n",
       "      <th></th>\n",
       "      <th>UserId</th>\n",
       "      <th>ItemId</th>\n",
       "      <th>Rating</th>\n",
       "      <th>Time</th>\n",
       "      <th>Date</th>\n",
       "    </tr>\n",
       "  </thead>\n",
       "  <tbody>\n",
       "    <tr>\n",
       "      <th>2469</th>\n",
       "      <td>19</td>\n",
       "      <td>2527</td>\n",
       "      <td>3</td>\n",
       "      <td>978146700</td>\n",
       "      <td>2000-12-30</td>\n",
       "    </tr>\n",
       "    <tr>\n",
       "      <th>2298</th>\n",
       "      <td>19</td>\n",
       "      <td>593</td>\n",
       "      <td>5</td>\n",
       "      <td>978146713</td>\n",
       "      <td>2000-12-30</td>\n",
       "    </tr>\n",
       "    <tr>\n",
       "      <th>2432</th>\n",
       "      <td>19</td>\n",
       "      <td>527</td>\n",
       "      <td>3</td>\n",
       "      <td>978146727</td>\n",
       "      <td>2000-12-30</td>\n",
       "    </tr>\n",
       "    <tr>\n",
       "      <th>2457</th>\n",
       "      <td>19</td>\n",
       "      <td>1210</td>\n",
       "      <td>4</td>\n",
       "      <td>978146747</td>\n",
       "      <td>2000-12-30</td>\n",
       "    </tr>\n",
       "    <tr>\n",
       "      <th>2497</th>\n",
       "      <td>19</td>\n",
       "      <td>2115</td>\n",
       "      <td>3</td>\n",
       "      <td>978146747</td>\n",
       "      <td>2000-12-30</td>\n",
       "    </tr>\n",
       "    <tr>\n",
       "      <th>...</th>\n",
       "      <td>...</td>\n",
       "      <td>...</td>\n",
       "      <td>...</td>\n",
       "      <td>...</td>\n",
       "      <td>...</td>\n",
       "    </tr>\n",
       "    <tr>\n",
       "      <th>1000019</th>\n",
       "      <td>6040</td>\n",
       "      <td>2917</td>\n",
       "      <td>4</td>\n",
       "      <td>997454429</td>\n",
       "      <td>2001-08-10</td>\n",
       "    </tr>\n",
       "    <tr>\n",
       "      <th>999988</th>\n",
       "      <td>6040</td>\n",
       "      <td>1921</td>\n",
       "      <td>4</td>\n",
       "      <td>997454464</td>\n",
       "      <td>2001-08-10</td>\n",
       "    </tr>\n",
       "    <tr>\n",
       "      <th>1000172</th>\n",
       "      <td>6040</td>\n",
       "      <td>1784</td>\n",
       "      <td>3</td>\n",
       "      <td>997454464</td>\n",
       "      <td>2001-08-10</td>\n",
       "    </tr>\n",
       "    <tr>\n",
       "      <th>1000167</th>\n",
       "      <td>6040</td>\n",
       "      <td>161</td>\n",
       "      <td>3</td>\n",
       "      <td>997454486</td>\n",
       "      <td>2001-08-10</td>\n",
       "    </tr>\n",
       "    <tr>\n",
       "      <th>1000042</th>\n",
       "      <td>6040</td>\n",
       "      <td>1221</td>\n",
       "      <td>4</td>\n",
       "      <td>998315055</td>\n",
       "      <td>2001-08-20</td>\n",
       "    </tr>\n",
       "  </tbody>\n",
       "</table>\n",
       "<p>63883 rows × 5 columns</p>\n",
       "</div>"
      ],
      "text/plain": [
       "         UserId  ItemId  Rating       Time        Date\n",
       "2469         19    2527       3  978146700  2000-12-30\n",
       "2298         19     593       5  978146713  2000-12-30\n",
       "2432         19     527       3  978146727  2000-12-30\n",
       "2457         19    1210       4  978146747  2000-12-30\n",
       "2497         19    2115       3  978146747  2000-12-30\n",
       "...         ...     ...     ...        ...         ...\n",
       "1000019    6040    2917       4  997454429  2001-08-10\n",
       "999988     6040    1921       4  997454464  2001-08-10\n",
       "1000172    6040    1784       3  997454464  2001-08-10\n",
       "1000167    6040     161       3  997454486  2001-08-10\n",
       "1000042    6040    1221       4  998315055  2001-08-20\n",
       "\n",
       "[63883 rows x 5 columns]"
      ]
     },
     "execution_count": 75,
     "metadata": {},
     "output_type": "execute_result"
    }
   ],
   "source": [
    "valid"
   ]
  },
  {
   "cell_type": "code",
   "execution_count": 76,
   "id": "universal-calibration",
   "metadata": {},
   "outputs": [
    {
     "data": {
      "text/html": [
       "<div>\n",
       "<style scoped>\n",
       "    .dataframe tbody tr th:only-of-type {\n",
       "        vertical-align: middle;\n",
       "    }\n",
       "\n",
       "    .dataframe tbody tr th {\n",
       "        vertical-align: top;\n",
       "    }\n",
       "\n",
       "    .dataframe thead th {\n",
       "        text-align: right;\n",
       "    }\n",
       "</style>\n",
       "<table border=\"1\" class=\"dataframe\">\n",
       "  <thead>\n",
       "    <tr style=\"text-align: right;\">\n",
       "      <th></th>\n",
       "      <th>UserId</th>\n",
       "      <th>ItemId</th>\n",
       "      <th>Rating</th>\n",
       "      <th>Time</th>\n",
       "      <th>Date</th>\n",
       "    </tr>\n",
       "  </thead>\n",
       "  <tbody>\n",
       "    <tr>\n",
       "      <th>2522</th>\n",
       "      <td>20</td>\n",
       "      <td>2028</td>\n",
       "      <td>4</td>\n",
       "      <td>978143106</td>\n",
       "      <td>2000-12-30</td>\n",
       "    </tr>\n",
       "    <tr>\n",
       "      <th>2516</th>\n",
       "      <td>20</td>\n",
       "      <td>1617</td>\n",
       "      <td>5</td>\n",
       "      <td>978143181</td>\n",
       "      <td>2000-12-30</td>\n",
       "    </tr>\n",
       "    <tr>\n",
       "      <th>2515</th>\n",
       "      <td>20</td>\n",
       "      <td>47</td>\n",
       "      <td>5</td>\n",
       "      <td>978143306</td>\n",
       "      <td>2000-12-30</td>\n",
       "    </tr>\n",
       "    <tr>\n",
       "      <th>2514</th>\n",
       "      <td>20</td>\n",
       "      <td>3578</td>\n",
       "      <td>5</td>\n",
       "      <td>978143344</td>\n",
       "      <td>2000-12-30</td>\n",
       "    </tr>\n",
       "    <tr>\n",
       "      <th>2501</th>\n",
       "      <td>20</td>\n",
       "      <td>3863</td>\n",
       "      <td>3</td>\n",
       "      <td>978143355</td>\n",
       "      <td>2000-12-30</td>\n",
       "    </tr>\n",
       "    <tr>\n",
       "      <th>...</th>\n",
       "      <td>...</td>\n",
       "      <td>...</td>\n",
       "      <td>...</td>\n",
       "      <td>...</td>\n",
       "      <td>...</td>\n",
       "    </tr>\n",
       "    <tr>\n",
       "      <th>994100</th>\n",
       "      <td>6002</td>\n",
       "      <td>2013</td>\n",
       "      <td>4</td>\n",
       "      <td>1014524679</td>\n",
       "      <td>2002-02-24</td>\n",
       "    </tr>\n",
       "    <tr>\n",
       "      <th>993890</th>\n",
       "      <td>6002</td>\n",
       "      <td>2520</td>\n",
       "      <td>4</td>\n",
       "      <td>1014524680</td>\n",
       "      <td>2002-02-24</td>\n",
       "    </tr>\n",
       "    <tr>\n",
       "      <th>994045</th>\n",
       "      <td>6002</td>\n",
       "      <td>1387</td>\n",
       "      <td>5</td>\n",
       "      <td>1014524720</td>\n",
       "      <td>2002-02-24</td>\n",
       "    </tr>\n",
       "    <tr>\n",
       "      <th>993900</th>\n",
       "      <td>6002</td>\n",
       "      <td>1927</td>\n",
       "      <td>4</td>\n",
       "      <td>1014524758</td>\n",
       "      <td>2002-02-24</td>\n",
       "    </tr>\n",
       "    <tr>\n",
       "      <th>994050</th>\n",
       "      <td>6002</td>\n",
       "      <td>101</td>\n",
       "      <td>4</td>\n",
       "      <td>1014524817</td>\n",
       "      <td>2002-02-24</td>\n",
       "    </tr>\n",
       "  </tbody>\n",
       "</table>\n",
       "<p>182046 rows × 5 columns</p>\n",
       "</div>"
      ],
      "text/plain": [
       "        UserId  ItemId  Rating        Time        Date\n",
       "2522        20    2028       4   978143106  2000-12-30\n",
       "2516        20    1617       5   978143181  2000-12-30\n",
       "2515        20      47       5   978143306  2000-12-30\n",
       "2514        20    3578       5   978143344  2000-12-30\n",
       "2501        20    3863       3   978143355  2000-12-30\n",
       "...        ...     ...     ...         ...         ...\n",
       "994100    6002    2013       4  1014524679  2002-02-24\n",
       "993890    6002    2520       4  1014524680  2002-02-24\n",
       "994045    6002    1387       5  1014524720  2002-02-24\n",
       "993900    6002    1927       4  1014524758  2002-02-24\n",
       "994050    6002     101       4  1014524817  2002-02-24\n",
       "\n",
       "[182046 rows x 5 columns]"
      ]
     },
     "execution_count": 76,
     "metadata": {},
     "output_type": "execute_result"
    }
   ],
   "source": [
    "test"
   ]
  },
  {
   "cell_type": "code",
   "execution_count": 77,
   "id": "pediatric-elevation",
   "metadata": {},
   "outputs": [],
   "source": [
    "# data에 대한 정보를 살펴봅니다.\n",
    "def stats_info(data: pd.DataFrame, status: str):\n",
    "    print(f'* {status} Set Stats Info\\n'\n",
    "          f'\\t Events: {len(data)}\\n'\n",
    "          f'\\t Users: {data[\"UserId\"].nunique()}\\n'\n",
    "          f'\\t Items: {data[\"ItemId\"].nunique()}\\n'\n",
    "          f'\\t First Time : {data[\"Date\"].min()}\\n'\n",
    "          f'\\t Last Time : {data[\"Date\"].max()}\\n')"
   ]
  },
  {
   "cell_type": "code",
   "execution_count": 78,
   "id": "supported-converter",
   "metadata": {},
   "outputs": [
    {
     "name": "stdout",
     "output_type": "stream",
     "text": [
      "* train Set Stats Info\n",
      "\t Events: 590449\n",
      "\t Users: 5150\n",
      "\t Items: 3556\n",
      "\t First Time : 2000-04-25\n",
      "\t Last Time : 2001-04-25\n",
      "\n",
      "* valid Set Stats Info\n",
      "\t Events: 63883\n",
      "\t Users: 300\n",
      "\t Items: 3076\n",
      "\t First Time : 2000-04-25\n",
      "\t Last Time : 2001-12-26\n",
      "\n",
      "* test Set Stats Info\n",
      "\t Events: 182046\n",
      "\t Users: 589\n",
      "\t Items: 3381\n",
      "\t First Time : 2000-04-27\n",
      "\t Last Time : 2003-02-28\n",
      "\n"
     ]
    }
   ],
   "source": [
    "stats_info(train, 'train')\n",
    "stats_info(valid, 'valid')\n",
    "stats_info(test, 'test')"
   ]
  },
  {
   "cell_type": "code",
   "execution_count": 79,
   "id": "material-donna",
   "metadata": {},
   "outputs": [],
   "source": [
    "# train set에 없는 아이템이 val, test기간에 생길 수 있으므로 train data를 기준으로 인덱싱합니다.\n",
    "id2idx = {item_id : index for index, item_id in enumerate(train['ItemId'].unique())}\n",
    "\n",
    "def indexing(df, id2idx):\n",
    "    df['item_idx'] = df['ItemId'].map(lambda x: id2idx.get(x, -1))  # id2idx에 없는 아이템은 모르는 값(-1) 처리 해줍니다.\n",
    "    return df\n",
    "\n",
    "train = indexing(train, id2idx)\n",
    "valid = indexing(valid, id2idx)\n",
    "test = indexing(test, id2idx)"
   ]
  },
  {
   "cell_type": "code",
   "execution_count": 80,
   "id": "supposed-madness",
   "metadata": {},
   "outputs": [],
   "source": [
    "save_path = data_path / 'processed'\n",
    "save_path.mkdir(parents=True, exist_ok=True)\n",
    "\n",
    "train.to_pickle(save_path / 'train.pkl')\n",
    "valid.to_pickle(save_path / 'valid.pkl')\n",
    "test.to_pickle(save_path / 'test.pkl')"
   ]
  },
  {
   "cell_type": "markdown",
   "id": "racial-attention",
   "metadata": {},
   "source": [
    "## 2. 미니 배치의 구성\n",
    "\n",
    "Session-Parallel Mini Batch를 구현합니다. 여기서는 Session이 아닌 UserID 기반입니다.\n",
    "\n",
    "우선, 데이터가 주어지면 세션이 시작되는 인덱스를 담는 값과 세션을 새로 인덱싱한 값을 갖는 클래스를 만듭니다."
   ]
  },
  {
   "cell_type": "code",
   "execution_count": 81,
   "id": "sustained-saudi",
   "metadata": {},
   "outputs": [],
   "source": [
    "class SessionDataset:\n",
    "    \"\"\"Credit to yhs-968/pyGRU4REC.\"\"\"\n",
    "\n",
    "    def __init__(self, data):\n",
    "        self.df = data\n",
    "        self.click_offsets = self.get_click_offsets()\n",
    "        self.session_idx = np.arange(self.df['UserId'].nunique())  # indexing to SessionId\n",
    "\n",
    "    def get_click_offsets(self):\n",
    "        \"\"\"\n",
    "        Return the indexes of the first click of each session IDs,\n",
    "        \"\"\"\n",
    "        offsets = np.zeros(self.df['UserId'].nunique() + 1, dtype=np.int32)\n",
    "        offsets[1:] = self.df.groupby('UserId').size().cumsum()\n",
    "        return offsets"
   ]
  },
  {
   "cell_type": "markdown",
   "id": "heavy-agent",
   "metadata": {},
   "source": [
    "train데이터로 SessionDataset 객체를 만들고 인스턴스 변수들을 살펴보겠습니다.   \n",
    "click_offsets 변수는 각 세션이 시작된 인덱스를 담고 있습니다.   \n",
    "user_idx 변수는 각 세션을 인덱싱한 np.array 입니다.   "
   ]
  },
  {
   "cell_type": "code",
   "execution_count": 82,
   "id": "twelve-visit",
   "metadata": {},
   "outputs": [
    {
     "data": {
      "text/html": [
       "<div>\n",
       "<style scoped>\n",
       "    .dataframe tbody tr th:only-of-type {\n",
       "        vertical-align: middle;\n",
       "    }\n",
       "\n",
       "    .dataframe tbody tr th {\n",
       "        vertical-align: top;\n",
       "    }\n",
       "\n",
       "    .dataframe thead th {\n",
       "        text-align: right;\n",
       "    }\n",
       "</style>\n",
       "<table border=\"1\" class=\"dataframe\">\n",
       "  <thead>\n",
       "    <tr style=\"text-align: right;\">\n",
       "      <th></th>\n",
       "      <th>UserId</th>\n",
       "      <th>ItemId</th>\n",
       "      <th>Rating</th>\n",
       "      <th>Time</th>\n",
       "      <th>Date</th>\n",
       "      <th>item_idx</th>\n",
       "    </tr>\n",
       "  </thead>\n",
       "  <tbody>\n",
       "    <tr>\n",
       "      <th>31</th>\n",
       "      <td>1</td>\n",
       "      <td>3186</td>\n",
       "      <td>4</td>\n",
       "      <td>978300019</td>\n",
       "      <td>2000-12-31</td>\n",
       "      <td>0</td>\n",
       "    </tr>\n",
       "    <tr>\n",
       "      <th>22</th>\n",
       "      <td>1</td>\n",
       "      <td>1270</td>\n",
       "      <td>5</td>\n",
       "      <td>978300055</td>\n",
       "      <td>2000-12-31</td>\n",
       "      <td>1</td>\n",
       "    </tr>\n",
       "    <tr>\n",
       "      <th>27</th>\n",
       "      <td>1</td>\n",
       "      <td>1721</td>\n",
       "      <td>4</td>\n",
       "      <td>978300055</td>\n",
       "      <td>2000-12-31</td>\n",
       "      <td>2</td>\n",
       "    </tr>\n",
       "    <tr>\n",
       "      <th>37</th>\n",
       "      <td>1</td>\n",
       "      <td>1022</td>\n",
       "      <td>5</td>\n",
       "      <td>978300055</td>\n",
       "      <td>2000-12-31</td>\n",
       "      <td>3</td>\n",
       "    </tr>\n",
       "    <tr>\n",
       "      <th>24</th>\n",
       "      <td>1</td>\n",
       "      <td>2340</td>\n",
       "      <td>3</td>\n",
       "      <td>978300103</td>\n",
       "      <td>2000-12-31</td>\n",
       "      <td>4</td>\n",
       "    </tr>\n",
       "    <tr>\n",
       "      <th>36</th>\n",
       "      <td>1</td>\n",
       "      <td>1836</td>\n",
       "      <td>5</td>\n",
       "      <td>978300172</td>\n",
       "      <td>2000-12-31</td>\n",
       "      <td>5</td>\n",
       "    </tr>\n",
       "    <tr>\n",
       "      <th>3</th>\n",
       "      <td>1</td>\n",
       "      <td>3408</td>\n",
       "      <td>4</td>\n",
       "      <td>978300275</td>\n",
       "      <td>2000-12-31</td>\n",
       "      <td>6</td>\n",
       "    </tr>\n",
       "    <tr>\n",
       "      <th>7</th>\n",
       "      <td>1</td>\n",
       "      <td>2804</td>\n",
       "      <td>5</td>\n",
       "      <td>978300719</td>\n",
       "      <td>2000-12-31</td>\n",
       "      <td>7</td>\n",
       "    </tr>\n",
       "    <tr>\n",
       "      <th>47</th>\n",
       "      <td>1</td>\n",
       "      <td>1207</td>\n",
       "      <td>4</td>\n",
       "      <td>978300719</td>\n",
       "      <td>2000-12-31</td>\n",
       "      <td>8</td>\n",
       "    </tr>\n",
       "    <tr>\n",
       "      <th>0</th>\n",
       "      <td>1</td>\n",
       "      <td>1193</td>\n",
       "      <td>5</td>\n",
       "      <td>978300760</td>\n",
       "      <td>2000-12-31</td>\n",
       "      <td>9</td>\n",
       "    </tr>\n",
       "  </tbody>\n",
       "</table>\n",
       "</div>"
      ],
      "text/plain": [
       "    UserId  ItemId  Rating       Time        Date  item_idx\n",
       "31       1    3186       4  978300019  2000-12-31         0\n",
       "22       1    1270       5  978300055  2000-12-31         1\n",
       "27       1    1721       4  978300055  2000-12-31         2\n",
       "37       1    1022       5  978300055  2000-12-31         3\n",
       "24       1    2340       3  978300103  2000-12-31         4\n",
       "36       1    1836       5  978300172  2000-12-31         5\n",
       "3        1    3408       4  978300275  2000-12-31         6\n",
       "7        1    2804       5  978300719  2000-12-31         7\n",
       "47       1    1207       4  978300719  2000-12-31         8\n",
       "0        1    1193       5  978300760  2000-12-31         9"
      ]
     },
     "execution_count": 82,
     "metadata": {},
     "output_type": "execute_result"
    }
   ],
   "source": [
    "train_dataset = SessionDataset(train)\n",
    "train_dataset.df.head(10)"
   ]
  },
  {
   "cell_type": "code",
   "execution_count": 83,
   "id": "mounted-hopkins",
   "metadata": {},
   "outputs": [
    {
     "data": {
      "text/plain": [
       "array([     0,     53,    169, ..., 590312, 590330, 590449], dtype=int32)"
      ]
     },
     "execution_count": 83,
     "metadata": {},
     "output_type": "execute_result"
    }
   ],
   "source": [
    "train_dataset.click_offsets"
   ]
  },
  {
   "cell_type": "code",
   "execution_count": 84,
   "id": "continent-wisdom",
   "metadata": {},
   "outputs": [
    {
     "data": {
      "text/plain": [
       "array([   0,    1,    2, ..., 5147, 5148, 5149])"
      ]
     },
     "execution_count": 84,
     "metadata": {},
     "output_type": "execute_result"
    }
   ],
   "source": [
    "train_dataset.session_idx"
   ]
  },
  {
   "cell_type": "markdown",
   "id": "color-skirt",
   "metadata": {},
   "source": [
    "### Session DataLoader\n",
    "\n",
    "UserDataset 객체를 받아서 Session-Parallel mini-batch를 만드는 클래스를 만듭니다.   \n",
    "mask는 후에 RNN Cell State를 초기화 하는데 사용합니다."
   ]
  },
  {
   "cell_type": "code",
   "execution_count": 86,
   "id": "dedicated-algorithm",
   "metadata": {},
   "outputs": [],
   "source": [
    "class SessionDataLoader:\n",
    "    \"\"\"Credit to yhs-968/pyGRU4REC.\"\"\"\n",
    "\n",
    "    def __init__(self, dataset: SessionDataset, batch_size=50):\n",
    "        self.dataset = dataset\n",
    "        self.batch_size = batch_size\n",
    "\n",
    "    def __iter__(self):\n",
    "        \"\"\" Returns the iterator for producing session-parallel training mini-batches.\n",
    "        Yields:\n",
    "            input (B,):  Item indices that will be encoded as one-hot vectors later.\n",
    "            target (B,): a Variable that stores the target item indices\n",
    "            masks: Numpy array indicating the positions of the sessions to be terminated\n",
    "        \"\"\"\n",
    "\n",
    "        start, end, mask, last_session, finished = self.initialize()  # initialize 메소드에서 확인해주세요.\n",
    "        \"\"\"\n",
    "        start : Index Where Session Start\n",
    "        end : Index Where Session End\n",
    "        mask : indicator for the sessions to be terminated\n",
    "        \"\"\"\n",
    "\n",
    "        while not finished:\n",
    "            min_len = (end - start).min() - 1  # Shortest Length Among Sessions\n",
    "            for i in range(min_len):\n",
    "                # Build inputs & targets\n",
    "                inp = self.dataset.df['item_idx'].values[start + i]\n",
    "                target = self.dataset.df['item_idx'].values[start + i + 1]\n",
    "                yield inp, target, mask\n",
    "\n",
    "            start, end, mask, last_session, finished = self.update_status(start, end, min_len, last_session, finished)\n",
    "\n",
    "    def initialize(self):\n",
    "        first_iters = np.arange(self.batch_size)    # 첫 배치에 사용할 세션 Index를 가져옵니다.\n",
    "        last_session = self.batch_size - 1    # 마지막으로 다루고 있는 세션 Index를 저장해둡니다.\n",
    "        start = self.dataset.click_offsets[self.dataset.session_idx[first_iters]]       # data 상에서 session이 시작된 위치를 가져옵니다.\n",
    "        end = self.dataset.click_offsets[self.dataset.session_idx[first_iters] + 1]  # session이 끝난 위치 바로 다음 위치를 가져옵니다.\n",
    "        mask = np.array([])   # session의 모든 아이템을 다 돌은 경우 mask에 추가해줄 것입니다.\n",
    "        finished = False         # data를 전부 돌았는지 기록하기 위한 변수입니다.\n",
    "        return start, end, mask, last_session, finished\n",
    "\n",
    "    def update_status(self, start: np.ndarray, end: np.ndarray, min_len: int, last_session: int, finished: bool):  \n",
    "        # 다음 배치 데이터를 생성하기 위해 상태를 update합니다.\n",
    "        \n",
    "        start += min_len   # __iter__에서 min_len 만큼 for문을 돌았으므로 start를 min_len 만큼 더해줍니다.\n",
    "        mask = np.arange(self.batch_size)[(end - start) == 1]  \n",
    "        # end는 다음 세션이 시작되는 위치인데 start와 한 칸 차이난다는 것은 session이 끝났다는 뜻입니다. mask에 기록해줍니다.\n",
    "\n",
    "        for i, idx in enumerate(mask, start=1):  # mask에 추가된 세션 개수만큼 새로운 세션을 돌것입니다.\n",
    "            new_session = last_session + i  \n",
    "            if new_session > self.dataset.session_idx[-1]:  # 만약 새로운 세션이 마지막 세션 index보다 크다면 모든 학습데이터를 돈 것입니다.\n",
    "                finished = True\n",
    "                break\n",
    "            # update the next starting/ending point\n",
    "            start[idx] = self.dataset.click_offsets[self.dataset.session_idx[new_session]]     # 종료된 세션 대신 새로운 세션의 시작점을 기록합니다.\n",
    "            end[idx] = self.dataset.click_offsets[self.dataset.session_idx[new_session] + 1]\n",
    "\n",
    "        last_session += len(mask)  # 마지막 세션의 위치를 기록해둡니다.\n",
    "        return start, end, mask, last_session, finished"
   ]
  },
  {
   "cell_type": "code",
   "execution_count": 87,
   "id": "incorporated-pharmacology",
   "metadata": {},
   "outputs": [
    {
     "data": {
      "text/html": [
       "<div>\n",
       "<style scoped>\n",
       "    .dataframe tbody tr th:only-of-type {\n",
       "        vertical-align: middle;\n",
       "    }\n",
       "\n",
       "    .dataframe tbody tr th {\n",
       "        vertical-align: top;\n",
       "    }\n",
       "\n",
       "    .dataframe thead th {\n",
       "        text-align: right;\n",
       "    }\n",
       "</style>\n",
       "<table border=\"1\" class=\"dataframe\">\n",
       "  <thead>\n",
       "    <tr style=\"text-align: right;\">\n",
       "      <th></th>\n",
       "      <th>UserId</th>\n",
       "      <th>ItemId</th>\n",
       "      <th>Rating</th>\n",
       "      <th>Time</th>\n",
       "      <th>Date</th>\n",
       "      <th>item_idx</th>\n",
       "    </tr>\n",
       "  </thead>\n",
       "  <tbody>\n",
       "    <tr>\n",
       "      <th>31</th>\n",
       "      <td>1</td>\n",
       "      <td>3186</td>\n",
       "      <td>4</td>\n",
       "      <td>978300019</td>\n",
       "      <td>2000-12-31</td>\n",
       "      <td>0</td>\n",
       "    </tr>\n",
       "    <tr>\n",
       "      <th>22</th>\n",
       "      <td>1</td>\n",
       "      <td>1270</td>\n",
       "      <td>5</td>\n",
       "      <td>978300055</td>\n",
       "      <td>2000-12-31</td>\n",
       "      <td>1</td>\n",
       "    </tr>\n",
       "    <tr>\n",
       "      <th>27</th>\n",
       "      <td>1</td>\n",
       "      <td>1721</td>\n",
       "      <td>4</td>\n",
       "      <td>978300055</td>\n",
       "      <td>2000-12-31</td>\n",
       "      <td>2</td>\n",
       "    </tr>\n",
       "    <tr>\n",
       "      <th>37</th>\n",
       "      <td>1</td>\n",
       "      <td>1022</td>\n",
       "      <td>5</td>\n",
       "      <td>978300055</td>\n",
       "      <td>2000-12-31</td>\n",
       "      <td>3</td>\n",
       "    </tr>\n",
       "    <tr>\n",
       "      <th>24</th>\n",
       "      <td>1</td>\n",
       "      <td>2340</td>\n",
       "      <td>3</td>\n",
       "      <td>978300103</td>\n",
       "      <td>2000-12-31</td>\n",
       "      <td>4</td>\n",
       "    </tr>\n",
       "    <tr>\n",
       "      <th>36</th>\n",
       "      <td>1</td>\n",
       "      <td>1836</td>\n",
       "      <td>5</td>\n",
       "      <td>978300172</td>\n",
       "      <td>2000-12-31</td>\n",
       "      <td>5</td>\n",
       "    </tr>\n",
       "    <tr>\n",
       "      <th>3</th>\n",
       "      <td>1</td>\n",
       "      <td>3408</td>\n",
       "      <td>4</td>\n",
       "      <td>978300275</td>\n",
       "      <td>2000-12-31</td>\n",
       "      <td>6</td>\n",
       "    </tr>\n",
       "    <tr>\n",
       "      <th>7</th>\n",
       "      <td>1</td>\n",
       "      <td>2804</td>\n",
       "      <td>5</td>\n",
       "      <td>978300719</td>\n",
       "      <td>2000-12-31</td>\n",
       "      <td>7</td>\n",
       "    </tr>\n",
       "    <tr>\n",
       "      <th>47</th>\n",
       "      <td>1</td>\n",
       "      <td>1207</td>\n",
       "      <td>4</td>\n",
       "      <td>978300719</td>\n",
       "      <td>2000-12-31</td>\n",
       "      <td>8</td>\n",
       "    </tr>\n",
       "    <tr>\n",
       "      <th>0</th>\n",
       "      <td>1</td>\n",
       "      <td>1193</td>\n",
       "      <td>5</td>\n",
       "      <td>978300760</td>\n",
       "      <td>2000-12-31</td>\n",
       "      <td>9</td>\n",
       "    </tr>\n",
       "    <tr>\n",
       "      <th>21</th>\n",
       "      <td>1</td>\n",
       "      <td>720</td>\n",
       "      <td>3</td>\n",
       "      <td>978300760</td>\n",
       "      <td>2000-12-31</td>\n",
       "      <td>10</td>\n",
       "    </tr>\n",
       "    <tr>\n",
       "      <th>44</th>\n",
       "      <td>1</td>\n",
       "      <td>260</td>\n",
       "      <td>4</td>\n",
       "      <td>978300760</td>\n",
       "      <td>2000-12-31</td>\n",
       "      <td>11</td>\n",
       "    </tr>\n",
       "    <tr>\n",
       "      <th>9</th>\n",
       "      <td>1</td>\n",
       "      <td>919</td>\n",
       "      <td>4</td>\n",
       "      <td>978301368</td>\n",
       "      <td>2000-12-31</td>\n",
       "      <td>12</td>\n",
       "    </tr>\n",
       "    <tr>\n",
       "      <th>51</th>\n",
       "      <td>1</td>\n",
       "      <td>608</td>\n",
       "      <td>4</td>\n",
       "      <td>978301398</td>\n",
       "      <td>2000-12-31</td>\n",
       "      <td>13</td>\n",
       "    </tr>\n",
       "    <tr>\n",
       "      <th>43</th>\n",
       "      <td>1</td>\n",
       "      <td>2692</td>\n",
       "      <td>4</td>\n",
       "      <td>978301570</td>\n",
       "      <td>2000-12-31</td>\n",
       "      <td>14</td>\n",
       "    </tr>\n",
       "  </tbody>\n",
       "</table>\n",
       "</div>"
      ],
      "text/plain": [
       "    UserId  ItemId  Rating       Time        Date  item_idx\n",
       "31       1    3186       4  978300019  2000-12-31         0\n",
       "22       1    1270       5  978300055  2000-12-31         1\n",
       "27       1    1721       4  978300055  2000-12-31         2\n",
       "37       1    1022       5  978300055  2000-12-31         3\n",
       "24       1    2340       3  978300103  2000-12-31         4\n",
       "36       1    1836       5  978300172  2000-12-31         5\n",
       "3        1    3408       4  978300275  2000-12-31         6\n",
       "7        1    2804       5  978300719  2000-12-31         7\n",
       "47       1    1207       4  978300719  2000-12-31         8\n",
       "0        1    1193       5  978300760  2000-12-31         9\n",
       "21       1     720       3  978300760  2000-12-31        10\n",
       "44       1     260       4  978300760  2000-12-31        11\n",
       "9        1     919       4  978301368  2000-12-31        12\n",
       "51       1     608       4  978301398  2000-12-31        13\n",
       "43       1    2692       4  978301570  2000-12-31        14"
      ]
     },
     "execution_count": 87,
     "metadata": {},
     "output_type": "execute_result"
    }
   ],
   "source": [
    "train_data_loader = SessionDataLoader(train_dataset, batch_size=4)\n",
    "train_dataset.df.head(15)"
   ]
  },
  {
   "cell_type": "code",
   "execution_count": 88,
   "id": "aboriginal-hardwood",
   "metadata": {},
   "outputs": [],
   "source": [
    "iter_ex = iter(train_data_loader)"
   ]
  },
  {
   "cell_type": "code",
   "execution_count": 89,
   "id": "prostate-statistics",
   "metadata": {},
   "outputs": [
    {
     "name": "stdout",
     "output_type": "stream",
     "text": [
      "Model Input Item Idx are : [ 0 53 64 54]\n",
      "Label Item Idx are :       [ 1 54 62 24]\n",
      "Previous Masked Input Idx are []\n"
     ]
    }
   ],
   "source": [
    "inputs, labels, mask =  next(iter_ex)\n",
    "print(f'Model Input Item Idx are : {inputs}')\n",
    "print(f'Label Item Idx are : {\"\":5} {labels}')\n",
    "print(f'Previous Masked Input Idx are {mask}')"
   ]
  },
  {
   "cell_type": "markdown",
   "id": "hollywood-european",
   "metadata": {},
   "source": [
    "## 3. 모델 구성"
   ]
  },
  {
   "cell_type": "code",
   "execution_count": 90,
   "id": "likely-journalist",
   "metadata": {},
   "outputs": [],
   "source": [
    "def mrr_k(pred, truth: int, k: int):\n",
    "    indexing = np.where(pred[:k] == truth)[0]\n",
    "    if len(indexing) > 0:\n",
    "        return 1 / (indexing[0] + 1)\n",
    "    else:\n",
    "        return 0\n",
    "\n",
    "\n",
    "def recall_k(pred, truth: int, k: int) -> int:\n",
    "    answer = truth in pred[:k]\n",
    "    return int(answer)"
   ]
  },
  {
   "cell_type": "code",
   "execution_count": 91,
   "id": "laden-taste",
   "metadata": {},
   "outputs": [],
   "source": [
    "import numpy as np\n",
    "import tensorflow as tf\n",
    "from tensorflow.keras.layers import Input, Dense, Dropout, GRU\n",
    "from tensorflow.keras.losses import categorical_crossentropy\n",
    "from tensorflow.keras.models import Model\n",
    "from tensorflow.keras.optimizers import Adam\n",
    "from tensorflow.keras.utils import to_categorical\n",
    "from tqdm import tqdm"
   ]
  },
  {
   "cell_type": "code",
   "execution_count": 92,
   "id": "covered-trash",
   "metadata": {},
   "outputs": [],
   "source": [
    "def create_model(args):\n",
    "    inputs = Input(batch_shape=(args.batch_size, 1, args.num_items))\n",
    "    gru, _ = GRU(args.hsz, stateful=True, return_state=True, name='GRU')(inputs)\n",
    "    dropout = Dropout(args.drop_rate)(gru)\n",
    "    predictions = Dense(args.num_items, activation='softmax')(dropout)\n",
    "    model = Model(inputs=inputs, outputs=[predictions])\n",
    "    model.compile(loss=categorical_crossentropy, optimizer=Adam(args.lr), metrics=['accuracy'])\n",
    "    model.summary()\n",
    "    return model"
   ]
  },
  {
   "cell_type": "code",
   "execution_count": 114,
   "id": "documented-nightlife",
   "metadata": {},
   "outputs": [],
   "source": [
    "class Args:\n",
    "    def __init__(self, train, valid, test, batch_size, hsz, drop_rate, lr, epochs, k):\n",
    "        self.train = train\n",
    "        self.valid = valid\n",
    "        self.test = test\n",
    "        self.num_items = train['ItemId'].nunique()\n",
    "        self.num_sessions = train['UserId'].nunique()\n",
    "        self.batch_size = batch_size\n",
    "        self.hsz = hsz\n",
    "        self.drop_rate = drop_rate\n",
    "        self.lr = lr\n",
    "        self.epochs = epochs\n",
    "        self.k = k\n",
    "\n",
    "args = Args(train, valid, test, batch_size=256, hsz=50, drop_rate=0.1, lr=0.001, epochs=50, k=20)"
   ]
  },
  {
   "cell_type": "code",
   "execution_count": 115,
   "id": "favorite-inventory",
   "metadata": {},
   "outputs": [
    {
     "name": "stdout",
     "output_type": "stream",
     "text": [
      "Model: \"model_5\"\n",
      "_________________________________________________________________\n",
      "Layer (type)                 Output Shape              Param #   \n",
      "=================================================================\n",
      "input_6 (InputLayer)         [(256, 1, 3556)]          0         \n",
      "_________________________________________________________________\n",
      "GRU (GRU)                    [(256, 50), (256, 50)]    541200    \n",
      "_________________________________________________________________\n",
      "dropout_5 (Dropout)          (256, 50)                 0         \n",
      "_________________________________________________________________\n",
      "dense_5 (Dense)              (256, 3556)               181356    \n",
      "=================================================================\n",
      "Total params: 722,556\n",
      "Trainable params: 722,556\n",
      "Non-trainable params: 0\n",
      "_________________________________________________________________\n"
     ]
    }
   ],
   "source": [
    "model = create_model(args)"
   ]
  },
  {
   "cell_type": "markdown",
   "id": "biblical-carolina",
   "metadata": {},
   "source": [
    "## 4. 모델 학습"
   ]
  },
  {
   "cell_type": "code",
   "execution_count": 116,
   "id": "aerial-residence",
   "metadata": {},
   "outputs": [],
   "source": [
    "# train 셋으로 학습하면서 valid 셋으로 검증합니다.\n",
    "def train_model(model, args):\n",
    "    train_dataset = SessionDataset(args.train)\n",
    "    train_loader = SessionDataLoader(train_dataset, batch_size=args.batch_size)\n",
    "\n",
    "    for epoch in range(1, args.epochs + 1):\n",
    "        total_step = len(args.train) - args.train['UserId'].nunique()\n",
    "        tr_loader = tqdm(train_loader, total=total_step // args.batch_size, desc='Train', mininterval=1)\n",
    "        for feat, target, mask in tr_loader:\n",
    "            reset_hidden_states(model, mask)  # 종료된 session은 hidden_state를 초기화합니다. 아래 메서드에서 확인해주세요.\n",
    "\n",
    "            input_ohe = to_categorical(feat, num_classes=args.num_items)\n",
    "            input_ohe = np.expand_dims(input_ohe, axis=1)\n",
    "            target_ohe = to_categorical(target, num_classes=args.num_items)\n",
    "\n",
    "            result = model.train_on_batch(input_ohe, target_ohe)\n",
    "            tr_loader.set_postfix(train_loss=result[0], accuracy = result[1])\n",
    "\n",
    "        val_recall, val_mrr = get_metrics(args.valid, model, args, args.k)  # valid set에 대해 검증합니다.\n",
    "\n",
    "        print(f\"\\t - Recall@{args.k} epoch {epoch}: {val_recall:3f}\")\n",
    "        print(f\"\\t - MRR@{args.k}    epoch {epoch}: {val_mrr:3f}\\n\")\n",
    "\n",
    "\n",
    "def reset_hidden_states(model, mask):\n",
    "    gru_layer = model.get_layer(name='GRU')  # model에서 gru layer를 가져옵니다.\n",
    "    hidden_states = gru_layer.states[0].numpy()  # gru_layer의 parameter를 가져옵니다.\n",
    "    for elt in mask:  # mask된 인덱스 즉, 종료된 세션의 인덱스를 돌면서\n",
    "        hidden_states[elt, :] = 0  # parameter를 초기화 합니다.\n",
    "    gru_layer.reset_states(states=hidden_states)\n",
    "\n",
    "\n",
    "def get_metrics(data, model, args, k: int):  # valid셋과 test셋을 평가하는 코드입니다. \n",
    "                                             # train과 거의 같지만 mrr, recall을 구하는 라인이 있습니다.\n",
    "    dataset = SessionDataset(data)\n",
    "    loader = SessionDataLoader(dataset, batch_size=args.batch_size)\n",
    "    recall_list, mrr_list = [], []\n",
    "\n",
    "    total_step = len(data) - data['UserId'].nunique()\n",
    "    for inputs, label, mask in tqdm(loader, total=total_step // args.batch_size, desc='Evaluation', mininterval=1):\n",
    "        reset_hidden_states(model, mask)\n",
    "        input_ohe = to_categorical(inputs, num_classes=args.num_items)\n",
    "        input_ohe = np.expand_dims(input_ohe, axis=1)\n",
    "\n",
    "        pred = model.predict(input_ohe, batch_size=args.batch_size)\n",
    "        pred_arg = tf.argsort(pred, direction='DESCENDING')  # softmax 값이 큰 순서대로 sorting 합니다.\n",
    "\n",
    "        length = len(inputs)\n",
    "        recall_list.extend([recall_k(pred_arg[i], label[i], k) for i in range(length)])\n",
    "        mrr_list.extend([mrr_k(pred_arg[i], label[i], k) for i in range(length)])\n",
    "\n",
    "    recall, mrr = np.mean(recall_list), np.mean(mrr_list)\n",
    "    return recall, mrr"
   ]
  },
  {
   "cell_type": "code",
   "execution_count": 117,
   "id": "military-border",
   "metadata": {
    "scrolled": false
   },
   "outputs": [
    {
     "name": "stderr",
     "output_type": "stream",
     "text": [
      "Train:  95%|█████████▍| 2168/2286 [00:27<00:01, 79.30it/s, accuracy=0.00781, train_loss=6.81]\n",
      "Evaluation:  21%|██▏       | 53/248 [00:33<02:04,  1.57it/s]\n",
      "Train:   0%|          | 0/2286 [00:00<?, ?it/s, accuracy=0.00781, train_loss=6.41]"
     ]
    },
    {
     "name": "stdout",
     "output_type": "stream",
     "text": [
      "\t - Recall@20 epoch 1: 0.154260\n",
      "\t - MRR@20    epoch 1: 0.037941\n",
      "\n"
     ]
    },
    {
     "name": "stderr",
     "output_type": "stream",
     "text": [
      "Train:  95%|█████████▍| 2168/2286 [00:26<00:01, 82.42it/s, accuracy=0.0234, train_loss=6.22] \n",
      "Evaluation:  21%|██▏       | 53/248 [00:30<01:52,  1.74it/s]\n",
      "Train:   0%|          | 0/2286 [00:00<?, ?it/s, accuracy=0.0234, train_loss=5.81] "
     ]
    },
    {
     "name": "stdout",
     "output_type": "stream",
     "text": [
      "\t - Recall@20 epoch 2: 0.268278\n",
      "\t - MRR@20    epoch 2: 0.072229\n",
      "\n"
     ]
    },
    {
     "name": "stderr",
     "output_type": "stream",
     "text": [
      "Train:  95%|█████████▍| 2168/2286 [00:26<00:01, 81.36it/s, accuracy=0.0273, train_loss=5.96] \n",
      "Evaluation:  21%|██▏       | 53/248 [00:29<01:50,  1.77it/s]\n",
      "Train:   0%|          | 0/2286 [00:00<?, ?it/s, accuracy=0.0312, train_loss=5.52] "
     ]
    },
    {
     "name": "stdout",
     "output_type": "stream",
     "text": [
      "\t - Recall@20 epoch 3: 0.315006\n",
      "\t - MRR@20    epoch 3: 0.088449\n",
      "\n"
     ]
    },
    {
     "name": "stderr",
     "output_type": "stream",
     "text": [
      "Train:  95%|█████████▍| 2168/2286 [00:25<00:01, 84.12it/s, accuracy=0.0273, train_loss=5.86] \n",
      "Evaluation:  21%|██▏       | 53/248 [00:29<01:48,  1.80it/s]\n",
      "Train:   0%|          | 0/2286 [00:00<?, ?it/s, accuracy=0.0391, train_loss=5.39] "
     ]
    },
    {
     "name": "stdout",
     "output_type": "stream",
     "text": [
      "\t - Recall@20 epoch 4: 0.335569\n",
      "\t - MRR@20    epoch 4: 0.099502\n",
      "\n"
     ]
    },
    {
     "name": "stderr",
     "output_type": "stream",
     "text": [
      "Train:  95%|█████████▍| 2168/2286 [00:26<00:01, 81.86it/s, accuracy=0.043, train_loss=5.76]  \n",
      "Evaluation:  21%|██▏       | 53/248 [00:29<01:49,  1.77it/s]\n",
      "Train:   0%|          | 0/2286 [00:00<?, ?it/s, accuracy=0.0312, train_loss=5.33] "
     ]
    },
    {
     "name": "stdout",
     "output_type": "stream",
     "text": [
      "\t - Recall@20 epoch 5: 0.347214\n",
      "\t - MRR@20    epoch 5: 0.104668\n",
      "\n"
     ]
    },
    {
     "name": "stderr",
     "output_type": "stream",
     "text": [
      "Train:  95%|█████████▍| 2168/2286 [00:26<00:01, 81.53it/s, accuracy=0.0547, train_loss=5.64] \n",
      "Evaluation:  21%|██▏       | 53/248 [00:29<01:46,  1.83it/s]\n",
      "Train:   0%|          | 0/2286 [00:00<?, ?it/s, accuracy=0.0469, train_loss=5.28] "
     ]
    },
    {
     "name": "stdout",
     "output_type": "stream",
     "text": [
      "\t - Recall@20 epoch 6: 0.355100\n",
      "\t - MRR@20    epoch 6: 0.108516\n",
      "\n"
     ]
    },
    {
     "name": "stderr",
     "output_type": "stream",
     "text": [
      "Train:  95%|█████████▍| 2168/2286 [00:26<00:01, 81.75it/s, accuracy=0.0234, train_loss=5.63] \n",
      "Evaluation:  21%|██▏       | 53/248 [00:28<01:45,  1.85it/s]\n",
      "Train:   0%|          | 0/2286 [00:00<?, ?it/s, accuracy=0.0547, train_loss=5.21] "
     ]
    },
    {
     "name": "stdout",
     "output_type": "stream",
     "text": [
      "\t - Recall@20 epoch 7: 0.360186\n",
      "\t - MRR@20    epoch 7: 0.111499\n",
      "\n"
     ]
    },
    {
     "name": "stderr",
     "output_type": "stream",
     "text": [
      "Train:  95%|█████████▍| 2168/2286 [00:25<00:01, 83.41it/s, accuracy=0.0391, train_loss=5.59]\n",
      "Evaluation:  21%|██▏       | 53/248 [00:29<01:47,  1.82it/s]\n",
      "Train:   0%|          | 0/2286 [00:00<?, ?it/s, accuracy=0.0547, train_loss=5.2]  "
     ]
    },
    {
     "name": "stdout",
     "output_type": "stream",
     "text": [
      "\t - Recall@20 epoch 8: 0.366377\n",
      "\t - MRR@20    epoch 8: 0.114641\n",
      "\n"
     ]
    },
    {
     "name": "stderr",
     "output_type": "stream",
     "text": [
      "Train:  95%|█████████▍| 2168/2286 [00:26<00:01, 82.30it/s, accuracy=0.043, train_loss=5.56]  \n",
      "Evaluation:  21%|██▏       | 53/248 [00:29<01:47,  1.81it/s]\n",
      "Train:   0%|          | 0/2286 [00:00<?, ?it/s, accuracy=0.0508, train_loss=5.2]  "
     ]
    },
    {
     "name": "stdout",
     "output_type": "stream",
     "text": [
      "\t - Recall@20 epoch 9: 0.368883\n",
      "\t - MRR@20    epoch 9: 0.116369\n",
      "\n"
     ]
    },
    {
     "name": "stderr",
     "output_type": "stream",
     "text": [
      "Train:  95%|█████████▍| 2168/2286 [00:26<00:01, 82.10it/s, accuracy=0.0469, train_loss=5.53]\n",
      "Evaluation:  21%|██▏       | 53/248 [00:29<01:47,  1.81it/s]\n",
      "Train:   0%|          | 0/2286 [00:00<?, ?it/s, accuracy=0.0859, train_loss=4.99]"
     ]
    },
    {
     "name": "stdout",
     "output_type": "stream",
     "text": [
      "\t - Recall@20 epoch 10: 0.370946\n",
      "\t - MRR@20    epoch 10: 0.118357\n",
      "\n"
     ]
    },
    {
     "name": "stderr",
     "output_type": "stream",
     "text": [
      "Train:  95%|█████████▍| 2168/2286 [00:27<00:01, 79.96it/s, accuracy=0.0664, train_loss=5.44]\n",
      "Evaluation:  21%|██▏       | 53/248 [00:28<01:46,  1.83it/s]\n",
      "Train:   0%|          | 0/2286 [00:00<?, ?it/s, accuracy=0.0898, train_loss=5.03] "
     ]
    },
    {
     "name": "stdout",
     "output_type": "stream",
     "text": [
      "\t - Recall@20 epoch 11: 0.371462\n",
      "\t - MRR@20    epoch 11: 0.120285\n",
      "\n"
     ]
    },
    {
     "name": "stderr",
     "output_type": "stream",
     "text": [
      "Train:  95%|█████████▍| 2168/2286 [00:27<00:01, 79.15it/s, accuracy=0.0547, train_loss=5.52]\n",
      "Evaluation:  21%|██▏       | 53/248 [00:29<01:47,  1.82it/s]\n",
      "Train:   0%|          | 0/2286 [00:00<?, ?it/s, accuracy=0.0781, train_loss=5.03] "
     ]
    },
    {
     "name": "stdout",
     "output_type": "stream",
     "text": [
      "\t - Recall@20 epoch 12: 0.373600\n",
      "\t - MRR@20    epoch 12: 0.121664\n",
      "\n"
     ]
    },
    {
     "name": "stderr",
     "output_type": "stream",
     "text": [
      "Train:  95%|█████████▍| 2168/2286 [00:26<00:01, 80.33it/s, accuracy=0.0508, train_loss=5.47]\n",
      "Evaluation:  21%|██▏       | 53/248 [00:29<01:47,  1.82it/s]\n",
      "Train:   0%|          | 0/2286 [00:00<?, ?it/s, accuracy=0.0703, train_loss=5.03]"
     ]
    },
    {
     "name": "stdout",
     "output_type": "stream",
     "text": [
      "\t - Recall@20 epoch 13: 0.373600\n",
      "\t - MRR@20    epoch 13: 0.121678\n",
      "\n"
     ]
    },
    {
     "name": "stderr",
     "output_type": "stream",
     "text": [
      "Train:  95%|█████████▍| 2168/2286 [00:27<00:01, 79.17it/s, accuracy=0.0586, train_loss=5.45]\n",
      "Evaluation:  21%|██▏       | 53/248 [00:28<01:45,  1.85it/s]\n",
      "Train:   0%|          | 0/2286 [00:00<?, ?it/s, accuracy=0.0781, train_loss=4.96]"
     ]
    },
    {
     "name": "stdout",
     "output_type": "stream",
     "text": [
      "\t - Recall@20 epoch 14: 0.375074\n",
      "\t - MRR@20    epoch 14: 0.123016\n",
      "\n"
     ]
    },
    {
     "name": "stderr",
     "output_type": "stream",
     "text": [
      "Train:  95%|█████████▍| 2168/2286 [00:27<00:01, 78.50it/s, accuracy=0.0547, train_loss=5.48]\n",
      "Evaluation:  21%|██▏       | 53/248 [00:28<01:45,  1.85it/s]\n",
      "Train:   0%|          | 0/2286 [00:00<?, ?it/s, accuracy=0.0703, train_loss=5.02] "
     ]
    },
    {
     "name": "stdout",
     "output_type": "stream",
     "text": [
      "\t - Recall@20 epoch 15: 0.375074\n",
      "\t - MRR@20    epoch 15: 0.123269\n",
      "\n"
     ]
    },
    {
     "name": "stderr",
     "output_type": "stream",
     "text": [
      "Train:  95%|█████████▍| 2168/2286 [00:27<00:01, 78.18it/s, accuracy=0.0547, train_loss=5.45]\n",
      "Evaluation:  21%|██▏       | 53/248 [00:29<01:48,  1.79it/s]\n",
      "Train:   0%|          | 0/2286 [00:00<?, ?it/s, accuracy=0.0625, train_loss=5.05]"
     ]
    },
    {
     "name": "stdout",
     "output_type": "stream",
     "text": [
      "\t - Recall@20 epoch 16: 0.375147\n",
      "\t - MRR@20    epoch 16: 0.123743\n",
      "\n"
     ]
    },
    {
     "name": "stderr",
     "output_type": "stream",
     "text": [
      "Train:  95%|█████████▍| 2168/2286 [00:26<00:01, 83.20it/s, accuracy=0.0508, train_loss=5.41]\n",
      "Evaluation:  21%|██▏       | 53/248 [00:30<01:52,  1.74it/s]\n",
      "Train:   0%|          | 0/2286 [00:00<?, ?it/s, accuracy=0.0742, train_loss=5.04] "
     ]
    },
    {
     "name": "stdout",
     "output_type": "stream",
     "text": [
      "\t - Recall@20 epoch 17: 0.374853\n",
      "\t - MRR@20    epoch 17: 0.123808\n",
      "\n"
     ]
    },
    {
     "name": "stderr",
     "output_type": "stream",
     "text": [
      "Train:  95%|█████████▍| 2168/2286 [00:26<00:01, 83.08it/s, accuracy=0.0547, train_loss=5.43]\n",
      "Evaluation:  21%|██▏       | 53/248 [00:28<01:43,  1.88it/s]\n",
      "Train:   0%|          | 0/2286 [00:00<?, ?it/s, accuracy=0.0742, train_loss=5.05] "
     ]
    },
    {
     "name": "stdout",
     "output_type": "stream",
     "text": [
      "\t - Recall@20 epoch 18: 0.375147\n",
      "\t - MRR@20    epoch 18: 0.124120\n",
      "\n"
     ]
    },
    {
     "name": "stderr",
     "output_type": "stream",
     "text": [
      "Train:  95%|█████████▍| 2168/2286 [00:26<00:01, 82.80it/s, accuracy=0.0508, train_loss=5.45]\n",
      "Evaluation:  21%|██▏       | 53/248 [00:28<01:43,  1.88it/s]\n",
      "Train:   0%|          | 0/2286 [00:00<?, ?it/s, accuracy=0.043, train_loss=5.02]  "
     ]
    },
    {
     "name": "stdout",
     "output_type": "stream",
     "text": [
      "\t - Recall@20 epoch 19: 0.375074\n",
      "\t - MRR@20    epoch 19: 0.123723\n",
      "\n"
     ]
    },
    {
     "name": "stderr",
     "output_type": "stream",
     "text": [
      "Train:  95%|█████████▍| 2168/2286 [00:26<00:01, 82.65it/s, accuracy=0.0547, train_loss=5.41]\n",
      "Evaluation:  21%|██▏       | 53/248 [00:28<01:43,  1.88it/s]\n",
      "Train:   0%|          | 0/2286 [00:00<?, ?it/s, accuracy=0.0742, train_loss=5]   "
     ]
    },
    {
     "name": "stdout",
     "output_type": "stream",
     "text": [
      "\t - Recall@20 epoch 20: 0.373452\n",
      "\t - MRR@20    epoch 20: 0.123484\n",
      "\n"
     ]
    },
    {
     "name": "stderr",
     "output_type": "stream",
     "text": [
      "Train:  95%|█████████▍| 2168/2286 [00:25<00:01, 84.05it/s, accuracy=0.0586, train_loss=5.42]\n",
      "Evaluation:  21%|██▏       | 53/248 [00:29<01:48,  1.80it/s]\n",
      "Train:   0%|          | 0/2286 [00:00<?, ?it/s, accuracy=0.0508, train_loss=5.02]"
     ]
    },
    {
     "name": "stdout",
     "output_type": "stream",
     "text": [
      "\t - Recall@20 epoch 21: 0.374337\n",
      "\t - MRR@20    epoch 21: 0.123682\n",
      "\n"
     ]
    },
    {
     "name": "stderr",
     "output_type": "stream",
     "text": [
      "Train:  95%|█████████▍| 2168/2286 [00:26<00:01, 81.99it/s, accuracy=0.0625, train_loss=5.38]\n",
      "Evaluation:  21%|██▏       | 53/248 [00:30<01:52,  1.73it/s]\n",
      "Train:   0%|          | 0/2286 [00:00<?, ?it/s, accuracy=0.0703, train_loss=4.98]"
     ]
    },
    {
     "name": "stdout",
     "output_type": "stream",
     "text": [
      "\t - Recall@20 epoch 22: 0.375295\n",
      "\t - MRR@20    epoch 22: 0.123896\n",
      "\n"
     ]
    },
    {
     "name": "stderr",
     "output_type": "stream",
     "text": [
      "Train:  95%|█████████▍| 2168/2286 [00:25<00:01, 84.84it/s, accuracy=0.0547, train_loss=5.39]\n",
      "Evaluation:  21%|██▏       | 53/248 [00:28<01:45,  1.85it/s]\n",
      "Train:   0%|          | 0/2286 [00:00<?, ?it/s, accuracy=0.0625, train_loss=4.94] "
     ]
    },
    {
     "name": "stdout",
     "output_type": "stream",
     "text": [
      "\t - Recall@20 epoch 23: 0.374263\n",
      "\t - MRR@20    epoch 23: 0.123262\n",
      "\n"
     ]
    },
    {
     "name": "stderr",
     "output_type": "stream",
     "text": [
      "Train:  95%|█████████▍| 2168/2286 [00:26<00:01, 82.48it/s, accuracy=0.0312, train_loss=5.44]\n",
      "Evaluation:  21%|██▏       | 53/248 [00:28<01:45,  1.86it/s]\n",
      "Train:   0%|          | 0/2286 [00:00<?, ?it/s, accuracy=0.0703, train_loss=4.95] "
     ]
    },
    {
     "name": "stdout",
     "output_type": "stream",
     "text": [
      "\t - Recall@20 epoch 24: 0.375737\n",
      "\t - MRR@20    epoch 24: 0.124276\n",
      "\n"
     ]
    },
    {
     "name": "stderr",
     "output_type": "stream",
     "text": [
      "Train:  95%|█████████▍| 2168/2286 [00:26<00:01, 83.36it/s, accuracy=0.0703, train_loss=5.39]\n",
      "Evaluation:  21%|██▏       | 53/248 [00:28<01:44,  1.87it/s]\n",
      "Train:   0%|          | 0/2286 [00:00<?, ?it/s, accuracy=0.0664, train_loss=5.04]"
     ]
    },
    {
     "name": "stdout",
     "output_type": "stream",
     "text": [
      "\t - Recall@20 epoch 25: 0.375442\n",
      "\t - MRR@20    epoch 25: 0.123858\n",
      "\n"
     ]
    },
    {
     "name": "stderr",
     "output_type": "stream",
     "text": [
      "Train:  95%|█████████▍| 2168/2286 [00:26<00:01, 83.29it/s, accuracy=0.0781, train_loss=5.36]\n",
      "Evaluation:  21%|██▏       | 53/248 [00:28<01:44,  1.86it/s]\n",
      "Train:   0%|          | 0/2286 [00:00<?, ?it/s, accuracy=0.0742, train_loss=4.95]"
     ]
    },
    {
     "name": "stdout",
     "output_type": "stream",
     "text": [
      "\t - Recall@20 epoch 26: 0.377948\n",
      "\t - MRR@20    epoch 26: 0.123593\n",
      "\n"
     ]
    },
    {
     "name": "stderr",
     "output_type": "stream",
     "text": [
      "Train:  95%|█████████▍| 2168/2286 [00:25<00:01, 83.45it/s, accuracy=0.0586, train_loss=5.39]\n",
      "Evaluation:  21%|██▏       | 53/248 [00:28<01:45,  1.85it/s]\n",
      "Train:   0%|          | 0/2286 [00:00<?, ?it/s, accuracy=0.0664, train_loss=4.94]"
     ]
    },
    {
     "name": "stdout",
     "output_type": "stream",
     "text": [
      "\t - Recall@20 epoch 27: 0.375369\n",
      "\t - MRR@20    epoch 27: 0.123156\n",
      "\n"
     ]
    },
    {
     "name": "stderr",
     "output_type": "stream",
     "text": [
      "Train:  95%|█████████▍| 2168/2286 [00:25<00:01, 84.56it/s, accuracy=0.0625, train_loss=5.34]\n",
      "Evaluation:  21%|██▏       | 53/248 [00:28<01:44,  1.87it/s]\n",
      "Train:   0%|          | 0/2286 [00:00<?, ?it/s, accuracy=0.0703, train_loss=4.96]"
     ]
    },
    {
     "name": "stdout",
     "output_type": "stream",
     "text": [
      "\t - Recall@20 epoch 28: 0.375369\n",
      "\t - MRR@20    epoch 28: 0.123373\n",
      "\n"
     ]
    },
    {
     "name": "stderr",
     "output_type": "stream",
     "text": [
      "Train:  95%|█████████▍| 2168/2286 [00:25<00:01, 83.53it/s, accuracy=0.0742, train_loss=5.38]\n",
      "Evaluation:  21%|██▏       | 53/248 [00:28<01:44,  1.87it/s]\n",
      "Train:   0%|          | 0/2286 [00:00<?, ?it/s, accuracy=0.0664, train_loss=4.96] "
     ]
    },
    {
     "name": "stdout",
     "output_type": "stream",
     "text": [
      "\t - Recall@20 epoch 29: 0.375516\n",
      "\t - MRR@20    epoch 29: 0.123349\n",
      "\n"
     ]
    },
    {
     "name": "stderr",
     "output_type": "stream",
     "text": [
      "Train:  95%|█████████▍| 2168/2286 [00:25<00:01, 84.06it/s, accuracy=0.043, train_loss=5.39] \n",
      "Evaluation:  21%|██▏       | 53/248 [00:28<01:43,  1.88it/s]\n",
      "Train:   0%|          | 0/2286 [00:00<?, ?it/s, accuracy=0.0664, train_loss=4.91]"
     ]
    },
    {
     "name": "stdout",
     "output_type": "stream",
     "text": [
      "\t - Recall@20 epoch 30: 0.375000\n",
      "\t - MRR@20    epoch 30: 0.123658\n",
      "\n"
     ]
    },
    {
     "name": "stderr",
     "output_type": "stream",
     "text": [
      "Train:  95%|█████████▍| 2168/2286 [00:25<00:01, 83.46it/s, accuracy=0.0391, train_loss=5.4] \n",
      "Evaluation:  21%|██▏       | 53/248 [00:28<01:45,  1.85it/s]\n",
      "Train:   0%|          | 0/2286 [00:00<?, ?it/s, accuracy=0.0742, train_loss=4.96]"
     ]
    },
    {
     "name": "stdout",
     "output_type": "stream",
     "text": [
      "\t - Recall@20 epoch 31: 0.374853\n",
      "\t - MRR@20    epoch 31: 0.123691\n",
      "\n"
     ]
    },
    {
     "name": "stderr",
     "output_type": "stream",
     "text": [
      "Train:  95%|█████████▍| 2168/2286 [00:26<00:01, 83.23it/s, accuracy=0.0781, train_loss=5.39]\n",
      "Evaluation:  21%|██▏       | 53/248 [00:28<01:45,  1.85it/s]\n",
      "Train:   0%|          | 0/2286 [00:00<?, ?it/s, accuracy=0.0664, train_loss=4.96]"
     ]
    },
    {
     "name": "stdout",
     "output_type": "stream",
     "text": [
      "\t - Recall@20 epoch 32: 0.373600\n",
      "\t - MRR@20    epoch 32: 0.123171\n",
      "\n"
     ]
    },
    {
     "name": "stderr",
     "output_type": "stream",
     "text": [
      "Train:  95%|█████████▍| 2168/2286 [00:26<00:01, 81.16it/s, accuracy=0.0547, train_loss=5.4] \n",
      "Evaluation:  21%|██▏       | 53/248 [00:28<01:44,  1.86it/s]\n",
      "Train:   0%|          | 0/2286 [00:00<?, ?it/s, accuracy=0.0664, train_loss=4.97] "
     ]
    },
    {
     "name": "stdout",
     "output_type": "stream",
     "text": [
      "\t - Recall@20 epoch 33: 0.373231\n",
      "\t - MRR@20    epoch 33: 0.123260\n",
      "\n"
     ]
    },
    {
     "name": "stderr",
     "output_type": "stream",
     "text": [
      "Train:  95%|█████████▍| 2168/2286 [00:26<00:01, 82.14it/s, accuracy=0.0625, train_loss=5.4] \n",
      "Evaluation:  21%|██▏       | 53/248 [00:28<01:46,  1.83it/s]\n",
      "Train:   0%|          | 0/2286 [00:00<?, ?it/s, accuracy=0.0508, train_loss=4.97]"
     ]
    },
    {
     "name": "stdout",
     "output_type": "stream",
     "text": [
      "\t - Recall@20 epoch 34: 0.375442\n",
      "\t - MRR@20    epoch 34: 0.123197\n",
      "\n"
     ]
    },
    {
     "name": "stderr",
     "output_type": "stream",
     "text": [
      "Train:  95%|█████████▍| 2168/2286 [00:26<00:01, 82.24it/s, accuracy=0.0469, train_loss=5.37]\n",
      "Evaluation:  21%|██▏       | 53/248 [00:28<01:45,  1.85it/s]\n",
      "Train:   0%|          | 0/2286 [00:00<?, ?it/s, accuracy=0.0703, train_loss=4.94] "
     ]
    },
    {
     "name": "stdout",
     "output_type": "stream",
     "text": [
      "\t - Recall@20 epoch 35: 0.375811\n",
      "\t - MRR@20    epoch 35: 0.123832\n",
      "\n"
     ]
    },
    {
     "name": "stderr",
     "output_type": "stream",
     "text": [
      "Train:  95%|█████████▍| 2168/2286 [00:25<00:01, 83.66it/s, accuracy=0.0742, train_loss=5.35]\n",
      "Evaluation:  21%|██▏       | 53/248 [00:28<01:45,  1.85it/s]\n",
      "Train:   0%|          | 0/2286 [00:00<?, ?it/s, accuracy=0.0508, train_loss=4.9] "
     ]
    },
    {
     "name": "stdout",
     "output_type": "stream",
     "text": [
      "\t - Recall@20 epoch 36: 0.374263\n",
      "\t - MRR@20    epoch 36: 0.122939\n",
      "\n"
     ]
    },
    {
     "name": "stderr",
     "output_type": "stream",
     "text": [
      "Train:  95%|█████████▍| 2168/2286 [00:26<00:01, 81.96it/s, accuracy=0.0859, train_loss=5.34]\n",
      "Evaluation:  21%|██▏       | 53/248 [00:28<01:45,  1.85it/s]\n",
      "Train:   0%|          | 0/2286 [00:00<?, ?it/s, accuracy=0.0703, train_loss=4.9] "
     ]
    },
    {
     "name": "stdout",
     "output_type": "stream",
     "text": [
      "\t - Recall@20 epoch 37: 0.375000\n",
      "\t - MRR@20    epoch 37: 0.123015\n",
      "\n"
     ]
    },
    {
     "name": "stderr",
     "output_type": "stream",
     "text": [
      "Train:  95%|█████████▍| 2168/2286 [00:26<00:01, 82.97it/s, accuracy=0.0625, train_loss=5.34]\n",
      "Evaluation:  21%|██▏       | 53/248 [00:28<01:46,  1.84it/s]\n",
      "Train:   0%|          | 0/2286 [00:00<?, ?it/s, accuracy=0.0508, train_loss=4.93]"
     ]
    },
    {
     "name": "stdout",
     "output_type": "stream",
     "text": [
      "\t - Recall@20 epoch 38: 0.373452\n",
      "\t - MRR@20    epoch 38: 0.122773\n",
      "\n"
     ]
    },
    {
     "name": "stderr",
     "output_type": "stream",
     "text": [
      "Train:  95%|█████████▍| 2168/2286 [00:26<00:01, 81.48it/s, accuracy=0.082, train_loss=5.31] \n",
      "Evaluation:  21%|██▏       | 53/248 [00:28<01:45,  1.86it/s]\n",
      "Train:   0%|          | 0/2286 [00:00<?, ?it/s, accuracy=0.0703, train_loss=4.94]"
     ]
    },
    {
     "name": "stdout",
     "output_type": "stream",
     "text": [
      "\t - Recall@20 epoch 39: 0.374484\n",
      "\t - MRR@20    epoch 39: 0.123711\n",
      "\n"
     ]
    },
    {
     "name": "stderr",
     "output_type": "stream",
     "text": [
      "Train:  95%|█████████▍| 2168/2286 [00:26<00:01, 82.73it/s, accuracy=0.0781, train_loss=5.36]\n",
      "Evaluation:  21%|██▏       | 53/248 [00:28<01:44,  1.86it/s]\n",
      "Train:   0%|          | 0/2286 [00:00<?, ?it/s, accuracy=0.082, train_loss=4.92] "
     ]
    },
    {
     "name": "stdout",
     "output_type": "stream",
     "text": [
      "\t - Recall@20 epoch 40: 0.374926\n",
      "\t - MRR@20    epoch 40: 0.123457\n",
      "\n"
     ]
    },
    {
     "name": "stderr",
     "output_type": "stream",
     "text": [
      "Train:  95%|█████████▍| 2168/2286 [00:26<00:01, 81.71it/s, accuracy=0.0664, train_loss=5.31]\n",
      "Evaluation:  21%|██▏       | 53/248 [00:28<01:43,  1.88it/s]\n",
      "Train:   0%|          | 0/2286 [00:00<?, ?it/s, accuracy=0.0938, train_loss=4.84]"
     ]
    },
    {
     "name": "stdout",
     "output_type": "stream",
     "text": [
      "\t - Recall@20 epoch 41: 0.372936\n",
      "\t - MRR@20    epoch 41: 0.123412\n",
      "\n"
     ]
    },
    {
     "name": "stderr",
     "output_type": "stream",
     "text": [
      "Train:  95%|█████████▍| 2168/2286 [00:26<00:01, 82.78it/s, accuracy=0.0859, train_loss=5.26]\n",
      "Evaluation:  21%|██▏       | 53/248 [00:28<01:44,  1.86it/s]\n",
      "Train:   0%|          | 0/2286 [00:00<?, ?it/s, accuracy=0.0781, train_loss=4.87]"
     ]
    },
    {
     "name": "stdout",
     "output_type": "stream",
     "text": [
      "\t - Recall@20 epoch 42: 0.372789\n",
      "\t - MRR@20    epoch 42: 0.123053\n",
      "\n"
     ]
    },
    {
     "name": "stderr",
     "output_type": "stream",
     "text": [
      "Train:  95%|█████████▍| 2168/2286 [00:27<00:01, 79.56it/s, accuracy=0.0664, train_loss=5.36]\n",
      "Evaluation:  21%|██▏       | 53/248 [00:28<01:45,  1.85it/s]\n",
      "Train:   0%|          | 0/2286 [00:00<?, ?it/s, accuracy=0.102, train_loss=4.81] "
     ]
    },
    {
     "name": "stdout",
     "output_type": "stream",
     "text": [
      "\t - Recall@20 epoch 43: 0.373452\n",
      "\t - MRR@20    epoch 43: 0.123233\n",
      "\n"
     ]
    },
    {
     "name": "stderr",
     "output_type": "stream",
     "text": [
      "Train:  95%|█████████▍| 2168/2286 [00:27<00:01, 80.11it/s, accuracy=0.0703, train_loss=5.29]\n",
      "Evaluation:  21%|██▏       | 53/248 [00:28<01:46,  1.83it/s]\n",
      "Train:   0%|          | 0/2286 [00:00<?, ?it/s, accuracy=0.0898, train_loss=4.9] "
     ]
    },
    {
     "name": "stdout",
     "output_type": "stream",
     "text": [
      "\t - Recall@20 epoch 44: 0.372052\n",
      "\t - MRR@20    epoch 44: 0.123224\n",
      "\n"
     ]
    },
    {
     "name": "stderr",
     "output_type": "stream",
     "text": [
      "Train:  95%|█████████▍| 2168/2286 [00:27<00:01, 79.94it/s, accuracy=0.0742, train_loss=5.32]\n",
      "Evaluation:  21%|██▏       | 53/248 [00:29<01:48,  1.80it/s]\n",
      "Train:   0%|          | 0/2286 [00:00<?, ?it/s, accuracy=0.0781, train_loss=4.87]"
     ]
    },
    {
     "name": "stdout",
     "output_type": "stream",
     "text": [
      "\t - Recall@20 epoch 45: 0.372420\n",
      "\t - MRR@20    epoch 45: 0.122724\n",
      "\n"
     ]
    },
    {
     "name": "stderr",
     "output_type": "stream",
     "text": [
      "Train:  95%|█████████▍| 2168/2286 [00:26<00:01, 81.97it/s, accuracy=0.0547, train_loss=5.31]\n",
      "Evaluation:  21%|██▏       | 53/248 [00:30<01:51,  1.75it/s]\n",
      "Train:   0%|          | 0/2286 [00:00<?, ?it/s, accuracy=0.0742, train_loss=4.93]"
     ]
    },
    {
     "name": "stdout",
     "output_type": "stream",
     "text": [
      "\t - Recall@20 epoch 46: 0.372642\n",
      "\t - MRR@20    epoch 46: 0.123042\n",
      "\n"
     ]
    },
    {
     "name": "stderr",
     "output_type": "stream",
     "text": [
      "Train:  95%|█████████▍| 2168/2286 [00:26<00:01, 82.98it/s, accuracy=0.0469, train_loss=5.34]\n",
      "Evaluation:  21%|██▏       | 53/248 [00:29<01:48,  1.79it/s]\n",
      "Train:   0%|          | 0/2286 [00:00<?, ?it/s, accuracy=0.082, train_loss=4.9]  "
     ]
    },
    {
     "name": "stdout",
     "output_type": "stream",
     "text": [
      "\t - Recall@20 epoch 47: 0.372273\n",
      "\t - MRR@20    epoch 47: 0.122144\n",
      "\n"
     ]
    },
    {
     "name": "stderr",
     "output_type": "stream",
     "text": [
      "Train:  95%|█████████▍| 2168/2286 [00:28<00:01, 77.36it/s, accuracy=0.0625, train_loss=5.26]\n",
      "Evaluation:  21%|██▏       | 53/248 [00:28<01:46,  1.84it/s]\n",
      "Train:   0%|          | 0/2286 [00:00<?, ?it/s, accuracy=0.0859, train_loss=4.96]"
     ]
    },
    {
     "name": "stdout",
     "output_type": "stream",
     "text": [
      "\t - Recall@20 epoch 48: 0.370946\n",
      "\t - MRR@20    epoch 48: 0.123019\n",
      "\n"
     ]
    },
    {
     "name": "stderr",
     "output_type": "stream",
     "text": [
      "Train:  95%|█████████▍| 2168/2286 [00:27<00:01, 78.30it/s, accuracy=0.0742, train_loss=5.26]\n",
      "Evaluation:  21%|██▏       | 53/248 [00:28<01:46,  1.83it/s]\n",
      "Train:   0%|          | 0/2286 [00:00<?, ?it/s, accuracy=0.0742, train_loss=4.9] "
     ]
    },
    {
     "name": "stdout",
     "output_type": "stream",
     "text": [
      "\t - Recall@20 epoch 49: 0.371683\n",
      "\t - MRR@20    epoch 49: 0.122956\n",
      "\n"
     ]
    },
    {
     "name": "stderr",
     "output_type": "stream",
     "text": [
      "Train:  95%|█████████▍| 2168/2286 [00:28<00:01, 77.04it/s, accuracy=0.082, train_loss=5.29] \n",
      "Evaluation:  21%|██▏       | 53/248 [00:28<01:45,  1.86it/s]"
     ]
    },
    {
     "name": "stdout",
     "output_type": "stream",
     "text": [
      "\t - Recall@20 epoch 50: 0.372420\n",
      "\t - MRR@20    epoch 50: 0.123653\n",
      "\n"
     ]
    },
    {
     "name": "stderr",
     "output_type": "stream",
     "text": [
      "\n"
     ]
    }
   ],
   "source": [
    "train_model(model, args)"
   ]
  },
  {
   "cell_type": "markdown",
   "id": "solar-messenger",
   "metadata": {},
   "source": [
    "## 5. 모델 테스트"
   ]
  },
  {
   "cell_type": "code",
   "execution_count": 118,
   "id": "visible-planner",
   "metadata": {},
   "outputs": [
    {
     "name": "stderr",
     "output_type": "stream",
     "text": [
      "Evaluation:  67%|██████▋   | 473/708 [04:39<02:18,  1.69it/s]"
     ]
    },
    {
     "name": "stdout",
     "output_type": "stream",
     "text": [
      "\t - Recall@20: 0.281035\n",
      "\t - MRR@20: 0.086095\n",
      "\n"
     ]
    },
    {
     "name": "stderr",
     "output_type": "stream",
     "text": [
      "\n"
     ]
    }
   ],
   "source": [
    "def test_model(model, args, test):\n",
    "    test_recall, test_mrr = get_metrics(test, model, args, 20)\n",
    "    print(f\"\\t - Recall@{args.k}: {test_recall:3f}\")\n",
    "    print(f\"\\t - MRR@{args.k}: {test_mrr:3f}\\n\")\n",
    "\n",
    "test_model(model, args, test)"
   ]
  },
  {
   "cell_type": "markdown",
   "id": "compound-finland",
   "metadata": {},
   "source": [
    "## 2번째 모델 - 하이퍼파라미터 변경"
   ]
  },
  {
   "cell_type": "code",
   "execution_count": 119,
   "id": "serial-administration",
   "metadata": {},
   "outputs": [],
   "source": [
    "args = Args(train, valid, test, batch_size=128, hsz=50, drop_rate=0.4, lr=0.01, epochs=30, k=20)"
   ]
  },
  {
   "cell_type": "code",
   "execution_count": 120,
   "id": "focal-retail",
   "metadata": {},
   "outputs": [
    {
     "name": "stdout",
     "output_type": "stream",
     "text": [
      "Model: \"model_6\"\n",
      "_________________________________________________________________\n",
      "Layer (type)                 Output Shape              Param #   \n",
      "=================================================================\n",
      "input_7 (InputLayer)         [(128, 1, 3556)]          0         \n",
      "_________________________________________________________________\n",
      "GRU (GRU)                    [(128, 50), (128, 50)]    541200    \n",
      "_________________________________________________________________\n",
      "dropout_6 (Dropout)          (128, 50)                 0         \n",
      "_________________________________________________________________\n",
      "dense_6 (Dense)              (128, 3556)               181356    \n",
      "=================================================================\n",
      "Total params: 722,556\n",
      "Trainable params: 722,556\n",
      "Non-trainable params: 0\n",
      "_________________________________________________________________\n"
     ]
    }
   ],
   "source": [
    "model = create_model(args)"
   ]
  },
  {
   "cell_type": "code",
   "execution_count": 121,
   "id": "contained-ladder",
   "metadata": {
    "scrolled": false
   },
   "outputs": [
    {
     "name": "stderr",
     "output_type": "stream",
     "text": [
      "Train:  98%|█████████▊| 4462/4572 [00:41<00:01, 107.18it/s, accuracy=0.0234, train_loss=6.13] \n",
      "Evaluation:  59%|█████▊    | 291/496 [01:29<01:02,  3.26it/s]\n",
      "Train:   0%|          | 0/4572 [00:00<?, ?it/s, accuracy=0.0469, train_loss=5.73] "
     ]
    },
    {
     "name": "stdout",
     "output_type": "stream",
     "text": [
      "\t - Recall@20 epoch 1: 0.268793\n",
      "\t - MRR@20    epoch 1: 0.070223\n",
      "\n"
     ]
    },
    {
     "name": "stderr",
     "output_type": "stream",
     "text": [
      "Train:  98%|█████████▊| 4462/4572 [00:39<00:00, 111.57it/s, accuracy=0.0156, train_loss=6.04] \n",
      "Evaluation:  59%|█████▊    | 291/496 [01:28<01:02,  3.28it/s]\n",
      "Train:   0%|          | 0/4572 [00:00<?, ?it/s, accuracy=0.0312, train_loss=5.72] "
     ]
    },
    {
     "name": "stdout",
     "output_type": "stream",
     "text": [
      "\t - Recall@20 epoch 2: 0.278646\n",
      "\t - MRR@20    epoch 2: 0.075249\n",
      "\n"
     ]
    },
    {
     "name": "stderr",
     "output_type": "stream",
     "text": [
      "Train:  98%|█████████▊| 4462/4572 [00:40<00:01, 109.92it/s, accuracy=0.00781, train_loss=5.97]\n",
      "Evaluation:  59%|█████▊    | 291/496 [01:28<01:02,  3.29it/s]\n",
      "Train:   0%|          | 0/4572 [00:00<?, ?it/s, accuracy=0.0312, train_loss=5.64] "
     ]
    },
    {
     "name": "stdout",
     "output_type": "stream",
     "text": [
      "\t - Recall@20 epoch 3: 0.287720\n",
      "\t - MRR@20    epoch 3: 0.077141\n",
      "\n"
     ]
    },
    {
     "name": "stderr",
     "output_type": "stream",
     "text": [
      "Train:  98%|█████████▊| 4462/4572 [00:40<00:01, 109.45it/s, accuracy=0.0391, train_loss=6.05] \n",
      "Evaluation:  59%|█████▊    | 291/496 [01:27<01:01,  3.31it/s]\n",
      "Train:   0%|          | 0/4572 [00:00<?, ?it/s, accuracy=0.0547, train_loss=5.57] "
     ]
    },
    {
     "name": "stdout",
     "output_type": "stream",
     "text": [
      "\t - Recall@20 epoch 4: 0.286619\n",
      "\t - MRR@20    epoch 4: 0.077746\n",
      "\n"
     ]
    },
    {
     "name": "stderr",
     "output_type": "stream",
     "text": [
      "Train:  98%|█████████▊| 4462/4572 [00:40<00:01, 109.05it/s, accuracy=0.0312, train_loss=5.95] \n",
      "Evaluation:  59%|█████▊    | 291/496 [01:35<01:07,  3.06it/s]\n",
      "Train:   0%|          | 0/4572 [00:00<?, ?it/s, accuracy=0.0312, train_loss=5.44] "
     ]
    },
    {
     "name": "stdout",
     "output_type": "stream",
     "text": [
      "\t - Recall@20 epoch 5: 0.287640\n",
      "\t - MRR@20    epoch 5: 0.077865\n",
      "\n"
     ]
    },
    {
     "name": "stderr",
     "output_type": "stream",
     "text": [
      "Train:  98%|█████████▊| 4462/4572 [00:40<00:00, 111.09it/s, accuracy=0.0234, train_loss=6.03] \n",
      "Evaluation:  59%|█████▊    | 291/496 [01:26<01:00,  3.37it/s]\n",
      "Train:   0%|          | 0/4572 [00:00<?, ?it/s, accuracy=0.0625, train_loss=5.5]  "
     ]
    },
    {
     "name": "stdout",
     "output_type": "stream",
     "text": [
      "\t - Recall@20 epoch 6: 0.288848\n",
      "\t - MRR@20    epoch 6: 0.078714\n",
      "\n"
     ]
    },
    {
     "name": "stderr",
     "output_type": "stream",
     "text": [
      "Train:  98%|█████████▊| 4462/4572 [00:40<00:01, 109.77it/s, accuracy=0.00781, train_loss=5.97]\n",
      "Evaluation:  59%|█████▊    | 291/496 [01:26<01:01,  3.35it/s]\n",
      "Train:   0%|          | 0/4572 [00:00<?, ?it/s, accuracy=0.0781, train_loss=5.52] "
     ]
    },
    {
     "name": "stdout",
     "output_type": "stream",
     "text": [
      "\t - Recall@20 epoch 7: 0.289787\n",
      "\t - MRR@20    epoch 7: 0.078253\n",
      "\n"
     ]
    },
    {
     "name": "stderr",
     "output_type": "stream",
     "text": [
      "Train:  98%|█████████▊| 4462/4572 [00:40<00:01, 109.11it/s, accuracy=0.0312, train_loss=5.87] \n",
      "Evaluation:  59%|█████▊    | 291/496 [01:28<01:02,  3.30it/s]\n",
      "Train:   0%|          | 0/4572 [00:00<?, ?it/s, accuracy=0.0234, train_loss=5.64] "
     ]
    },
    {
     "name": "stdout",
     "output_type": "stream",
     "text": [
      "\t - Recall@20 epoch 8: 0.289304\n",
      "\t - MRR@20    epoch 8: 0.078372\n",
      "\n"
     ]
    },
    {
     "name": "stderr",
     "output_type": "stream",
     "text": [
      "Train:  98%|█████████▊| 4462/4572 [00:40<00:01, 109.60it/s, accuracy=0.0234, train_loss=5.94] \n",
      "Evaluation:  59%|█████▊    | 291/496 [01:26<01:01,  3.35it/s]\n",
      "Train:   0%|          | 0/4572 [00:00<?, ?it/s, accuracy=0.0312, train_loss=5.53] "
     ]
    },
    {
     "name": "stdout",
     "output_type": "stream",
     "text": [
      "\t - Recall@20 epoch 9: 0.289761\n",
      "\t - MRR@20    epoch 9: 0.078981\n",
      "\n"
     ]
    },
    {
     "name": "stderr",
     "output_type": "stream",
     "text": [
      "Train:  98%|█████████▊| 4462/4572 [00:41<00:01, 108.07it/s, accuracy=0.0312, train_loss=6.07] \n",
      "Evaluation:  59%|█████▊    | 291/496 [01:29<01:02,  3.27it/s]\n",
      "Train:   0%|          | 0/4572 [00:00<?, ?it/s, accuracy=0.0547, train_loss=5.42] "
     ]
    },
    {
     "name": "stdout",
     "output_type": "stream",
     "text": [
      "\t - Recall@20 epoch 10: 0.292848\n",
      "\t - MRR@20    epoch 10: 0.079089\n",
      "\n"
     ]
    },
    {
     "name": "stderr",
     "output_type": "stream",
     "text": [
      "Train:  98%|█████████▊| 4462/4572 [00:40<00:00, 110.53it/s, accuracy=0.00781, train_loss=5.99]\n",
      "Evaluation:  59%|█████▊    | 291/496 [01:28<01:02,  3.29it/s]\n",
      "Train:   0%|          | 0/4572 [00:00<?, ?it/s, accuracy=0.0781, train_loss=5.59]"
     ]
    },
    {
     "name": "stdout",
     "output_type": "stream",
     "text": [
      "\t - Recall@20 epoch 11: 0.287908\n",
      "\t - MRR@20    epoch 11: 0.078455\n",
      "\n"
     ]
    },
    {
     "name": "stderr",
     "output_type": "stream",
     "text": [
      "Train:  98%|█████████▊| 4462/4572 [00:40<00:00, 111.52it/s, accuracy=0.0234, train_loss=6.01] \n",
      "Evaluation:  59%|█████▊    | 291/496 [01:28<01:02,  3.30it/s]\n",
      "Train:   0%|          | 0/4572 [00:00<?, ?it/s, accuracy=0.0781, train_loss=5.47] "
     ]
    },
    {
     "name": "stdout",
     "output_type": "stream",
     "text": [
      "\t - Recall@20 epoch 12: 0.289385\n",
      "\t - MRR@20    epoch 12: 0.078242\n",
      "\n"
     ]
    },
    {
     "name": "stderr",
     "output_type": "stream",
     "text": [
      "Train:  98%|█████████▊| 4462/4572 [00:42<00:01, 105.96it/s, accuracy=0.0391, train_loss=5.98] \n",
      "Evaluation:  59%|█████▊    | 291/496 [01:28<01:02,  3.28it/s]\n",
      "Train:   0%|          | 0/4572 [00:00<?, ?it/s, accuracy=0.0703, train_loss=5.43] "
     ]
    },
    {
     "name": "stdout",
     "output_type": "stream",
     "text": [
      "\t - Recall@20 epoch 13: 0.290002\n",
      "\t - MRR@20    epoch 13: 0.079031\n",
      "\n"
     ]
    },
    {
     "name": "stderr",
     "output_type": "stream",
     "text": [
      "Train:  98%|█████████▊| 4462/4572 [00:40<00:00, 110.60it/s, accuracy=0.0312, train_loss=5.99] \n",
      "Evaluation:  59%|█████▊    | 291/496 [01:27<01:01,  3.33it/s]\n",
      "Train:   0%|          | 0/4572 [00:00<?, ?it/s, accuracy=0.0312, train_loss=5.58]"
     ]
    },
    {
     "name": "stdout",
     "output_type": "stream",
     "text": [
      "\t - Recall@20 epoch 14: 0.289036\n",
      "\t - MRR@20    epoch 14: 0.078710\n",
      "\n"
     ]
    },
    {
     "name": "stderr",
     "output_type": "stream",
     "text": [
      "Train:  98%|█████████▊| 4462/4572 [00:41<00:01, 108.68it/s, accuracy=0.0625, train_loss=6]    \n",
      "Evaluation:  59%|█████▊    | 291/496 [01:28<01:02,  3.29it/s]\n",
      "Train:   0%|          | 0/4572 [00:00<?, ?it/s, accuracy=0.0469, train_loss=5.45] "
     ]
    },
    {
     "name": "stdout",
     "output_type": "stream",
     "text": [
      "\t - Recall@20 epoch 15: 0.288740\n",
      "\t - MRR@20    epoch 15: 0.077749\n",
      "\n"
     ]
    },
    {
     "name": "stderr",
     "output_type": "stream",
     "text": [
      "Train:  98%|█████████▊| 4462/4572 [00:40<00:00, 110.07it/s, accuracy=0.0234, train_loss=6]    \n",
      "Evaluation:  59%|█████▊    | 291/496 [01:27<01:01,  3.32it/s]\n",
      "Train:   0%|          | 0/4572 [00:00<?, ?it/s, accuracy=0.0156, train_loss=5.72]"
     ]
    },
    {
     "name": "stdout",
     "output_type": "stream",
     "text": [
      "\t - Recall@20 epoch 16: 0.289062\n",
      "\t - MRR@20    epoch 16: 0.078099\n",
      "\n"
     ]
    },
    {
     "name": "stderr",
     "output_type": "stream",
     "text": [
      "Train:  98%|█████████▊| 4462/4572 [00:40<00:00, 110.26it/s, accuracy=0.0234, train_loss=5.94] \n",
      "Evaluation:  59%|█████▊    | 291/496 [01:28<01:02,  3.31it/s]\n",
      "Train:   0%|          | 0/4572 [00:00<?, ?it/s, accuracy=0.0312, train_loss=5.51] "
     ]
    },
    {
     "name": "stdout",
     "output_type": "stream",
     "text": [
      "\t - Recall@20 epoch 17: 0.292311\n",
      "\t - MRR@20    epoch 17: 0.078366\n",
      "\n"
     ]
    },
    {
     "name": "stderr",
     "output_type": "stream",
     "text": [
      "Train:  98%|█████████▊| 4462/4572 [00:41<00:01, 108.61it/s, accuracy=0.0547, train_loss=6.08] \n",
      "Evaluation:  59%|█████▊    | 291/496 [01:29<01:03,  3.25it/s]\n",
      "Train:   0%|          | 0/4572 [00:00<?, ?it/s, accuracy=0.0312, train_loss=5.66] "
     ]
    },
    {
     "name": "stdout",
     "output_type": "stream",
     "text": [
      "\t - Recall@20 epoch 18: 0.289492\n",
      "\t - MRR@20    epoch 18: 0.078120\n",
      "\n"
     ]
    },
    {
     "name": "stderr",
     "output_type": "stream",
     "text": [
      "Train:  98%|█████████▊| 4462/4572 [00:41<00:01, 106.89it/s, accuracy=0.0234, train_loss=5.99] \n",
      "Evaluation:  59%|█████▊    | 291/496 [01:28<01:02,  3.29it/s]\n",
      "Train:   0%|          | 0/4572 [00:00<?, ?it/s, accuracy=0.0156, train_loss=5.5] "
     ]
    },
    {
     "name": "stdout",
     "output_type": "stream",
     "text": [
      "\t - Recall@20 epoch 19: 0.288364\n",
      "\t - MRR@20    epoch 19: 0.077231\n",
      "\n"
     ]
    },
    {
     "name": "stderr",
     "output_type": "stream",
     "text": [
      "Train:  98%|█████████▊| 4462/4572 [00:41<00:01, 106.42it/s, accuracy=0.0625, train_loss=5.95] \n",
      "Evaluation:  59%|█████▊    | 291/496 [01:30<01:03,  3.22it/s]\n",
      "Train:   0%|          | 0/4572 [00:00<?, ?it/s, accuracy=0.0547, train_loss=5.59] "
     ]
    },
    {
     "name": "stdout",
     "output_type": "stream",
     "text": [
      "\t - Recall@20 epoch 20: 0.288150\n",
      "\t - MRR@20    epoch 20: 0.077045\n",
      "\n"
     ]
    },
    {
     "name": "stderr",
     "output_type": "stream",
     "text": [
      "Train:  98%|█████████▊| 4462/4572 [00:41<00:01, 107.70it/s, accuracy=0.0391, train_loss=5.9]  \n",
      "Evaluation:  59%|█████▊    | 291/496 [01:28<01:02,  3.30it/s]\n",
      "Train:   0%|          | 0/4572 [00:00<?, ?it/s, accuracy=0.0312, train_loss=5.63] "
     ]
    },
    {
     "name": "stdout",
     "output_type": "stream",
     "text": [
      "\t - Recall@20 epoch 21: 0.288472\n",
      "\t - MRR@20    epoch 21: 0.078046\n",
      "\n"
     ]
    },
    {
     "name": "stderr",
     "output_type": "stream",
     "text": [
      "Train:  98%|█████████▊| 4462/4572 [00:41<00:01, 107.73it/s, accuracy=0.0312, train_loss=5.85] \n",
      "Evaluation:  59%|█████▊    | 291/496 [01:27<01:01,  3.33it/s]\n",
      "Train:   0%|          | 0/4572 [00:00<?, ?it/s, accuracy=0.0469, train_loss=5.48] "
     ]
    },
    {
     "name": "stdout",
     "output_type": "stream",
     "text": [
      "\t - Recall@20 epoch 22: 0.287237\n",
      "\t - MRR@20    epoch 22: 0.077868\n",
      "\n"
     ]
    },
    {
     "name": "stderr",
     "output_type": "stream",
     "text": [
      "Train:  98%|█████████▊| 4462/4572 [00:41<00:01, 108.22it/s, accuracy=0.0391, train_loss=5.82] \n",
      "Evaluation:  59%|█████▊    | 291/496 [01:28<01:02,  3.29it/s]\n",
      "Train:   0%|          | 0/4572 [00:00<?, ?it/s, accuracy=0.0547, train_loss=5.47] "
     ]
    },
    {
     "name": "stdout",
     "output_type": "stream",
     "text": [
      "\t - Recall@20 epoch 23: 0.289814\n",
      "\t - MRR@20    epoch 23: 0.078609\n",
      "\n"
     ]
    },
    {
     "name": "stderr",
     "output_type": "stream",
     "text": [
      "Train:  98%|█████████▊| 4462/4572 [00:40<00:01, 108.86it/s, accuracy=0.0234, train_loss=6.07] \n",
      "Evaluation:  59%|█████▊    | 291/496 [01:29<01:02,  3.26it/s]\n",
      "Train:   0%|          | 0/4572 [00:00<?, ?it/s, accuracy=0.0469, train_loss=5.66] "
     ]
    },
    {
     "name": "stdout",
     "output_type": "stream",
     "text": [
      "\t - Recall@20 epoch 24: 0.286727\n",
      "\t - MRR@20    epoch 24: 0.076564\n",
      "\n"
     ]
    },
    {
     "name": "stderr",
     "output_type": "stream",
     "text": [
      "Train:  98%|█████████▊| 4462/4572 [00:40<00:01, 109.06it/s, accuracy=0.0469, train_loss=5.86] \n",
      "Evaluation:  59%|█████▊    | 291/496 [01:28<01:02,  3.29it/s]\n",
      "Train:   0%|          | 0/4572 [00:00<?, ?it/s, accuracy=0.0234, train_loss=5.65] "
     ]
    },
    {
     "name": "stdout",
     "output_type": "stream",
     "text": [
      "\t - Recall@20 epoch 25: 0.288230\n",
      "\t - MRR@20    epoch 25: 0.077236\n",
      "\n"
     ]
    },
    {
     "name": "stderr",
     "output_type": "stream",
     "text": [
      "Train:  98%|█████████▊| 4462/4572 [00:41<00:01, 106.52it/s, accuracy=0.0234, train_loss=5.99] \n",
      "Evaluation:  59%|█████▊    | 291/496 [01:29<01:03,  3.25it/s]\n",
      "Train:   0%|          | 0/4572 [00:00<?, ?it/s, accuracy=0.0391, train_loss=5.68] "
     ]
    },
    {
     "name": "stdout",
     "output_type": "stream",
     "text": [
      "\t - Recall@20 epoch 26: 0.284015\n",
      "\t - MRR@20    epoch 26: 0.077237\n",
      "\n"
     ]
    },
    {
     "name": "stderr",
     "output_type": "stream",
     "text": [
      "Train:  98%|█████████▊| 4462/4572 [00:41<00:01, 108.22it/s, accuracy=0.0391, train_loss=5.96] \n",
      "Evaluation:  59%|█████▊    | 291/496 [01:27<01:01,  3.34it/s]\n",
      "Train:   0%|          | 0/4572 [00:00<?, ?it/s, accuracy=0.0312, train_loss=5.7]  "
     ]
    },
    {
     "name": "stdout",
     "output_type": "stream",
     "text": [
      "\t - Recall@20 epoch 27: 0.290512\n",
      "\t - MRR@20    epoch 27: 0.077826\n",
      "\n"
     ]
    },
    {
     "name": "stderr",
     "output_type": "stream",
     "text": [
      "Train:  98%|█████████▊| 4462/4572 [00:41<00:01, 106.55it/s, accuracy=0.0625, train_loss=5.91] \n",
      "Evaluation:  59%|█████▊    | 291/496 [01:27<01:01,  3.34it/s]\n",
      "Train:   0%|          | 0/4572 [00:00<?, ?it/s, accuracy=0.0156, train_loss=5.5] "
     ]
    },
    {
     "name": "stdout",
     "output_type": "stream",
     "text": [
      "\t - Recall@20 epoch 28: 0.288740\n",
      "\t - MRR@20    epoch 28: 0.077743\n",
      "\n"
     ]
    },
    {
     "name": "stderr",
     "output_type": "stream",
     "text": [
      "Train:  98%|█████████▊| 4462/4572 [00:41<00:01, 108.21it/s, accuracy=0.0391, train_loss=5.94] \n",
      "Evaluation:  59%|█████▊    | 291/496 [01:27<01:01,  3.31it/s]\n",
      "Train:   0%|          | 0/4572 [00:00<?, ?it/s, accuracy=0.0312, train_loss=5.52]"
     ]
    },
    {
     "name": "stdout",
     "output_type": "stream",
     "text": [
      "\t - Recall@20 epoch 29: 0.286646\n",
      "\t - MRR@20    epoch 29: 0.076777\n",
      "\n"
     ]
    },
    {
     "name": "stderr",
     "output_type": "stream",
     "text": [
      "Train:  98%|█████████▊| 4462/4572 [00:41<00:01, 108.54it/s, accuracy=0.00781, train_loss=6.04]\n",
      "Evaluation:  59%|█████▊    | 291/496 [01:27<01:01,  3.32it/s]"
     ]
    },
    {
     "name": "stdout",
     "output_type": "stream",
     "text": [
      "\t - Recall@20 epoch 30: 0.286297\n",
      "\t - MRR@20    epoch 30: 0.077670\n",
      "\n"
     ]
    },
    {
     "name": "stderr",
     "output_type": "stream",
     "text": [
      "\n"
     ]
    }
   ],
   "source": [
    "train_model(model, args)"
   ]
  },
  {
   "cell_type": "code",
   "execution_count": 122,
   "id": "turkish-involvement",
   "metadata": {},
   "outputs": [
    {
     "name": "stderr",
     "output_type": "stream",
     "text": [
      "Evaluation:  83%|████████▎ | 1181/1417 [06:07<01:13,  3.21it/s]"
     ]
    },
    {
     "name": "stdout",
     "output_type": "stream",
     "text": [
      "\t - Recall@20: 0.236088\n",
      "\t - MRR@20: 0.063465\n",
      "\n"
     ]
    },
    {
     "name": "stderr",
     "output_type": "stream",
     "text": [
      "\n"
     ]
    }
   ],
   "source": [
    "def test_model(model, args, test):\n",
    "    test_recall, test_mrr = get_metrics(test, model, args, 20)\n",
    "    print(f\"\\t - Recall@{args.k}: {test_recall:3f}\")\n",
    "    print(f\"\\t - MRR@{args.k}: {test_mrr:3f}\\n\")\n",
    "\n",
    "test_model(model, args, test)"
   ]
  },
  {
   "cell_type": "markdown",
   "id": "brief-taxation",
   "metadata": {},
   "source": [
    "## 3번째 모델 - 모델 구조 (loss 종류) 변경\n",
    "\n",
    "loss를 pairwise ranking-based loss 중 하나인 mse를 선택해서 돌려보려합니다."
   ]
  },
  {
   "cell_type": "code",
   "execution_count": 139,
   "id": "micro-authority",
   "metadata": {},
   "outputs": [],
   "source": [
    "from tensorflow.keras.losses import mse\n",
    "\n",
    "def create_model(args):\n",
    "    inputs = Input(batch_shape=(args.batch_size, 1, args.num_items))\n",
    "    gru, _ = GRU(args.hsz, stateful=True, return_state=True, name='GRU')(inputs)\n",
    "    dropout = Dropout(args.drop_rate)(gru)\n",
    "    predictions = Dense(args.num_items, activation='softmax')(dropout)\n",
    "    model = Model(inputs=inputs, outputs=[predictions])\n",
    "    model.compile(loss=mse, optimizer=Adam(args.lr), metrics=['accuracy'])\n",
    "    model.summary()\n",
    "    return model"
   ]
  },
  {
   "cell_type": "code",
   "execution_count": 140,
   "id": "framed-arlington",
   "metadata": {},
   "outputs": [],
   "source": [
    "args = Args(train, valid, test, batch_size=128, hsz=50, drop_rate=0.1, lr=0.001, epochs=10, k=20)"
   ]
  },
  {
   "cell_type": "code",
   "execution_count": 141,
   "id": "concerned-address",
   "metadata": {
    "scrolled": true
   },
   "outputs": [
    {
     "name": "stdout",
     "output_type": "stream",
     "text": [
      "Model: \"model_12\"\n",
      "_________________________________________________________________\n",
      "Layer (type)                 Output Shape              Param #   \n",
      "=================================================================\n",
      "input_13 (InputLayer)        [(128, 1, 3556)]          0         \n",
      "_________________________________________________________________\n",
      "GRU (GRU)                    [(128, 50), (128, 50)]    541200    \n",
      "_________________________________________________________________\n",
      "dropout_12 (Dropout)         (128, 50)                 0         \n",
      "_________________________________________________________________\n",
      "dense_12 (Dense)             (128, 3556)               181356    \n",
      "=================================================================\n",
      "Total params: 722,556\n",
      "Trainable params: 722,556\n",
      "Non-trainable params: 0\n",
      "_________________________________________________________________\n"
     ]
    }
   ],
   "source": [
    "model = create_model(args)"
   ]
  },
  {
   "cell_type": "code",
   "execution_count": 142,
   "id": "younger-microwave",
   "metadata": {},
   "outputs": [
    {
     "name": "stderr",
     "output_type": "stream",
     "text": [
      "Train:  98%|█████████▊| 4462/4572 [00:40<00:01, 109.97it/s, accuracy=0.00781, train_loss=0.000281]\n",
      "Evaluation:  59%|█████▊    | 291/496 [01:39<01:10,  2.92it/s]\n",
      "Train:   0%|          | 0/4572 [00:00<?, ?it/s, accuracy=0, train_loss=0.000281]      "
     ]
    },
    {
     "name": "stdout",
     "output_type": "stream",
     "text": [
      "\t - Recall@20 epoch 1: 0.067467\n",
      "\t - MRR@20    epoch 1: 0.014065\n",
      "\n"
     ]
    },
    {
     "name": "stderr",
     "output_type": "stream",
     "text": [
      "Train:  98%|█████████▊| 4462/4572 [00:39<00:00, 111.99it/s, accuracy=0.00781, train_loss=0.000281]\n",
      "Evaluation:  59%|█████▊    | 291/496 [01:40<01:10,  2.90it/s]\n",
      "Train:   0%|          | 0/4572 [00:00<?, ?it/s, accuracy=0.0156, train_loss=0.000281] "
     ]
    },
    {
     "name": "stdout",
     "output_type": "stream",
     "text": [
      "\t - Recall@20 epoch 2: 0.069829\n",
      "\t - MRR@20    epoch 2: 0.014298\n",
      "\n"
     ]
    },
    {
     "name": "stderr",
     "output_type": "stream",
     "text": [
      "Train:  98%|█████████▊| 4462/4572 [00:39<00:00, 112.07it/s, accuracy=0.00781, train_loss=0.000281]\n",
      "Evaluation:  59%|█████▊    | 291/496 [01:39<01:09,  2.93it/s]\n",
      "Train:   0%|          | 0/4572 [00:00<?, ?it/s, accuracy=0.0156, train_loss=0.000281] "
     ]
    },
    {
     "name": "stdout",
     "output_type": "stream",
     "text": [
      "\t - Recall@20 epoch 3: 0.070098\n",
      "\t - MRR@20    epoch 3: 0.014217\n",
      "\n"
     ]
    },
    {
     "name": "stderr",
     "output_type": "stream",
     "text": [
      "Train:  98%|█████████▊| 4462/4572 [00:39<00:00, 112.87it/s, accuracy=0.00781, train_loss=0.000281]\n",
      "Evaluation:  59%|█████▊    | 291/496 [01:38<01:09,  2.97it/s]\n",
      "Train:   0%|          | 0/4572 [00:00<?, ?it/s, accuracy=0.0156, train_loss=0.000281] "
     ]
    },
    {
     "name": "stdout",
     "output_type": "stream",
     "text": [
      "\t - Recall@20 epoch 4: 0.069883\n",
      "\t - MRR@20    epoch 4: 0.014250\n",
      "\n"
     ]
    },
    {
     "name": "stderr",
     "output_type": "stream",
     "text": [
      "Train:  98%|█████████▊| 4462/4572 [00:39<00:00, 113.91it/s, accuracy=0.00781, train_loss=0.000281]\n",
      "Evaluation:  59%|█████▊    | 291/496 [01:39<01:09,  2.93it/s]\n",
      "Train:   0%|          | 0/4572 [00:00<?, ?it/s, accuracy=0.0156, train_loss=0.000281] "
     ]
    },
    {
     "name": "stdout",
     "output_type": "stream",
     "text": [
      "\t - Recall@20 epoch 5: 0.070232\n",
      "\t - MRR@20    epoch 5: 0.014277\n",
      "\n"
     ]
    },
    {
     "name": "stderr",
     "output_type": "stream",
     "text": [
      "Train:  98%|█████████▊| 4462/4572 [00:40<00:01, 109.62it/s, accuracy=0.00781, train_loss=0.000281]\n",
      "Evaluation:  59%|█████▊    | 291/496 [01:38<01:09,  2.95it/s]\n",
      "Train:   0%|          | 0/4572 [00:00<?, ?it/s, accuracy=0.0156, train_loss=0.000281] "
     ]
    },
    {
     "name": "stdout",
     "output_type": "stream",
     "text": [
      "\t - Recall@20 epoch 6: 0.070366\n",
      "\t - MRR@20    epoch 6: 0.014223\n",
      "\n"
     ]
    },
    {
     "name": "stderr",
     "output_type": "stream",
     "text": [
      "Train:  98%|█████████▊| 4462/4572 [00:39<00:00, 112.41it/s, accuracy=0.00781, train_loss=0.000281]\n",
      "Evaluation:  59%|█████▊    | 291/496 [01:36<01:08,  3.01it/s]\n",
      "Train:   0%|          | 0/4572 [00:00<?, ?it/s, accuracy=0, train_loss=0.000281]      "
     ]
    },
    {
     "name": "stdout",
     "output_type": "stream",
     "text": [
      "\t - Recall@20 epoch 7: 0.070312\n",
      "\t - MRR@20    epoch 7: 0.014169\n",
      "\n"
     ]
    },
    {
     "name": "stderr",
     "output_type": "stream",
     "text": [
      "Train:  98%|█████████▊| 4462/4572 [00:39<00:00, 113.34it/s, accuracy=0.00781, train_loss=0.000281]\n",
      "Evaluation:  59%|█████▊    | 291/496 [01:37<01:08,  2.97it/s]\n",
      "Train:   0%|          | 0/4572 [00:00<?, ?it/s, accuracy=0.0156, train_loss=0.000281] "
     ]
    },
    {
     "name": "stdout",
     "output_type": "stream",
     "text": [
      "\t - Recall@20 epoch 8: 0.070205\n",
      "\t - MRR@20    epoch 8: 0.014173\n",
      "\n"
     ]
    },
    {
     "name": "stderr",
     "output_type": "stream",
     "text": [
      "Train:  98%|█████████▊| 4462/4572 [00:40<00:00, 110.35it/s, accuracy=0.00781, train_loss=0.000281]\n",
      "Evaluation:  59%|█████▊    | 291/496 [01:37<01:08,  2.98it/s]\n",
      "Train:   0%|          | 0/4572 [00:00<?, ?it/s, accuracy=0.0156, train_loss=0.000281] "
     ]
    },
    {
     "name": "stdout",
     "output_type": "stream",
     "text": [
      "\t - Recall@20 epoch 9: 0.070339\n",
      "\t - MRR@20    epoch 9: 0.014152\n",
      "\n"
     ]
    },
    {
     "name": "stderr",
     "output_type": "stream",
     "text": [
      "Train:  98%|█████████▊| 4462/4572 [00:40<00:00, 110.22it/s, accuracy=0.00781, train_loss=0.000281]\n",
      "Evaluation:  59%|█████▊    | 291/496 [01:37<01:08,  2.99it/s]"
     ]
    },
    {
     "name": "stdout",
     "output_type": "stream",
     "text": [
      "\t - Recall@20 epoch 10: 0.070420\n",
      "\t - MRR@20    epoch 10: 0.014143\n",
      "\n"
     ]
    },
    {
     "name": "stderr",
     "output_type": "stream",
     "text": [
      "\n"
     ]
    }
   ],
   "source": [
    "train_model(model, args)"
   ]
  },
  {
   "cell_type": "code",
   "execution_count": 143,
   "id": "modern-malpractice",
   "metadata": {},
   "outputs": [
    {
     "name": "stderr",
     "output_type": "stream",
     "text": [
      "Evaluation:  83%|████████▎ | 1181/1417 [06:40<01:20,  2.95it/s]"
     ]
    },
    {
     "name": "stdout",
     "output_type": "stream",
     "text": [
      "\t - Recall@20: 0.047748\n",
      "\t - MRR@20: 0.009238\n",
      "\n"
     ]
    },
    {
     "name": "stderr",
     "output_type": "stream",
     "text": [
      "\n"
     ]
    }
   ],
   "source": [
    "def test_model(model, args, test):\n",
    "    test_recall, test_mrr = get_metrics(test, model, args, 20)\n",
    "    print(f\"\\t - Recall@{args.k}: {test_recall:3f}\")\n",
    "    print(f\"\\t - MRR@{args.k}: {test_mrr:3f}\\n\")\n",
    "\n",
    "test_model(model, args, test)"
   ]
  },
  {
   "cell_type": "markdown",
   "id": "induced-istanbul",
   "metadata": {},
   "source": [
    "loss를 바꿨더니 성능이 훨씬 안좋게 나왔습니다.."
   ]
  },
  {
   "cell_type": "code",
   "execution_count": null,
   "id": "infrared-wireless",
   "metadata": {},
   "outputs": [],
   "source": []
  },
  {
   "cell_type": "markdown",
   "id": "legal-bangladesh",
   "metadata": {},
   "source": []
  },
  {
   "cell_type": "markdown",
   "id": "understanding-state",
   "metadata": {},
   "source": [
    "## 결론 및 회고\n",
    "\n",
    "이번 프로젝트에서는 세션 기반의 추천 시스템을 만들어 보았습니다. \n",
    "데이터 전처리 과정에서 평점이 3점 이하인 데이터를 제거해주었고, session(UserID) length가 2000 이상인 데이터는 제거해주었습니다.   \n",
    "모델은 노드에 나와있었던 세션 기반 추천 모델 관련한 논문에서 사용한 구조(GRU)를 따랐습니다.   \n",
    "이번 프로젝트를 하면서 알게 된 사실은 다음과 같습니다.\n",
    "\n",
    "* 에폭의 변경은 그렇게 큰 영향을 주지 못했다.\n",
    "* cross-entropy loss 보다는 pairwise ranking based loss를 사용하는 것이 더 성능이 좋다고 한다.\n",
    "* 사실 loss function으로는 BPR loss를 선택하는 것이 최선이지만 함수를 불러오려면 따로 구현해야한다.\n",
    "* 추천 모델 성능 평가를 위한 지표로는 Recall과 MRR을 사용하는 것이 일반적이다.\n",
    "* recall을 구할 때는 k 값을 점점 크게 주면서 값을 비교하는 것이 좋다.\n",
    "\n",
    "또한 Precision보다 Recall 지표를 비교해보면   \n",
    "* precision = 실제로 추천한 영화 중 사용자가 선호하는 영화를 얼마나 추천해주었는가\n",
    "* recall = 사용자가 선호하는 영화를 얼마나 맞췄는가\n",
    "\n",
    "인데, Recall 지표를 사용하는 이유는 사용자 입장에서 __좋아하는 영화를 추천 안해주는 것 보다는 싫어하는 영화를 계속 추천해주는게 더 싫어서__ 가 아닐까 싶습니다.\n",
    "\n",
    "결과적으로 총 3번의 다양한 모델을 돌려보았더니    \n",
    "\n",
    "첫번째 모델은 __Recall@20: 0.281035, MRR@20: 0.086095__      \n",
    "두번째 모델은 __Recall@20: 0.236088, MRR@20: 0.063465__    \n",
    "세번째 모델은      \n",
    "\n",
    "라는 결과를 얻었습니다. 알게된 사실과는 다르게 loss를 바꿨더니 성능이 매우 안좋게 나오기도 했습니다..   \n",
    "세 모델 모두 recall값이 크지 않아 좋은 모델 결과를 얻었다고 할 수는 없지만, 프로젝트 과정에서 여러 논문도 참고하고 평가 지표에 대해 고민도 하고 많이 배울 수 있었습니다. "
   ]
  },
  {
   "cell_type": "code",
   "execution_count": null,
   "id": "mental-plaintiff",
   "metadata": {},
   "outputs": [],
   "source": []
  }
 ],
 "metadata": {
  "kernelspec": {
   "display_name": "Python 3",
   "language": "python",
   "name": "python3"
  },
  "language_info": {
   "codemirror_mode": {
    "name": "ipython",
    "version": 3
   },
   "file_extension": ".py",
   "mimetype": "text/x-python",
   "name": "python",
   "nbconvert_exporter": "python",
   "pygments_lexer": "ipython3",
   "version": "3.7.9"
  }
 },
 "nbformat": 4,
 "nbformat_minor": 5
}
