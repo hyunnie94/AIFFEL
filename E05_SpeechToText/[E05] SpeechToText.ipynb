{
 "cells": [
  {
   "cell_type": "markdown",
   "metadata": {},
   "source": [
    "# 5-7. 프로젝트: Spectrogram classification 모델 구현\n",
    "\n",
    "### [루브릭]\n",
    "\n",
    "평가문항\t상세기준\n",
    "   1. 음성데이터를 2차원 Spectrogram 으로 변환하여 데이터셋을 구성하였다.  \n",
    "        -스펙트로그램 시각화 및 train/test 데이터셋 구성이 정상진행되었다.\n",
    "    \n",
    "    \n",
    "   2. 1,2차원 데이터를 처리하는 음성인식 모델이 정상 작동한다.  \n",
    "        -스펙트로그램을 입력받은 모델이 학습과정에서 안정적으로 수렴하며, evaluation/test 단계를 무리없이 진행가능하다.\n",
    "    \n",
    "    \n",
    "   3. 테스트셋 수행결과 음성인식 모델의 Accuracy가 일정 수준에 도달하였다.  \n",
    "        -evaluation 결과 75% 이상의 정확도를 달성하는 모델이 하나 이상 존재한다.\n",
    "    \n",
    "    \n",
    "### [학습 과정]\n",
    "1. 데이터 처리와 분류\n",
    "2. 학습을 위한 하이퍼파라미터 설정\n",
    "3. 데이터셋 구성\n",
    "4. 2차원 Spectrogram 데이터를 처리하는 모델 구성\n",
    "5. 학습 후, 학습이 어떻게 진행됐는지 그래프로 출력\n",
    "6. Test dataset을 이용해서 모델의 성능을 평가\n",
    "\n",
    "### [결론 및 회고]"
   ]
  },
  {
   "cell_type": "markdown",
   "metadata": {},
   "source": [
    "---\n",
    "### 데이터 처리와 분류\n",
    "* 라벨 데이터 처리하기\n",
    "* sklearn의 train_test_split함수를 이용하여 train, test 분리"
   ]
  },
  {
   "cell_type": "code",
   "execution_count": 1,
   "metadata": {},
   "outputs": [
    {
     "name": "stdout",
     "output_type": "stream",
     "text": [
      "✅\n"
     ]
    }
   ],
   "source": [
    "import numpy as np\n",
    "import os\n",
    "\n",
    "data_path = os.getenv(\"HOME\")+'/aiffel/E05_SpeechToText/data/speech_wav_8000.npz'\n",
    "speech_data = np.load(data_path)\n",
    "\n",
    "print(\"✅\")"
   ]
  },
  {
   "cell_type": "code",
   "execution_count": 2,
   "metadata": {},
   "outputs": [
    {
     "name": "stdout",
     "output_type": "stream",
     "text": [
      "Wave data shape :  (50620, 8000)\n",
      "Label data shape :  (50620, 1)\n",
      "✅\n"
     ]
    }
   ],
   "source": [
    "print(\"Wave data shape : \", speech_data[\"wav_vals\"].shape)   # data\n",
    "print(\"Label data shape : \", speech_data[\"label_vals\"].shape) #features\n",
    "print(\"✅\")"
   ]
  },
  {
   "cell_type": "code",
   "execution_count": 3,
   "metadata": {},
   "outputs": [
    {
     "name": "stdout",
     "output_type": "stream",
     "text": [
      "rand num :  25425\n",
      "Wave data shape :  (8000,)\n",
      "label :  ['go']\n"
     ]
    },
    {
     "data": {
      "text/html": [
       "\n",
       "                <audio  controls=\"controls\" >\n",
       "                    <source src=\"data:audio/wav;base64,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\" type=\"audio/wav\" />\n",
       "                    Your browser does not support the audio element.\n",
       "                </audio>\n",
       "              "
      ],
      "text/plain": [
       "<IPython.lib.display.Audio object>"
      ]
     },
     "execution_count": 3,
     "metadata": {},
     "output_type": "execute_result"
    }
   ],
   "source": [
    "import IPython.display as ipd\n",
    "import random\n",
    "\n",
    "rand = random.randint(0, len(speech_data[\"wav_vals\"])) #데이터를 랜덤하게 선택\n",
    "print(\"rand num : \", rand)\n",
    "\n",
    "sr = 8000   # 1초동안 재생되는 샘플의 갯수. sample rate.\n",
    "data = speech_data[\"wav_vals\"][rand]\n",
    "print(\"Wave data shape : \", data.shape)\n",
    "print(\"label : \", speech_data[\"label_vals\"][rand])\n",
    "\n",
    "ipd.Audio(data, rate=sr)"
   ]
  },
  {
   "cell_type": "markdown",
   "metadata": {},
   "source": [
    "#### Label data 처리"
   ]
  },
  {
   "cell_type": "code",
   "execution_count": 4,
   "metadata": {},
   "outputs": [
    {
     "name": "stdout",
     "output_type": "stream",
     "text": [
      "LABEL :  ['yes', 'no', 'up', 'down', 'left', 'right', 'on', 'off', 'stop', 'go', 'unknown', 'silence']\n",
      "Indexed LABEL :  {'yes': 0, 'no': 1, 'up': 2, 'down': 3, 'left': 4, 'right': 5, 'on': 6, 'off': 7, 'stop': 8, 'go': 9, 'unknown': 10, 'silence': 11}\n"
     ]
    }
   ],
   "source": [
    "target_list = ['yes', 'no', 'up', 'down', 'left', 'right', 'on', 'off', 'stop', 'go']\n",
    "\n",
    "label_value = target_list\n",
    "label_value.append('unknown')\n",
    "label_value.append('silence')\n",
    "\n",
    "print('LABEL : ', label_value)\n",
    "\n",
    "new_label_value = dict()\n",
    "for i, l in enumerate(label_value):\n",
    "    new_label_value[l] = i\n",
    "label_value = new_label_value\n",
    "\n",
    "print('Indexed LABEL : ', new_label_value)"
   ]
  },
  {
   "cell_type": "code",
   "execution_count": 5,
   "metadata": {},
   "outputs": [
    {
     "data": {
      "text/plain": [
       "array([ 3,  3,  3, ..., 11, 11, 11])"
      ]
     },
     "execution_count": 5,
     "metadata": {},
     "output_type": "execute_result"
    }
   ],
   "source": [
    "temp = []\n",
    "\n",
    "# Label data를 int로 바꿔주기\n",
    "for v in speech_data[\"label_vals\"]:\n",
    "    temp.append(label_value[v[0]])\n",
    "label_data = np.array(temp)\n",
    "\n",
    "label_data"
   ]
  },
  {
   "cell_type": "markdown",
   "metadata": {},
   "source": [
    "#### train, test data split"
   ]
  },
  {
   "cell_type": "code",
   "execution_count": 6,
   "metadata": {},
   "outputs": [
    {
     "name": "stdout",
     "output_type": "stream",
     "text": [
      "[[-0.00171985 -0.00384202 -0.00353515 ...  0.00263811  0.00298093\n",
      "   0.0031947 ]\n",
      " [-0.00111772 -0.00226144 -0.00174202 ... -0.07145919 -0.07270046\n",
      "  -0.07847149]\n",
      " [ 0.00401635  0.00587879  0.00093929 ...  0.00216786  0.00199558\n",
      "  -0.00271998]\n",
      " ...\n",
      " [ 0.0038947   0.00641704  0.00731035 ...  0.00559769  0.00504488\n",
      "   0.0070425 ]\n",
      " [-0.00026497 -0.00022112 -0.00063913 ... -0.00191126 -0.00144126\n",
      "  -0.00155237]\n",
      " [-0.00501174 -0.01152567 -0.01154259 ...  0.01426224  0.02431883\n",
      "   0.01867753]]\n",
      "✅\n"
     ]
    }
   ],
   "source": [
    "from sklearn.model_selection import train_test_split\n",
    "\n",
    "sr = 8000\n",
    "X_train, X_test, y_train, y_test = train_test_split(speech_data[\"wav_vals\"],\n",
    "                                                   label_data,\n",
    "                                                   test_size=0.1,\n",
    "                                                    shuffle = True)\n",
    "print(X_train)\n",
    "\n",
    "X_train = X_train.reshape([-1,sr,1])  # add channel for CNN\n",
    "X_test = X_test.reshape([-1, sr, 1])\n",
    "\n",
    "print(\"✅\")"
   ]
  },
  {
   "cell_type": "code",
   "execution_count": 7,
   "metadata": {},
   "outputs": [
    {
     "name": "stdout",
     "output_type": "stream",
     "text": [
      "train data :  (45558, 8000, 1)\n",
      "train labels :  (45558,)\n",
      "test data :  (5062, 8000, 1)\n",
      "test labels :  (5062,)\n",
      "✅\n"
     ]
    }
   ],
   "source": [
    "print(\"train data : \", X_train.shape)\n",
    "print(\"train labels : \", y_train.shape)\n",
    "print(\"test data : \", X_test.shape)\n",
    "print(\"test labels : \", y_test.shape)\n",
    "print(\"✅\")"
   ]
  },
  {
   "cell_type": "markdown",
   "metadata": {},
   "source": [
    "### 학습을 위한 하이퍼파라미터 설정"
   ]
  },
  {
   "cell_type": "code",
   "execution_count": 8,
   "metadata": {},
   "outputs": [
    {
     "data": {
      "text/plain": [
       "'/home/ssac18/aiffel/E05_SpeechToText/models/wav'"
      ]
     },
     "execution_count": 8,
     "metadata": {},
     "output_type": "execute_result"
    }
   ],
   "source": [
    "batch_size = 32\n",
    "max_epochs = 10\n",
    "\n",
    "# the save point\n",
    "checkpoint_dir = os.getenv('HOME')+'/aiffel/E05_SpeechToText/models/wav'\n",
    "\n",
    "checkpoint_dir"
   ]
  },
  {
   "cell_type": "markdown",
   "metadata": {},
   "source": [
    "### 데이터셋 구성"
   ]
  },
  {
   "cell_type": "code",
   "execution_count": 9,
   "metadata": {},
   "outputs": [
    {
     "name": "stdout",
     "output_type": "stream",
     "text": [
      "✅\n"
     ]
    }
   ],
   "source": [
    "def one_hot_label(wav, label):\n",
    "    label = tf.one_hot(label, depth=12)\n",
    "    return wav, label\n",
    "print(\"✅\")"
   ]
  },
  {
   "cell_type": "code",
   "execution_count": 10,
   "metadata": {},
   "outputs": [
    {
     "name": "stdout",
     "output_type": "stream",
     "text": [
      "<BatchDataset shapes: ((None, 8000, 1), (None, 12)), types: (tf.float32, tf.float32)>\n",
      "<BatchDataset shapes: ((None, 8000, 1), (None, 12)), types: (tf.float32, tf.float32)>\n",
      "✅\n"
     ]
    }
   ],
   "source": [
    "import tensorflow as tf\n",
    "\n",
    "# for train\n",
    "train_dataset = tf.data.Dataset.from_tensor_slices((X_train, y_train))\n",
    "train_dataset = train_dataset.map(one_hot_label)\n",
    "train_dataset = train_dataset.repeat().batch(batch_size=batch_size)\n",
    "print(train_dataset)\n",
    "\n",
    "# for test\n",
    "test_dataset = tf.data.Dataset.from_tensor_slices((X_test, y_test))\n",
    "test_dataset = test_dataset.map(one_hot_label)\n",
    "test_dataset = test_dataset.batch(batch_size=batch_size)\n",
    "print(test_dataset)\n",
    "print(\"✅\")"
   ]
  },
  {
   "cell_type": "code",
   "execution_count": 11,
   "metadata": {},
   "outputs": [],
   "source": [
    "del speech_data"
   ]
  },
  {
   "cell_type": "markdown",
   "metadata": {},
   "source": [
    "### 2차원 Spectrogram 데이터를 처리하는 모델 구성\n",
    "# 1. 기본 Model ver. - Conv2D 사용"
   ]
  },
  {
   "cell_type": "code",
   "execution_count": 12,
   "metadata": {
    "scrolled": false
   },
   "outputs": [
    {
     "name": "stdout",
     "output_type": "stream",
     "text": [
      "Model: \"model\"\n",
      "_________________________________________________________________\n",
      "Layer (type)                 Output Shape              Param #   \n",
      "=================================================================\n",
      "input_1 (InputLayer)         [(None, 8000, 1, 1)]      0         \n",
      "_________________________________________________________________\n",
      "conv2d (Conv2D)              (None, 8000, 1, 32)       320       \n",
      "_________________________________________________________________\n",
      "conv2d_1 (Conv2D)            (None, 8000, 1, 32)       9248      \n",
      "_________________________________________________________________\n",
      "max_pooling2d (MaxPooling2D) (None, 4000, 1, 32)       0         \n",
      "_________________________________________________________________\n",
      "dropout (Dropout)            (None, 4000, 1, 32)       0         \n",
      "_________________________________________________________________\n",
      "conv2d_2 (Conv2D)            (None, 4000, 1, 64)       18496     \n",
      "_________________________________________________________________\n",
      "conv2d_3 (Conv2D)            (None, 4000, 1, 64)       36928     \n",
      "_________________________________________________________________\n",
      "max_pooling2d_1 (MaxPooling2 (None, 2000, 1, 64)       0         \n",
      "_________________________________________________________________\n",
      "dropout_1 (Dropout)          (None, 2000, 1, 64)       0         \n",
      "_________________________________________________________________\n",
      "conv2d_4 (Conv2D)            (None, 2000, 1, 128)      73856     \n",
      "_________________________________________________________________\n",
      "conv2d_5 (Conv2D)            (None, 2000, 1, 128)      147584    \n",
      "_________________________________________________________________\n",
      "conv2d_6 (Conv2D)            (None, 2000, 1, 128)      147584    \n",
      "_________________________________________________________________\n",
      "max_pooling2d_2 (MaxPooling2 (None, 1000, 1, 128)      0         \n",
      "_________________________________________________________________\n",
      "dropout_2 (Dropout)          (None, 1000, 1, 128)      0         \n",
      "_________________________________________________________________\n",
      "conv2d_7 (Conv2D)            (None, 1000, 1, 256)      295168    \n",
      "_________________________________________________________________\n",
      "conv2d_8 (Conv2D)            (None, 1000, 1, 256)      590080    \n",
      "_________________________________________________________________\n",
      "conv2d_9 (Conv2D)            (None, 1000, 1, 256)      590080    \n",
      "_________________________________________________________________\n",
      "max_pooling2d_3 (MaxPooling2 (None, 500, 1, 256)       0         \n",
      "_________________________________________________________________\n",
      "dropout_3 (Dropout)          (None, 500, 1, 256)       0         \n",
      "_________________________________________________________________\n",
      "flatten (Flatten)            (None, 128000)            0         \n",
      "_________________________________________________________________\n",
      "dense (Dense)                (None, 256)               32768256  \n",
      "_________________________________________________________________\n",
      "batch_normalization (BatchNo (None, 256)               1024      \n",
      "_________________________________________________________________\n",
      "activation (Activation)      (None, 256)               0         \n",
      "_________________________________________________________________\n",
      "dense_1 (Dense)              (None, 12)                3084      \n",
      "=================================================================\n",
      "Total params: 34,681,708\n",
      "Trainable params: 34,681,196\n",
      "Non-trainable params: 512\n",
      "_________________________________________________________________\n"
     ]
    }
   ],
   "source": [
    "from tensorflow.keras import layers\n",
    "\n",
    "input_tensor = layers.Input(shape=(sr, 1, 1))   \n",
    "\n",
    "x = layers.Conv2D(32, (3,3), padding='same', activation='relu')(input_tensor)\n",
    "x = layers.Conv2D(32, (3,3), padding='same', activation='relu')(x)\n",
    "x = layers.MaxPool2D(padding='same')(x)\n",
    "x = layers.Dropout(0.3)(x)\n",
    "\n",
    "x = layers.Conv2D(64, (3,3), padding='same', activation='relu')(x)\n",
    "x = layers.Conv2D(64, (3,3), padding='same', activation='relu')(x)\n",
    "x = layers.MaxPool2D(padding='same')(x)\n",
    "x = layers.Dropout(0.3)(x)\n",
    "\n",
    "x = layers.Conv2D(128, (3,3), padding='same', activation='relu')(x)\n",
    "x = layers.Conv2D(128, (3,3), padding='same', activation='relu')(x)\n",
    "x = layers.Conv2D(128, (3,3), padding='same', activation='relu')(x)\n",
    "x = layers.MaxPool2D(padding='same')(x)\n",
    "x = layers.Dropout(0.3)(x)\n",
    "\n",
    "x = layers.Conv2D(256, (3,3), padding='same', activation='relu')(x)\n",
    "x = layers.Conv2D(256, (3,3), padding='same', activation='relu')(x)\n",
    "x = layers.Conv2D(256, (3,3), padding='same', activation='relu')(x)\n",
    "x = layers.MaxPool2D(padding='same')(x)\n",
    "x = layers.Dropout(0.3)(x)\n",
    "\n",
    "x = layers.Flatten()(x)\n",
    "x = layers.Dense(256)(x)\n",
    "x = layers.BatchNormalization()(x)\n",
    "x = layers.Activation('relu')(x)\n",
    "\n",
    "output_tensor = layers.Dense(12)(x)             # 최종 출력은 12차원. 타겟 개수가 12개니까!\n",
    "\n",
    "model_wav = tf.keras.Model(input_tensor, output_tensor)\n",
    "\n",
    "model_wav.summary()"
   ]
  },
  {
   "cell_type": "code",
   "execution_count": 13,
   "metadata": {},
   "outputs": [],
   "source": [
    "optimizer=tf.keras.optimizers.Adam(1e-4)          # adam optimizer \n",
    "model_wav.compile(loss=tf.keras.losses.CategoricalCrossentropy(from_logits=True),       # categorical loss\n",
    "             optimizer=optimizer,\n",
    "             metrics=['accuracy'])"
   ]
  },
  {
   "cell_type": "code",
   "execution_count": 14,
   "metadata": {},
   "outputs": [],
   "source": [
    "# 모델 가중치를 저장\n",
    "cp_callback = tf.keras.callbacks.ModelCheckpoint(checkpoint_dir,\n",
    "                                                 save_weights_only=True,\n",
    "                                                 monitor='val_loss',\n",
    "                                                 mode='auto',\n",
    "                                                 save_best_only=True,\n",
    "                                                 verbose=1)"
   ]
  },
  {
   "cell_type": "code",
   "execution_count": 15,
   "metadata": {},
   "outputs": [
    {
     "name": "stdout",
     "output_type": "stream",
     "text": [
      "Epoch 1/10\n",
      "1423/1423 [==============================] - ETA: 0s - loss: 2.1194 - accuracy: 0.2554\n",
      "Epoch 00001: val_loss improved from inf to 1.80476, saving model to /home/ssac18/aiffel/E05_SpeechToText/models/wav\n",
      "1423/1423 [==============================] - 160s 112ms/step - loss: 2.1194 - accuracy: 0.2554 - val_loss: 1.8048 - val_accuracy: 0.4132\n",
      "Epoch 2/10\n",
      "1423/1423 [==============================] - ETA: 0s - loss: 1.3944 - accuracy: 0.5334\n",
      "Epoch 00002: val_loss improved from 1.80476 to 1.15709, saving model to /home/ssac18/aiffel/E05_SpeechToText/models/wav\n",
      "1423/1423 [==============================] - 164s 115ms/step - loss: 1.3944 - accuracy: 0.5334 - val_loss: 1.1571 - val_accuracy: 0.6228\n",
      "Epoch 3/10\n",
      "1423/1423 [==============================] - ETA: 0s - loss: 1.0002 - accuracy: 0.6867\n",
      "Epoch 00003: val_loss improved from 1.15709 to 0.91882, saving model to /home/ssac18/aiffel/E05_SpeechToText/models/wav\n",
      "1423/1423 [==============================] - 164s 115ms/step - loss: 1.0002 - accuracy: 0.6867 - val_loss: 0.9188 - val_accuracy: 0.7039\n",
      "Epoch 4/10\n",
      "1423/1423 [==============================] - ETA: 0s - loss: 0.7438 - accuracy: 0.7772\n",
      "Epoch 00004: val_loss improved from 0.91882 to 0.77627, saving model to /home/ssac18/aiffel/E05_SpeechToText/models/wav\n",
      "1423/1423 [==============================] - 164s 116ms/step - loss: 0.7438 - accuracy: 0.7772 - val_loss: 0.7763 - val_accuracy: 0.7464\n",
      "Epoch 5/10\n",
      "1423/1423 [==============================] - ETA: 0s - loss: 0.5459 - accuracy: 0.8469\n",
      "Epoch 00005: val_loss improved from 0.77627 to 0.70007, saving model to /home/ssac18/aiffel/E05_SpeechToText/models/wav\n",
      "1423/1423 [==============================] - 165s 116ms/step - loss: 0.5459 - accuracy: 0.8469 - val_loss: 0.7001 - val_accuracy: 0.7686\n",
      "Epoch 6/10\n",
      "1423/1423 [==============================] - ETA: 0s - loss: 0.3950 - accuracy: 0.8981\n",
      "Epoch 00006: val_loss improved from 0.70007 to 0.55243, saving model to /home/ssac18/aiffel/E05_SpeechToText/models/wav\n",
      "1423/1423 [==============================] - 167s 117ms/step - loss: 0.3950 - accuracy: 0.8981 - val_loss: 0.5524 - val_accuracy: 0.8194\n",
      "Epoch 7/10\n",
      "1423/1423 [==============================] - ETA: 0s - loss: 0.2782 - accuracy: 0.9341\n",
      "Epoch 00007: val_loss did not improve from 0.55243\n",
      "1423/1423 [==============================] - 164s 115ms/step - loss: 0.2782 - accuracy: 0.9341 - val_loss: 0.5991 - val_accuracy: 0.8036\n",
      "Epoch 8/10\n",
      "1423/1423 [==============================] - ETA: 0s - loss: 0.1992 - accuracy: 0.9549\n",
      "Epoch 00008: val_loss improved from 0.55243 to 0.43869, saving model to /home/ssac18/aiffel/E05_SpeechToText/models/wav\n",
      "1423/1423 [==============================] - 165s 116ms/step - loss: 0.1992 - accuracy: 0.9549 - val_loss: 0.4387 - val_accuracy: 0.8623\n",
      "Epoch 9/10\n",
      "1423/1423 [==============================] - ETA: 0s - loss: 0.1474 - accuracy: 0.9689\n",
      "Epoch 00009: val_loss did not improve from 0.43869\n",
      "1423/1423 [==============================] - 165s 116ms/step - loss: 0.1474 - accuracy: 0.9689 - val_loss: 0.5023 - val_accuracy: 0.8473\n",
      "Epoch 10/10\n",
      "1423/1423 [==============================] - ETA: 0s - loss: 0.1128 - accuracy: 0.9761\n",
      "Epoch 00010: val_loss did not improve from 0.43869\n",
      "1423/1423 [==============================] - 165s 116ms/step - loss: 0.1128 - accuracy: 0.9761 - val_loss: 0.4557 - val_accuracy: 0.8629\n"
     ]
    }
   ],
   "source": [
    "history_wav = model_wav.fit(train_dataset, epochs=max_epochs,\n",
    "                    steps_per_epoch=len(X_train) // batch_size,\n",
    "                    validation_data=test_dataset,\n",
    "                    validation_steps=len(X_test) // batch_size,\n",
    "                    callbacks=[cp_callback]\n",
    "                    )"
   ]
  },
  {
   "cell_type": "code",
   "execution_count": 16,
   "metadata": {},
   "outputs": [
    {
     "data": {
      "image/png": "[encoded data removed]",
      "text/plain": [
       "<Figure size 1080x360 with 2 Axes>"
      ]
     },
     "metadata": {
      "needs_background": "light"
     },
     "output_type": "display_data"
    }
   ],
   "source": [
    "import matplotlib.pyplot as plt\n",
    "\n",
    "acc = history_wav.history['accuracy']\n",
    "val_acc = history_wav.history['val_accuracy']\n",
    "\n",
    "loss=history_wav.history['loss']\n",
    "val_loss=history_wav.history['val_loss']\n",
    "\n",
    "epochs_range = range(len(acc))\n",
    "\n",
    "plt.figure(figsize=(15, 5))\n",
    "plt.subplot(1, 2, 1)\n",
    "plt.plot(epochs_range, loss, 'bo', label='Training Loss')\n",
    "plt.plot(epochs_range, val_loss, 'b', label='Validation Loss')\n",
    "plt.xlabel('Epochs')\n",
    "plt.ylabel('Loss')\n",
    "plt.legend()\n",
    "plt.title('Training and Validation Loss')\n",
    "\n",
    "\n",
    "plt.subplot(1, 2, 2)\n",
    "plt.plot(epochs_range, acc, 'bo', label='Training Accuracy')\n",
    "plt.plot(epochs_range, val_acc, 'b', label='Validation Accuracy')\n",
    "plt.xlabel('Epochs')\n",
    "plt.ylabel('Loss')\n",
    "plt.legend()\n",
    "plt.title('Training and Validation Accuracy')\n",
    "\n",
    "plt.show()\n"
   ]
  },
  {
   "cell_type": "markdown",
   "metadata": {},
   "source": [
    "#### evaluation"
   ]
  },
  {
   "cell_type": "code",
   "execution_count": 17,
   "metadata": {},
   "outputs": [
    {
     "data": {
      "text/plain": [
       "<tensorflow.python.training.tracking.util.CheckpointLoadStatus at 0x7f83905503d0>"
      ]
     },
     "execution_count": 17,
     "metadata": {},
     "output_type": "execute_result"
    }
   ],
   "source": [
    "model_wav.load_weights(checkpoint_dir)"
   ]
  },
  {
   "cell_type": "code",
   "execution_count": 18,
   "metadata": {},
   "outputs": [
    {
     "name": "stdout",
     "output_type": "stream",
     "text": [
      "159/159 [==============================] - 18s 113ms/step - loss: 0.4385 - accuracy: 0.8623\n"
     ]
    }
   ],
   "source": [
    "results = model_wav.evaluate(test_dataset)"
   ]
  },
  {
   "cell_type": "code",
   "execution_count": 19,
   "metadata": {},
   "outputs": [
    {
     "name": "stdout",
     "output_type": "stream",
     "text": [
      "loss value: 0.439\n",
      "accuracy value: 86.2307%\n"
     ]
    }
   ],
   "source": [
    "# loss\n",
    "print(\"loss value: {:.3f}\".format(results[0]))\n",
    "# accuracy\n",
    "print(\"accuracy value: {:.4f}%\".format(results[1]*100))"
   ]
  },
  {
   "cell_type": "markdown",
   "metadata": {},
   "source": [
    "#### Model set"
   ]
  },
  {
   "cell_type": "code",
   "execution_count": 20,
   "metadata": {},
   "outputs": [
    {
     "name": "stdout",
     "output_type": "stream",
     "text": [
      "label :  stop\n"
     ]
    },
    {
     "data": {
      "text/html": [
       "\n",
       "                <audio  controls=\"controls\" >\n",
       "                    <source src=\"data:audio/wav;base64,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\" type=\"audio/wav\" />\n",
       "                    Your browser does not support the audio element.\n",
       "                </audio>\n",
       "              "
      ],
      "text/plain": [
       "<IPython.lib.display.Audio object>"
      ]
     },
     "execution_count": 20,
     "metadata": {},
     "output_type": "execute_result"
    }
   ],
   "source": [
    "inv_label_value = {v: k for k, v in label_value.items()}\n",
    "batch_index = np.random.choice(len(X_test), size=1, replace=False)\n",
    "\n",
    "batch_xs = X_test[batch_index]\n",
    "batch_ys = y_test[batch_index]\n",
    "y_pred_ = model_wav(batch_xs, training=False)\n",
    "\n",
    "print(\"label : \", str(inv_label_value[batch_ys[0]]))\n",
    "\n",
    "ipd.Audio(batch_xs.reshape(8000,), rate=8000)"
   ]
  },
  {
   "cell_type": "code",
   "execution_count": 21,
   "metadata": {},
   "outputs": [
    {
     "name": "stdout",
     "output_type": "stream",
     "text": [
      "y_pred: stop(Correct!)\n"
     ]
    }
   ],
   "source": [
    "if np.argmax(y_pred_) == batch_ys[0]:\n",
    "    print(\"y_pred: \" + str(inv_label_value[np.argmax(y_pred_)]) + '(Correct!)')\n",
    "else:\n",
    "    print(\"y_pred: \" + str(inv_label_value[np.argmax(y_pred_)]) + '(Incorrect!)')"
   ]
  },
  {
   "cell_type": "code",
   "execution_count": 22,
   "metadata": {},
   "outputs": [],
   "source": [
    "import librosa\n",
    "\n",
    "def wav2spec(wav, fft_size=258): # spectrogram shape을 맞추기위해서 size 변형\n",
    "    D = np.abs(librosa.stft(wav, n_fft=fft_size))\n",
    "    return D"
   ]
  },
  {
   "cell_type": "code",
   "execution_count": 23,
   "metadata": {},
   "outputs": [
    {
     "name": "stdout",
     "output_type": "stream",
     "text": [
      "Waveform shape :  (8000,)\n",
      "Spectrogram shape :  (130, 126)\n"
     ]
    }
   ],
   "source": [
    "# 위에서 뽑았던 sample data\n",
    "spec = wav2spec(data)\n",
    "print(\"Waveform shape : \",data.shape)\n",
    "print(\"Spectrogram shape : \",spec.shape)"
   ]
  },
  {
   "cell_type": "code",
   "execution_count": 24,
   "metadata": {},
   "outputs": [
    {
     "data": {
      "image/png": "[encoded data removed]",
      "text/plain": [
       "<Figure size 432x288 with 2 Axes>"
      ]
     },
     "metadata": {
      "needs_background": "light"
     },
     "output_type": "display_data"
    }
   ],
   "source": [
    "import librosa.display\n",
    "\n",
    "librosa.display.specshow(librosa.amplitude_to_db(spec, ref=np.max), x_axis='time')\n",
    "plt.title('Power spectrogram')\n",
    "plt.colorbar(format='%+2.0f dB')\n",
    "plt.xticks(range(0, 1))\n",
    "plt.tight_layout()\n",
    "plt.show()"
   ]
  },
  {
   "cell_type": "code",
   "execution_count": null,
   "metadata": {},
   "outputs": [],
   "source": []
  },
  {
   "cell_type": "markdown",
   "metadata": {},
   "source": [
    "# Skip Connection Model ver. - Conv2D"
   ]
  },
  {
   "cell_type": "code",
   "execution_count": 49,
   "metadata": {},
   "outputs": [
    {
     "name": "stdout",
     "output_type": "stream",
     "text": [
      "Model: \"model_5\"\n",
      "__________________________________________________________________________________________________\n",
      "Layer (type)                    Output Shape         Param #     Connected to                     \n",
      "==================================================================================================\n",
      "input_13 (InputLayer)           [(None, 8000, 1, 1)] 0                                            \n",
      "__________________________________________________________________________________________________\n",
      "conv2d_66 (Conv2D)              (None, 8000, 1, 32)  320         input_13[0][0]                   \n",
      "__________________________________________________________________________________________________\n",
      "conv2d_67 (Conv2D)              (None, 8000, 1, 32)  9248        conv2d_66[0][0]                  \n",
      "__________________________________________________________________________________________________\n",
      "max_pooling2d_28 (MaxPooling2D) (None, 4000, 1, 32)  0           conv2d_67[0][0]                  \n",
      "__________________________________________________________________________________________________\n",
      "conv2d_68 (Conv2D)              (None, 4000, 1, 64)  18496       max_pooling2d_28[0][0]           \n",
      "__________________________________________________________________________________________________\n",
      "conv2d_69 (Conv2D)              (None, 4000, 1, 64)  36928       conv2d_68[0][0]                  \n",
      "__________________________________________________________________________________________________\n",
      "tf_op_layer_concat (TensorFlowO [(None, 4000, 1, 96) 0           conv2d_69[0][0]                  \n",
      "                                                                 max_pooling2d_28[0][0]           \n",
      "__________________________________________________________________________________________________\n",
      "max_pooling2d_29 (MaxPooling2D) (None, 2000, 1, 96)  0           tf_op_layer_concat[0][0]         \n",
      "__________________________________________________________________________________________________\n",
      "conv2d_70 (Conv2D)              (None, 2000, 1, 128) 110720      max_pooling2d_29[0][0]           \n",
      "__________________________________________________________________________________________________\n",
      "conv2d_71 (Conv2D)              (None, 2000, 1, 128) 147584      conv2d_70[0][0]                  \n",
      "__________________________________________________________________________________________________\n",
      "conv2d_72 (Conv2D)              (None, 2000, 1, 128) 147584      conv2d_71[0][0]                  \n",
      "__________________________________________________________________________________________________\n",
      "tf_op_layer_concat_1 (TensorFlo [(None, 2000, 1, 224 0           conv2d_72[0][0]                  \n",
      "                                                                 max_pooling2d_29[0][0]           \n",
      "__________________________________________________________________________________________________\n",
      "max_pooling2d_30 (MaxPooling2D) (None, 1000, 1, 224) 0           tf_op_layer_concat_1[0][0]       \n",
      "__________________________________________________________________________________________________\n",
      "conv2d_73 (Conv2D)              (None, 1000, 1, 256) 516352      max_pooling2d_30[0][0]           \n",
      "__________________________________________________________________________________________________\n",
      "conv2d_74 (Conv2D)              (None, 1000, 1, 256) 590080      conv2d_73[0][0]                  \n",
      "__________________________________________________________________________________________________\n",
      "conv2d_75 (Conv2D)              (None, 1000, 1, 256) 590080      conv2d_74[0][0]                  \n",
      "__________________________________________________________________________________________________\n",
      "tf_op_layer_concat_2 (TensorFlo [(None, 1000, 1, 480 0           conv2d_75[0][0]                  \n",
      "                                                                 max_pooling2d_30[0][0]           \n",
      "__________________________________________________________________________________________________\n",
      "max_pooling2d_31 (MaxPooling2D) (None, 500, 1, 480)  0           tf_op_layer_concat_2[0][0]       \n",
      "__________________________________________________________________________________________________\n",
      "dropout_21 (Dropout)            (None, 500, 1, 480)  0           max_pooling2d_31[0][0]           \n",
      "__________________________________________________________________________________________________\n",
      "flatten_5 (Flatten)             (None, 240000)       0           dropout_21[0][0]                 \n",
      "__________________________________________________________________________________________________\n",
      "dense_10 (Dense)                (None, 256)          61440256    flatten_5[0][0]                  \n",
      "__________________________________________________________________________________________________\n",
      "batch_normalization_5 (BatchNor (None, 256)          1024        dense_10[0][0]                   \n",
      "__________________________________________________________________________________________________\n",
      "activation_5 (Activation)       (None, 256)          0           batch_normalization_5[0][0]      \n",
      "__________________________________________________________________________________________________\n",
      "dense_11 (Dense)                (None, 12)           3084        activation_5[0][0]               \n",
      "==================================================================================================\n",
      "Total params: 63,611,756\n",
      "Trainable params: 63,611,244\n",
      "Non-trainable params: 512\n",
      "__________________________________________________________________________________________________\n"
     ]
    }
   ],
   "source": [
    "input_tensor = layers.Input(shape=(sr, 1, 1))\n",
    "\n",
    "x = layers.Conv2D(32, (3,3), padding='same', activation='relu')(input_tensor)\n",
    "x = layers.Conv2D(32, (3,3), padding='same', activation='relu')(x)\n",
    "skip_1 = layers.MaxPool2D(padding='same')(x)\n",
    "\n",
    "x = layers.Conv2D(64, (3,3), padding='same', activation='relu')(skip_1)\n",
    "x = layers.Conv2D(64, (3,3), padding='same', activation='relu')(x)\n",
    "x = tf.concat([x, skip_1], -1)\n",
    "skip_2 = layers.MaxPool2D(padding='same')(x)\n",
    "\n",
    "x = layers.Conv2D(128, (3,3), padding='same', activation='relu')(skip_2)\n",
    "x = layers.Conv2D(128, (3,3), padding='same', activation='relu')(x)\n",
    "x = layers.Conv2D(128, (3,3), padding='same', activation='relu')(x)\n",
    "x = tf.concat([x, skip_2], -1)\n",
    "skip_3 = layers.MaxPool2D(padding='same')(x)\n",
    "\n",
    "x = layers.Conv2D(256, (3,3), padding='same', activation='relu')(skip_3)\n",
    "x = layers.Conv2D(256, (3,3), padding='same', activation='relu')(x)\n",
    "x = layers.Conv2D(256, (3,3), padding='same', activation='relu')(x)\n",
    "x = tf.concat([x, skip_3], -1)\n",
    "x = layers.MaxPool2D(padding='same')(x)\n",
    "x = layers.Dropout(0.3)(x)\n",
    "\n",
    "x = layers.Flatten()(x)\n",
    "x = layers.Dense(256)(x)\n",
    "x = layers.BatchNormalization()(x)\n",
    "x = layers.Activation('relu')(x)\n",
    "\n",
    "output_tensor = layers.Dense(12)(x)\n",
    "\n",
    "model_wav_skip = tf.keras.Model(input_tensor, output_tensor)\n",
    "\n",
    "model_wav_skip.summary()"
   ]
  },
  {
   "cell_type": "code",
   "execution_count": 50,
   "metadata": {},
   "outputs": [],
   "source": [
    "optimizer=tf.keras.optimizers.Adam(1e-4)\n",
    "model_wav_skip.compile(loss=tf.keras.losses.CategoricalCrossentropy(from_logits=True),\n",
    "             optimizer=optimizer,\n",
    "             metrics=['accuracy'])"
   ]
  },
  {
   "cell_type": "code",
   "execution_count": 51,
   "metadata": {},
   "outputs": [],
   "source": [
    "# the save point\n",
    "checkpoint_dir = os.getenv('HOME')+'/aiffel/E05_SpeechToText/models/wav_skip'\n",
    "\n",
    "cp_callback = tf.keras.callbacks.ModelCheckpoint(checkpoint_dir,\n",
    "                                                 save_weights_only=True,\n",
    "                                                 monitor='val_loss',\n",
    "                                                 mode='auto',\n",
    "                                                 save_best_only=True,\n",
    "                                                 verbose=1)"
   ]
  },
  {
   "cell_type": "code",
   "execution_count": 53,
   "metadata": {},
   "outputs": [
    {
     "name": "stdout",
     "output_type": "stream",
     "text": [
      "Epoch 1/10\n",
      "1423/1423 [==============================] - ETA: 0s - loss: 1.3954 - accuracy: 0.5430\n",
      "Epoch 00001: val_loss improved from inf to 1.05188, saving model to /home/ssac18/aiffel/E05_SpeechToText/models/wav_skip\n",
      "1423/1423 [==============================] - 186s 131ms/step - loss: 1.3954 - accuracy: 0.5430 - val_loss: 1.0519 - val_accuracy: 0.6446\n",
      "Epoch 2/10\n",
      "1423/1423 [==============================] - ETA: 0s - loss: 0.7982 - accuracy: 0.7620\n",
      "Epoch 00002: val_loss improved from 1.05188 to 0.81440, saving model to /home/ssac18/aiffel/E05_SpeechToText/models/wav_skip\n",
      "1423/1423 [==============================] - 189s 133ms/step - loss: 0.7982 - accuracy: 0.7620 - val_loss: 0.8144 - val_accuracy: 0.7290\n",
      "Epoch 3/10\n",
      "1423/1423 [==============================] - ETA: 0s - loss: 0.5292 - accuracy: 0.8570\n",
      "Epoch 00003: val_loss improved from 0.81440 to 0.70269, saving model to /home/ssac18/aiffel/E05_SpeechToText/models/wav_skip\n",
      "1423/1423 [==============================] - 189s 133ms/step - loss: 0.5292 - accuracy: 0.8570 - val_loss: 0.7027 - val_accuracy: 0.7563\n",
      "Epoch 4/10\n",
      "1423/1423 [==============================] - ETA: 0s - loss: 0.3279 - accuracy: 0.9231\n",
      "Epoch 00004: val_loss improved from 0.70269 to 0.67063, saving model to /home/ssac18/aiffel/E05_SpeechToText/models/wav_skip\n",
      "1423/1423 [==============================] - 189s 133ms/step - loss: 0.3279 - accuracy: 0.9231 - val_loss: 0.6706 - val_accuracy: 0.7761\n",
      "Epoch 5/10\n",
      "1423/1423 [==============================] - ETA: 0s - loss: 0.2043 - accuracy: 0.9566\n",
      "Epoch 00005: val_loss improved from 0.67063 to 0.47391, saving model to /home/ssac18/aiffel/E05_SpeechToText/models/wav_skip\n",
      "1423/1423 [==============================] - 188s 132ms/step - loss: 0.2043 - accuracy: 0.9566 - val_loss: 0.4739 - val_accuracy: 0.8501\n",
      "Epoch 6/10\n",
      "1423/1423 [==============================] - ETA: 0s - loss: 0.1316 - accuracy: 0.9737\n",
      "Epoch 00006: val_loss did not improve from 0.47391\n",
      "1423/1423 [==============================] - 188s 132ms/step - loss: 0.1316 - accuracy: 0.9737 - val_loss: 0.5880 - val_accuracy: 0.8145\n",
      "Epoch 7/10\n",
      "1423/1423 [==============================] - ETA: 0s - loss: 0.0930 - accuracy: 0.9818\n",
      "Epoch 00007: val_loss improved from 0.47391 to 0.41477, saving model to /home/ssac18/aiffel/E05_SpeechToText/models/wav_skip\n",
      "1423/1423 [==============================] - 190s 133ms/step - loss: 0.0930 - accuracy: 0.9818 - val_loss: 0.4148 - val_accuracy: 0.8752\n",
      "Epoch 8/10\n",
      "1423/1423 [==============================] - ETA: 0s - loss: 0.0717 - accuracy: 0.9859\n",
      "Epoch 00008: val_loss did not improve from 0.41477\n",
      "1423/1423 [==============================] - 188s 132ms/step - loss: 0.0717 - accuracy: 0.9859 - val_loss: 0.4257 - val_accuracy: 0.8813\n",
      "Epoch 9/10\n",
      "1423/1423 [==============================] - ETA: 0s - loss: 0.0566 - accuracy: 0.9886\n",
      "Epoch 00009: val_loss improved from 0.41477 to 0.34824, saving model to /home/ssac18/aiffel/E05_SpeechToText/models/wav_skip\n",
      "1423/1423 [==============================] - 188s 132ms/step - loss: 0.0566 - accuracy: 0.9886 - val_loss: 0.3482 - val_accuracy: 0.9037\n",
      "Epoch 10/10\n",
      "1423/1423 [==============================] - ETA: 0s - loss: 0.0457 - accuracy: 0.9911\n",
      "Epoch 00010: val_loss improved from 0.34824 to 0.32330, saving model to /home/ssac18/aiffel/E05_SpeechToText/models/wav_skip\n",
      "1423/1423 [==============================] - 188s 132ms/step - loss: 0.0457 - accuracy: 0.9911 - val_loss: 0.3233 - val_accuracy: 0.9068\n"
     ]
    }
   ],
   "source": [
    "history_wav_skip = model_wav_skip.fit(train_dataset, epochs=max_epochs,\n",
    "                    steps_per_epoch=len(X_train) // batch_size,\n",
    "                    validation_data=test_dataset,\n",
    "                    validation_steps=len(X_test) // batch_size,\n",
    "                    callbacks=[cp_callback]\n",
    "                    )"
   ]
  },
  {
   "cell_type": "code",
   "execution_count": 55,
   "metadata": {},
   "outputs": [
    {
     "data": {
      "image/png": "[encoded data removed]",
      "text/plain": [
       "<Figure size 1080x360 with 2 Axes>"
      ]
     },
     "metadata": {
      "needs_background": "light"
     },
     "output_type": "display_data"
    }
   ],
   "source": [
    "import matplotlib.pyplot as plt\n",
    "\n",
    "acc = history_wav.history['accuracy']\n",
    "val_acc = history_wav.history['val_accuracy']\n",
    "\n",
    "loss=history_wav.history['loss']\n",
    "val_loss=history_wav.history['val_loss']\n",
    "\n",
    "epochs_range = range(len(acc))\n",
    "\n",
    "plt.figure(figsize=(15, 5))\n",
    "plt.subplot(1, 2, 1)\n",
    "plt.plot(epochs_range, loss, 'bo', label='Training Loss')\n",
    "plt.plot(epochs_range, val_loss, 'b', label='Validation Loss')\n",
    "plt.xlabel('Epochs')\n",
    "plt.ylabel('Loss')\n",
    "plt.legend()\n",
    "plt.title('Training and Validation Loss')\n",
    "\n",
    "\n",
    "plt.subplot(1, 2, 2)\n",
    "plt.plot(epochs_range, acc, 'bo', label='Training Accuracy')\n",
    "plt.plot(epochs_range, val_acc, 'b', label='Validation Accuracy')\n",
    "plt.xlabel('Epochs')\n",
    "plt.ylabel('Loss')\n",
    "plt.legend()\n",
    "plt.title('Training and Validation Accuracy')\n",
    "\n",
    "plt.show()"
   ]
  },
  {
   "cell_type": "code",
   "execution_count": 56,
   "metadata": {},
   "outputs": [
    {
     "name": "stdout",
     "output_type": "stream",
     "text": [
      "159/159 [==============================] - 8s 53ms/step - loss: 0.3235 - accuracy: 0.9066\n",
      "loss value: 0.323\n",
      "accuracy value: 90.6559%\n"
     ]
    }
   ],
   "source": [
    "# Evaluation \n",
    "model_wav_skip.load_weights(checkpoint_dir)\n",
    "results = model_wav_skip.evaluate(test_dataset)\n",
    "\n",
    "# loss\n",
    "print(\"loss value: {:.3f}\".format(results[0]))\n",
    "# accuracy\n",
    "print(\"accuracy value: {:.4f}%\".format(results[1]*100))\n"
   ]
  },
  {
   "cell_type": "code",
   "execution_count": 57,
   "metadata": {},
   "outputs": [
    {
     "name": "stdout",
     "output_type": "stream",
     "text": [
      "label :  down\n"
     ]
    },
    {
     "data": {
      "text/html": [
       "\n",
       "                <audio  controls=\"controls\" >\n",
       "                    <source src=\"data:audio/wav;base64,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\" type=\"audio/wav\" />\n",
       "                    Your browser does not support the audio element.\n",
       "                </audio>\n",
       "              "
      ],
      "text/plain": [
       "<IPython.lib.display.Audio object>"
      ]
     },
     "execution_count": 57,
     "metadata": {},
     "output_type": "execute_result"
    }
   ],
   "source": [
    "# Test \n",
    "\n",
    "inv_label_value = {v: k for k, v in label_value.items()}\n",
    "batch_index = np.random.choice(len(X_test), size=1, replace=False)\n",
    "\n",
    "batch_xs = X_test[batch_index]\n",
    "batch_ys = y_test[batch_index]\n",
    "y_pred_ = model_wav_skip(batch_xs, training=False)\n",
    "\n",
    "print(\"label : \", str(inv_label_value[batch_ys[0]]))\n",
    "\n",
    "ipd.Audio(batch_xs.reshape(8000,), rate=8000)"
   ]
  },
  {
   "cell_type": "code",
   "execution_count": 58,
   "metadata": {},
   "outputs": [
    {
     "name": "stdout",
     "output_type": "stream",
     "text": [
      "y_pred: down(Correct!)\n"
     ]
    }
   ],
   "source": [
    "if np.argmax(y_pred_) == batch_ys[0]:\n",
    "    print(\"y_pred: \" + str(inv_label_value[np.argmax(y_pred_)]) + '(Correct!)')\n",
    "else:\n",
    "    print(\"y_pred: \" + str(inv_label_value[np.argmax(y_pred_)]) + '(Incorrect!)')\n"
   ]
  },
  {
   "cell_type": "markdown",
   "metadata": {},
   "source": [
    "# 2. "
   ]
  },
  {
   "cell_type": "code",
   "execution_count": null,
   "metadata": {},
   "outputs": [],
   "source": [
    "input_tensor = layers.Input(shape=(sr, 1, 1))   \n",
    "\n",
    "x = layers.Conv2D(32, (3,3), padding='same', activation='relu')(input_tensor)\n",
    "x = layers.Conv2D(32, (3,3), padding='same', activation='relu')(x)\n",
    "x = layers.MaxPool2D(padding='same')(x)\n",
    "x = layers.Dropout(0.3)(x)\n",
    "\n",
    "x = layers.Conv2D(64, (3,3), padding='same', activation='relu')(x)\n",
    "x = layers.Conv2D(64, (3,3), padding='same', activation='relu')(x)\n",
    "x = layers.MaxPool2D(padding='same')(x)\n",
    "x = layers.Dropout(0.3)(x)\n",
    "\n",
    "x = layers.Conv2D(128, (3,3), padding='same', activation='relu')(x)\n",
    "x = layers.Conv2D(128, (3,3), padding='same', activation='relu')(x)\n",
    "x = layers.Conv2D(128, (3,3), padding='same', activation='relu')(x)\n",
    "x = layers.MaxPool2D(padding='same')(x)\n",
    "x = layers.Dropout(0.3)(x)\n",
    "\n",
    "x = layers.Conv2D(256, (3,3), padding='same', activation='relu')(x)\n",
    "x = layers.Conv2D(256, (3,3), padding='same', activation='relu')(x)\n",
    "x = layers.Conv2D(256, (3,3), padding='same', activation='relu')(x)\n",
    "x = layers.MaxPool2D(padding='same')(x)\n",
    "x = layers.Dropout(0.3)(x)\n",
    "\n",
    "x = layers.Flatten()(x)\n",
    "x = layers.Dense(256, kernel_regularizer='l1')(x)\n",
    "x = layers.BatchNormalization()(x)\n",
    "x = layers.Activation('relu')(x)\n",
    "\n",
    "output_tensor = layers.Dense(12)(x)             # 최종 출력은 12차원. 타겟 개수가 12개니까!\n",
    "\n",
    "model_wav = tf.keras.Model(input_tensor, output_tensor)\n",
    "\n",
    "model_wav.summary()"
   ]
  },
  {
   "cell_type": "code",
   "execution_count": null,
   "metadata": {},
   "outputs": [],
   "source": []
  },
  {
   "cell_type": "code",
   "execution_count": null,
   "metadata": {},
   "outputs": [],
   "source": []
  },
  {
   "cell_type": "code",
   "execution_count": null,
   "metadata": {},
   "outputs": [],
   "source": []
  },
  {
   "cell_type": "code",
   "execution_count": null,
   "metadata": {},
   "outputs": [],
   "source": []
  },
  {
   "cell_type": "code",
   "execution_count": null,
   "metadata": {},
   "outputs": [],
   "source": []
  },
  {
   "cell_type": "code",
   "execution_count": null,
   "metadata": {},
   "outputs": [],
   "source": []
  },
  {
   "cell_type": "markdown",
   "metadata": {},
   "source": [
    "### [결과 및 회고]\n",
    "\n"
   ]
  },
  {
   "cell_type": "code",
   "execution_count": null,
   "metadata": {},
   "outputs": [],
   "source": []
  },
  {
   "cell_type": "code",
   "execution_count": null,
   "metadata": {},
   "outputs": [],
   "source": []
  }
 ],
 "metadata": {
  "kernelspec": {
   "display_name": "Python 3",
   "language": "python",
   "name": "python3"
  },
  "language_info": {
   "codemirror_mode": {
    "name": "ipython",
    "version": 3
   },
   "file_extension": ".py",
   "mimetype": "text/x-python",
   "name": "python",
   "nbconvert_exporter": "python",
   "pygments_lexer": "ipython3",
   "version": "3.7.9"
  }
 },
 "nbformat": 4,
 "nbformat_minor": 4
}
