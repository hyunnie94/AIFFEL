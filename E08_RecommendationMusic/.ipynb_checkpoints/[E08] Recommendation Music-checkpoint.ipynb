{
 "cells": [
  {
   "cell_type": "markdown",
   "metadata": {},
   "source": [
    "# 8-9. 프로젝트 - Movielens 영화 추천 실습\n",
    "\n",
    "\n",
    "\n",
    "### [루브릭]\n",
    "\n",
    "평가문항\t상세기준\n",
    "1. CSR matrix가 정상적으로 만들어졌다.\n",
    "     - 사용자와 아이템 개수를 바탕으로 정확한 사이즈로 만들었다.  \n",
    "    \n",
    "2. MF 모델이 정상적으로 훈련되어 그럴듯한 추천이 이루어졌다.\n",
    "     - 사용자와 아이템 벡터 내적수치가 의미있게 형성되었다.  \n",
    "    \n",
    "3. 비슷한 영화 찾기와 유저에게 추천하기의 과정이 정상적으로 진행되었다.\n",
    "     - MF모델이 예측한 유저 선호도 및 아이템간 유사도, 기여도가 의미있게 측정되었다.\n",
    "     \n",
    "\n",
    "### [학습 과정]  \n",
    "\n",
    "1) 데이터 준비와 전처리  \n",
    "2) 분석해 봅시다  \n",
    "   * ratings에 있는 유니크한 영화 개수  \n",
    "   * rating에 있는 유니크한 사용자 수  \n",
    "   * 가장 인기 있는 영화 30개(인기순)    \n",
    "   \n",
    "3) 내가 선호하는 영화를 5가지 골라서 rating에 추가해 줍시다.  \n",
    "4) CSR matrix를 직접 만들어 봅시다.  \n",
    "5) als_model = AlternatingLeastSquares 모델을 직접 구성하여 훈련시켜 봅시다.  \n",
    "6) 내가 선호하는 5가지 영화 중 하나와 그 외의 영화 하나를 골라 훈련된 모델이 예측한 나의 선호도를 파악해 보세요.  \n",
    "7) 내가 좋아하는 영화와 비슷한 영화를 추천받아 봅시다.  \n",
    "8) 내가 가장 좋아할 만한 영화들을 추천받아 봅시다.   \n",
    "\n",
    "### [결과 및 회고]"
   ]
  },
  {
   "cell_type": "markdown",
   "metadata": {},
   "source": [
    "## 1) 데이터 준비와 전처리\n",
    "---\n",
    "\n",
    "* 유저가 영화에 대해 평점을 매긴 데이터 MovieLens 1M Dataset\n",
    "* 별점 데이터는 explicit 데이터이지만 implicit 데이터로 간주하고 테스트할 수 있음\n",
    "* 별점 = 시청횟수로 해석\n",
    "* 3점 미만으로 준 데이터는 제외"
   ]
  },
  {
   "cell_type": "code",
   "execution_count": 115,
   "metadata": {},
   "outputs": [
    {
     "data": {
      "text/html": [
       "<div>\n",
       "<style scoped>\n",
       "    .dataframe tbody tr th:only-of-type {\n",
       "        vertical-align: middle;\n",
       "    }\n",
       "\n",
       "    .dataframe tbody tr th {\n",
       "        vertical-align: top;\n",
       "    }\n",
       "\n",
       "    .dataframe thead th {\n",
       "        text-align: right;\n",
       "    }\n",
       "</style>\n",
       "<table border=\"1\" class=\"dataframe\">\n",
       "  <thead>\n",
       "    <tr style=\"text-align: right;\">\n",
       "      <th></th>\n",
       "      <th>user_id</th>\n",
       "      <th>movie_id</th>\n",
       "      <th>rating</th>\n",
       "      <th>timestamp</th>\n",
       "    </tr>\n",
       "  </thead>\n",
       "  <tbody>\n",
       "    <tr>\n",
       "      <th>0</th>\n",
       "      <td>1</td>\n",
       "      <td>1193</td>\n",
       "      <td>5</td>\n",
       "      <td>978300760</td>\n",
       "    </tr>\n",
       "    <tr>\n",
       "      <th>1</th>\n",
       "      <td>1</td>\n",
       "      <td>661</td>\n",
       "      <td>3</td>\n",
       "      <td>978302109</td>\n",
       "    </tr>\n",
       "    <tr>\n",
       "      <th>2</th>\n",
       "      <td>1</td>\n",
       "      <td>914</td>\n",
       "      <td>3</td>\n",
       "      <td>978301968</td>\n",
       "    </tr>\n",
       "    <tr>\n",
       "      <th>3</th>\n",
       "      <td>1</td>\n",
       "      <td>3408</td>\n",
       "      <td>4</td>\n",
       "      <td>978300275</td>\n",
       "    </tr>\n",
       "    <tr>\n",
       "      <th>4</th>\n",
       "      <td>1</td>\n",
       "      <td>2355</td>\n",
       "      <td>5</td>\n",
       "      <td>978824291</td>\n",
       "    </tr>\n",
       "  </tbody>\n",
       "</table>\n",
       "</div>"
      ],
      "text/plain": [
       "   user_id  movie_id  rating  timestamp\n",
       "0        1      1193       5  978300760\n",
       "1        1       661       3  978302109\n",
       "2        1       914       3  978301968\n",
       "3        1      3408       4  978300275\n",
       "4        1      2355       5  978824291"
      ]
     },
     "execution_count": 115,
     "metadata": {},
     "output_type": "execute_result"
    }
   ],
   "source": [
    "import os\n",
    "import pandas as pd\n",
    "\n",
    "rating_file_path=os.getenv('HOME') + '/aiffel/E08_RecommendationMusic/data/ml-1m/ratings.dat'\n",
    "ratings_cols = ['user_id', 'movie_id', 'rating', 'timestamp']\n",
    "ratings = pd.read_csv(rating_file_path, sep='::', names=ratings_cols, engine='python')\n",
    "orginal_data_size = len(ratings)\n",
    "ratings.head()"
   ]
  },
  {
   "cell_type": "code",
   "execution_count": 116,
   "metadata": {
    "scrolled": true
   },
   "outputs": [
    {
     "name": "stdout",
     "output_type": "stream",
     "text": [
      "orginal_data_size: 1000209, filtered_data_size: 836478\n",
      "Ratio of Remaining Data is 83.63%\n"
     ]
    }
   ],
   "source": [
    "# 3점 이상만 남깁니다.\n",
    "ratings = ratings[ratings['rating']>=3]\n",
    "filtered_data_size = len(ratings)\n",
    "\n",
    "print(f'orginal_data_size: {orginal_data_size}, filtered_data_size: {filtered_data_size}')\n",
    "print(f'Ratio of Remaining Data is {filtered_data_size / orginal_data_size:.2%}')"
   ]
  },
  {
   "cell_type": "code",
   "execution_count": 117,
   "metadata": {},
   "outputs": [],
   "source": [
    "# rating 컬럼의 이름을 count로 바꿉니다. 시청횟수로 생각하기로 했으니까!\n",
    "ratings.rename(columns={'rating':'count'}, inplace=True)"
   ]
  },
  {
   "cell_type": "code",
   "execution_count": 118,
   "metadata": {},
   "outputs": [
    {
     "data": {
      "text/plain": [
       "0          5\n",
       "1          3\n",
       "2          3\n",
       "3          4\n",
       "4          5\n",
       "          ..\n",
       "1000203    3\n",
       "1000205    5\n",
       "1000206    5\n",
       "1000207    4\n",
       "1000208    4\n",
       "Name: count, Length: 836478, dtype: int64"
      ]
     },
     "execution_count": 118,
     "metadata": {},
     "output_type": "execute_result"
    }
   ],
   "source": [
    "ratings['count']"
   ]
  },
  {
   "cell_type": "code",
   "execution_count": 119,
   "metadata": {},
   "outputs": [
    {
     "data": {
      "text/html": [
       "<div>\n",
       "<style scoped>\n",
       "    .dataframe tbody tr th:only-of-type {\n",
       "        vertical-align: middle;\n",
       "    }\n",
       "\n",
       "    .dataframe tbody tr th {\n",
       "        vertical-align: top;\n",
       "    }\n",
       "\n",
       "    .dataframe thead th {\n",
       "        text-align: right;\n",
       "    }\n",
       "</style>\n",
       "<table border=\"1\" class=\"dataframe\">\n",
       "  <thead>\n",
       "    <tr style=\"text-align: right;\">\n",
       "      <th></th>\n",
       "      <th>movie_id</th>\n",
       "      <th>title</th>\n",
       "      <th>genre</th>\n",
       "    </tr>\n",
       "  </thead>\n",
       "  <tbody>\n",
       "    <tr>\n",
       "      <th>0</th>\n",
       "      <td>1</td>\n",
       "      <td>Toy Story (1995)</td>\n",
       "      <td>Animation|Children's|Comedy</td>\n",
       "    </tr>\n",
       "    <tr>\n",
       "      <th>1</th>\n",
       "      <td>2</td>\n",
       "      <td>Jumanji (1995)</td>\n",
       "      <td>Adventure|Children's|Fantasy</td>\n",
       "    </tr>\n",
       "    <tr>\n",
       "      <th>2</th>\n",
       "      <td>3</td>\n",
       "      <td>Grumpier Old Men (1995)</td>\n",
       "      <td>Comedy|Romance</td>\n",
       "    </tr>\n",
       "    <tr>\n",
       "      <th>3</th>\n",
       "      <td>4</td>\n",
       "      <td>Waiting to Exhale (1995)</td>\n",
       "      <td>Comedy|Drama</td>\n",
       "    </tr>\n",
       "    <tr>\n",
       "      <th>4</th>\n",
       "      <td>5</td>\n",
       "      <td>Father of the Bride Part II (1995)</td>\n",
       "      <td>Comedy</td>\n",
       "    </tr>\n",
       "    <tr>\n",
       "      <th>5</th>\n",
       "      <td>6</td>\n",
       "      <td>Heat (1995)</td>\n",
       "      <td>Action|Crime|Thriller</td>\n",
       "    </tr>\n",
       "    <tr>\n",
       "      <th>6</th>\n",
       "      <td>7</td>\n",
       "      <td>Sabrina (1995)</td>\n",
       "      <td>Comedy|Romance</td>\n",
       "    </tr>\n",
       "    <tr>\n",
       "      <th>7</th>\n",
       "      <td>8</td>\n",
       "      <td>Tom and Huck (1995)</td>\n",
       "      <td>Adventure|Children's</td>\n",
       "    </tr>\n",
       "    <tr>\n",
       "      <th>8</th>\n",
       "      <td>9</td>\n",
       "      <td>Sudden Death (1995)</td>\n",
       "      <td>Action</td>\n",
       "    </tr>\n",
       "    <tr>\n",
       "      <th>9</th>\n",
       "      <td>10</td>\n",
       "      <td>GoldenEye (1995)</td>\n",
       "      <td>Action|Adventure|Thriller</td>\n",
       "    </tr>\n",
       "    <tr>\n",
       "      <th>10</th>\n",
       "      <td>11</td>\n",
       "      <td>American President, The (1995)</td>\n",
       "      <td>Comedy|Drama|Romance</td>\n",
       "    </tr>\n",
       "    <tr>\n",
       "      <th>11</th>\n",
       "      <td>12</td>\n",
       "      <td>Dracula: Dead and Loving It (1995)</td>\n",
       "      <td>Comedy|Horror</td>\n",
       "    </tr>\n",
       "    <tr>\n",
       "      <th>12</th>\n",
       "      <td>13</td>\n",
       "      <td>Balto (1995)</td>\n",
       "      <td>Animation|Children's</td>\n",
       "    </tr>\n",
       "    <tr>\n",
       "      <th>13</th>\n",
       "      <td>14</td>\n",
       "      <td>Nixon (1995)</td>\n",
       "      <td>Drama</td>\n",
       "    </tr>\n",
       "    <tr>\n",
       "      <th>14</th>\n",
       "      <td>15</td>\n",
       "      <td>Cutthroat Island (1995)</td>\n",
       "      <td>Action|Adventure|Romance</td>\n",
       "    </tr>\n",
       "    <tr>\n",
       "      <th>15</th>\n",
       "      <td>16</td>\n",
       "      <td>Casino (1995)</td>\n",
       "      <td>Drama|Thriller</td>\n",
       "    </tr>\n",
       "    <tr>\n",
       "      <th>16</th>\n",
       "      <td>17</td>\n",
       "      <td>Sense and Sensibility (1995)</td>\n",
       "      <td>Drama|Romance</td>\n",
       "    </tr>\n",
       "    <tr>\n",
       "      <th>17</th>\n",
       "      <td>18</td>\n",
       "      <td>Four Rooms (1995)</td>\n",
       "      <td>Thriller</td>\n",
       "    </tr>\n",
       "    <tr>\n",
       "      <th>18</th>\n",
       "      <td>19</td>\n",
       "      <td>Ace Ventura: When Nature Calls (1995)</td>\n",
       "      <td>Comedy</td>\n",
       "    </tr>\n",
       "    <tr>\n",
       "      <th>19</th>\n",
       "      <td>20</td>\n",
       "      <td>Money Train (1995)</td>\n",
       "      <td>Action</td>\n",
       "    </tr>\n",
       "  </tbody>\n",
       "</table>\n",
       "</div>"
      ],
      "text/plain": [
       "    movie_id                                  title  \\\n",
       "0          1                       Toy Story (1995)   \n",
       "1          2                         Jumanji (1995)   \n",
       "2          3                Grumpier Old Men (1995)   \n",
       "3          4               Waiting to Exhale (1995)   \n",
       "4          5     Father of the Bride Part II (1995)   \n",
       "5          6                            Heat (1995)   \n",
       "6          7                         Sabrina (1995)   \n",
       "7          8                    Tom and Huck (1995)   \n",
       "8          9                    Sudden Death (1995)   \n",
       "9         10                       GoldenEye (1995)   \n",
       "10        11         American President, The (1995)   \n",
       "11        12     Dracula: Dead and Loving It (1995)   \n",
       "12        13                           Balto (1995)   \n",
       "13        14                           Nixon (1995)   \n",
       "14        15                Cutthroat Island (1995)   \n",
       "15        16                          Casino (1995)   \n",
       "16        17           Sense and Sensibility (1995)   \n",
       "17        18                      Four Rooms (1995)   \n",
       "18        19  Ace Ventura: When Nature Calls (1995)   \n",
       "19        20                     Money Train (1995)   \n",
       "\n",
       "                           genre  \n",
       "0    Animation|Children's|Comedy  \n",
       "1   Adventure|Children's|Fantasy  \n",
       "2                 Comedy|Romance  \n",
       "3                   Comedy|Drama  \n",
       "4                         Comedy  \n",
       "5          Action|Crime|Thriller  \n",
       "6                 Comedy|Romance  \n",
       "7           Adventure|Children's  \n",
       "8                         Action  \n",
       "9      Action|Adventure|Thriller  \n",
       "10          Comedy|Drama|Romance  \n",
       "11                 Comedy|Horror  \n",
       "12          Animation|Children's  \n",
       "13                         Drama  \n",
       "14      Action|Adventure|Romance  \n",
       "15                Drama|Thriller  \n",
       "16                 Drama|Romance  \n",
       "17                      Thriller  \n",
       "18                        Comedy  \n",
       "19                        Action  "
      ]
     },
     "execution_count": 119,
     "metadata": {},
     "output_type": "execute_result"
    }
   ],
   "source": [
    "# 영화 제목을 보기 위해 메타 데이터를 읽어옵니다.\n",
    "movie_file_path=os.getenv('HOME') + '/aiffel/E08_RecommendationMusic/data/ml-1m/movies.dat'\n",
    "cols = ['movie_id', 'title', 'genre'] \n",
    "movies = pd.read_csv(movie_file_path, sep='::', names=cols, engine='python')\n",
    "movies.head(20)"
   ]
  },
  {
   "cell_type": "code",
   "execution_count": 120,
   "metadata": {},
   "outputs": [
    {
     "data": {
      "text/html": [
       "<div>\n",
       "<style scoped>\n",
       "    .dataframe tbody tr th:only-of-type {\n",
       "        vertical-align: middle;\n",
       "    }\n",
       "\n",
       "    .dataframe tbody tr th {\n",
       "        vertical-align: top;\n",
       "    }\n",
       "\n",
       "    .dataframe thead th {\n",
       "        text-align: right;\n",
       "    }\n",
       "</style>\n",
       "<table border=\"1\" class=\"dataframe\">\n",
       "  <thead>\n",
       "    <tr style=\"text-align: right;\">\n",
       "      <th></th>\n",
       "      <th>movie_id</th>\n",
       "      <th>movie_id_new</th>\n",
       "      <th>title</th>\n",
       "      <th>genre</th>\n",
       "    </tr>\n",
       "  </thead>\n",
       "  <tbody>\n",
       "    <tr>\n",
       "      <th>0</th>\n",
       "      <td>1</td>\n",
       "      <td>1</td>\n",
       "      <td>Toy Story (1995)</td>\n",
       "      <td>Animation|Children's|Comedy</td>\n",
       "    </tr>\n",
       "    <tr>\n",
       "      <th>1</th>\n",
       "      <td>2</td>\n",
       "      <td>2</td>\n",
       "      <td>Jumanji (1995)</td>\n",
       "      <td>Adventure|Children's|Fantasy</td>\n",
       "    </tr>\n",
       "    <tr>\n",
       "      <th>2</th>\n",
       "      <td>3</td>\n",
       "      <td>3</td>\n",
       "      <td>Grumpier Old Men (1995)</td>\n",
       "      <td>Comedy|Romance</td>\n",
       "    </tr>\n",
       "    <tr>\n",
       "      <th>3</th>\n",
       "      <td>4</td>\n",
       "      <td>4</td>\n",
       "      <td>Waiting to Exhale (1995)</td>\n",
       "      <td>Comedy|Drama</td>\n",
       "    </tr>\n",
       "    <tr>\n",
       "      <th>4</th>\n",
       "      <td>5</td>\n",
       "      <td>5</td>\n",
       "      <td>Father of the Bride Part II (1995)</td>\n",
       "      <td>Comedy</td>\n",
       "    </tr>\n",
       "    <tr>\n",
       "      <th>...</th>\n",
       "      <td>...</td>\n",
       "      <td>...</td>\n",
       "      <td>...</td>\n",
       "      <td>...</td>\n",
       "    </tr>\n",
       "    <tr>\n",
       "      <th>3878</th>\n",
       "      <td>3948</td>\n",
       "      <td>3879</td>\n",
       "      <td>Meet the Parents (2000)</td>\n",
       "      <td>Comedy</td>\n",
       "    </tr>\n",
       "    <tr>\n",
       "      <th>3879</th>\n",
       "      <td>3949</td>\n",
       "      <td>3880</td>\n",
       "      <td>Requiem for a Dream (2000)</td>\n",
       "      <td>Drama</td>\n",
       "    </tr>\n",
       "    <tr>\n",
       "      <th>3880</th>\n",
       "      <td>3950</td>\n",
       "      <td>3881</td>\n",
       "      <td>Tigerland (2000)</td>\n",
       "      <td>Drama</td>\n",
       "    </tr>\n",
       "    <tr>\n",
       "      <th>3881</th>\n",
       "      <td>3951</td>\n",
       "      <td>3882</td>\n",
       "      <td>Two Family House (2000)</td>\n",
       "      <td>Drama</td>\n",
       "    </tr>\n",
       "    <tr>\n",
       "      <th>3882</th>\n",
       "      <td>3952</td>\n",
       "      <td>3883</td>\n",
       "      <td>Contender, The (2000)</td>\n",
       "      <td>Drama|Thriller</td>\n",
       "    </tr>\n",
       "  </tbody>\n",
       "</table>\n",
       "<p>3883 rows × 4 columns</p>\n",
       "</div>"
      ],
      "text/plain": [
       "      movie_id  movie_id_new                               title  \\\n",
       "0            1             1                    Toy Story (1995)   \n",
       "1            2             2                      Jumanji (1995)   \n",
       "2            3             3             Grumpier Old Men (1995)   \n",
       "3            4             4            Waiting to Exhale (1995)   \n",
       "4            5             5  Father of the Bride Part II (1995)   \n",
       "...        ...           ...                                 ...   \n",
       "3878      3948          3879             Meet the Parents (2000)   \n",
       "3879      3949          3880          Requiem for a Dream (2000)   \n",
       "3880      3950          3881                    Tigerland (2000)   \n",
       "3881      3951          3882             Two Family House (2000)   \n",
       "3882      3952          3883               Contender, The (2000)   \n",
       "\n",
       "                             genre  \n",
       "0      Animation|Children's|Comedy  \n",
       "1     Adventure|Children's|Fantasy  \n",
       "2                   Comedy|Romance  \n",
       "3                     Comedy|Drama  \n",
       "4                           Comedy  \n",
       "...                            ...  \n",
       "3878                        Comedy  \n",
       "3879                         Drama  \n",
       "3880                         Drama  \n",
       "3881                         Drama  \n",
       "3882                Drama|Thriller  \n",
       "\n",
       "[3883 rows x 4 columns]"
      ]
     },
     "execution_count": 120,
     "metadata": {},
     "output_type": "execute_result"
    }
   ],
   "source": [
    "movies['movie_id_new'] = range(1,3884)\n",
    "movies = movies[['movie_id', 'movie_id_new', 'title', 'genre']]\n",
    "movies"
   ]
  },
  {
   "cell_type": "code",
   "execution_count": 121,
   "metadata": {},
   "outputs": [
    {
     "data": {
      "text/plain": [
       "3883"
      ]
     },
     "execution_count": 121,
     "metadata": {},
     "output_type": "execute_result"
    }
   ],
   "source": [
    "movies['title'].nunique()   # 영화 개수 총 3883개"
   ]
  },
  {
   "cell_type": "markdown",
   "metadata": {},
   "source": [
    "## 2) 분석하기\n",
    "\n",
    "#### 별점이 남아있는 영화는 중복 없이 총 몇 개일까?"
   ]
  },
  {
   "cell_type": "code",
   "execution_count": 122,
   "metadata": {},
   "outputs": [
    {
     "data": {
      "text/plain": [
       "3628"
      ]
     },
     "execution_count": 122,
     "metadata": {},
     "output_type": "execute_result"
    }
   ],
   "source": [
    "ratings['movie_id'].nunique()"
   ]
  },
  {
   "cell_type": "markdown",
   "metadata": {},
   "source": [
    "#### 별점을 준 사용자는 중복 없이 총 몇 명일까?"
   ]
  },
  {
   "cell_type": "code",
   "execution_count": 123,
   "metadata": {},
   "outputs": [
    {
     "data": {
      "text/plain": [
       "6039"
      ]
     },
     "execution_count": 123,
     "metadata": {},
     "output_type": "execute_result"
    }
   ],
   "source": [
    "ratings['user_id'].nunique()"
   ]
  },
  {
   "cell_type": "markdown",
   "metadata": {},
   "source": [
    "#### 가장 인기 있는 영화 30개는? (인기순)"
   ]
  },
  {
   "cell_type": "code",
   "execution_count": 124,
   "metadata": {},
   "outputs": [
    {
     "data": {
      "text/plain": [
       "movie_id\n",
       "2858    3211\n",
       "260     2910\n",
       "1196    2885\n",
       "1210    2716\n",
       "2028    2561\n",
       "589     2509\n",
       "593     2498\n",
       "1198    2473\n",
       "1270    2460\n",
       "2571    2434\n",
       "Name: user_id, dtype: int64"
      ]
     },
     "execution_count": 124,
     "metadata": {},
     "output_type": "execute_result"
    }
   ],
   "source": [
    "movie_count = ratings.groupby('movie_id')['user_id'].count()\n",
    "movie_count.sort_values(ascending=False).head(10)"
   ]
  },
  {
   "cell_type": "code",
   "execution_count": 125,
   "metadata": {},
   "outputs": [
    {
     "data": {
      "text/html": [
       "<div>\n",
       "<style scoped>\n",
       "    .dataframe tbody tr th:only-of-type {\n",
       "        vertical-align: middle;\n",
       "    }\n",
       "\n",
       "    .dataframe tbody tr th {\n",
       "        vertical-align: top;\n",
       "    }\n",
       "\n",
       "    .dataframe thead th {\n",
       "        text-align: right;\n",
       "    }\n",
       "</style>\n",
       "<table border=\"1\" class=\"dataframe\">\n",
       "  <thead>\n",
       "    <tr style=\"text-align: right;\">\n",
       "      <th></th>\n",
       "      <th>movie_id</th>\n",
       "      <th>movie_id_new</th>\n",
       "      <th>title</th>\n",
       "      <th>genre</th>\n",
       "    </tr>\n",
       "  </thead>\n",
       "  <tbody>\n",
       "    <tr>\n",
       "      <th>2789</th>\n",
       "      <td>2858</td>\n",
       "      <td>2790</td>\n",
       "      <td>American Beauty (1999)</td>\n",
       "      <td>Comedy|Drama</td>\n",
       "    </tr>\n",
       "  </tbody>\n",
       "</table>\n",
       "</div>"
      ],
      "text/plain": [
       "      movie_id  movie_id_new                   title         genre\n",
       "2789      2858          2790  American Beauty (1999)  Comedy|Drama"
      ]
     },
     "execution_count": 125,
     "metadata": {},
     "output_type": "execute_result"
    }
   ],
   "source": [
    "movies[movies['movie_id'] == 2858]"
   ]
  },
  {
   "cell_type": "code",
   "execution_count": 126,
   "metadata": {},
   "outputs": [
    {
     "data": {
      "text/html": [
       "<div>\n",
       "<style scoped>\n",
       "    .dataframe tbody tr th:only-of-type {\n",
       "        vertical-align: middle;\n",
       "    }\n",
       "\n",
       "    .dataframe tbody tr th {\n",
       "        vertical-align: top;\n",
       "    }\n",
       "\n",
       "    .dataframe thead th {\n",
       "        text-align: right;\n",
       "    }\n",
       "</style>\n",
       "<table border=\"1\" class=\"dataframe\">\n",
       "  <thead>\n",
       "    <tr style=\"text-align: right;\">\n",
       "      <th></th>\n",
       "      <th>movie_id</th>\n",
       "      <th>movie_id_new</th>\n",
       "      <th>title</th>\n",
       "      <th>genre</th>\n",
       "    </tr>\n",
       "  </thead>\n",
       "  <tbody>\n",
       "    <tr>\n",
       "      <th>257</th>\n",
       "      <td>260</td>\n",
       "      <td>258</td>\n",
       "      <td>Star Wars: Episode IV - A New Hope (1977)</td>\n",
       "      <td>Action|Adventure|Fantasy|Sci-Fi</td>\n",
       "    </tr>\n",
       "  </tbody>\n",
       "</table>\n",
       "</div>"
      ],
      "text/plain": [
       "     movie_id  movie_id_new                                      title  \\\n",
       "257       260           258  Star Wars: Episode IV - A New Hope (1977)   \n",
       "\n",
       "                               genre  \n",
       "257  Action|Adventure|Fantasy|Sci-Fi  "
      ]
     },
     "execution_count": 126,
     "metadata": {},
     "output_type": "execute_result"
    }
   ],
   "source": [
    "movies[movies['movie_id'] == 260]"
   ]
  },
  {
   "cell_type": "code",
   "execution_count": 127,
   "metadata": {},
   "outputs": [
    {
     "data": {
      "text/html": [
       "<div>\n",
       "<style scoped>\n",
       "    .dataframe tbody tr th:only-of-type {\n",
       "        vertical-align: middle;\n",
       "    }\n",
       "\n",
       "    .dataframe tbody tr th {\n",
       "        vertical-align: top;\n",
       "    }\n",
       "\n",
       "    .dataframe thead th {\n",
       "        text-align: right;\n",
       "    }\n",
       "</style>\n",
       "<table border=\"1\" class=\"dataframe\">\n",
       "  <thead>\n",
       "    <tr style=\"text-align: right;\">\n",
       "      <th></th>\n",
       "      <th>movie_id</th>\n",
       "      <th>movie_id_new</th>\n",
       "      <th>title</th>\n",
       "      <th>genre</th>\n",
       "    </tr>\n",
       "  </thead>\n",
       "  <tbody>\n",
       "    <tr>\n",
       "      <th>1178</th>\n",
       "      <td>1196</td>\n",
       "      <td>1179</td>\n",
       "      <td>Star Wars: Episode V - The Empire Strikes Back...</td>\n",
       "      <td>Action|Adventure|Drama|Sci-Fi|War</td>\n",
       "    </tr>\n",
       "  </tbody>\n",
       "</table>\n",
       "</div>"
      ],
      "text/plain": [
       "      movie_id  movie_id_new  \\\n",
       "1178      1196          1179   \n",
       "\n",
       "                                                  title  \\\n",
       "1178  Star Wars: Episode V - The Empire Strikes Back...   \n",
       "\n",
       "                                  genre  \n",
       "1178  Action|Adventure|Drama|Sci-Fi|War  "
      ]
     },
     "execution_count": 127,
     "metadata": {},
     "output_type": "execute_result"
    }
   ],
   "source": [
    "movies[movies['movie_id'] == 1196]"
   ]
  },
  {
   "cell_type": "code",
   "execution_count": 128,
   "metadata": {},
   "outputs": [
    {
     "data": {
      "text/html": [
       "<div>\n",
       "<style scoped>\n",
       "    .dataframe tbody tr th:only-of-type {\n",
       "        vertical-align: middle;\n",
       "    }\n",
       "\n",
       "    .dataframe tbody tr th {\n",
       "        vertical-align: top;\n",
       "    }\n",
       "\n",
       "    .dataframe thead th {\n",
       "        text-align: right;\n",
       "    }\n",
       "</style>\n",
       "<table border=\"1\" class=\"dataframe\">\n",
       "  <thead>\n",
       "    <tr style=\"text-align: right;\">\n",
       "      <th></th>\n",
       "      <th>movie_id</th>\n",
       "      <th>movie_id_new</th>\n",
       "      <th>title</th>\n",
       "      <th>genre</th>\n",
       "    </tr>\n",
       "  </thead>\n",
       "  <tbody>\n",
       "    <tr>\n",
       "      <th>1192</th>\n",
       "      <td>1210</td>\n",
       "      <td>1193</td>\n",
       "      <td>Star Wars: Episode VI - Return of the Jedi (1983)</td>\n",
       "      <td>Action|Adventure|Romance|Sci-Fi|War</td>\n",
       "    </tr>\n",
       "  </tbody>\n",
       "</table>\n",
       "</div>"
      ],
      "text/plain": [
       "      movie_id  movie_id_new  \\\n",
       "1192      1210          1193   \n",
       "\n",
       "                                                  title  \\\n",
       "1192  Star Wars: Episode VI - Return of the Jedi (1983)   \n",
       "\n",
       "                                    genre  \n",
       "1192  Action|Adventure|Romance|Sci-Fi|War  "
      ]
     },
     "execution_count": 128,
     "metadata": {},
     "output_type": "execute_result"
    }
   ],
   "source": [
    "movies[movies['movie_id'] == 1210]"
   ]
  },
  {
   "cell_type": "markdown",
   "metadata": {},
   "source": [
    "#### 한 유저가 몇개의 영화를 보았는지에 대한 통계"
   ]
  },
  {
   "cell_type": "code",
   "execution_count": 129,
   "metadata": {},
   "outputs": [
    {
     "data": {
      "text/plain": [
       "count   6039.00000\n",
       "mean     138.51267\n",
       "std      156.24160\n",
       "min        1.00000\n",
       "25%       38.00000\n",
       "50%       81.00000\n",
       "75%      177.00000\n",
       "max     1968.00000\n",
       "Name: movie_id, dtype: float64"
      ]
     },
     "execution_count": 129,
     "metadata": {},
     "output_type": "execute_result"
    }
   ],
   "source": [
    "user_count = ratings.groupby('user_id')['movie_id'].count()\n",
    "user_count.describe()"
   ]
  },
  {
   "cell_type": "markdown",
   "metadata": {},
   "source": [
    "최소 1개부터 최대 1968개까지 다양하게 있고  \n",
    "한사람당 평균 138.5개의 영화를 보고 평점을 남겼습니다. "
   ]
  },
  {
   "cell_type": "markdown",
   "metadata": {},
   "source": [
    "데이터 합치기 :    \n",
    "보기 편하게 하기위해 ratings 데이터프레임에 movies 데이터프레임의 title과 genre 데이터를 합치고자 합니다."
   ]
  },
  {
   "cell_type": "code",
   "execution_count": 130,
   "metadata": {},
   "outputs": [
    {
     "data": {
      "text/html": [
       "<div>\n",
       "<style scoped>\n",
       "    .dataframe tbody tr th:only-of-type {\n",
       "        vertical-align: middle;\n",
       "    }\n",
       "\n",
       "    .dataframe tbody tr th {\n",
       "        vertical-align: top;\n",
       "    }\n",
       "\n",
       "    .dataframe thead th {\n",
       "        text-align: right;\n",
       "    }\n",
       "</style>\n",
       "<table border=\"1\" class=\"dataframe\">\n",
       "  <thead>\n",
       "    <tr style=\"text-align: right;\">\n",
       "      <th></th>\n",
       "      <th>user_id</th>\n",
       "      <th>movie_id</th>\n",
       "      <th>movie_id_new</th>\n",
       "      <th>count</th>\n",
       "      <th>title</th>\n",
       "      <th>genre</th>\n",
       "      <th>timestamp</th>\n",
       "    </tr>\n",
       "  </thead>\n",
       "  <tbody>\n",
       "    <tr>\n",
       "      <th>0</th>\n",
       "      <td>1</td>\n",
       "      <td>1193</td>\n",
       "      <td>1177</td>\n",
       "      <td>5</td>\n",
       "      <td>One Flew Over the Cuckoo's Nest (1975)</td>\n",
       "      <td>Drama</td>\n",
       "      <td>978300760</td>\n",
       "    </tr>\n",
       "    <tr>\n",
       "      <th>1</th>\n",
       "      <td>1</td>\n",
       "      <td>661</td>\n",
       "      <td>656</td>\n",
       "      <td>3</td>\n",
       "      <td>James and the Giant Peach (1996)</td>\n",
       "      <td>Animation|Children's|Musical</td>\n",
       "      <td>978302109</td>\n",
       "    </tr>\n",
       "    <tr>\n",
       "      <th>2</th>\n",
       "      <td>1</td>\n",
       "      <td>914</td>\n",
       "      <td>903</td>\n",
       "      <td>3</td>\n",
       "      <td>My Fair Lady (1964)</td>\n",
       "      <td>Musical|Romance</td>\n",
       "      <td>978301968</td>\n",
       "    </tr>\n",
       "    <tr>\n",
       "      <th>3</th>\n",
       "      <td>1</td>\n",
       "      <td>3408</td>\n",
       "      <td>3340</td>\n",
       "      <td>4</td>\n",
       "      <td>Erin Brockovich (2000)</td>\n",
       "      <td>Drama</td>\n",
       "      <td>978300275</td>\n",
       "    </tr>\n",
       "    <tr>\n",
       "      <th>4</th>\n",
       "      <td>1</td>\n",
       "      <td>2355</td>\n",
       "      <td>2287</td>\n",
       "      <td>5</td>\n",
       "      <td>Bug's Life, A (1998)</td>\n",
       "      <td>Animation|Children's|Comedy</td>\n",
       "      <td>978824291</td>\n",
       "    </tr>\n",
       "    <tr>\n",
       "      <th>5</th>\n",
       "      <td>1</td>\n",
       "      <td>1197</td>\n",
       "      <td>1180</td>\n",
       "      <td>3</td>\n",
       "      <td>Princess Bride, The (1987)</td>\n",
       "      <td>Action|Adventure|Comedy|Romance</td>\n",
       "      <td>978302268</td>\n",
       "    </tr>\n",
       "    <tr>\n",
       "      <th>6</th>\n",
       "      <td>1</td>\n",
       "      <td>1287</td>\n",
       "      <td>1268</td>\n",
       "      <td>5</td>\n",
       "      <td>Ben-Hur (1959)</td>\n",
       "      <td>Action|Adventure|Drama</td>\n",
       "      <td>978302039</td>\n",
       "    </tr>\n",
       "    <tr>\n",
       "      <th>7</th>\n",
       "      <td>1</td>\n",
       "      <td>2804</td>\n",
       "      <td>2736</td>\n",
       "      <td>5</td>\n",
       "      <td>Christmas Story, A (1983)</td>\n",
       "      <td>Comedy|Drama</td>\n",
       "      <td>978300719</td>\n",
       "    </tr>\n",
       "    <tr>\n",
       "      <th>8</th>\n",
       "      <td>1</td>\n",
       "      <td>594</td>\n",
       "      <td>591</td>\n",
       "      <td>4</td>\n",
       "      <td>Snow White and the Seven Dwarfs (1937)</td>\n",
       "      <td>Animation|Children's|Musical</td>\n",
       "      <td>978302268</td>\n",
       "    </tr>\n",
       "    <tr>\n",
       "      <th>9</th>\n",
       "      <td>1</td>\n",
       "      <td>919</td>\n",
       "      <td>908</td>\n",
       "      <td>4</td>\n",
       "      <td>Wizard of Oz, The (1939)</td>\n",
       "      <td>Adventure|Children's|Drama|Musical</td>\n",
       "      <td>978301368</td>\n",
       "    </tr>\n",
       "  </tbody>\n",
       "</table>\n",
       "</div>"
      ],
      "text/plain": [
       "   user_id  movie_id  movie_id_new  count  \\\n",
       "0        1      1193          1177      5   \n",
       "1        1       661           656      3   \n",
       "2        1       914           903      3   \n",
       "3        1      3408          3340      4   \n",
       "4        1      2355          2287      5   \n",
       "5        1      1197          1180      3   \n",
       "6        1      1287          1268      5   \n",
       "7        1      2804          2736      5   \n",
       "8        1       594           591      4   \n",
       "9        1       919           908      4   \n",
       "\n",
       "                                    title                               genre  \\\n",
       "0  One Flew Over the Cuckoo's Nest (1975)                               Drama   \n",
       "1        James and the Giant Peach (1996)        Animation|Children's|Musical   \n",
       "2                     My Fair Lady (1964)                     Musical|Romance   \n",
       "3                  Erin Brockovich (2000)                               Drama   \n",
       "4                    Bug's Life, A (1998)         Animation|Children's|Comedy   \n",
       "5              Princess Bride, The (1987)     Action|Adventure|Comedy|Romance   \n",
       "6                          Ben-Hur (1959)              Action|Adventure|Drama   \n",
       "7               Christmas Story, A (1983)                        Comedy|Drama   \n",
       "8  Snow White and the Seven Dwarfs (1937)        Animation|Children's|Musical   \n",
       "9                Wizard of Oz, The (1939)  Adventure|Children's|Drama|Musical   \n",
       "\n",
       "   timestamp  \n",
       "0  978300760  \n",
       "1  978302109  \n",
       "2  978301968  \n",
       "3  978300275  \n",
       "4  978824291  \n",
       "5  978302268  \n",
       "6  978302039  \n",
       "7  978300719  \n",
       "8  978302268  \n",
       "9  978301368  "
      ]
     },
     "execution_count": 130,
     "metadata": {},
     "output_type": "execute_result"
    }
   ],
   "source": [
    "data = pd.merge(ratings, movies, on='movie_id', how='left')\n",
    "data = data[['user_id', 'movie_id', 'movie_id_new', 'count', 'title', 'genre', 'timestamp']]\n",
    "data.head(10)"
   ]
  },
  {
   "cell_type": "code",
   "execution_count": 131,
   "metadata": {},
   "outputs": [
    {
     "data": {
      "text/html": [
       "<div>\n",
       "<style scoped>\n",
       "    .dataframe tbody tr th:only-of-type {\n",
       "        vertical-align: middle;\n",
       "    }\n",
       "\n",
       "    .dataframe tbody tr th {\n",
       "        vertical-align: top;\n",
       "    }\n",
       "\n",
       "    .dataframe thead th {\n",
       "        text-align: right;\n",
       "    }\n",
       "</style>\n",
       "<table border=\"1\" class=\"dataframe\">\n",
       "  <thead>\n",
       "    <tr style=\"text-align: right;\">\n",
       "      <th></th>\n",
       "      <th>user_id</th>\n",
       "      <th>movie_id</th>\n",
       "      <th>movie_id_new</th>\n",
       "      <th>count</th>\n",
       "      <th>title</th>\n",
       "      <th>genre</th>\n",
       "      <th>timestamp</th>\n",
       "    </tr>\n",
       "  </thead>\n",
       "  <tbody>\n",
       "    <tr>\n",
       "      <th>38</th>\n",
       "      <td>1</td>\n",
       "      <td>2762</td>\n",
       "      <td>2694</td>\n",
       "      <td>4</td>\n",
       "      <td>Sixth Sense, The (1999)</td>\n",
       "      <td>Thriller</td>\n",
       "      <td>978302091</td>\n",
       "    </tr>\n",
       "    <tr>\n",
       "      <th>366</th>\n",
       "      <td>5</td>\n",
       "      <td>2762</td>\n",
       "      <td>2694</td>\n",
       "      <td>3</td>\n",
       "      <td>Sixth Sense, The (1999)</td>\n",
       "      <td>Thriller</td>\n",
       "      <td>978243054</td>\n",
       "    </tr>\n",
       "    <tr>\n",
       "      <th>702</th>\n",
       "      <td>9</td>\n",
       "      <td>2762</td>\n",
       "      <td>2694</td>\n",
       "      <td>4</td>\n",
       "      <td>Sixth Sense, The (1999)</td>\n",
       "      <td>Thriller</td>\n",
       "      <td>978225984</td>\n",
       "    </tr>\n",
       "    <tr>\n",
       "      <th>901</th>\n",
       "      <td>10</td>\n",
       "      <td>2762</td>\n",
       "      <td>2694</td>\n",
       "      <td>5</td>\n",
       "      <td>Sixth Sense, The (1999)</td>\n",
       "      <td>Thriller</td>\n",
       "      <td>978225541</td>\n",
       "    </tr>\n",
       "    <tr>\n",
       "      <th>1142</th>\n",
       "      <td>11</td>\n",
       "      <td>2762</td>\n",
       "      <td>2694</td>\n",
       "      <td>5</td>\n",
       "      <td>Sixth Sense, The (1999)</td>\n",
       "      <td>Thriller</td>\n",
       "      <td>978219815</td>\n",
       "    </tr>\n",
       "    <tr>\n",
       "      <th>...</th>\n",
       "      <td>...</td>\n",
       "      <td>...</td>\n",
       "      <td>...</td>\n",
       "      <td>...</td>\n",
       "      <td>...</td>\n",
       "      <td>...</td>\n",
       "      <td>...</td>\n",
       "    </tr>\n",
       "    <tr>\n",
       "      <th>834808</th>\n",
       "      <td>6030</td>\n",
       "      <td>2762</td>\n",
       "      <td>2694</td>\n",
       "      <td>5</td>\n",
       "      <td>Sixth Sense, The (1999)</td>\n",
       "      <td>Thriller</td>\n",
       "      <td>956718084</td>\n",
       "    </tr>\n",
       "    <tr>\n",
       "      <th>834853</th>\n",
       "      <td>6031</td>\n",
       "      <td>2762</td>\n",
       "      <td>2694</td>\n",
       "      <td>4</td>\n",
       "      <td>Sixth Sense, The (1999)</td>\n",
       "      <td>Thriller</td>\n",
       "      <td>956717709</td>\n",
       "    </tr>\n",
       "    <tr>\n",
       "      <th>835823</th>\n",
       "      <td>6036</td>\n",
       "      <td>2762</td>\n",
       "      <td>2694</td>\n",
       "      <td>5</td>\n",
       "      <td>Sixth Sense, The (1999)</td>\n",
       "      <td>Thriller</td>\n",
       "      <td>956710191</td>\n",
       "    </tr>\n",
       "    <tr>\n",
       "      <th>836054</th>\n",
       "      <td>6037</td>\n",
       "      <td>2762</td>\n",
       "      <td>2694</td>\n",
       "      <td>4</td>\n",
       "      <td>Sixth Sense, The (1999)</td>\n",
       "      <td>Thriller</td>\n",
       "      <td>956718658</td>\n",
       "    </tr>\n",
       "    <tr>\n",
       "      <th>836452</th>\n",
       "      <td>6040</td>\n",
       "      <td>2762</td>\n",
       "      <td>2694</td>\n",
       "      <td>4</td>\n",
       "      <td>Sixth Sense, The (1999)</td>\n",
       "      <td>Thriller</td>\n",
       "      <td>956704584</td>\n",
       "    </tr>\n",
       "  </tbody>\n",
       "</table>\n",
       "<p>2385 rows × 7 columns</p>\n",
       "</div>"
      ],
      "text/plain": [
       "        user_id  movie_id  movie_id_new  count                    title  \\\n",
       "38            1      2762          2694      4  Sixth Sense, The (1999)   \n",
       "366           5      2762          2694      3  Sixth Sense, The (1999)   \n",
       "702           9      2762          2694      4  Sixth Sense, The (1999)   \n",
       "901          10      2762          2694      5  Sixth Sense, The (1999)   \n",
       "1142         11      2762          2694      5  Sixth Sense, The (1999)   \n",
       "...         ...       ...           ...    ...                      ...   \n",
       "834808     6030      2762          2694      5  Sixth Sense, The (1999)   \n",
       "834853     6031      2762          2694      4  Sixth Sense, The (1999)   \n",
       "835823     6036      2762          2694      5  Sixth Sense, The (1999)   \n",
       "836054     6037      2762          2694      4  Sixth Sense, The (1999)   \n",
       "836452     6040      2762          2694      4  Sixth Sense, The (1999)   \n",
       "\n",
       "           genre  timestamp  \n",
       "38      Thriller  978302091  \n",
       "366     Thriller  978243054  \n",
       "702     Thriller  978225984  \n",
       "901     Thriller  978225541  \n",
       "1142    Thriller  978219815  \n",
       "...          ...        ...  \n",
       "834808  Thriller  956718084  \n",
       "834853  Thriller  956717709  \n",
       "835823  Thriller  956710191  \n",
       "836054  Thriller  956718658  \n",
       "836452  Thriller  956704584  \n",
       "\n",
       "[2385 rows x 7 columns]"
      ]
     },
     "execution_count": 131,
     "metadata": {},
     "output_type": "execute_result"
    }
   ],
   "source": [
    "data[data['movie_id'] == 2762]"
   ]
  },
  {
   "cell_type": "code",
   "execution_count": null,
   "metadata": {},
   "outputs": [],
   "source": []
  },
  {
   "cell_type": "code",
   "execution_count": null,
   "metadata": {},
   "outputs": [],
   "source": []
  },
  {
   "cell_type": "markdown",
   "metadata": {},
   "source": [
    "## 3) 내가 선호하는 영화를 5가지 골라서 rating에 추가해주기\n",
    "---\n"
   ]
  },
  {
   "cell_type": "code",
   "execution_count": 132,
   "metadata": {},
   "outputs": [],
   "source": [
    "import datetime as pydatetime\n",
    "\n",
    "def get_now():\n",
    "    \"\"\"\n",
    "        현재 시스템 시간을 datetime형으로 반환\n",
    "    \"\"\"\n",
    "    return pydatetime.datetime.now()\n",
    "\n",
    "def get_now_timestamp():\n",
    "    \"\"\"\n",
    "        현재 시스템 시간을 POSIX timestamp float형으로 반환\n",
    "    \"\"\"\n",
    "    return get_now().timestamp()"
   ]
  },
  {
   "cell_type": "code",
   "execution_count": 133,
   "metadata": {},
   "outputs": [],
   "source": [
    "timestamp = get_now_timestamp()"
   ]
  },
  {
   "cell_type": "code",
   "execution_count": 134,
   "metadata": {},
   "outputs": [
    {
     "data": {
      "text/html": [
       "<div>\n",
       "<style scoped>\n",
       "    .dataframe tbody tr th:only-of-type {\n",
       "        vertical-align: middle;\n",
       "    }\n",
       "\n",
       "    .dataframe tbody tr th {\n",
       "        vertical-align: top;\n",
       "    }\n",
       "\n",
       "    .dataframe thead th {\n",
       "        text-align: right;\n",
       "    }\n",
       "</style>\n",
       "<table border=\"1\" class=\"dataframe\">\n",
       "  <thead>\n",
       "    <tr style=\"text-align: right;\">\n",
       "      <th></th>\n",
       "      <th>user_id</th>\n",
       "      <th>movie_id</th>\n",
       "      <th>movie_id_new</th>\n",
       "      <th>count</th>\n",
       "      <th>title</th>\n",
       "      <th>genre</th>\n",
       "      <th>timestamp</th>\n",
       "    </tr>\n",
       "  </thead>\n",
       "  <tbody>\n",
       "    <tr>\n",
       "      <th>836473</th>\n",
       "      <td>6040</td>\n",
       "      <td>1090</td>\n",
       "      <td>1075</td>\n",
       "      <td>3</td>\n",
       "      <td>Platoon (1986)</td>\n",
       "      <td>Drama|War</td>\n",
       "      <td>956715518.00000</td>\n",
       "    </tr>\n",
       "    <tr>\n",
       "      <th>836474</th>\n",
       "      <td>6040</td>\n",
       "      <td>1094</td>\n",
       "      <td>1079</td>\n",
       "      <td>5</td>\n",
       "      <td>Crying Game, The (1992)</td>\n",
       "      <td>Drama|Romance|War</td>\n",
       "      <td>956704887.00000</td>\n",
       "    </tr>\n",
       "    <tr>\n",
       "      <th>836475</th>\n",
       "      <td>6040</td>\n",
       "      <td>562</td>\n",
       "      <td>559</td>\n",
       "      <td>5</td>\n",
       "      <td>Welcome to the Dollhouse (1995)</td>\n",
       "      <td>Comedy|Drama</td>\n",
       "      <td>956704746.00000</td>\n",
       "    </tr>\n",
       "    <tr>\n",
       "      <th>836476</th>\n",
       "      <td>6040</td>\n",
       "      <td>1096</td>\n",
       "      <td>1081</td>\n",
       "      <td>4</td>\n",
       "      <td>Sophie's Choice (1982)</td>\n",
       "      <td>Drama</td>\n",
       "      <td>956715648.00000</td>\n",
       "    </tr>\n",
       "    <tr>\n",
       "      <th>836477</th>\n",
       "      <td>6040</td>\n",
       "      <td>1097</td>\n",
       "      <td>1082</td>\n",
       "      <td>4</td>\n",
       "      <td>E.T. the Extra-Terrestrial (1982)</td>\n",
       "      <td>Children's|Drama|Fantasy|Sci-Fi</td>\n",
       "      <td>956715569.00000</td>\n",
       "    </tr>\n",
       "    <tr>\n",
       "      <th>0</th>\n",
       "      <td>hyunnie</td>\n",
       "      <td>3404</td>\n",
       "      <td>3336</td>\n",
       "      <td>5</td>\n",
       "      <td>Titanic (1997)</td>\n",
       "      <td>Action|Drama</td>\n",
       "      <td>1612421278.36477</td>\n",
       "    </tr>\n",
       "    <tr>\n",
       "      <th>1</th>\n",
       "      <td>hyunnie</td>\n",
       "      <td>1</td>\n",
       "      <td>1</td>\n",
       "      <td>5</td>\n",
       "      <td>Toy Story (1995)</td>\n",
       "      <td>Animation|Children's|Comedy</td>\n",
       "      <td>1612421278.36477</td>\n",
       "    </tr>\n",
       "    <tr>\n",
       "      <th>2</th>\n",
       "      <td>hyunnie</td>\n",
       "      <td>1682</td>\n",
       "      <td>1637</td>\n",
       "      <td>5</td>\n",
       "      <td>Truman Show, The (1998)</td>\n",
       "      <td>Drama</td>\n",
       "      <td>1612421278.36477</td>\n",
       "    </tr>\n",
       "    <tr>\n",
       "      <th>3</th>\n",
       "      <td>hyunnie</td>\n",
       "      <td>586</td>\n",
       "      <td>583</td>\n",
       "      <td>5</td>\n",
       "      <td>Home Alone (1990)</td>\n",
       "      <td>Children's|Comedy</td>\n",
       "      <td>1612421278.36477</td>\n",
       "    </tr>\n",
       "    <tr>\n",
       "      <th>4</th>\n",
       "      <td>hyunnie</td>\n",
       "      <td>2762</td>\n",
       "      <td>2694</td>\n",
       "      <td>5</td>\n",
       "      <td>Sixth Sense, The (1999)</td>\n",
       "      <td>Thriller</td>\n",
       "      <td>1612421278.36477</td>\n",
       "    </tr>\n",
       "  </tbody>\n",
       "</table>\n",
       "</div>"
      ],
      "text/plain": [
       "        user_id movie_id movie_id_new  count  \\\n",
       "836473     6040     1090         1075      3   \n",
       "836474     6040     1094         1079      5   \n",
       "836475     6040      562          559      5   \n",
       "836476     6040     1096         1081      4   \n",
       "836477     6040     1097         1082      4   \n",
       "0       hyunnie     3404         3336      5   \n",
       "1       hyunnie        1            1      5   \n",
       "2       hyunnie     1682         1637      5   \n",
       "3       hyunnie      586          583      5   \n",
       "4       hyunnie     2762         2694      5   \n",
       "\n",
       "                                    title                            genre  \\\n",
       "836473                     Platoon (1986)                        Drama|War   \n",
       "836474            Crying Game, The (1992)                Drama|Romance|War   \n",
       "836475    Welcome to the Dollhouse (1995)                     Comedy|Drama   \n",
       "836476             Sophie's Choice (1982)                            Drama   \n",
       "836477  E.T. the Extra-Terrestrial (1982)  Children's|Drama|Fantasy|Sci-Fi   \n",
       "0                          Titanic (1997)                     Action|Drama   \n",
       "1                        Toy Story (1995)      Animation|Children's|Comedy   \n",
       "2                 Truman Show, The (1998)                            Drama   \n",
       "3                       Home Alone (1990)                Children's|Comedy   \n",
       "4                 Sixth Sense, The (1999)                         Thriller   \n",
       "\n",
       "              timestamp  \n",
       "836473  956715518.00000  \n",
       "836474  956704887.00000  \n",
       "836475  956704746.00000  \n",
       "836476  956715648.00000  \n",
       "836477  956715569.00000  \n",
       "0      1612421278.36477  \n",
       "1      1612421278.36477  \n",
       "2      1612421278.36477  \n",
       "3      1612421278.36477  \n",
       "4      1612421278.36477  "
      ]
     },
     "execution_count": 134,
     "metadata": {},
     "output_type": "execute_result"
    }
   ],
   "source": [
    "my_fav = ['Titanic (1997)' , 'Toy Story (1995)' ,'Truman Show, The (1998)' ,'Home Alone (1990)' ,'Sixth Sense, The (1999)']\n",
    "my_fav_id = ['3404', '1', '1682', '586', '2762']\n",
    "my_fav_id_new = ['3336', '1', '1637', '583', '2694']\n",
    "my_fav_genre = ['Action|Drama', \"Animation|Children's|Comedy\", 'Drama', \"Children's|Comedy\",'Thriller']\n",
    "# hyunnie라는 user_id가 위 영화의 평점을 모두 5점을 주었다고 가정하겠습니다.\n",
    "my_playlist = pd.DataFrame({'user_id': ['hyunnie']*5, 'movie_id': my_fav_id, 'count':[5]*5, 'movie_id_new' : my_fav_id_new,\n",
    "                            'timestamp' : timestamp, 'title' : my_fav, 'genre' : my_fav_genre })\n",
    "\n",
    "if not ratings.isin({'user_id':['hyunnie']})['user_id'].any():  # user_id에 'hyunnie'이라는 데이터가 없다면\n",
    "    data = data.append(my_playlist)                           # 위에 임의로 만든 my_fav 데이터를 추가해 줍니다. \n",
    "\n",
    "data.tail(10)       # 잘 추가되었는지 확인해 봅시다."
   ]
  },
  {
   "cell_type": "markdown",
   "metadata": {},
   "source": [
    "#### 모델 활용을 위한 전처리"
   ]
  },
  {
   "cell_type": "code",
   "execution_count": 135,
   "metadata": {},
   "outputs": [],
   "source": [
    "# 고유한 유저, 아티스트를 찾아내는 코드\n",
    "\n",
    "user_unique = data['user_id'].unique()\n",
    "movie_unique = data['title'].unique()\n",
    "\n",
    "# 유저, 영화 indexing 하는 코드. idx는 index의 약자입니다.\n",
    "user_to_idx = {v:k for k,v in enumerate(user_unique)}\n",
    "movie_to_idx = {v:k for k,v in enumerate(movie_unique)}"
   ]
  },
  {
   "cell_type": "code",
   "execution_count": 136,
   "metadata": {},
   "outputs": [
    {
     "name": "stdout",
     "output_type": "stream",
     "text": [
      "6039\n",
      "27\n"
     ]
    }
   ],
   "source": [
    "# 인덱싱이 잘 되었는지 확인해 봅니다. \n",
    "print(user_to_idx['hyunnie'])    # 6039명의 유저 중 마지막으로 추가된 유저이니 6039이 나와야 합니다. \n",
    "print(movie_to_idx['Titanic (1997)'])"
   ]
  },
  {
   "cell_type": "code",
   "execution_count": 138,
   "metadata": {
    "scrolled": false
   },
   "outputs": [
    {
     "name": "stdout",
     "output_type": "stream",
     "text": [
      "user_id column indexing OK!!\n",
      "movie column indexing OK!!\n"
     ]
    },
    {
     "data": {
      "text/html": [
       "<div>\n",
       "<style scoped>\n",
       "    .dataframe tbody tr th:only-of-type {\n",
       "        vertical-align: middle;\n",
       "    }\n",
       "\n",
       "    .dataframe tbody tr th {\n",
       "        vertical-align: top;\n",
       "    }\n",
       "\n",
       "    .dataframe thead th {\n",
       "        text-align: right;\n",
       "    }\n",
       "</style>\n",
       "<table border=\"1\" class=\"dataframe\">\n",
       "  <thead>\n",
       "    <tr style=\"text-align: right;\">\n",
       "      <th></th>\n",
       "      <th>user_id</th>\n",
       "      <th>movie_id</th>\n",
       "      <th>movie_id_new</th>\n",
       "      <th>count</th>\n",
       "      <th>title</th>\n",
       "      <th>genre</th>\n",
       "      <th>timestamp</th>\n",
       "    </tr>\n",
       "  </thead>\n",
       "  <tbody>\n",
       "    <tr>\n",
       "      <th>0</th>\n",
       "      <td>0</td>\n",
       "      <td>1193</td>\n",
       "      <td>1177</td>\n",
       "      <td>5</td>\n",
       "      <td>0</td>\n",
       "      <td>Drama</td>\n",
       "      <td>978300760.00000</td>\n",
       "    </tr>\n",
       "    <tr>\n",
       "      <th>1</th>\n",
       "      <td>0</td>\n",
       "      <td>661</td>\n",
       "      <td>656</td>\n",
       "      <td>3</td>\n",
       "      <td>1</td>\n",
       "      <td>Animation|Children's|Musical</td>\n",
       "      <td>978302109.00000</td>\n",
       "    </tr>\n",
       "    <tr>\n",
       "      <th>2</th>\n",
       "      <td>0</td>\n",
       "      <td>914</td>\n",
       "      <td>903</td>\n",
       "      <td>3</td>\n",
       "      <td>2</td>\n",
       "      <td>Musical|Romance</td>\n",
       "      <td>978301968.00000</td>\n",
       "    </tr>\n",
       "    <tr>\n",
       "      <th>3</th>\n",
       "      <td>0</td>\n",
       "      <td>3408</td>\n",
       "      <td>3340</td>\n",
       "      <td>4</td>\n",
       "      <td>3</td>\n",
       "      <td>Drama</td>\n",
       "      <td>978300275.00000</td>\n",
       "    </tr>\n",
       "    <tr>\n",
       "      <th>4</th>\n",
       "      <td>0</td>\n",
       "      <td>2355</td>\n",
       "      <td>2287</td>\n",
       "      <td>5</td>\n",
       "      <td>4</td>\n",
       "      <td>Animation|Children's|Comedy</td>\n",
       "      <td>978824291.00000</td>\n",
       "    </tr>\n",
       "    <tr>\n",
       "      <th>...</th>\n",
       "      <td>...</td>\n",
       "      <td>...</td>\n",
       "      <td>...</td>\n",
       "      <td>...</td>\n",
       "      <td>...</td>\n",
       "      <td>...</td>\n",
       "      <td>...</td>\n",
       "    </tr>\n",
       "    <tr>\n",
       "      <th>0</th>\n",
       "      <td>6039</td>\n",
       "      <td>3404</td>\n",
       "      <td>3336</td>\n",
       "      <td>5</td>\n",
       "      <td>27</td>\n",
       "      <td>Action|Drama</td>\n",
       "      <td>1612421278.36477</td>\n",
       "    </tr>\n",
       "    <tr>\n",
       "      <th>1</th>\n",
       "      <td>6039</td>\n",
       "      <td>1</td>\n",
       "      <td>1</td>\n",
       "      <td>5</td>\n",
       "      <td>40</td>\n",
       "      <td>Animation|Children's|Comedy</td>\n",
       "      <td>1612421278.36477</td>\n",
       "    </tr>\n",
       "    <tr>\n",
       "      <th>2</th>\n",
       "      <td>6039</td>\n",
       "      <td>1682</td>\n",
       "      <td>1637</td>\n",
       "      <td>5</td>\n",
       "      <td>385</td>\n",
       "      <td>Drama</td>\n",
       "      <td>1612421278.36477</td>\n",
       "    </tr>\n",
       "    <tr>\n",
       "      <th>3</th>\n",
       "      <td>6039</td>\n",
       "      <td>586</td>\n",
       "      <td>583</td>\n",
       "      <td>5</td>\n",
       "      <td>507</td>\n",
       "      <td>Children's|Comedy</td>\n",
       "      <td>1612421278.36477</td>\n",
       "    </tr>\n",
       "    <tr>\n",
       "      <th>4</th>\n",
       "      <td>6039</td>\n",
       "      <td>2762</td>\n",
       "      <td>2694</td>\n",
       "      <td>5</td>\n",
       "      <td>38</td>\n",
       "      <td>Thriller</td>\n",
       "      <td>1612421278.36477</td>\n",
       "    </tr>\n",
       "  </tbody>\n",
       "</table>\n",
       "<p>836483 rows × 7 columns</p>\n",
       "</div>"
      ],
      "text/plain": [
       "    user_id movie_id movie_id_new  count  title                         genre  \\\n",
       "0         0     1193         1177      5      0                         Drama   \n",
       "1         0      661          656      3      1  Animation|Children's|Musical   \n",
       "2         0      914          903      3      2               Musical|Romance   \n",
       "3         0     3408         3340      4      3                         Drama   \n",
       "4         0     2355         2287      5      4   Animation|Children's|Comedy   \n",
       "..      ...      ...          ...    ...    ...                           ...   \n",
       "0      6039     3404         3336      5     27                  Action|Drama   \n",
       "1      6039        1            1      5     40   Animation|Children's|Comedy   \n",
       "2      6039     1682         1637      5    385                         Drama   \n",
       "3      6039      586          583      5    507             Children's|Comedy   \n",
       "4      6039     2762         2694      5     38                      Thriller   \n",
       "\n",
       "          timestamp  \n",
       "0   978300760.00000  \n",
       "1   978302109.00000  \n",
       "2   978301968.00000  \n",
       "3   978300275.00000  \n",
       "4   978824291.00000  \n",
       "..              ...  \n",
       "0  1612421278.36477  \n",
       "1  1612421278.36477  \n",
       "2  1612421278.36477  \n",
       "3  1612421278.36477  \n",
       "4  1612421278.36477  \n",
       "\n",
       "[836483 rows x 7 columns]"
      ]
     },
     "execution_count": 138,
     "metadata": {},
     "output_type": "execute_result"
    }
   ],
   "source": [
    "# indexing을 통해 데이터 컬럼 내 값을 바꾸는 코드\n",
    "\n",
    "# user_to_idx.get을 통해 user_id 컬럼의 모든 값을 인덱싱한 Series를 구해 봅시다. \n",
    "# 혹시 정상적으로 인덱싱되지 않은 row가 있다면 인덱스가 NaN이 될 테니 dropna()로 제거합니다. \n",
    "\n",
    "temp_user_data = data['user_id'].map(user_to_idx.get).dropna()\n",
    "if len(temp_user_data) == len(data):   # 모든 row가 정상적으로 인덱싱되었다면\n",
    "    print('user_id column indexing OK!!')\n",
    "    data['user_id'] = temp_user_data   # data['user_id']을 인덱싱된 Series로 교체해 줍니다. \n",
    "else:\n",
    "    print('user_id column indexing Fail!!')\n",
    "\n",
    "# movie_to_idx을 통해 movie_id 컬럼도 동일한 방식으로 인덱싱해 줍니다. \n",
    "temp_movie_data = data['title'].map(movie_to_idx.get).dropna()\n",
    "if len(temp_movie_data) == len(data):\n",
    "    print('movie column indexing OK!!')\n",
    "    data['title'] = temp_movie_data\n",
    "else:\n",
    "    print('movie column indexing Fail!!')\n",
    "\n",
    "data"
   ]
  },
  {
   "cell_type": "markdown",
   "metadata": {},
   "source": [
    "우리는 명시적 데이터인 count를 암묵적 데이터라고 생각하기로 했습니다. 따라서 다음과 같은 암묵적 룰을 따른다고 가정합니다.\n",
    "\n",
    "#### 1. 평점을 3점 이상 주었다면 (데이터 셋에 들어있다면) 선호하는 것이라고 판단한다.\n",
    "#### 2. count가 높은 영화에 대해 가중치를 더 크게 주어 그에 따라 좋아하는 정도를 부여한다. "
   ]
  },
  {
   "cell_type": "markdown",
   "metadata": {},
   "source": [
    "## 4) CSR matrix 만들기\n",
    "---\n",
    "\n",
    "matrix 크기를 맞춰주기 위해 새로운 컬럼인 'movie_id_new'를 추가해주었었습니다. \n",
    "movie_id_new 컬럼은 movie_id에는 비어있는 번호도 있었던 것을 없애주기 위해 새로이 인덱싱한 컬럼입니다."
   ]
  },
  {
   "cell_type": "code",
   "execution_count": 140,
   "metadata": {},
   "outputs": [
    {
     "data": {
      "text/plain": [
       "<6040x3628 sparse matrix of type '<class 'numpy.int64'>'\n",
       "\twith 836483 stored elements in Compressed Sparse Row format>"
      ]
     },
     "execution_count": 140,
     "metadata": {},
     "output_type": "execute_result"
    }
   ],
   "source": [
    "from scipy.sparse import csr_matrix\n",
    "\n",
    "num_user = data['user_id'].nunique()\n",
    "num_movie = data['title'].nunique()\n",
    "\n",
    "csr_data = csr_matrix((data['count'], (data.user_id, data.title)), shape= (num_user, num_movie))\n",
    "csr_data"
   ]
  },
  {
   "cell_type": "markdown",
   "metadata": {},
   "source": [
    "## 5) als_model = AlternatingLeastSquares 모델을 직접 구성하여 훈련시키기"
   ]
  },
  {
   "cell_type": "code",
   "execution_count": 141,
   "metadata": {},
   "outputs": [],
   "source": [
    "from implicit.als import AlternatingLeastSquares\n",
    "import os\n",
    "import numpy as np"
   ]
  },
  {
   "cell_type": "code",
   "execution_count": 142,
   "metadata": {},
   "outputs": [],
   "source": [
    "# Implicit AlternatingLeastSquares 모델의 선언\n",
    "als_model = AlternatingLeastSquares(factors=100, regularization=0.01, use_gpu=False, \n",
    "                                    iterations=15, dtype = np.float32)"
   ]
  },
  {
   "cell_type": "code",
   "execution_count": 143,
   "metadata": {},
   "outputs": [
    {
     "data": {
      "text/plain": [
       "<3628x6040 sparse matrix of type '<class 'numpy.int64'>'\n",
       "\twith 836483 stored elements in Compressed Sparse Column format>"
      ]
     },
     "execution_count": 143,
     "metadata": {},
     "output_type": "execute_result"
    }
   ],
   "source": [
    "# als 모델은 input으로 (item X user 꼴의 matrix를 받기 때문에 Transpose해줍니다.)\n",
    "csr_data_transpose = csr_data.T\n",
    "csr_data_transpose"
   ]
  },
  {
   "cell_type": "code",
   "execution_count": 144,
   "metadata": {},
   "outputs": [
    {
     "data": {
      "application/vnd.jupyter.widget-view+json": {
       "model_id": "351509edd34340c9bcc71362126658eb",
       "version_major": 2,
       "version_minor": 0
      },
      "text/plain": [
       "  0%|          | 0/15 [00:00<?, ?it/s]"
      ]
     },
     "metadata": {},
     "output_type": "display_data"
    }
   ],
   "source": [
    "# 모델 훈련\n",
    "als_model.fit(csr_data_transpose)"
   ]
  },
  {
   "cell_type": "code",
   "execution_count": null,
   "metadata": {},
   "outputs": [],
   "source": []
  },
  {
   "cell_type": "markdown",
   "metadata": {},
   "source": [
    "## 6) 내가 선호하는 5가지 영화 중 하나와 그 외의 영화 하나를 골라 훈련된 모델이 예측한 나의 선호도를 파악해 보기\n",
    "---\n",
    "#### (1) 내가 선호하는 영화 하나 선택 - titanic"
   ]
  },
  {
   "cell_type": "code",
   "execution_count": 148,
   "metadata": {},
   "outputs": [],
   "source": [
    "hyunnie, titanic = user_to_idx['hyunnie'], movie_to_idx['Titanic (1997)']\n",
    "hyunnie_vector, titanic_vector = als_model.user_factors[hyunnie], als_model.item_factors[titanic]\n"
   ]
  },
  {
   "cell_type": "code",
   "execution_count": 149,
   "metadata": {},
   "outputs": [
    {
     "data": {
      "text/plain": [
       "array([-0.447, 0.538, -0.245, 0.227, -0.181, -0.000, 0.276, 0.062, -0.437,\n",
       "       -0.329, 0.022, 0.668, 0.268, -0.313, -0.048, 0.451, -0.315, -0.466,\n",
       "       0.621, -1.472, -0.553, 1.116, -0.164, 0.635, 0.799, -0.057, -0.051,\n",
       "       -1.442, -0.495, -0.730, -0.471, 0.382, 0.590, -0.078, 0.027,\n",
       "       -0.356, -0.507, -0.335, -0.238, 0.826, 0.247, 0.187, 0.936, 0.630,\n",
       "       0.872, -0.055, 0.037, 0.534, -0.207, 0.028, 0.637, 0.025, 0.192,\n",
       "       -0.328, 0.139, 1.117, 0.208, -0.700, -0.560, -0.454, 0.445, 0.149,\n",
       "       0.681, 0.554, -0.324, -0.747, 0.730, -0.358, 0.396, 0.099, 0.593,\n",
       "       0.229, -0.259, -0.715, -0.107, 0.670, 0.001, 0.090, -0.891, -0.520,\n",
       "       -0.178, -1.047, 0.667, 0.057, 0.213, 0.710, 0.828, -0.274, 0.331,\n",
       "       -0.623, -0.061, -0.284, 0.247, 0.055, 0.101, -0.583, -0.332, 0.115,\n",
       "       0.029, -0.197], dtype=float32)"
      ]
     },
     "execution_count": 149,
     "metadata": {},
     "output_type": "execute_result"
    }
   ],
   "source": [
    "hyunnie_vector"
   ]
  },
  {
   "cell_type": "code",
   "execution_count": 150,
   "metadata": {},
   "outputs": [
    {
     "data": {
      "text/plain": [
       "array([-0.010, 0.015, -0.000, -0.008, 0.006, -0.004, 0.016, 0.024, 0.052,\n",
       "       -0.027, 0.011, 0.037, 0.016, 0.033, 0.002, 0.046, 0.019, -0.017,\n",
       "       0.041, -0.030, -0.024, 0.024, -0.002, -0.004, 0.018, 0.004, 0.000,\n",
       "       -0.031, -0.005, -0.003, 0.017, 0.039, 0.008, 0.036, -0.015, -0.019,\n",
       "       -0.037, 0.053, -0.003, 0.017, -0.000, -0.001, 0.032, 0.019, 0.024,\n",
       "       -0.020, 0.014, 0.032, -0.045, -0.012, 0.044, -0.008, 0.018, -0.005,\n",
       "       0.017, 0.030, 0.009, 0.023, -0.011, -0.025, 0.030, 0.010, 0.016,\n",
       "       0.010, -0.015, -0.030, -0.006, -0.013, 0.030, 0.030, 0.006, -0.007,\n",
       "       0.005, -0.013, 0.026, 0.015, -0.020, 0.013, -0.043, -0.005, -0.008,\n",
       "       -0.019, 0.014, 0.008, 0.015, 0.012, 0.027, -0.011, 0.009, -0.028,\n",
       "       0.007, 0.013, -0.001, 0.009, 0.027, -0.033, -0.005, 0.001, -0.003,\n",
       "       0.001], dtype=float32)"
      ]
     },
     "execution_count": 150,
     "metadata": {},
     "output_type": "execute_result"
    }
   ],
   "source": [
    "titanic_vector"
   ]
  },
  {
   "cell_type": "markdown",
   "metadata": {},
   "source": [
    "나의 선호도는?"
   ]
  },
  {
   "cell_type": "code",
   "execution_count": 151,
   "metadata": {},
   "outputs": [
    {
     "name": "stdout",
     "output_type": "stream",
     "text": [
      "0.6477961\n"
     ]
    }
   ],
   "source": [
    "# hyunnie와 titanic을 내적하는 코드\n",
    "np.set_printoptions(formatter={'float_kind': lambda x: \"{0:0.3f}\".format(x)})\n",
    "\n",
    "print(np.dot(hyunnie_vector, titanic_vector))"
   ]
  },
  {
   "cell_type": "markdown",
   "metadata": {},
   "source": [
    "#### (2) 무작위 영화 하나 선택"
   ]
  },
  {
   "cell_type": "code",
   "execution_count": 108,
   "metadata": {},
   "outputs": [
    {
     "name": "stdout",
     "output_type": "stream",
     "text": [
      "3317\n"
     ]
    }
   ],
   "source": [
    "print(movie_to_idx['Superman (1978)'])"
   ]
  },
  {
   "cell_type": "code",
   "execution_count": 155,
   "metadata": {},
   "outputs": [],
   "source": [
    "hyunnie, superman = user_to_idx['hyunnie'], movie_to_idx['Superman (1978)']\n",
    "hyunnie_vector, superman_vector = als_model.user_factors[hyunnie], als_model.item_factors[superman]\n"
   ]
  },
  {
   "cell_type": "code",
   "execution_count": 156,
   "metadata": {},
   "outputs": [
    {
     "data": {
      "text/plain": [
       "array([-0.447, 0.538, -0.245, 0.227, -0.181, -0.000, 0.276, 0.062, -0.437,\n",
       "       -0.329, 0.022, 0.668, 0.268, -0.313, -0.048, 0.451, -0.315, -0.466,\n",
       "       0.621, -1.472, -0.553, 1.116, -0.164, 0.635, 0.799, -0.057, -0.051,\n",
       "       -1.442, -0.495, -0.730, -0.471, 0.382, 0.590, -0.078, 0.027,\n",
       "       -0.356, -0.507, -0.335, -0.238, 0.826, 0.247, 0.187, 0.936, 0.630,\n",
       "       0.872, -0.055, 0.037, 0.534, -0.207, 0.028, 0.637, 0.025, 0.192,\n",
       "       -0.328, 0.139, 1.117, 0.208, -0.700, -0.560, -0.454, 0.445, 0.149,\n",
       "       0.681, 0.554, -0.324, -0.747, 0.730, -0.358, 0.396, 0.099, 0.593,\n",
       "       0.229, -0.259, -0.715, -0.107, 0.670, 0.001, 0.090, -0.891, -0.520,\n",
       "       -0.178, -1.047, 0.667, 0.057, 0.213, 0.710, 0.828, -0.274, 0.331,\n",
       "       -0.623, -0.061, -0.284, 0.247, 0.055, 0.101, -0.583, -0.332, 0.115,\n",
       "       0.029, -0.197], dtype=float32)"
      ]
     },
     "execution_count": 156,
     "metadata": {},
     "output_type": "execute_result"
    }
   ],
   "source": [
    "hyunnie_vector"
   ]
  },
  {
   "cell_type": "code",
   "execution_count": 157,
   "metadata": {},
   "outputs": [
    {
     "data": {
      "text/plain": [
       "array([0.000, -0.007, -0.001, 0.009, -0.010, 0.023, 0.012, 0.029, 0.003,\n",
       "       0.011, 0.005, -0.009, 0.018, 0.020, 0.025, 0.003, 0.024, 0.019,\n",
       "       -0.001, 0.017, 0.004, -0.012, -0.007, 0.007, 0.010, 0.013, 0.024,\n",
       "       0.023, -0.001, 0.003, 0.003, 0.003, 0.002, 0.023, 0.000, 0.008,\n",
       "       0.005, -0.023, -0.021, 0.004, 0.003, 0.011, 0.026, 0.023, -0.015,\n",
       "       0.008, 0.015, 0.004, 0.005, -0.008, 0.011, 0.006, 0.002, -0.006,\n",
       "       0.020, 0.018, -0.000, 0.024, -0.002, -0.019, -0.027, 0.012, -0.012,\n",
       "       0.016, 0.037, 0.003, -0.012, -0.007, 0.004, 0.014, 0.015, 0.013,\n",
       "       0.016, 0.006, 0.008, -0.010, 0.009, 0.010, 0.008, 0.009, 0.023,\n",
       "       -0.030, -0.011, 0.019, -0.016, -0.004, 0.021, 0.013, -0.019, 0.002,\n",
       "       -0.001, 0.015, 0.010, -0.001, 0.023, 0.021, 0.023, -0.022, -0.028,\n",
       "       0.015], dtype=float32)"
      ]
     },
     "execution_count": 157,
     "metadata": {},
     "output_type": "execute_result"
    }
   ],
   "source": [
    "superman_vector"
   ]
  },
  {
   "cell_type": "code",
   "execution_count": 158,
   "metadata": {},
   "outputs": [
    {
     "name": "stdout",
     "output_type": "stream",
     "text": [
      "-0.06864518\n"
     ]
    }
   ],
   "source": [
    "print(np.dot(hyunnie_vector, superman_vector))"
   ]
  },
  {
   "cell_type": "markdown",
   "metadata": {},
   "source": [
    "## 7) 내가 좋아하는 영화와 비슷한 영화를 추천받아 봅시다."
   ]
  },
  {
   "cell_type": "code",
   "execution_count": 159,
   "metadata": {},
   "outputs": [
    {
     "data": {
      "text/plain": [
       "[(38, 1.0000001),\n",
       " (121, 0.51987714),\n",
       " (233, 0.47171482),\n",
       " (243, 0.42266077),\n",
       " (220, 0.40495303),\n",
       " (170, 0.39022174),\n",
       " (273, 0.38498223),\n",
       " (796, 0.38021258),\n",
       " (1706, 0.35776004),\n",
       " (1938, 0.35394612),\n",
       " (124, 0.35320312),\n",
       " (235, 0.3511842),\n",
       " (141, 0.3469655),\n",
       " (808, 0.3457603),\n",
       " (1695, 0.34218258)]"
      ]
     },
     "execution_count": 159,
     "metadata": {},
     "output_type": "execute_result"
    }
   ],
   "source": [
    "favorite_movie = 'Sixth Sense, The (1999)'           # 식스센스\n",
    "movie_id =  movie_to_idx[favorite_movie]\n",
    "similar_movie = als_model.similar_items(movie_id, N=15)\n",
    "similar_movie"
   ]
  },
  {
   "cell_type": "code",
   "execution_count": 160,
   "metadata": {},
   "outputs": [
    {
     "data": {
      "text/plain": [
       "['Sixth Sense, The (1999)',\n",
       " 'Silence of the Lambs, The (1991)',\n",
       " 'Usual Suspects, The (1995)',\n",
       " 'Ghostbusters (1984)',\n",
       " 'Seven (Se7en) (1995)',\n",
       " 'Being John Malkovich (1999)',\n",
       " 'Fight Club (1999)',\n",
       " 'Bone Collector, The (1999)',\n",
       " 'Stuart Little (1999)',\n",
       " 'Superstar (1999)',\n",
       " 'Matrix, The (1999)',\n",
       " 'Sleepy Hollow (1999)',\n",
       " 'Fugitive, The (1993)',\n",
       " 'End of Days (1999)',\n",
       " 'Messenger: The Story of Joan of Arc, The (1999)']"
      ]
     },
     "execution_count": 160,
     "metadata": {},
     "output_type": "execute_result"
    }
   ],
   "source": [
    "#artist_to_idx 를 뒤집어, index로부터 artist 이름을 얻는 dict를 생성합니다. \n",
    "idx_to_movie = {v:k for k,v in movie_to_idx.items()}\n",
    "[idx_to_movie[i[0]] for i in similar_movie]"
   ]
  },
  {
   "cell_type": "code",
   "execution_count": 161,
   "metadata": {},
   "outputs": [],
   "source": [
    "def get_similar_movie(movie_name: str):\n",
    "    movie_id = movie_to_idx[movie_name]\n",
    "    similar_movie = als_model.similar_items(movie_id)\n",
    "    similar_movie = [idx_to_movie[i[0]] for i in similar_movie]\n",
    "    return similar_movie\n"
   ]
  },
  {
   "cell_type": "code",
   "execution_count": 162,
   "metadata": {},
   "outputs": [
    {
     "data": {
      "text/plain": [
       "['Toy Story (1995)',\n",
       " 'Toy Story 2 (1999)',\n",
       " \"Bug's Life, A (1998)\",\n",
       " 'Aladdin (1992)',\n",
       " 'Groundhog Day (1993)',\n",
       " 'Babe (1995)',\n",
       " 'Pleasantville (1998)',\n",
       " 'Lion King, The (1994)',\n",
       " 'Beauty and the Beast (1991)',\n",
       " \"There's Something About Mary (1998)\"]"
      ]
     },
     "execution_count": 162,
     "metadata": {},
     "output_type": "execute_result"
    }
   ],
   "source": [
    "get_similar_movie('Toy Story (1995)')"
   ]
  },
  {
   "cell_type": "code",
   "execution_count": 163,
   "metadata": {
    "scrolled": true
   },
   "outputs": [
    {
     "data": {
      "text/plain": [
       "['Titanic (1997)',\n",
       " 'Jerry Maguire (1996)',\n",
       " 'Apollo 13 (1995)',\n",
       " 'Truman Show, The (1998)',\n",
       " 'Held Up (2000)',\n",
       " 'Ever After: A Cinderella Story (1998)',\n",
       " \"Mr. Holland's Opus (1995)\",\n",
       " 'City of Angels (1998)',\n",
       " 'Sense and Sensibility (1995)',\n",
       " \"My Best Friend's Wedding (1997)\"]"
      ]
     },
     "execution_count": 163,
     "metadata": {},
     "output_type": "execute_result"
    }
   ],
   "source": [
    "get_similar_movie('Titanic (1997)')"
   ]
  },
  {
   "cell_type": "markdown",
   "metadata": {},
   "source": [
    "## 8) 사용자 기반 영화 추천하기"
   ]
  },
  {
   "cell_type": "code",
   "execution_count": 164,
   "metadata": {},
   "outputs": [
    {
     "data": {
      "text/plain": [
       "[(50, 0.4603517),\n",
       " (39, 0.3376816),\n",
       " (248, 0.30123007),\n",
       " (160, 0.28183734),\n",
       " (330, 0.2781214),\n",
       " (110, 0.24670185),\n",
       " (626, 0.24592358),\n",
       " (60, 0.2443836),\n",
       " (126, 0.2441571),\n",
       " (170, 0.23306817),\n",
       " (255, 0.21780822),\n",
       " (384, 0.21771337),\n",
       " (458, 0.20680748),\n",
       " (666, 0.19930229),\n",
       " (33, 0.19221282),\n",
       " (1706, 0.19096528),\n",
       " (641, 0.18870378),\n",
       " (143, 0.1854236),\n",
       " (479, 0.17526332),\n",
       " (273, 0.17194745)]"
      ]
     },
     "execution_count": 164,
     "metadata": {},
     "output_type": "execute_result"
    }
   ],
   "source": [
    "user = user_to_idx['hyunnie']\n",
    "# recommend에서는 user*item CSR Matrix를 받습니다.\n",
    "movie_recommended = als_model.recommend(user, csr_data, N=20, filter_already_liked_items=True)\n",
    "movie_recommended"
   ]
  },
  {
   "cell_type": "code",
   "execution_count": 171,
   "metadata": {},
   "outputs": [
    {
     "data": {
      "text/html": [
       "<div>\n",
       "<style scoped>\n",
       "    .dataframe tbody tr th:only-of-type {\n",
       "        vertical-align: middle;\n",
       "    }\n",
       "\n",
       "    .dataframe tbody tr th {\n",
       "        vertical-align: top;\n",
       "    }\n",
       "\n",
       "    .dataframe thead th {\n",
       "        text-align: right;\n",
       "    }\n",
       "</style>\n",
       "<table border=\"1\" class=\"dataframe\">\n",
       "  <thead>\n",
       "    <tr style=\"text-align: right;\">\n",
       "      <th></th>\n",
       "      <th>추천 영화 Top 20</th>\n",
       "    </tr>\n",
       "  </thead>\n",
       "  <tbody>\n",
       "    <tr>\n",
       "      <th>0</th>\n",
       "      <td>Toy Story 2 (1999)</td>\n",
       "    </tr>\n",
       "    <tr>\n",
       "      <th>1</th>\n",
       "      <td>Apollo 13 (1995)</td>\n",
       "    </tr>\n",
       "    <tr>\n",
       "      <th>2</th>\n",
       "      <td>Good Will Hunting (1997)</td>\n",
       "    </tr>\n",
       "    <tr>\n",
       "      <th>3</th>\n",
       "      <td>Forrest Gump (1994)</td>\n",
       "    </tr>\n",
       "    <tr>\n",
       "      <th>4</th>\n",
       "      <td>Lion King, The (1994)</td>\n",
       "    </tr>\n",
       "    <tr>\n",
       "      <th>5</th>\n",
       "      <td>Groundhog Day (1993)</td>\n",
       "    </tr>\n",
       "    <tr>\n",
       "      <th>6</th>\n",
       "      <td>You've Got Mail (1998)</td>\n",
       "    </tr>\n",
       "    <tr>\n",
       "      <th>7</th>\n",
       "      <td>Star Wars: Episode I - The Phantom Menace (1999)</td>\n",
       "    </tr>\n",
       "    <tr>\n",
       "      <th>8</th>\n",
       "      <td>Shakespeare in Love (1998)</td>\n",
       "    </tr>\n",
       "    <tr>\n",
       "      <th>9</th>\n",
       "      <td>Being John Malkovich (1999)</td>\n",
       "    </tr>\n",
       "    <tr>\n",
       "      <th>10</th>\n",
       "      <td>There's Something About Mary (1998)</td>\n",
       "    </tr>\n",
       "    <tr>\n",
       "      <th>11</th>\n",
       "      <td>Jerry Maguire (1996)</td>\n",
       "    </tr>\n",
       "    <tr>\n",
       "      <th>12</th>\n",
       "      <td>Mask, The (1994)</td>\n",
       "    </tr>\n",
       "    <tr>\n",
       "      <th>13</th>\n",
       "      <td>Sleepless in Seattle (1993)</td>\n",
       "    </tr>\n",
       "    <tr>\n",
       "      <th>14</th>\n",
       "      <td>Aladdin (1992)</td>\n",
       "    </tr>\n",
       "    <tr>\n",
       "      <th>15</th>\n",
       "      <td>Stuart Little (1999)</td>\n",
       "    </tr>\n",
       "    <tr>\n",
       "      <th>16</th>\n",
       "      <td>Mr. Holland's Opus (1995)</td>\n",
       "    </tr>\n",
       "    <tr>\n",
       "      <th>17</th>\n",
       "      <td>Gone with the Wind (1939)</td>\n",
       "    </tr>\n",
       "    <tr>\n",
       "      <th>18</th>\n",
       "      <td>Contact (1997)</td>\n",
       "    </tr>\n",
       "    <tr>\n",
       "      <th>19</th>\n",
       "      <td>Fight Club (1999)</td>\n",
       "    </tr>\n",
       "  </tbody>\n",
       "</table>\n",
       "</div>"
      ],
      "text/plain": [
       "                                        추천 영화 Top 20\n",
       "0                                 Toy Story 2 (1999)\n",
       "1                                   Apollo 13 (1995)\n",
       "2                           Good Will Hunting (1997)\n",
       "3                                Forrest Gump (1994)\n",
       "4                              Lion King, The (1994)\n",
       "5                               Groundhog Day (1993)\n",
       "6                             You've Got Mail (1998)\n",
       "7   Star Wars: Episode I - The Phantom Menace (1999)\n",
       "8                         Shakespeare in Love (1998)\n",
       "9                        Being John Malkovich (1999)\n",
       "10               There's Something About Mary (1998)\n",
       "11                              Jerry Maguire (1996)\n",
       "12                                  Mask, The (1994)\n",
       "13                       Sleepless in Seattle (1993)\n",
       "14                                    Aladdin (1992)\n",
       "15                              Stuart Little (1999)\n",
       "16                         Mr. Holland's Opus (1995)\n",
       "17                         Gone with the Wind (1939)\n",
       "18                                    Contact (1997)\n",
       "19                                 Fight Club (1999)"
      ]
     },
     "execution_count": 171,
     "metadata": {},
     "output_type": "execute_result"
    }
   ],
   "source": [
    "rec = [idx_to_movie[i[0]] for i in movie_recommended]\n",
    "recommendation = pd.DataFrame(rec)\n",
    "recommendation.columns = ['추천 영화 Top 20']\n",
    "recommendation"
   ]
  },
  {
   "cell_type": "code",
   "execution_count": 167,
   "metadata": {},
   "outputs": [],
   "source": [
    "Aladin = movie_to_idx['Aladdin (1992)']\n",
    "explain = als_model.explain(user, csr_data, itemid=Aladin)"
   ]
  },
  {
   "cell_type": "code",
   "execution_count": 168,
   "metadata": {},
   "outputs": [
    {
     "data": {
      "text/plain": [
       "[('Toy Story (1995)', 0.19287862127451885),\n",
       " ('Home Alone (1990)', 0.03632566459340244),\n",
       " ('Truman Show, The (1998)', 0.00743974848080335),\n",
       " ('Titanic (1997)', -0.008076707094149748),\n",
       " ('Sixth Sense, The (1999)', -0.03969315190647361)]"
      ]
     },
     "execution_count": 168,
     "metadata": {},
     "output_type": "execute_result"
    }
   ],
   "source": [
    "[(idx_to_movie[i[0]], i[1]) for i in explain[1]]"
   ]
  },
  {
   "cell_type": "markdown",
   "metadata": {},
   "source": [
    "## [결론 및 회고]\n",
    "\n",
    " 저는 데이터 전처리 과정에서  movies와 ratings 데이터를 합친 데이터를 가지고 프로젝트를 수행했습니다. movie_id가 숫자로 되어있어 직관적으로 영화 제목과 장르를 확인해주기 위해서입니다. 그래서 사용자 데이터를 추가할 때 영화 제목 뿐만 아니라 timestamp, 장르, id 등등 추가적으로 컬럼값을 채우기도 했습니다.   \n",
    "csr matrix를 생성할 때 차원이 초과되는 오류가 발생했었는데, movie_id가 연속적이지 않아 유니크한 값이 실제로는 더 적었기 때문입니다. 이를 해결해주기 위해 movie_id_new라는 새로운 영화 인덱스를 추가해주기도 했습니다.\n",
    "그러나 그전에 데이터를 합쳤기 때문에 movie_id가 아닌 title로 인덱싱을 해주면 해결되는 문제였고, 그 뒤 과정을 진행할 때는 title로 인덱싱한 것을 토대로 진행했습니다. (굳이 movie_id_new를 다시 지우지는 않았습니다..~~왜냐면.. 귀찮았기 때문..~~)   \n",
    "\n",
    "결과적으로, __제가 선호하는 영화(타이타닉)에 대한 선호도를 계산했을 때 0.6477961이라는 높은 값을 얻을 수 있었습니다.__\n",
    "\n",
    "__무작위로 뽑은 영화(슈퍼맨)의 선호도를 계산했을 때는 음수값이 나오기도__ 했는데 실제로 저는 이 영화와 장르(히어로 액션)를 매우 좋아합니다. 아마 사용자 데이터를 추가해줄 때 이런 장르를 추가해주지 않아서 이런 결과가 나온 것 같습니다.  \n",
    "\n",
    "이번 프로젝트를 통해 사용자의 선호도(높은 평점) 기반의 영화 추천 시스템을 만드는 방법에 대해 배울 수 있었습니다. \n",
    "근데 정말로...너무 신기한데요..? 고작 5개 영화를 추가했을 뿐인데 영화 취향에 맞게 잘 추천해준 것 같습니다. 5개 이상의 사용자 데이터를 추가해주는 대신 장르를 가지각색으로 넣어줬을 때 각 영화의 기여도가 어떻게 될지도 궁금합니다.\n"
   ]
  },
  {
   "cell_type": "code",
   "execution_count": null,
   "metadata": {},
   "outputs": [],
   "source": []
  }
 ],
 "metadata": {
  "kernelspec": {
   "display_name": "Python 3",
   "language": "python",
   "name": "python3"
  },
  "language_info": {
   "codemirror_mode": {
    "name": "ipython",
    "version": 3
   },
   "file_extension": ".py",
   "mimetype": "text/x-python",
   "name": "python",
   "nbconvert_exporter": "python",
   "pygments_lexer": "ipython3",
   "version": "3.7.9"
  }
 },
 "nbformat": 4,
 "nbformat_minor": 4
}
