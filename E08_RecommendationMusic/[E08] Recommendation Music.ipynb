{
 "cells": [
  {
   "cell_type": "markdown",
   "metadata": {},
   "source": [
    "# 8-9. 프로젝트 - Movielens 영화 추천 실습\n",
    "\n",
    "\n",
    "\n",
    "### [루브릭]\n",
    "\n",
    "평가문항\t상세기준\n",
    "1. CSR matrix가 정상적으로 만들어졌다.\n",
    "     - 사용자와 아이템 개수를 바탕으로 정확한 사이즈로 만들었다.  \n",
    "    \n",
    "2. MF 모델이 정상적으로 훈련되어 그럴듯한 추천이 이루어졌다.\n",
    "     - 사용자와 아이템 벡터 내적수치가 의미있게 형성되었다.  \n",
    "    \n",
    "3. 비슷한 영화 찾기와 유저에게 추천하기의 과정이 정상적으로 진행되었다.\n",
    "     - MF모델이 예측한 유저 선호도 및 아이템간 유사도, 기여도가 의미있게 측정되었다.\n",
    "     \n",
    "\n",
    "### [학습 과정]  \n",
    "\n",
    "1) 데이터 준비와 전처리  \n",
    "2) 분석해 봅시다  \n",
    "   * ratings에 있는 유니크한 영화 개수  \n",
    "   * rating에 있는 유니크한 사용자 수  \n",
    "   * 가장 인기 있는 영화 30개(인기순)    \n",
    "   \n",
    "3) 내가 선호하는 영화를 5가지 골라서 rating에 추가해 줍시다.  \n",
    "4) CSR matrix를 직접 만들어 봅시다.  \n",
    "5) als_model = AlternatingLeastSquares 모델을 직접 구성하여 훈련시켜 봅시다.  \n",
    "6) 내가 선호하는 5가지 영화 중 하나와 그 외의 영화 하나를 골라 훈련된 모델이 예측한 나의 선호도를 파악해 보세요.  \n",
    "7) 내가 좋아하는 영화와 비슷한 영화를 추천받아 봅시다.  \n",
    "8) 내가 가장 좋아할 만한 영화들을 추천받아 봅시다.   \n",
    "\n",
    "### [결과 및 회고]"
   ]
  },
  {
   "cell_type": "code",
   "execution_count": null,
   "metadata": {},
   "outputs": [],
   "source": []
  },
  {
   "cell_type": "code",
   "execution_count": null,
   "metadata": {},
   "outputs": [],
   "source": []
  },
  {
   "cell_type": "code",
   "execution_count": null,
   "metadata": {},
   "outputs": [],
   "source": []
  },
  {
   "cell_type": "code",
   "execution_count": null,
   "metadata": {},
   "outputs": [],
   "source": []
  },
  {
   "cell_type": "code",
   "execution_count": null,
   "metadata": {},
   "outputs": [],
   "source": []
  },
  {
   "cell_type": "code",
   "execution_count": null,
   "metadata": {},
   "outputs": [],
   "source": []
  },
  {
   "cell_type": "code",
   "execution_count": null,
   "metadata": {},
   "outputs": [],
   "source": []
  },
  {
   "cell_type": "code",
   "execution_count": null,
   "metadata": {},
   "outputs": [],
   "source": []
  },
  {
   "cell_type": "code",
   "execution_count": null,
   "metadata": {},
   "outputs": [],
   "source": []
  },
  {
   "cell_type": "code",
   "execution_count": null,
   "metadata": {},
   "outputs": [],
   "source": []
  },
  {
   "cell_type": "code",
   "execution_count": null,
   "metadata": {},
   "outputs": [],
   "source": []
  },
  {
   "cell_type": "code",
   "execution_count": null,
   "metadata": {},
   "outputs": [],
   "source": []
  },
  {
   "cell_type": "code",
   "execution_count": null,
   "metadata": {},
   "outputs": [],
   "source": []
  }
 ],
 "metadata": {
  "kernelspec": {
   "display_name": "Python 3",
   "language": "python",
   "name": "python3"
  },
  "language_info": {
   "codemirror_mode": {
    "name": "ipython",
    "version": 3
   },
   "file_extension": ".py",
   "mimetype": "text/x-python",
   "name": "python",
   "nbconvert_exporter": "python",
   "pygments_lexer": "ipython3",
   "version": "3.7.9"
  }
 },
 "nbformat": 4,
 "nbformat_minor": 4
}
