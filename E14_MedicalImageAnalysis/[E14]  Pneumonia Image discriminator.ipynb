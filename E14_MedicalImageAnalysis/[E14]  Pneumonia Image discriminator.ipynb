{
 "cells": [
  {
   "cell_type": "markdown",
   "id": "rural-patrol",
   "metadata": {},
   "source": [
    "# 14-6. 프로젝트 : 폐렴 진단기 성능개선\n",
    "\n",
    "### [루브릭]\n",
    "1. 의료영상을 처리하는 CNN 기반 딥러닝 모델이 잘 구현되었다.\n",
    "    - 모델 학습이 안정적으로 수렴하는 것을 시각화를 통해 확인하였다.\n",
    "\n",
    "\n",
    "2. 데이터 준비, 모델구성 등의 과정의 다양한 실험이 체계적으로 수행되었다.\n",
    "    - regularization, augmentation 등의 기법의 사용 여부에 따른 모델 성능 측정이 ablation study 형태로 체계적으로 수행되었다.\n",
    "\n",
    "\n",
    "3. 실습코드를 잘 개선하여 폐렴 검출 정확도가 추가로 향상되었다.\n",
    "    - Accuracy 기준 85%에 도달하였다.\n",
    "\n",
    "\n",
    "### [학습 과정]\n",
    "1. 실험환경 Set-up\n",
    "2. 데이터 준비하기\n",
    "3. 데이터 시각화\n",
    "4. CNN 모델링\n",
    "5. 데이터 imbalance 처리\n",
    "6. 모델 훈련\n",
    "7. 결과 확인과 시각화\n",
    "\n",
    "\n",
    "### [결론 및 회고]"
   ]
  },
  {
   "cell_type": "markdown",
   "id": "featured-extent",
   "metadata": {},
   "source": [
    "## 1. 실험환경 Set-up"
   ]
  },
  {
   "cell_type": "code",
   "execution_count": 2,
   "id": "destroyed-angola",
   "metadata": {},
   "outputs": [],
   "source": [
    "import re                                               # 정규표현식 관련 패키지\n",
    "import os                                               # I/O 관련 패키지 \n",
    "import pandas as pd                                     # 데이터 전처리 관련 패키지\n",
    "import numpy as np                                      # 데이터 array 관련 패키지\n",
    "import tensorflow as tf                                 # 딥러닝 패키지\n",
    "import matplotlib.pyplot as plt                         # 데이터 시각화패키지\n",
    "from sklearn.model_selection import train_test_split    # 데이터 전처리 관련 패키지"
   ]
  },
  {
   "cell_type": "code",
   "execution_count": null,
   "id": "coordinated-native",
   "metadata": {},
   "outputs": [],
   "source": [
    "# 데이터 로드할 때 빠르게 로드할 수 있도록하는 설정 변수\n",
    "AUTOTUNE = tf.data.experimental.AUTOTUNE\n",
    "\n",
    "# 데이터 ROOT 경로 변수\n",
    "ROOT_PATH = os.path.join(os.getenv('HOME'), 'aiffel')\n",
    "\n",
    "# BATCH_SIZE 변수\n",
    "BATCH_SIZE = 16\n",
    "\n",
    "# X-RAY 이미지 사이즈 변수\n",
    "IMAGE_SIZE = [180, 180]\n",
    "\n",
    "# EPOCH 크기 변수\n",
    "EPOCHS = 25\n",
    "\n",
    "print(ROOT_PATH)"
   ]
  },
  {
   "cell_type": "markdown",
   "id": "brown-adult",
   "metadata": {},
   "source": [
    "## 2. 데이터 준비하기"
   ]
  },
  {
   "cell_type": "code",
   "execution_count": null,
   "id": "premium-significance",
   "metadata": {},
   "outputs": [],
   "source": []
  },
  {
   "cell_type": "code",
   "execution_count": null,
   "id": "grave-worse",
   "metadata": {},
   "outputs": [],
   "source": []
  },
  {
   "cell_type": "code",
   "execution_count": null,
   "id": "convertible-sphere",
   "metadata": {},
   "outputs": [],
   "source": []
  },
  {
   "cell_type": "code",
   "execution_count": null,
   "id": "heated-teaching",
   "metadata": {},
   "outputs": [],
   "source": []
  },
  {
   "cell_type": "code",
   "execution_count": null,
   "id": "accessible-guatemala",
   "metadata": {},
   "outputs": [],
   "source": []
  },
  {
   "cell_type": "code",
   "execution_count": null,
   "id": "pharmaceutical-peripheral",
   "metadata": {},
   "outputs": [],
   "source": []
  },
  {
   "cell_type": "code",
   "execution_count": null,
   "id": "intelligent-torture",
   "metadata": {},
   "outputs": [],
   "source": []
  },
  {
   "cell_type": "code",
   "execution_count": null,
   "id": "bottom-script",
   "metadata": {},
   "outputs": [],
   "source": []
  }
 ],
 "metadata": {
  "kernelspec": {
   "display_name": "Python 3",
   "language": "python",
   "name": "python3"
  },
  "language_info": {
   "codemirror_mode": {
    "name": "ipython",
    "version": 3
   },
   "file_extension": ".py",
   "mimetype": "text/x-python",
   "name": "python",
   "nbconvert_exporter": "python",
   "pygments_lexer": "ipython3",
   "version": "3.7.9"
  }
 },
 "nbformat": 4,
 "nbformat_minor": 5
}
