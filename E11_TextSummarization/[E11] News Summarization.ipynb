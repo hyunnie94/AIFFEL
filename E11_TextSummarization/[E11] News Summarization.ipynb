{
 "cells": [
  {
   "cell_type": "markdown",
   "metadata": {},
   "source": [
    "# 11-13. 프로젝트: 뉴스기사 요약해보기\n",
    "\n",
    "### [루브릭]\n",
    "1. Abstractive 모델 구성을 위한 텍스트 전처리 단계가 체계적으로 진행되었다.\n",
    "    - 분석단계, 정제단계, 정규화와 불용어 제거, 데이터셋 분리, 인코딩 과정이 빠짐없이 체계적으로 진행되었다.\n",
    "\n",
    "\n",
    "2. 텍스트 요약모델이 성공적으로 학습되었음을 확인하였다.\n",
    "    - 모델학습이 안정적으로 수렴되었음을 그래프를 통해 확인하였으며, 실제 요약문과 유사한 요약문장을 얻을 수 있었다.\n",
    "    \n",
    "    \n",
    "3. Extractive 요약을 시도해 보고 Abstractive 요약 결과과 함께 비교해 보았다.\n",
    "    - 두 요약 결과를 문법완성도 측면과 핵심단어 포함 측면으로 나누어 비교분석 결과를 제시하였다.\n",
    "\n",
    "### [학습과정]\n",
    "1. 데이터 수집하기\n",
    "2. 데이터 전처리하기(추상적 요약)\n",
    "3. 어텐션 메커니즘 사용하기 (추상적 요약)\n",
    "4. 실제 결과와 요약문 비교하기 (추상적 요약)\n",
    "5. Summa을 이용해서 추출적 요약해보기\n",
    "\n",
    "### [결과 및 회고]"
   ]
  },
  {
   "cell_type": "markdown",
   "metadata": {},
   "source": [
    "## 1. 데이터 수집하기"
   ]
  },
  {
   "cell_type": "code",
   "execution_count": 1,
   "metadata": {},
   "outputs": [
    {
     "name": "stderr",
     "output_type": "stream",
     "text": [
      "[nltk_data] Downloading package stopwords to /home/ssac18/nltk_data...\n",
      "[nltk_data]   Package stopwords is already up-to-date!\n"
     ]
    }
   ],
   "source": [
    "import nltk\n",
    "nltk.download('stopwords')\n",
    "\n",
    "import numpy as np\n",
    "import pandas as pd\n",
    "import os\n",
    "import re\n",
    "import matplotlib.pyplot as plt\n",
    "from nltk.corpus import stopwords\n",
    "from bs4 import BeautifulSoup \n",
    "from tensorflow.keras.preprocessing.text import Tokenizer \n",
    "from tensorflow.keras.preprocessing.sequence import pad_sequences\n",
    "import urllib.request"
   ]
  },
  {
   "cell_type": "code",
   "execution_count": 2,
   "metadata": {},
   "outputs": [],
   "source": [
    "import pandas as pd\n",
    "import urllib.request\n",
    "urllib.request.urlretrieve(\"https://raw.githubusercontent.com/sunnysai12345/News_Summary/master/news_summary_more.csv\", filename=\"news_summary_more.csv\")\n",
    "data = pd.read_csv('news_summary_more.csv', encoding='iso-8859-1')"
   ]
  },
  {
   "cell_type": "code",
   "execution_count": 3,
   "metadata": {},
   "outputs": [
    {
     "data": {
      "text/html": [
       "<div>\n",
       "<style scoped>\n",
       "    .dataframe tbody tr th:only-of-type {\n",
       "        vertical-align: middle;\n",
       "    }\n",
       "\n",
       "    .dataframe tbody tr th {\n",
       "        vertical-align: top;\n",
       "    }\n",
       "\n",
       "    .dataframe thead th {\n",
       "        text-align: right;\n",
       "    }\n",
       "</style>\n",
       "<table border=\"1\" class=\"dataframe\">\n",
       "  <thead>\n",
       "    <tr style=\"text-align: right;\">\n",
       "      <th></th>\n",
       "      <th>headlines</th>\n",
       "      <th>text</th>\n",
       "    </tr>\n",
       "  </thead>\n",
       "  <tbody>\n",
       "    <tr>\n",
       "      <th>53240</th>\n",
       "      <td>Death toll in Nepal cold wave rises to 24</td>\n",
       "      <td>The death toll resulting from the intense cold...</td>\n",
       "    </tr>\n",
       "    <tr>\n",
       "      <th>66760</th>\n",
       "      <td>Toddler rescued after 12 hours in Swiss Alps c...</td>\n",
       "      <td>Over 100 rescue workers helped pull a two-year...</td>\n",
       "    </tr>\n",
       "    <tr>\n",
       "      <th>35933</th>\n",
       "      <td>Decomposed body of 50-year-old found at her ho...</td>\n",
       "      <td>The Mumbai police on Wednesday recovered the d...</td>\n",
       "    </tr>\n",
       "    <tr>\n",
       "      <th>29126</th>\n",
       "      <td>Girl kills self after mall staff harass her fo...</td>\n",
       "      <td>A girl in Tripura committed suicide after she ...</td>\n",
       "    </tr>\n",
       "    <tr>\n",
       "      <th>34969</th>\n",
       "      <td>Cutie pie, sorry bhai: Pandya to Kishan after ...</td>\n",
       "      <td>All-rounder Hardik Pandya took to social media...</td>\n",
       "    </tr>\n",
       "    <tr>\n",
       "      <th>58212</th>\n",
       "      <td>4,093 Maha schools with less than 10 students ...</td>\n",
       "      <td>The Maharashtra government has decided to shut...</td>\n",
       "    </tr>\n",
       "    <tr>\n",
       "      <th>36145</th>\n",
       "      <td>Delhi airport to get bigger T1 and T3, new run...</td>\n",
       "      <td>DelhiÃ¢ÂÂs Indira Gandhi International Airpo...</td>\n",
       "    </tr>\n",
       "    <tr>\n",
       "      <th>28377</th>\n",
       "      <td>Sari-clad man thrashed on suspicion of being c...</td>\n",
       "      <td>A sari-clad man was thrashed on the suspicion ...</td>\n",
       "    </tr>\n",
       "    <tr>\n",
       "      <th>51401</th>\n",
       "      <td>I am not on Twitter, read printouts of Trump t...</td>\n",
       "      <td>US State Secretary Rex Tillerson has revealed ...</td>\n",
       "    </tr>\n",
       "    <tr>\n",
       "      <th>94094</th>\n",
       "      <td>US deploys naval strike group near North Korea</td>\n",
       "      <td>US has deployed a navy strike group towards th...</td>\n",
       "    </tr>\n",
       "  </tbody>\n",
       "</table>\n",
       "</div>"
      ],
      "text/plain": [
       "                                               headlines  \\\n",
       "53240          Death toll in Nepal cold wave rises to 24   \n",
       "66760  Toddler rescued after 12 hours in Swiss Alps c...   \n",
       "35933  Decomposed body of 50-year-old found at her ho...   \n",
       "29126  Girl kills self after mall staff harass her fo...   \n",
       "34969  Cutie pie, sorry bhai: Pandya to Kishan after ...   \n",
       "58212  4,093 Maha schools with less than 10 students ...   \n",
       "36145  Delhi airport to get bigger T1 and T3, new run...   \n",
       "28377  Sari-clad man thrashed on suspicion of being c...   \n",
       "51401  I am not on Twitter, read printouts of Trump t...   \n",
       "94094     US deploys naval strike group near North Korea   \n",
       "\n",
       "                                                    text  \n",
       "53240  The death toll resulting from the intense cold...  \n",
       "66760  Over 100 rescue workers helped pull a two-year...  \n",
       "35933  The Mumbai police on Wednesday recovered the d...  \n",
       "29126  A girl in Tripura committed suicide after she ...  \n",
       "34969  All-rounder Hardik Pandya took to social media...  \n",
       "58212  The Maharashtra government has decided to shut...  \n",
       "36145  DelhiÃ¢ÂÂs Indira Gandhi International Airpo...  \n",
       "28377  A sari-clad man was thrashed on the suspicion ...  \n",
       "51401  US State Secretary Rex Tillerson has revealed ...  \n",
       "94094  US has deployed a navy strike group towards th...  "
      ]
     },
     "execution_count": 3,
     "metadata": {},
     "output_type": "execute_result"
    }
   ],
   "source": [
    "data.sample(10)"
   ]
  },
  {
   "cell_type": "code",
   "execution_count": 4,
   "metadata": {},
   "outputs": [
    {
     "data": {
      "text/plain": [
       "98401"
      ]
     },
     "execution_count": 4,
     "metadata": {},
     "output_type": "execute_result"
    }
   ],
   "source": [
    "len(data)"
   ]
  },
  {
   "cell_type": "markdown",
   "metadata": {},
   "source": [
    "우리는 text 시퀀스를 입력받으면 headlines를 예측하도록 신경망을 훈련시키려고 합니다."
   ]
  },
  {
   "cell_type": "markdown",
   "metadata": {},
   "source": [
    "## 2. 데이터 전처리하기\n",
    "\n",
    "우선, 유니크한 데이터가 몇개있는지 확인해봅니다."
   ]
  },
  {
   "cell_type": "code",
   "execution_count": 5,
   "metadata": {},
   "outputs": [
    {
     "name": "stdout",
     "output_type": "stream",
     "text": [
      "headlines의 유니크한 데이터 수 :  98280\n",
      "text의 유니크한 데이터 수 :  98360\n"
     ]
    }
   ],
   "source": [
    "print('headlines의 유니크한 데이터 수 : ', data['headlines'].nunique())\n",
    "print('text의 유니크한 데이터 수 : ', data['text'].nunique())"
   ]
  },
  {
   "cell_type": "markdown",
   "metadata": {},
   "source": [
    "headline의 유니크한 데이터가 text보다 약 100여개 더 많습니다. text가 달라도 헤드라인이 같은 경우가 있으나 text가 중복된 경우는 본문 자체가 동일하다는 뜻이므로 중복 샘플을 제거해줍니다."
   ]
  },
  {
   "cell_type": "code",
   "execution_count": 6,
   "metadata": {},
   "outputs": [
    {
     "name": "stdout",
     "output_type": "stream",
     "text": [
      "전체 샘플수 : 98360\n"
     ]
    }
   ],
   "source": [
    "data.drop_duplicates(subset = ['text'], inplace = True)\n",
    "print('전체 샘플수 :',(len(data)))"
   ]
  },
  {
   "cell_type": "code",
   "execution_count": 7,
   "metadata": {},
   "outputs": [
    {
     "name": "stdout",
     "output_type": "stream",
     "text": [
      "headlines    0\n",
      "text         0\n",
      "dtype: int64\n"
     ]
    }
   ],
   "source": [
    "print(data.isnull().sum())"
   ]
  },
  {
   "cell_type": "markdown",
   "metadata": {},
   "source": [
    "텍스트 정규화와 불용어 제거"
   ]
  },
  {
   "cell_type": "code",
   "execution_count": 8,
   "metadata": {},
   "outputs": [
    {
     "name": "stdout",
     "output_type": "stream",
     "text": [
      "정규화 사전의 수:  120\n"
     ]
    }
   ],
   "source": [
    "contractions = {\"ain't\": \"is not\", \"aren't\": \"are not\",\"can't\": \"cannot\", \"'cause\": \"because\", \"could've\": \"could have\", \"couldn't\": \"could not\",\n",
    "                           \"didn't\": \"did not\",  \"doesn't\": \"does not\", \"don't\": \"do not\", \"hadn't\": \"had not\", \"hasn't\": \"has not\", \"haven't\": \"have not\",\n",
    "                           \"he'd\": \"he would\",\"he'll\": \"he will\", \"he's\": \"he is\", \"how'd\": \"how did\", \"how'd'y\": \"how do you\", \"how'll\": \"how will\", \"how's\": \"how is\",\n",
    "                           \"I'd\": \"I would\", \"I'd've\": \"I would have\", \"I'll\": \"I will\", \"I'll've\": \"I will have\",\"I'm\": \"I am\", \"I've\": \"I have\", \"i'd\": \"i would\",\n",
    "                           \"i'd've\": \"i would have\", \"i'll\": \"i will\",  \"i'll've\": \"i will have\",\"i'm\": \"i am\", \"i've\": \"i have\", \"isn't\": \"is not\", \"it'd\": \"it would\",\n",
    "                           \"it'd've\": \"it would have\", \"it'll\": \"it will\", \"it'll've\": \"it will have\",\"it's\": \"it is\", \"let's\": \"let us\", \"ma'am\": \"madam\",\n",
    "                           \"mayn't\": \"may not\", \"might've\": \"might have\",\"mightn't\": \"might not\",\"mightn't've\": \"might not have\", \"must've\": \"must have\",\n",
    "                           \"mustn't\": \"must not\", \"mustn't've\": \"must not have\", \"needn't\": \"need not\", \"needn't've\": \"need not have\",\"o'clock\": \"of the clock\",\n",
    "                           \"oughtn't\": \"ought not\", \"oughtn't've\": \"ought not have\", \"shan't\": \"shall not\", \"sha'n't\": \"shall not\", \"shan't've\": \"shall not have\",\n",
    "                           \"she'd\": \"she would\", \"she'd've\": \"she would have\", \"she'll\": \"she will\", \"she'll've\": \"she will have\", \"she's\": \"she is\",\n",
    "                           \"should've\": \"should have\", \"shouldn't\": \"should not\", \"shouldn't've\": \"should not have\", \"so've\": \"so have\",\"so's\": \"so as\",\n",
    "                           \"this's\": \"this is\",\"that'd\": \"that would\", \"that'd've\": \"that would have\", \"that's\": \"that is\", \"there'd\": \"there would\",\n",
    "                           \"there'd've\": \"there would have\", \"there's\": \"there is\", \"here's\": \"here is\",\"they'd\": \"they would\", \"they'd've\": \"they would have\",\n",
    "                           \"they'll\": \"they will\", \"they'll've\": \"they will have\", \"they're\": \"they are\", \"they've\": \"they have\", \"to've\": \"to have\",\n",
    "                           \"wasn't\": \"was not\", \"we'd\": \"we would\", \"we'd've\": \"we would have\", \"we'll\": \"we will\", \"we'll've\": \"we will have\", \"we're\": \"we are\",\n",
    "                           \"we've\": \"we have\", \"weren't\": \"were not\", \"what'll\": \"what will\", \"what'll've\": \"what will have\", \"what're\": \"what are\",\n",
    "                           \"what's\": \"what is\", \"what've\": \"what have\", \"when's\": \"when is\", \"when've\": \"when have\", \"where'd\": \"where did\", \"where's\": \"where is\",\n",
    "                           \"where've\": \"where have\", \"who'll\": \"who will\", \"who'll've\": \"who will have\", \"who's\": \"who is\", \"who've\": \"who have\",\n",
    "                           \"why's\": \"why is\", \"why've\": \"why have\", \"will've\": \"will have\", \"won't\": \"will not\", \"won't've\": \"will not have\",\n",
    "                           \"would've\": \"would have\", \"wouldn't\": \"would not\", \"wouldn't've\": \"would not have\", \"y'all\": \"you all\",\n",
    "                           \"y'all'd\": \"you all would\",\"y'all'd've\": \"you all would have\",\"y'all're\": \"you all are\",\"y'all've\": \"you all have\",\n",
    "                           \"you'd\": \"you would\", \"you'd've\": \"you would have\", \"you'll\": \"you will\", \"you'll've\": \"you will have\",\n",
    "                           \"you're\": \"you are\", \"you've\": \"you have\"}\n",
    "\n",
    "print(\"정규화 사전의 수: \",len(contractions))"
   ]
  },
  {
   "cell_type": "code",
   "execution_count": 9,
   "metadata": {},
   "outputs": [
    {
     "name": "stdout",
     "output_type": "stream",
     "text": [
      "불용어 개수 : 179\n",
      "['i', 'me', 'my', 'myself', 'we', 'our', 'ours', 'ourselves', 'you', \"you're\", \"you've\", \"you'll\", \"you'd\", 'your', 'yours', 'yourself', 'yourselves', 'he', 'him', 'his', 'himself', 'she', \"she's\", 'her', 'hers', 'herself', 'it', \"it's\", 'its', 'itself', 'they', 'them', 'their', 'theirs', 'themselves', 'what', 'which', 'who', 'whom', 'this', 'that', \"that'll\", 'these', 'those', 'am', 'is', 'are', 'was', 'were', 'be', 'been', 'being', 'have', 'has', 'had', 'having', 'do', 'does', 'did', 'doing', 'a', 'an', 'the', 'and', 'but', 'if', 'or', 'because', 'as', 'until', 'while', 'of', 'at', 'by', 'for', 'with', 'about', 'against', 'between', 'into', 'through', 'during', 'before', 'after', 'above', 'below', 'to', 'from', 'up', 'down', 'in', 'out', 'on', 'off', 'over', 'under', 'again', 'further', 'then', 'once', 'here', 'there', 'when', 'where', 'why', 'how', 'all', 'any', 'both', 'each', 'few', 'more', 'most', 'other', 'some', 'such', 'no', 'nor', 'not', 'only', 'own', 'same', 'so', 'than', 'too', 'very', 's', 't', 'can', 'will', 'just', 'don', \"don't\", 'should', \"should've\", 'now', 'd', 'll', 'm', 'o', 're', 've', 'y', 'ain', 'aren', \"aren't\", 'couldn', \"couldn't\", 'didn', \"didn't\", 'doesn', \"doesn't\", 'hadn', \"hadn't\", 'hasn', \"hasn't\", 'haven', \"haven't\", 'isn', \"isn't\", 'ma', 'mightn', \"mightn't\", 'mustn', \"mustn't\", 'needn', \"needn't\", 'shan', \"shan't\", 'shouldn', \"shouldn't\", 'wasn', \"wasn't\", 'weren', \"weren't\", 'won', \"won't\", 'wouldn', \"wouldn't\"]\n"
     ]
    }
   ],
   "source": [
    "print('불용어 개수 :', len(stopwords.words('english') ))\n",
    "print(stopwords.words('english'))"
   ]
  },
  {
   "cell_type": "code",
   "execution_count": 10,
   "metadata": {},
   "outputs": [],
   "source": [
    "# 데이터 전처리 함수\n",
    "\n",
    "def preprocess_sentence(sentence, remove_stopwords=True):\n",
    "    sentence = sentence.lower()    # 텍스트 소문자화\n",
    "    sentence = BeautifulSoup(sentence, \"lxml\").text   # <> 등 html 태그 제거\n",
    "    sentence = re.sub(r'\\([^)]*\\)', '', sentence) # 괄호로 닫힌 문자열 (~~) 제거\n",
    "    sentence = re.sub('\"\"', '', sentence) # 쌍따옴표 \" 제거\n",
    "    sentence = ' '.join([contractions[t] if t in contractions else t for t in sentence.split(\" \")])  # 약어 정규화\n",
    "    sentence = re.sub(r\"'s\\b\", \"\", sentence)  # 소유격 제거. Her's => Her\n",
    "    sentence = re.sub(\"[^a-zA-Z]\", \" \", sentence)   # 영어 외 문자(숫자, 특수문자 등) 공백으로 변환\n",
    "    sentence = re.sub('[m]{2,}', 'mm', sentence)   # m이 3개 이상이면 2개로 변경 ummmm 이런거\n",
    "    \n",
    "    # 불용어 제거 (in text)\n",
    "    if remove_stopwords:\n",
    "        tokens = ' '.join(word for word in sentence.split() if not word in stopwords.words('english') if len(word) > 1)\n",
    "    \n",
    "    # 불용어 미제거 (in headlines) 제거하면 오히려 어색함\n",
    "    else:\n",
    "        tokens = ' '.join(word for word in sentence.split() if len(word) > 1)\n",
    "    return tokens\n",
    "    "
   ]
  },
  {
   "cell_type": "code",
   "execution_count": 11,
   "metadata": {},
   "outputs": [
    {
     "name": "stdout",
     "output_type": "stream",
     "text": [
      "everything bought great infact ordered twice third ordered wasfor mother father\n",
      "great way to start the day\n"
     ]
    }
   ],
   "source": [
    "# 전처리 전후 결과 확인하기 위한 임의의 데이터 호출\n",
    "\n",
    "temp_text = 'Everything I bought was great, infact I ordered twice and the third ordered was<br />for my mother and father.'\n",
    "temp_headline = 'Great way to start (or finish) the day!!!'\n",
    "\n",
    "print(preprocess_sentence(temp_text))\n",
    "print(preprocess_sentence(temp_headline, False))  # 불용어를 제거하지 않습니다."
   ]
  },
  {
   "cell_type": "code",
   "execution_count": 12,
   "metadata": {},
   "outputs": [
    {
     "data": {
      "text/plain": [
       "['saurav kant alumnus upgrad iiit pg program machine learning artificial intelligence sr systems engineer infosys almost years work experience program upgrad degree career support helped transition data scientist tech mahindra salary hike upgrad online power learning powered lakh careers',\n",
       " 'kunal shah credit card bill payment platform cred gave users chance win free food swiggy one year pranav kaushik delhi techie bagged reward spending cred coins users get one cred coin per rupee bill paid used avail rewards brands like ixigo bookmyshow ubereats cult fit',\n",
       " 'new zealand defeated india wickets fourth odi hamilton thursday win first match five match odi series india lost international match rohit sharma captaincy consecutive victories dating back march match witnessed india getting seventh lowest total odi cricket history',\n",
       " 'aegon life iterm insurance plan customers enjoy tax benefits premiums paid save taxes plan provides life cover age years also customers options insure critical illnesses disability accidental death benefit rider life cover age years',\n",
       " 'speaking sexual harassment allegations rajkumar hirani sonam kapoor said known hirani many years true metoo movement get derailed metoo movement always believe woman case need reserve judgment added hirani accused assistant worked sanju']"
      ]
     },
     "execution_count": 12,
     "metadata": {},
     "output_type": "execute_result"
    }
   ],
   "source": [
    "clean_text = []\n",
    "\n",
    "# 전체 Text 데이터에 대한 전처리 \n",
    "for s in data['text']:\n",
    "    clean_text.append(preprocess_sentence(s))\n",
    "\n",
    "# 전처리 후 출력\n",
    "clean_text[:5]"
   ]
  },
  {
   "cell_type": "code",
   "execution_count": 13,
   "metadata": {},
   "outputs": [
    {
     "data": {
      "text/plain": [
       "['upgrad learner switches to career in ml al with salary hike',\n",
       " 'delhi techie wins free food from swiggy for one year on cred',\n",
       " 'new zealand end rohit sharma led india match winning streak',\n",
       " 'aegon life iterm insurance plan helps customers save tax',\n",
       " 'have known hirani for yrs what if metoo claims are not true sonam']"
      ]
     },
     "execution_count": 13,
     "metadata": {},
     "output_type": "execute_result"
    }
   ],
   "source": [
    "clean_headline = []\n",
    "\n",
    "# 전체 Summary 데이터에 대한 전처리 \n",
    "for s in data['headlines']:\n",
    "    clean_headline.append(preprocess_sentence(s, False))\n",
    "\n",
    "clean_headline[:5]"
   ]
  },
  {
   "cell_type": "code",
   "execution_count": 14,
   "metadata": {},
   "outputs": [],
   "source": [
    "data['text'] = clean_text\n",
    "data['headlines'] = clean_headline\n",
    "\n",
    "# 빈 값을 Null 값으로 변환\n",
    "data.replace('', np.nan, inplace=True)"
   ]
  },
  {
   "cell_type": "code",
   "execution_count": 15,
   "metadata": {},
   "outputs": [
    {
     "data": {
      "text/plain": [
       "headlines    0\n",
       "text         0\n",
       "dtype: int64"
      ]
     },
     "execution_count": 15,
     "metadata": {},
     "output_type": "execute_result"
    }
   ],
   "source": [
    "data.isnull().sum()"
   ]
  },
  {
   "cell_type": "markdown",
   "metadata": {},
   "source": [
    "샘플의 최대 길이 정하기"
   ]
  },
  {
   "cell_type": "code",
   "execution_count": 16,
   "metadata": {},
   "outputs": [
    {
     "name": "stdout",
     "output_type": "stream",
     "text": [
      "텍스트의 최소 길이 : 1\n",
      "텍스트의 최대 길이 : 60\n",
      "텍스트의 평균 길이 : 35.097763318422125\n",
      "요약의 최소 길이 : 1\n",
      "요약의 최대 길이 : 16\n",
      "요약의 평균 길이 : 9.29956283041887\n"
     ]
    },
    {
     "data": {
      "image/png": "[encoded data removed]",
      "text/plain": [
       "<Figure size 432x288 with 2 Axes>"
      ]
     },
     "metadata": {
      "needs_background": "light"
     },
     "output_type": "display_data"
    },
    {
     "data": {
      "image/png": "[encoded data removed]",
      "text/plain": [
       "<Figure size 432x288 with 1 Axes>"
      ]
     },
     "metadata": {
      "needs_background": "light"
     },
     "output_type": "display_data"
    },
    {
     "data": {
      "image/png": "[encoded data removed]",
      "text/plain": [
       "<Figure size 432x288 with 1 Axes>"
      ]
     },
     "metadata": {
      "needs_background": "light"
     },
     "output_type": "display_data"
    }
   ],
   "source": [
    "# 길이 분포 출력\n",
    "import matplotlib.pyplot as plt\n",
    "\n",
    "text_len = [len(s.split()) for s in data['text']]\n",
    "headline_len = [len(s.split()) for s in data['headlines']]\n",
    "\n",
    "print('텍스트의 최소 길이 : {}'.format(np.min(text_len)))\n",
    "print('텍스트의 최대 길이 : {}'.format(np.max(text_len)))\n",
    "print('텍스트의 평균 길이 : {}'.format(np.mean(text_len)))\n",
    "print('요약의 최소 길이 : {}'.format(np.min(headline_len)))\n",
    "print('요약의 최대 길이 : {}'.format(np.max(headline_len)))\n",
    "print('요약의 평균 길이 : {}'.format(np.mean(headline_len)))\n",
    "\n",
    "plt.subplot(1,2,1)\n",
    "plt.boxplot(headline_len)\n",
    "plt.title('headline')\n",
    "plt.subplot(1,2,2)\n",
    "plt.boxplot(text_len)\n",
    "plt.title('text')\n",
    "plt.tight_layout()\n",
    "plt.show()\n",
    "\n",
    "plt.title('headline')\n",
    "plt.hist(headline_len, bins = 40)\n",
    "plt.xlabel('length of samples')\n",
    "plt.ylabel('number of samples')\n",
    "plt.show()\n",
    "\n",
    "plt.title('text')\n",
    "plt.hist(text_len, bins = 40)\n",
    "plt.xlabel('length of samples')\n",
    "plt.ylabel('number of samples')\n",
    "plt.show()"
   ]
  },
  {
   "cell_type": "code",
   "execution_count": 18,
   "metadata": {},
   "outputs": [],
   "source": [
    "text_max_len = 38\n",
    "headline_max_len = 11"
   ]
  },
  {
   "cell_type": "code",
   "execution_count": 19,
   "metadata": {},
   "outputs": [],
   "source": [
    "def below_threshold_len(max_len, nested_list):\n",
    "    cnt = 0\n",
    "    for s in nested_list:\n",
    "        if (len(s.split()) <= max_len):\n",
    "            cnt = cnt + 1\n",
    "    print('전체 샘플 중 길이가 %s 이하인 샘플의 비율: %s'%(max_len, (cnt / len(nested_list))))\n",
    "    "
   ]
  },
  {
   "cell_type": "code",
   "execution_count": 20,
   "metadata": {},
   "outputs": [
    {
     "name": "stdout",
     "output_type": "stream",
     "text": [
      "전체 샘플 중 길이가 38 이하인 샘플의 비율: 0.8164497763318422\n",
      "전체 샘플 중 길이가 11 이하인 샘플의 비율: 0.9449877999186661\n"
     ]
    }
   ],
   "source": [
    "below_threshold_len(text_max_len, data['text'])\n",
    "below_threshold_len(headline_max_len,  data['headlines'])"
   ]
  },
  {
   "cell_type": "code",
   "execution_count": 21,
   "metadata": {},
   "outputs": [
    {
     "name": "stdout",
     "output_type": "stream",
     "text": [
      "전체 샘플수 : 75765\n"
     ]
    }
   ],
   "source": [
    "data = data[data['text'].apply(lambda x: len(x.split()) <= text_max_len)]\n",
    "data = data[data['headlines'].apply(lambda x: len(x.split()) <= headline_max_len)]\n",
    "print('전체 샘플수 :',(len(data)))"
   ]
  },
  {
   "cell_type": "markdown",
   "metadata": {},
   "source": [
    "시작 토큰과 종료 토큰 추가하기"
   ]
  },
  {
   "cell_type": "code",
   "execution_count": 22,
   "metadata": {},
   "outputs": [
    {
     "data": {
      "text/html": [
       "<div>\n",
       "<style scoped>\n",
       "    .dataframe tbody tr th:only-of-type {\n",
       "        vertical-align: middle;\n",
       "    }\n",
       "\n",
       "    .dataframe tbody tr th {\n",
       "        vertical-align: top;\n",
       "    }\n",
       "\n",
       "    .dataframe thead th {\n",
       "        text-align: right;\n",
       "    }\n",
       "</style>\n",
       "<table border=\"1\" class=\"dataframe\">\n",
       "  <thead>\n",
       "    <tr style=\"text-align: right;\">\n",
       "      <th></th>\n",
       "      <th>headlines</th>\n",
       "      <th>text</th>\n",
       "      <th>decoder_input</th>\n",
       "      <th>decoder_target</th>\n",
       "    </tr>\n",
       "  </thead>\n",
       "  <tbody>\n",
       "    <tr>\n",
       "      <th>2</th>\n",
       "      <td>new zealand end rohit sharma led india match w...</td>\n",
       "      <td>new zealand defeated india wickets fourth odi ...</td>\n",
       "      <td>sostoken new zealand end rohit sharma led indi...</td>\n",
       "      <td>new zealand end rohit sharma led india match w...</td>\n",
       "    </tr>\n",
       "    <tr>\n",
       "      <th>3</th>\n",
       "      <td>aegon life iterm insurance plan helps customer...</td>\n",
       "      <td>aegon life iterm insurance plan customers enjo...</td>\n",
       "      <td>sostoken aegon life iterm insurance plan helps...</td>\n",
       "      <td>aegon life iterm insurance plan helps customer...</td>\n",
       "    </tr>\n",
       "    <tr>\n",
       "      <th>5</th>\n",
       "      <td>rahat fateh ali khan denies getting notice for...</td>\n",
       "      <td>pakistani singer rahat fateh ali khan denied r...</td>\n",
       "      <td>sostoken rahat fateh ali khan denies getting n...</td>\n",
       "      <td>rahat fateh ali khan denies getting notice for...</td>\n",
       "    </tr>\n",
       "    <tr>\n",
       "      <th>7</th>\n",
       "      <td>govt directs alok verma to join work day befor...</td>\n",
       "      <td>weeks ex cbi director alok verma told departme...</td>\n",
       "      <td>sostoken govt directs alok verma to join work ...</td>\n",
       "      <td>govt directs alok verma to join work day befor...</td>\n",
       "    </tr>\n",
       "    <tr>\n",
       "      <th>8</th>\n",
       "      <td>called pm modi sir times to satisfy his ego an...</td>\n",
       "      <td>andhra pradesh cm chandrababu naidu said met u...</td>\n",
       "      <td>sostoken called pm modi sir times to satisfy h...</td>\n",
       "      <td>called pm modi sir times to satisfy his ego an...</td>\n",
       "    </tr>\n",
       "  </tbody>\n",
       "</table>\n",
       "</div>"
      ],
      "text/plain": [
       "                                           headlines  \\\n",
       "2  new zealand end rohit sharma led india match w...   \n",
       "3  aegon life iterm insurance plan helps customer...   \n",
       "5  rahat fateh ali khan denies getting notice for...   \n",
       "7  govt directs alok verma to join work day befor...   \n",
       "8  called pm modi sir times to satisfy his ego an...   \n",
       "\n",
       "                                                text  \\\n",
       "2  new zealand defeated india wickets fourth odi ...   \n",
       "3  aegon life iterm insurance plan customers enjo...   \n",
       "5  pakistani singer rahat fateh ali khan denied r...   \n",
       "7  weeks ex cbi director alok verma told departme...   \n",
       "8  andhra pradesh cm chandrababu naidu said met u...   \n",
       "\n",
       "                                       decoder_input  \\\n",
       "2  sostoken new zealand end rohit sharma led indi...   \n",
       "3  sostoken aegon life iterm insurance plan helps...   \n",
       "5  sostoken rahat fateh ali khan denies getting n...   \n",
       "7  sostoken govt directs alok verma to join work ...   \n",
       "8  sostoken called pm modi sir times to satisfy h...   \n",
       "\n",
       "                                      decoder_target  \n",
       "2  new zealand end rohit sharma led india match w...  \n",
       "3  aegon life iterm insurance plan helps customer...  \n",
       "5  rahat fateh ali khan denies getting notice for...  \n",
       "7  govt directs alok verma to join work day befor...  \n",
       "8  called pm modi sir times to satisfy his ego an...  "
      ]
     },
     "execution_count": 22,
     "metadata": {},
     "output_type": "execute_result"
    }
   ],
   "source": [
    "# 요약 데이터에는 시작 토큰과 종료 토큰을 추가.\n",
    "\n",
    "data['decoder_input'] = data['headlines'].apply(lambda x : 'sostoken '+ x)\n",
    "data['decoder_target'] = data['headlines'].apply(lambda x : x + ' eostoken')\n",
    "data.head()"
   ]
  },
  {
   "cell_type": "code",
   "execution_count": 23,
   "metadata": {},
   "outputs": [],
   "source": [
    "# 인코더의 입력, 디코더의 입력과 레이블을 각각 다시 Numpy 타입으로 저장\n",
    "\n",
    "encoder_input = np.array(data['text']) # 인코더의 입력\n",
    "decoder_input = np.array(data['decoder_input']) # 디코더의 입력\n",
    "decoder_target = np.array(data['decoder_target']) # 디코더의 레이블"
   ]
  },
  {
   "cell_type": "code",
   "execution_count": 24,
   "metadata": {},
   "outputs": [
    {
     "name": "stdout",
     "output_type": "stream",
     "text": [
      "[74969  4166 16875 ... 64989 30761 43270]\n"
     ]
    }
   ],
   "source": [
    "# 훈련 데이터 테스트 데이터 분리\n",
    "\n",
    "indices = np.arange(encoder_input.shape[0])  # encoder_input과 크기와 형태가 같은 정수 시퀀스 생성\n",
    "np.random.shuffle(indices)                   # 순서를 랜덤하게 섞어줍니다\n",
    "print(indices) # 랜덤한 정수 시퀀스 생성!"
   ]
  },
  {
   "cell_type": "code",
   "execution_count": 25,
   "metadata": {},
   "outputs": [],
   "source": [
    "# 샘플 순서를 랜덤 시퀀스를 이용해서 정의해줌\n",
    "\n",
    "encoder_input = encoder_input[indices]\n",
    "decoder_input = decoder_input[indices]\n",
    "decoder_target = decoder_target[indices]"
   ]
  },
  {
   "cell_type": "code",
   "execution_count": 26,
   "metadata": {},
   "outputs": [
    {
     "name": "stdout",
     "output_type": "stream",
     "text": [
      "테스트 데이터의 수 : 15153\n"
     ]
    }
   ],
   "source": [
    "# 8:2로 훈련셋 테스트셋 분리\n",
    "\n",
    "n_of_val = int(len(encoder_input)*0.2)\n",
    "print('테스트 데이터의 수 :', n_of_val)"
   ]
  },
  {
   "cell_type": "code",
   "execution_count": 27,
   "metadata": {},
   "outputs": [
    {
     "name": "stdout",
     "output_type": "stream",
     "text": [
      "훈련 데이터의 개수 :  60612\n",
      "훈련 레이블의 개수 :  60612\n",
      "테스트 데이터의 개수 :  15153\n",
      "테스트 데이터의 개수 :  15153\n"
     ]
    }
   ],
   "source": [
    "# 테스트 데이터의 갯수를 이용해 전체 데이터를 양분해줌\n",
    "\n",
    "encoder_input_train = encoder_input[:-n_of_val] # 뒤로 n_of_val개 빼고 나머지\n",
    "decoder_input_train = decoder_input[:-n_of_val] \n",
    "decoder_target_train = decoder_target[:-n_of_val]\n",
    "\n",
    "encoder_input_test = encoder_input[-n_of_val:] # 앞에 n_of_val개 빼고 나머지\n",
    "decoder_input_test = decoder_input[-n_of_val:]\n",
    "decoder_target_test = decoder_target[-n_of_val:]\n",
    "\n",
    "print('훈련 데이터의 개수 : ', len(encoder_input_train))\n",
    "print('훈련 레이블의 개수 : ', len(decoder_input_train))\n",
    "print('테스트 데이터의 개수 : ', len(encoder_input_test))\n",
    "print('테스트 데이터의 개수 : ', len(decoder_input_test))"
   ]
  },
  {
   "cell_type": "markdown",
   "metadata": {},
   "source": [
    "단어 집합 만들기 & 정수 인코딩"
   ]
  },
  {
   "cell_type": "code",
   "execution_count": 28,
   "metadata": {},
   "outputs": [],
   "source": [
    "src_tokenizer = Tokenizer()    # 토크나이저 생성 - 입력된 훈련 데이터로부터 단어집합 생성 가능하게 해줌\n",
    "src_tokenizer.fit_on_texts(encoder_input_train)       # 입력된 데이터로부터 단어 집합 생성"
   ]
  },
  {
   "cell_type": "code",
   "execution_count": null,
   "metadata": {},
   "outputs": [],
   "source": [
    "# 단어집합이 생성되었고, 각 단어에 고유한 정수가 부여됨. \n",
    "# 빈도수 낮은 단어들은 훈련데이터에서 제거"
   ]
  },
  {
   "cell_type": "code",
   "execution_count": 29,
   "metadata": {},
   "outputs": [
    {
     "name": "stdout",
     "output_type": "stream",
     "text": [
      "단어 집합의 크기 :  60383\n",
      "등장 빈도가 7번 이하인 희귀 단어의 수: 42621\n",
      "단어 집합에서 희귀 단어를 제외시킬 경우의 단어 집합의 크기: 17762\n",
      "단어 집합에서 희귀 단어의 비율: 70.58443601675968\n",
      "전체 등장 빈도에서 희귀 단어 등장 빈도 비율: 4.540108519025879\n"
     ]
    }
   ],
   "source": [
    "threshold = 8\n",
    "total_count = len(src_tokenizer.word_index)      # 단어의 수\n",
    "rare_count = 0             # 등장 빈도수가 threshold보다 작은 단어의 개수를 count\n",
    "total_freq = 0             # 훈련 데이터의 전체 단어 빈도수 총 합\n",
    "rare_freq = 0              # 등장 빈도수가 threshold보다 작은 단어의 등장 빈도수 총 합\n",
    "\n",
    "# 단어와 빈도수의 쌍(pair)을 key와 value로 받음.\n",
    "for key, value in src_tokenizer.word_counts.items():\n",
    "    total_freq = total_freq + value\n",
    "    \n",
    "    # 단어의 등장 빈도수가 threshold보다 작으면\n",
    "    if (value < threshold) :\n",
    "        rare_count = rare_count + 1\n",
    "        rare_freq = rare_freq + value\n",
    "        \n",
    "print('단어 집합의 크기 : ', total_count)\n",
    "print('등장 빈도가 %s번 이하인 희귀 단어의 수: %s'%(threshold - 1, rare_count))\n",
    "print('단어 집합에서 희귀 단어를 제외시킬 경우의 단어 집합의 크기: %s'%(total_count - rare_count))\n",
    "print(\"단어 집합에서 희귀 단어의 비율:\", (rare_count / total_count)*100)\n",
    "print(\"전체 등장 빈도에서 희귀 단어 등장 빈도 비율:\", (rare_freq / total_freq)*100)"
   ]
  },
  {
   "cell_type": "code",
   "execution_count": 31,
   "metadata": {},
   "outputs": [],
   "source": [
    "src_vocab = 17500\n",
    "src_tokenizer = Tokenizer(num_words = src_vocab) # 단어 집합의 크기를 17,000으로 제한\n",
    "src_tokenizer.fit_on_texts(encoder_input_train) # 단어 집합 재생성."
   ]
  },
  {
   "cell_type": "code",
   "execution_count": 32,
   "metadata": {},
   "outputs": [
    {
     "name": "stdout",
     "output_type": "stream",
     "text": [
      "[[31, 28, 4578, 1246, 10486, 1711, 76, 130, 52, 8391, 30, 1004, 62, 2140, 647, 12, 1179, 620, 1403, 1403, 2710, 16657, 647, 1432, 1955, 5, 30, 6132, 1238, 117, 6932, 1356], [78, 143, 74, 7060, 5557, 696, 505, 352, 480, 1, 9, 1066, 2911, 9007, 1712, 3166, 327, 2911, 10487, 1432, 394, 9008, 93, 2911, 5165, 893, 567, 9, 2, 1, 4, 1936, 257, 186, 1438, 440, 1936], [70, 7196, 827, 9647, 1, 3527, 992, 2931, 5416, 11, 633, 117, 131, 362, 177, 7196, 2, 1379, 3495, 2116, 623, 2129, 1, 608, 1059, 1850, 131, 8045]]\n"
     ]
    }
   ],
   "source": [
    "# 텍스트 시퀀스를 정수 시퀀스로 변환\n",
    "encoder_input_train = src_tokenizer.texts_to_sequences(encoder_input_train)\n",
    "encoder_input_test = src_tokenizer.texts_to_sequences(encoder_input_test)\n",
    "\n",
    "# 잘 진행되었는지 샘플 출력\n",
    "print(encoder_input_train[:3])"
   ]
  },
  {
   "cell_type": "code",
   "execution_count": 33,
   "metadata": {},
   "outputs": [],
   "source": [
    "# headlines 에도 동일한 작업해주기\n",
    "tar_tokenizer = Tokenizer()\n",
    "tar_tokenizer.fit_on_texts(decoder_input_train)"
   ]
  },
  {
   "cell_type": "code",
   "execution_count": 37,
   "metadata": {},
   "outputs": [
    {
     "name": "stdout",
     "output_type": "stream",
     "text": [
      "단어 집합의 크기 :  27069\n",
      "등장 빈도가 6번 이하인 희귀 단어의 수: 18846\n",
      "단어 집합에서 희귀 단어를 제외시킬 경우의 단어 집합의 크기: 8223\n",
      "단어 집합에서 희귀 단어의 비율: 69.6220769145517\n",
      "전체 등장 빈도에서 희귀 단어 등장 빈도 비율: 6.415769208216876\n"
     ]
    }
   ],
   "source": [
    "threshold = 7\n",
    "total_count = len(tar_tokenizer.word_index)      # 단어의 수\n",
    "rare_count = 0             # 등장 빈도수가 threshold보다 작은 단어의 개수를 count\n",
    "total_freq = 0             # 훈련 데이터의 전체 단어 빈도수 총 합\n",
    "rare_freq = 0              # 등장 빈도수가 threshold보다 작은 단어의 등장 빈도수 총 합\n",
    "\n",
    "# 단어와 빈도수의 쌍(pair)을 key와 value로 받음.\n",
    "for key, value in tar_tokenizer.word_counts.items():\n",
    "    total_freq = total_freq + value\n",
    "    \n",
    "    # 단어의 등장 빈도수가 threshold보다 작으면\n",
    "    if (value < threshold) :\n",
    "        rare_count = rare_count + 1\n",
    "        rare_freq = rare_freq + value\n",
    "        \n",
    "print('단어 집합의 크기 : ', total_count)\n",
    "print('등장 빈도가 %s번 이하인 희귀 단어의 수: %s'%(threshold - 1, rare_count))\n",
    "print('단어 집합에서 희귀 단어를 제외시킬 경우의 단어 집합의 크기: %s'%(total_count - rare_count))\n",
    "print(\"단어 집합에서 희귀 단어의 비율:\", (rare_count / total_count)*100)\n",
    "print(\"전체 등장 빈도에서 희귀 단어 등장 빈도 비율:\", (rare_freq / total_freq)*100)"
   ]
  },
  {
   "cell_type": "code",
   "execution_count": 38,
   "metadata": {},
   "outputs": [],
   "source": [
    "tar_vocab = 8000\n",
    "tar_tokenizer = Tokenizer(num_words = tar_vocab) \n",
    "tar_tokenizer.fit_on_texts(decoder_input_train)\n",
    "tar_tokenizer.fit_on_texts(decoder_target_train)"
   ]
  },
  {
   "cell_type": "code",
   "execution_count": 39,
   "metadata": {},
   "outputs": [
    {
     "name": "stdout",
     "output_type": "stream",
     "text": [
      "input\n",
      "input  [[1, 2567, 168, 6521, 3376, 6522, 19, 5, 3377, 396], [1, 330, 215, 75, 2285, 2226, 7, 7554, 26, 48], [1, 185, 11, 71, 246, 5, 229, 4540, 7, 2057, 3618, 1770], [1, 185, 11, 908, 51, 5, 159, 19, 43, 4196, 7025], [1, 1671, 5, 7555, 4, 1044, 3514, 34]]\n",
      "target\n",
      "decoder  [[2567, 168, 6521, 3376, 6522, 19, 5, 3377, 396, 2], [330, 215, 75, 2285, 2226, 7, 7554, 26, 48, 2], [185, 11, 71, 246, 5, 229, 4540, 7, 2057, 3618, 1770, 2], [185, 11, 908, 51, 5, 159, 19, 43, 4196, 7025, 2], [1671, 5, 7555, 4, 1044, 3514, 34, 2]]\n"
     ]
    }
   ],
   "source": [
    "# 텍스트 시퀀스를 정수 시퀀스로 변환\n",
    "decoder_input_train = tar_tokenizer.texts_to_sequences(decoder_input_train) \n",
    "decoder_target_train = tar_tokenizer.texts_to_sequences(decoder_target_train)\n",
    "decoder_input_test = tar_tokenizer.texts_to_sequences(decoder_input_test)\n",
    "decoder_target_test = tar_tokenizer.texts_to_sequences(decoder_target_test)\n",
    "\n",
    "#잘 변환되었는지 확인\n",
    "print('input')\n",
    "print('input ',decoder_input_train[:5])\n",
    "print('target')\n",
    "print('decoder ',decoder_target_train[:5])"
   ]
  },
  {
   "cell_type": "code",
   "execution_count": 40,
   "metadata": {},
   "outputs": [
    {
     "name": "stdout",
     "output_type": "stream",
     "text": [
      "삭제할 훈련 데이터의 개수 : 0\n",
      "삭제할 테스트 데이터의 개수 : 0\n",
      "훈련 데이터의 개수 : 60612\n",
      "훈련 레이블의 개수 : 60612\n",
      "테스트 데이터의 개수 : 15153\n",
      "테스트 레이블의 개수 : 15153\n"
     ]
    },
    {
     "name": "stderr",
     "output_type": "stream",
     "text": [
      "/home/ssac18/anaconda3/envs/aiffel/lib/python3.7/site-packages/numpy/core/_asarray.py:83: VisibleDeprecationWarning: Creating an ndarray from ragged nested sequences (which is a list-or-tuple of lists-or-tuples-or ndarrays with different lengths or shapes) is deprecated. If you meant to do this, you must specify 'dtype=object' when creating the ndarray\n",
      "  return array(a, dtype, copy=False, order=order)\n"
     ]
    }
   ],
   "source": [
    "# headline의 길이가 1인 경우(실제로는 길이가 0)의 인덱스를 저장해보자\n",
    "drop_train = [index for index, sentence in enumerate(decoder_input_train) if len(sentence) == 1]\n",
    "drop_test = [index for index, sentence in enumerate(decoder_input_test) if len(sentence) == 1]\n",
    "\n",
    "print('삭제할 훈련 데이터의 개수 :',len(drop_train))\n",
    "print('삭제할 테스트 데이터의 개수 :',len(drop_test))\n",
    "\n",
    "encoder_input_train = np.delete(encoder_input_train, drop_train, axis=0)\n",
    "decoder_input_train = np.delete(decoder_input_train, drop_train, axis=0)\n",
    "decoder_target_train = np.delete(decoder_target_train, drop_train, axis=0)\n",
    "\n",
    "encoder_input_test = np.delete(encoder_input_test, drop_test, axis=0)\n",
    "decoder_input_test = np.delete(decoder_input_test, drop_test, axis=0)\n",
    "decoder_target_test = np.delete(decoder_target_test, drop_test, axis=0)\n",
    "\n",
    "print('훈련 데이터의 개수 :', len(encoder_input_train))\n",
    "print('훈련 레이블의 개수 :',len(decoder_input_train))\n",
    "print('테스트 데이터의 개수 :',len(encoder_input_test))\n",
    "print('테스트 레이블의 개수 :',len(decoder_input_test))"
   ]
  },
  {
   "cell_type": "code",
   "execution_count": 42,
   "metadata": {},
   "outputs": [],
   "source": [
    "# post padding. 뒤의 공간에 숫자 0을 넣어준다\n",
    "# 아까 지정해주었던 최대 길이로 패딩.\n",
    "encoder_input_train = pad_sequences(encoder_input_train, maxlen = text_max_len, padding='post')\n",
    "encoder_input_test = pad_sequences(encoder_input_test, maxlen = text_max_len, padding='post')\n",
    "decoder_input_train = pad_sequences(decoder_input_train, maxlen = headline_max_len, padding='post')\n",
    "decoder_target_train = pad_sequences(decoder_target_train, maxlen = headline_max_len, padding='post')\n",
    "decoder_input_test = pad_sequences(decoder_input_test, maxlen = headline_max_len, padding='post')\n",
    "decoder_target_test = pad_sequences(decoder_target_test, maxlen = headline_max_len, padding='post')"
   ]
  },
  {
   "cell_type": "code",
   "execution_count": null,
   "metadata": {},
   "outputs": [],
   "source": []
  },
  {
   "cell_type": "markdown",
   "metadata": {},
   "source": [
    "## 3. Attention 메커니즘 사용하기"
   ]
  },
  {
   "cell_type": "code",
   "execution_count": 43,
   "metadata": {},
   "outputs": [
    {
     "name": "stdout",
     "output_type": "stream",
     "text": [
      "WARNING:tensorflow:Layer lstm will not use cuDNN kernel since it doesn't meet the cuDNN kernel criteria. It will use generic GPU kernel as fallback when running on GPU\n",
      "WARNING:tensorflow:Layer lstm_1 will not use cuDNN kernel since it doesn't meet the cuDNN kernel criteria. It will use generic GPU kernel as fallback when running on GPU\n",
      "WARNING:tensorflow:Layer lstm_2 will not use cuDNN kernel since it doesn't meet the cuDNN kernel criteria. It will use generic GPU kernel as fallback when running on GPU\n"
     ]
    }
   ],
   "source": [
    "from tensorflow.keras.layers import Input, LSTM, Embedding, Dense, Concatenate\n",
    "from tensorflow.keras.models import Model\n",
    "from tensorflow.keras.callbacks import EarlyStopping, ModelCheckpoint\n",
    "\n",
    "# 인코더 설계 시작\n",
    "embedding_dim = 128\n",
    "hidden_size = 256\n",
    "\n",
    "# 인코더\n",
    "encoder_inputs = Input(shape=(text_max_len,))\n",
    "\n",
    "# 인코더의 임베딩 층\n",
    "enc_emb = Embedding(src_vocab, embedding_dim)(encoder_inputs)\n",
    "\n",
    "# 인코더의 LSTM 1\n",
    "encoder_lstm1 = LSTM(hidden_size, return_sequences=True, return_state=True, dropout=0.4, recurrent_dropout = 0.4 )\n",
    "encoder_output1, state_h1, state_c1 = encoder_lstm1(enc_emb) \n",
    "\n",
    "# 인코더의 LSTM 2\n",
    "encoder_lstm2 = LSTM(hidden_size, return_sequences=True, return_state=True, dropout=0.4, recurrent_dropout=0.4)\n",
    "encoder_output2, state_h2, state_c2 = encoder_lstm2(encoder_output1)\n",
    "\n",
    "# 인코더의 LSTM 3\n",
    "encoder_lstm3 = LSTM(hidden_size, return_state=True, return_sequences=True, dropout=0.4, recurrent_dropout=0.4)\n",
    "encoder_outputs, state_h, state_c= encoder_lstm3(encoder_output2)"
   ]
  },
  {
   "cell_type": "code",
   "execution_count": 44,
   "metadata": {},
   "outputs": [
    {
     "name": "stdout",
     "output_type": "stream",
     "text": [
      "WARNING:tensorflow:Layer lstm_3 will not use cuDNN kernel since it doesn't meet the cuDNN kernel criteria. It will use generic GPU kernel as fallback when running on GPU\n"
     ]
    }
   ],
   "source": [
    "# 디코더 설계\n",
    "\n",
    "decoder_inputs = Input(shape=(None,))\n",
    "\n",
    "# 디코더의 임베딩 층\n",
    "dec_emb_layer = Embedding(tar_vocab, embedding_dim)\n",
    "dec_emb = dec_emb_layer(decoder_inputs)\n",
    "\n",
    "# 디코더의 LSTM\n",
    "decoder_lstm = LSTM(hidden_size, return_sequences = True, return_state = True, dropout = 0.4, recurrent_dropout=0.2)\n",
    "decoder_outputs, _, _ = decoder_lstm(dec_emb, initial_state = [state_h, state_c])"
   ]
  },
  {
   "cell_type": "code",
   "execution_count": 45,
   "metadata": {},
   "outputs": [
    {
     "name": "stdout",
     "output_type": "stream",
     "text": [
      "Model: \"model\"\n",
      "__________________________________________________________________________________________________\n",
      "Layer (type)                    Output Shape         Param #     Connected to                     \n",
      "==================================================================================================\n",
      "input_1 (InputLayer)            [(None, 38)]         0                                            \n",
      "__________________________________________________________________________________________________\n",
      "embedding (Embedding)           (None, 38, 128)      2240000     input_1[0][0]                    \n",
      "__________________________________________________________________________________________________\n",
      "lstm (LSTM)                     [(None, 38, 256), (N 394240      embedding[0][0]                  \n",
      "__________________________________________________________________________________________________\n",
      "input_2 (InputLayer)            [(None, None)]       0                                            \n",
      "__________________________________________________________________________________________________\n",
      "lstm_1 (LSTM)                   [(None, 38, 256), (N 525312      lstm[0][0]                       \n",
      "__________________________________________________________________________________________________\n",
      "embedding_1 (Embedding)         (None, None, 128)    1024000     input_2[0][0]                    \n",
      "__________________________________________________________________________________________________\n",
      "lstm_2 (LSTM)                   [(None, 38, 256), (N 525312      lstm_1[0][0]                     \n",
      "__________________________________________________________________________________________________\n",
      "lstm_3 (LSTM)                   [(None, None, 256),  394240      embedding_1[0][0]                \n",
      "                                                                 lstm_2[0][1]                     \n",
      "                                                                 lstm_2[0][2]                     \n",
      "__________________________________________________________________________________________________\n",
      "dense (Dense)                   (None, None, 8000)   2056000     lstm_3[0][0]                     \n",
      "==================================================================================================\n",
      "Total params: 7,159,104\n",
      "Trainable params: 7,159,104\n",
      "Non-trainable params: 0\n",
      "__________________________________________________________________________________________________\n"
     ]
    }
   ],
   "source": [
    "# 디코더의 출력층\n",
    "decoder_softmax_layer = Dense(tar_vocab, activation = 'softmax')\n",
    "decoder_softmax_outputs = decoder_softmax_layer(decoder_outputs) \n",
    "\n",
    "# 모델 정의\n",
    "model = Model([encoder_inputs, decoder_inputs], decoder_softmax_outputs)\n",
    "model.summary()"
   ]
  },
  {
   "cell_type": "code",
   "execution_count": 46,
   "metadata": {},
   "outputs": [],
   "source": [
    "# 어텐션 함수 다운로드\n",
    "urllib.request.urlretrieve(\"https://raw.githubusercontent.com/thushv89/attention_keras/master/src/layers/attention.py\", filename=\"attention.py\")\n",
    "from attention import AttentionLayer"
   ]
  },
  {
   "cell_type": "code",
   "execution_count": 47,
   "metadata": {},
   "outputs": [
    {
     "name": "stdout",
     "output_type": "stream",
     "text": [
      "Model: \"model_1\"\n",
      "__________________________________________________________________________________________________\n",
      "Layer (type)                    Output Shape         Param #     Connected to                     \n",
      "==================================================================================================\n",
      "input_1 (InputLayer)            [(None, 38)]         0                                            \n",
      "__________________________________________________________________________________________________\n",
      "embedding (Embedding)           (None, 38, 128)      2240000     input_1[0][0]                    \n",
      "__________________________________________________________________________________________________\n",
      "lstm (LSTM)                     [(None, 38, 256), (N 394240      embedding[0][0]                  \n",
      "__________________________________________________________________________________________________\n",
      "input_2 (InputLayer)            [(None, None)]       0                                            \n",
      "__________________________________________________________________________________________________\n",
      "lstm_1 (LSTM)                   [(None, 38, 256), (N 525312      lstm[0][0]                       \n",
      "__________________________________________________________________________________________________\n",
      "embedding_1 (Embedding)         (None, None, 128)    1024000     input_2[0][0]                    \n",
      "__________________________________________________________________________________________________\n",
      "lstm_2 (LSTM)                   [(None, 38, 256), (N 525312      lstm_1[0][0]                     \n",
      "__________________________________________________________________________________________________\n",
      "lstm_3 (LSTM)                   [(None, None, 256),  394240      embedding_1[0][0]                \n",
      "                                                                 lstm_2[0][1]                     \n",
      "                                                                 lstm_2[0][2]                     \n",
      "__________________________________________________________________________________________________\n",
      "attention_layer (AttentionLayer ((None, None, 256),  131328      lstm_2[0][0]                     \n",
      "                                                                 lstm_3[0][0]                     \n",
      "__________________________________________________________________________________________________\n",
      "concat_layer (Concatenate)      (None, None, 512)    0           lstm_3[0][0]                     \n",
      "                                                                 attention_layer[0][0]            \n",
      "__________________________________________________________________________________________________\n",
      "dense_1 (Dense)                 (None, None, 8000)   4104000     concat_layer[0][0]               \n",
      "==================================================================================================\n",
      "Total params: 9,338,432\n",
      "Trainable params: 9,338,432\n",
      "Non-trainable params: 0\n",
      "__________________________________________________________________________________________________\n"
     ]
    }
   ],
   "source": [
    "# 어텐션 층(어텐션 함수)\n",
    "attn_layer = AttentionLayer(name='attention_layer')\n",
    "# 인코더와 디코더의 모든 time step의 hidden state를 어텐션 층에 전달하고 결과를 리턴\n",
    "attn_out, attn_states = attn_layer([encoder_outputs, decoder_outputs])\n",
    "\n",
    "# 어텐션의 결과와 디코더의 hidden state들을 연결\n",
    "decoder_concat_input = Concatenate(axis = -1, name='concat_layer')([decoder_outputs, attn_out])\n",
    "\n",
    "# 디코더의 출력층\n",
    "decoder_softmax_layer = Dense(tar_vocab, activation='softmax')\n",
    "decoder_softmax_outputs = decoder_softmax_layer(decoder_concat_input)\n",
    "\n",
    "# 모델 정의\n",
    "model = Model([encoder_inputs, decoder_inputs], decoder_softmax_outputs)\n",
    "model.summary()"
   ]
  },
  {
   "cell_type": "code",
   "execution_count": 48,
   "metadata": {},
   "outputs": [
    {
     "name": "stdout",
     "output_type": "stream",
     "text": [
      "Epoch 1/50\n",
      "237/237 [==============================] - 67s 284ms/step - loss: 5.8782 - val_loss: 5.4443\n",
      "Epoch 2/50\n",
      "237/237 [==============================] - 67s 282ms/step - loss: 5.3298 - val_loss: 5.1138\n",
      "Epoch 3/50\n",
      "237/237 [==============================] - 67s 284ms/step - loss: 5.0014 - val_loss: 4.8227\n",
      "Epoch 4/50\n",
      "237/237 [==============================] - 67s 284ms/step - loss: 4.7245 - val_loss: 4.6276\n",
      "Epoch 5/50\n",
      "237/237 [==============================] - 67s 283ms/step - loss: 4.5095 - val_loss: 4.4875\n",
      "Epoch 6/50\n",
      "237/237 [==============================] - 67s 283ms/step - loss: 4.3344 - val_loss: 4.3781\n",
      "Epoch 7/50\n",
      "237/237 [==============================] - 67s 283ms/step - loss: 4.1802 - val_loss: 4.2825\n",
      "Epoch 8/50\n",
      "237/237 [==============================] - 67s 282ms/step - loss: 4.0433 - val_loss: 4.1980\n",
      "Epoch 9/50\n",
      "237/237 [==============================] - 67s 282ms/step - loss: 3.9190 - val_loss: 4.1453\n",
      "Epoch 10/50\n",
      "237/237 [==============================] - 67s 284ms/step - loss: 3.8119 - val_loss: 4.0760\n",
      "Epoch 11/50\n",
      "237/237 [==============================] - 67s 283ms/step - loss: 3.7098 - val_loss: 4.0350\n",
      "Epoch 12/50\n",
      "237/237 [==============================] - 67s 283ms/step - loss: 3.6199 - val_loss: 3.9973\n",
      "Epoch 13/50\n",
      "237/237 [==============================] - 67s 283ms/step - loss: 3.5355 - val_loss: 3.9634\n",
      "Epoch 14/50\n",
      "237/237 [==============================] - 67s 282ms/step - loss: 3.4589 - val_loss: 3.9356\n",
      "Epoch 15/50\n",
      "237/237 [==============================] - 67s 282ms/step - loss: 3.3851 - val_loss: 3.9100\n",
      "Epoch 16/50\n",
      "237/237 [==============================] - 67s 282ms/step - loss: 3.3200 - val_loss: 3.8937\n",
      "Epoch 17/50\n",
      "237/237 [==============================] - 67s 283ms/step - loss: 3.2578 - val_loss: 3.8812\n",
      "Epoch 18/50\n",
      "237/237 [==============================] - 67s 283ms/step - loss: 3.1986 - val_loss: 3.8604\n",
      "Epoch 19/50\n",
      "237/237 [==============================] - 67s 283ms/step - loss: 3.1392 - val_loss: 3.8518\n",
      "Epoch 20/50\n",
      "237/237 [==============================] - 67s 282ms/step - loss: 3.0875 - val_loss: 3.8365\n",
      "Epoch 21/50\n",
      "237/237 [==============================] - 67s 283ms/step - loss: 3.0348 - val_loss: 3.8479\n",
      "Epoch 22/50\n",
      "237/237 [==============================] - 67s 283ms/step - loss: 2.9860 - val_loss: 3.8348\n",
      "Epoch 23/50\n",
      "237/237 [==============================] - 67s 283ms/step - loss: 2.9421 - val_loss: 3.8252\n",
      "Epoch 24/50\n",
      "237/237 [==============================] - 67s 283ms/step - loss: 2.9001 - val_loss: 3.8188\n",
      "Epoch 25/50\n",
      "237/237 [==============================] - 67s 283ms/step - loss: 2.8598 - val_loss: 3.8165\n",
      "Epoch 26/50\n",
      "237/237 [==============================] - 67s 283ms/step - loss: 2.8233 - val_loss: 3.8183\n",
      "Epoch 27/50\n",
      "237/237 [==============================] - 67s 283ms/step - loss: 2.7873 - val_loss: 3.8148\n",
      "Epoch 28/50\n",
      "237/237 [==============================] - 67s 283ms/step - loss: 2.7511 - val_loss: 3.8166\n",
      "Epoch 29/50\n",
      "237/237 [==============================] - 67s 282ms/step - loss: 2.7170 - val_loss: 3.8261\n",
      "Epoch 00029: early stopping\n"
     ]
    }
   ],
   "source": [
    "model.compile(optimizer='rmsprop', loss='sparse_categorical_crossentropy')\n",
    "es = EarlyStopping(monitor='val_loss', mode='min', verbose=1, patience = 2)\n",
    "history = model.fit(x = [encoder_input_train, decoder_input_train], y = decoder_target_train, \\\n",
    "          validation_data = ([encoder_input_test, decoder_input_test], decoder_target_test),\n",
    "          batch_size = 256, callbacks=[es], epochs = 50)"
   ]
  },
  {
   "cell_type": "code",
   "execution_count": 49,
   "metadata": {},
   "outputs": [
    {
     "data": {
      "image/png": "[encoded data removed]",
      "text/plain": [
       "<Figure size 432x288 with 1 Axes>"
      ]
     },
     "metadata": {
      "needs_background": "light"
     },
     "output_type": "display_data"
    }
   ],
   "source": [
    "# train, test loss \n",
    "plt.plot(history.history['loss'], label='train')\n",
    "plt.plot(history.history['val_loss'], label='test')\n",
    "plt.legend()\n",
    "plt.show()"
   ]
  },
  {
   "cell_type": "code",
   "execution_count": 50,
   "metadata": {},
   "outputs": [],
   "source": [
    "# 정수 인덱스로 되어있던 텍스트 데이터를 실제 데이터로 복원하기\n",
    "\n",
    "src_index_to_word = src_tokenizer.index_word    # 원문 단어 집합에서 정수 -> 단어를 얻음\n",
    "tar_word_to_index = tar_tokenizer.word_index    # 요약 단어 집합에서 단어 -> 정수를 얻음\n",
    "tar_index_to_word = tar_tokenizer.index_word    # 요약 던어 집합에서 정수 -> 단어를 얻음"
   ]
  },
  {
   "cell_type": "code",
   "execution_count": 51,
   "metadata": {},
   "outputs": [],
   "source": [
    "# 인퍼런스 단계에서는 인코더 모델과 디코더 모델 분리해서 설계\n",
    "\n",
    "# 인코더 설계\n",
    "encoder_model = Model(inputs=encoder_inputs, outputs=[encoder_outputs, state_h, state_c])\n",
    "\n",
    "# 이전 시점의 상태들을 저장하는 텐서\n",
    "decoder_state_input_h = Input(shape=(hidden_size,))\n",
    "decoder_state_input_c = Input(shape=(hidden_size,))\n",
    "\n",
    "dec_emb2 = dec_emb_layer(decoder_inputs)\n",
    "# 문장의 다음 단어를 예측하기 위해 초기 상태를 이전 시점 상태로 사용. 이는 뒤의 함수 decode_sequence()에 구현\n",
    "# 훈련과정과 달리 LSTM의 리턴하는 은닉 상태와 셀 상태인 state_h, state_c 를 버리지 않음\n",
    "decoder_outputs2, state_h2, state_c2 = decoder_lstm(dec_emb2, initial_state=[decoder_state_input_h, decoder_state_input_c])\n"
   ]
  },
  {
   "cell_type": "code",
   "execution_count": 52,
   "metadata": {},
   "outputs": [],
   "source": [
    "# 어텐션 함수\n",
    "decoder_hidden_state_input = Input(shape=(text_max_len, hidden_size))\n",
    "attn_out_inf, attn_states_inf = attn_layer([decoder_hidden_state_input, decoder_outputs2])\n",
    "decoder_inf_concat = Concatenate(axis=-1, name='concat')([decoder_outputs2, attn_out_inf])\n",
    "\n",
    "# 디코더의 출력층\n",
    "decoder_outputs2 = decoder_softmax_layer(decoder_inf_concat)\n",
    "\n",
    "# 최종 디코더 모델\n",
    "decoder_model = Model([decoder_inputs] + [decoder_hidden_state_input,decoder_state_input_h, decoder_state_input_c],\n",
    "    [decoder_outputs2] + [state_h2, state_c2])"
   ]
  },
  {
   "cell_type": "code",
   "execution_count": 53,
   "metadata": {},
   "outputs": [],
   "source": [
    "def decode_sequence(input_seq):\n",
    "    # 입력으로부터 인코더의 상태를 얻음\n",
    "    e_out, e_h, e_c = encoder_model.predict(input_seq)\n",
    "\n",
    "     # <SOS>에 해당하는 토큰 생성\n",
    "    target_seq = np.zeros((1,1))\n",
    "    target_seq[0, 0] = tar_word_to_index['sostoken']\n",
    "\n",
    "    stop_condition = False\n",
    "    decoded_sentence = ''\n",
    "    while not stop_condition: # stop_condition이 True가 될 때까지 루프 반복\n",
    "\n",
    "        output_tokens, h, c = decoder_model.predict([target_seq] + [e_out, e_h, e_c])\n",
    "        sampled_token_index = np.argmax(output_tokens[0, -1, :])\n",
    "        sampled_token = tar_index_to_word[sampled_token_index]\n",
    "\n",
    "        if(sampled_token!='eostoken'):\n",
    "            decoded_sentence += ' '+sampled_token\n",
    "\n",
    "        #  <eos>에 도달하거나 최대 길이를 넘으면 중단.\n",
    "        if (sampled_token == 'eostoken'  or len(decoded_sentence.split()) >= (headline_max_len-1)):\n",
    "            stop_condition = True\n",
    "\n",
    "        # 길이가 1인 타겟 시퀀스를 업데이트\n",
    "        target_seq = np.zeros((1,1))\n",
    "        target_seq[0, 0] = sampled_token_index\n",
    "\n",
    "        # 상태를 업데이트 합니다.\n",
    "        e_h, e_c = h, c\n",
    "\n",
    "    return decoded_sentence"
   ]
  },
  {
   "cell_type": "code",
   "execution_count": null,
   "metadata": {},
   "outputs": [],
   "source": []
  },
  {
   "cell_type": "markdown",
   "metadata": {},
   "source": [
    "## 4. 실제 결과와 요약문 비교하기 (추상적 요약)"
   ]
  },
  {
   "cell_type": "code",
   "execution_count": 54,
   "metadata": {},
   "outputs": [],
   "source": [
    "# 원문의 정수 시퀀스를 텍스트 시퀀스로 변환\n",
    "def seq2text(input_seq):\n",
    "    temp=''\n",
    "    for i in input_seq:\n",
    "        if(i!=0):\n",
    "            temp = temp + src_index_to_word[i]+' '\n",
    "    return temp\n",
    "\n",
    "# 요약문의 정수 시퀀스를 텍스트 시퀀스로 변환\n",
    "def seq2summary(input_seq):\n",
    "    temp=''\n",
    "    for i in input_seq:\n",
    "        if((i!=0 and i!=tar_word_to_index['sostoken']) and i!=tar_word_to_index['eostoken']):\n",
    "            temp = temp + tar_index_to_word[i] + ' '\n",
    "    return temp"
   ]
  },
  {
   "cell_type": "code",
   "execution_count": 55,
   "metadata": {
    "collapsed": true
   },
   "outputs": [
    {
     "name": "stdout",
     "output_type": "stream",
     "text": [
      "원문 : centre reportedly released crore several projects andhra pradesh amid ongoing political row funds state alleging centre failed allocate funds promised separation andhra pradesh telangana telugu desam party earlier threatened exit nda alliance \n",
      "실제 요약 : centre releases crore for andhra projects amid row \n",
      "예측 요약 :  govt sanctions crore for crore in andhra pradesh\n",
      "\n",
      "\n",
      "원문 : fear without mobile phone known short mobile phone people suffer often feel run battery balance lose phone network coverage term reportedly first identified \n",
      "실제 요약 : fear of being without mobile phone is called \n",
      "예측 요약 :  device to launch phone in smartphones\n",
      "\n",
      "\n",
      "원문 : female superintendent police tamil nadu filed complaint claiming inspector general rank officer sexually harassing last seven months claimed watched porn front tried hugging kept calling odd hours despite repeated objections also said requests transfer rejected \n",
      "실제 요약 : tamil nadu woman sp accuses level officer of sexual harassment \n",
      "예측 요약 :  tn police booked for sexually abusing female student\n",
      "\n",
      "\n",
      "원문 : uber co founder former ceo travis kalanick monday said disappointed benchmark hostile actions response lawsuit filed uber investor benchmark accusing fraud benchmark actions clearly best interests uber employees whose behalf claim acting added kalanick \n",
      "실제 요약 : am ex uber ceo on being sued by investor \n",
      "예측 요약 :  uber ceo resigns after being made\n",
      "\n",
      "\n",
      "원문 : producer harvey weinstein refused pay defence lawsuits alleging sexual assault five insurance companies asked new york supreme court judge obligation assist hollywood producer argued harvey policies cover alleged misconduct intentional acts nnn \n",
      "실제 요약 : harvey refuse to pay for his sexual assault cases \n",
      "예측 요약 :  weinstein files sexual assault case against sexual misconduct\n",
      "\n",
      "\n",
      "원문 : enforcement directorate attached assets worth crore owned global directors prevention money laundering act alleged assets proceeds illegal money laundering cbi registered case owner vikram kothari son allegedly siphoning loans worth crore \n",
      "실제 요약 : assets worth cr in bank fraud case \n",
      "예측 요약 :  ed attaches assets worth cr in assets laundering case\n",
      "\n",
      "\n",
      "원문 : aircraft built microsoft co founder paul allen launch rockets space world biggest aircraft wingspan feet wooden built second biggest aircraft feet wingspan european aircraft maker airbus double decker aircraft world third biggest feet wingspan \n",
      "실제 요약 : which are the biggest aircraft in the world \n",
      "예측 요약 :  startup makes largest aircraft with aircraft near world\n",
      "\n",
      "\n",
      "원문 : idea cellular managing director himanshu said merged idea vodafone entity price sector continue focus profitability focus merged entity bring overall costs added said company losses also narrowed proposed merger \n",
      "실제 요약 : idea vodafone entity will not be price md \n",
      "예측 요약 :  vodafone idea will not impact gst rate idea chairman\n",
      "\n",
      "\n",
      "원문 : china deployed yuan class conventional diesel electric submarine indian ocean region seventh submarine deployed region according indian navy chinese warships submarines region appeared moreover also spy ship deployed picks electronic signals returned beijing analysis \n",
      "실제 요약 : china deploys submarine in indian ocean amid standoff \n",
      "예측 요약 :  china china road road for china ocean\n",
      "\n",
      "\n",
      "원문 : kangana ranaut sister rangoli chandel slammed aditya pancholi wife zarina denying kangana sought help abusive relationship pancholi shame women like evil like pancholi exist society rangoli tweeted wrote zarina also pleaded kangana go police \n",
      "실제 요약 : kangana sister rangoli slams pancholi wife \n",
      "예측 요약 :  rangoli slams pancholi for kangana remark on her remark\n",
      "\n",
      "\n",
      "원문 : italian mafia accused starting wildfires spread across volcano mount near mafia experts claimed fires either started burn waste illegal block construction work area flames destroyed hectares land caused hundreds tourists locals flee \n",
      "실제 요약 : italian mafia accused of setting volcano on fire \n",
      "예측 요약 :  nazi volcano found in indonesia\n",
      "\n",
      "\n",
      "원문 : man murdered year old daughter boyfriend finding talking uttar pradesh district monday man arrested murder reportedly told police killed couple save family honour reportedly knew daughter boyfriend fixed wedding someone else \n",
      "실제 요약 : up man kills daughter her boyfriend for family honour \n",
      "예측 요약 :  man kills sister for killing man who killed her friend\n",
      "\n",
      "\n",
      "원문 : sitaram yechury sunday unanimously elected general secretary cpi second term election approved party newly elected member central committee nd party congress hyderabad yechury taken general secretary prakash st party congress \n",
      "실제 요약 : yechury elected cpi general secy for second term \n",
      "예측 요약 :  former chief wins seat in telangana\n",
      "\n",
      "\n",
      "원문 : new explosive trace detectors delhi airport trace items passengers bags contact explosives past hours shaped like card swipe machines used random passengers increase security check area cisf said bags meaning need opened \n",
      "실제 요약 : new airport device tells if bag had explosives in last hrs \n",
      "예측 요약 :  canada to get new machines\n",
      "\n",
      "\n",
      "원문 : eighteen year old japanese swimmer became first woman athlete bag six gold medals single edition asian games said really hates losing think helped win added butterfly butterfly freestyle freestyle freestyle events \n",
      "실제 요약 : hate losing yr old after winning record at asiad \n",
      "예측 요약 :  yr old wins asiad gold at asiad\n",
      "\n",
      "\n",
      "원문 : delhi man stabbed wife multiple times kitchen knife crushed head gas cylinder monday allegedly extramarital affair crime took place man laws place staying witnessed children couple accused later surrendered police \n",
      "실제 요약 : man wife head with gas cylinder over an affair \n",
      "예측 요약 :  delhi man stabs wife for refusing to kidnap her\n",
      "\n",
      "\n",
      "원문 : facebook accused offering middle aged men friend suggestions teenage girls according report revealed teenagers signed social network offered suggestions adding friends cases suggestions include middle aged men topless profile pictures report added \n",
      "실제 요약 : fb suggests teen girls to middle aged men reports \n",
      "예측 요약 :  facebook employee fires women in women\n",
      "\n",
      "\n",
      "원문 : journalist asked virat kohli current indian team best indian side last years captain said believe best side kohli asked reporter think latter responded sure sure opinion thank kohli responded angrily \n",
      "실제 요약 : kohli gets angry at reporter on best indian side question \n",
      "예측 요약 :  kohli is an indian cricket kohli\n",
      "\n",
      "\n",
      "원문 : model former miss india earth kaur got married delhi based boyfriend amber rana traditional sikh ceremony official wedding ceremony began december mehendi cocktail function participated miss india pageant earlier shared pictures mehendi ceremony instagram \n",
      "실제 요약 : former miss india earth gets married to boyfriend amber rana \n",
      "예측 요약 :  ex boyfriend marries girlfriend marries ceremony\n",
      "\n",
      "\n",
      "원문 : arab nations including saudi arabia cut diplomatic ties qatar accusing supporting extremism us president donald trump tweeted qatar beginning end horror terrorism trump also said warned arab leaders qatar funding radical ideology recent trip middle east \n",
      "실제 요약 : qatar beginning of end of terrorism donald trump \n",
      "예측 요약 :  saudi rejects saudi arabia for spying on trump\n",
      "\n",
      "\n",
      "원문 : competition commission india ordered probe aditya birla group industries alleged abuse dominant position regard sale fibre allegations pertained imposing discriminatory conditions sale monitoring customers collecting details consumption among others \n",
      "실제 요약 : regulator orders probe against aditya birla group \n",
      "예측 요약 :  fortis to hold harassment on sale of firms\n",
      "\n",
      "\n",
      "원문 : congress leader shashi tharoor trolled anti demonetisation tweet miss world manushi chhillar name user wrote shows look women chhillar manushi family name something make fun tharoor later apologised joke tweeting certainly offence meant bright young girl \n",
      "실제 요약 : tharoor trolled for using miss world name in note ban \n",
      "예측 요약 :  tharoor apologises for mocking tharoor over tweet on twitter\n",
      "\n",
      "\n",
      "원문 : actor jim parsons known playing role cooper sitcom big bang theory got married partner todd new york couple dating years parsons revealed profile new york times gay relationship \n",
      "실제 요약 : big bang theory actor jim marries boyfriend \n",
      "예측 요약 :  john bang theory bang theory theory john marries\n",
      "\n",
      "\n",
      "원문 : vice president venkaiah naidu discharged india institute medical sciences delhi undergoing wherein placed heart year old vice president advised complete rest three days allowed visitors duration \n",
      "실제 요약 : vice prez naidu discharged from aiims after \n",
      "예측 요약 :  vice prez naidu passes away aged\n",
      "\n",
      "\n",
      "원문 : zafar year old boxer minnesota usa became first american wear hijab competitive usa boxing sanctioned fight last week campaigned rules changed told could wear hijab also allowed compete attire fully covered arms legs \n",
      "실제 요약 : year old becomes first us boxer to compete wearing hijab \n"
     ]
    },
    {
     "name": "stdout",
     "output_type": "stream",
     "text": [
      "예측 요약 :  player wins us open tennis for wearing\n",
      "\n",
      "\n",
      "원문 : odisha police thursday busted fake currency printing unit slum bhubaneswar per reports police got know printing unit arrested college student trying use fake note shop police seized papers used printing fake currency notes colour printer spot \n",
      "실제 요약 : fake currency printing unit busted at slum in \n",
      "예측 요약 :  police arrested for selling people in patanjali\n",
      "\n",
      "\n",
      "원문 : woman arrested allegedly bit least three flight attendants flight brazil new york forty year old eventually strapped onto seat help flight attendants passengers appeared court wednesday released bond \n",
      "실제 요약 : drunk woman who bit flight arrested \n",
      "예측 요약 :  woman arrested for drunk plane with plane\n",
      "\n",
      "\n",
      "원문 : two firs filed west bengal cm mamata banerjee assam alleged instigating remarks said scared lodge millions firs care added done great thing sitting west bengal firs assam \n",
      "실제 요약 : two more against mamata banerjee she says not scared \n",
      "예측 요약 :  will not allow to get off adityanath\n",
      "\n",
      "\n",
      "원문 : air traffic controller detained us state north carolina possessing transporting acquiring weapon mass destruction police said question believed kind homemade explosive device reports said suspect also arrested manufacturing possessing \n",
      "실제 요약 : airport official held for having weapon of mass \n",
      "예측 요약 :  indian air force force to be held in us\n",
      "\n",
      "\n",
      "원문 : congress released purported audio clip bjp mla reddy offering money posts congress mla rural order poach man heard saying whatever post want let us speak whatever wealth earned make times congress mla heard declining offer \n",
      "실제 요약 : have audio of bjp reddy offering money to our mla congress \n",
      "예측 요약 :  bjp mla slams bjp mla over fake remark\n",
      "\n",
      "\n",
      "원문 : election commission said exit polls gujarat himachal pradesh cannot conducted published november till pm december displaying election matter electronic media would prohibited hours prior election day added \n",
      "실제 요약 : ec bans exit polls in himachal gujarat till dec \n",
      "예측 요약 :  no election in himachal pradesh polls are crorepatis report\n",
      "\n",
      "\n",
      "원문 : talking reservation economically weaker section general category rjd leader tejashwi yadav said someone earning lakh year called poor strange mathematics one pay tax given reservation government added also demanded least quota existing obcs \n",
      "실제 요약 : how can one earning lakh be called poor tejashwi yadav \n",
      "예측 요약 :  tejashwi yadav is reservation for tejashwi\n",
      "\n",
      "\n",
      "원문 : make get year amazon prime membership extra cost vodafone red postpaid plans starting rs enjoy ad free music unlimited video streaming latest movies tv shows india postpaid plan \n",
      "실제 요약 : vodafone red offers amazon prime at no extra cost \n",
      "예측 요약 :  amazon announces its first ever brand brand\n",
      "\n",
      "\n",
      "원문 : maharashtra chief minister devendra fadnavis monday said writing farm loans ultimate solution end farmers one many referring upa government loan waiver farmers fadnavis added cag report states farm loan waiver barely helped per cent farmers \n",
      "실제 요약 : writing off farm loans is not solution fadnavis \n",
      "예측 요약 :  farmers loan waiver is farmers maha cm fadnavis maha cm\n",
      "\n",
      "\n",
      "원문 : late bollywood actor kader khan taught mumbai mh college engineering civil engineering professor entered film industry born kabul kader khan made acting debut rajesh khanna featured films passed away hospital canada december \n",
      "실제 요약 : kader khan was professor before he entered film industry \n",
      "예측 요약 :  actor to be held in pakistan\n",
      "\n",
      "\n",
      "원문 : kings xi punjab fast bowler andrew tye bought crore awarded purple cap taking wickets indian premier league year old australian took wickets ipl matches wicket costing lakh notably tye first ever australian cricketer win purple cap \n",
      "실제 요약 : ipl cap winner cost kxip lakh per wicket \n",
      "예측 요약 :  kxip kxip kxip kxip scorer took cr in ipl\n",
      "\n",
      "\n",
      "원문 : apple devices repair centre california us making fake emergency calls multiple times day police station state reportedly receiving calls per day adding calls last four months calls answered could hear discussions repair background \n",
      "실제 요약 : apple devices at us centre making fake calls to \n",
      "예측 요약 :  apple files patent for shooting at us airport\n",
      "\n",
      "\n",
      "원문 : madras high court apologised woman fought case years get compensation son death son lorry driver killed accident hit state owned bus hc rejected petition filed national insurance company limited insurer lorry providing compensation \n",
      "실제 요약 : sorry we kept you waiting this long madras hc tells woman \n",
      "예측 요약 :  hc allows woman to marry man who killed her suicide\n",
      "\n",
      "\n",
      "원문 : denying rumours making biopic late actress sridevi filmmaker ram gopal verma said believe foolish attempt also cannot actress remotely worthy enough play late actress worked ram gopal varma telugu film \n",
      "실제 요약 : no actress enough to play sridevi in biopic rgv \n",
      "예측 요약 :  do not know what do not know how do sridevi\n",
      "\n",
      "\n",
      "원문 : actress asia girlfriend celebrity chef anthony bourdain committed suicide june year admitted cheated also cheated adding problem us talking people blame death said people need think killed something like \n",
      "실제 요약 : we both cheated was not problem celeb chef anthony girlfriend \n",
      "예측 요약 :  was suicide when was commits suicide\n",
      "\n",
      "\n",
      "원문 : madame tussauds trolled us president donald trump placing wax statue trump outside country new embassy london cancelled visit open embassy trump blamed decision cancel trip relocation billion embassy square slammed previous administration selling old building \n",
      "실제 요약 : trump mocked with near embassy for dropping uk visit \n",
      "예측 요약 :  trump statue of trump statue at the year eve\n",
      "\n",
      "\n",
      "원문 : incumbent russian president vladimir putin formally declared winner recently concluded presidential elections friday securing nearly votes election commission officials denied accusations forced multiple voting voters claimed elections free fair putin secured fourth presidential term lead country \n",
      "실제 요약 : putin formally declared winner in russian presidential polls \n",
      "예측 요약 :  putin wins putin election vote in prez election\n",
      "\n",
      "\n",
      "원문 : engineers developed new cooling technology uses jumping cool power electronics placed beneath electronics electronics heat escaping towards cooling structures floor floor made material merging making jump away top \n",
      "실제 요약 : new tech to cool electronics using jumping made \n",
      "예측 요약 :  scientists print bacteria with\n",
      "\n",
      "\n",
      "원문 : actor ben affleck estranged wife jennifer garner officially filed divorce nearly two years announcing split estranged couple got married sought joint legal physical custody three children date separation well division property support still determined \n",
      "실제 요약 : ben jennifer file for divorce \n",
      "예측 요약 :  vinod khanna wife divorce divorce after years\n",
      "\n",
      "\n",
      "원문 : axis bank wednesday dismissed reports md ceo shikha sharma resignation news false speculative circulated mala intention misleading investors general public bank said axis bank profit witnessed sharp fall income tax department raids branches post demonetisation \n",
      "실제 요약 : axis bank denies reports of ceo sharma resignation \n",
      "예측 요약 :  yes bank ceo shares complaint against icici bank\n",
      "\n",
      "\n",
      "원문 : patidar leader hardik patel sunday declared hunger strike demanding reservation patidar community entered ninth day bank account patel declared donation rest parents money assets given kin patidar youths died agitation \n",
      "실제 요약 : hardik patel names in will on day of hunger strike \n",
      "예측 요약 :  hardik patel hardik patel out of lakh\n",
      "\n",
      "\n",
      "원문 : actress alia bhatt pictures kashmiri girl sets upcoming film raazi surfaced online film based harinder sikka novel calling also stars vicky kaushal lead role earlier alia revealed learning urdu film directed meghna gulzar \n",
      "실제 요약 : alia pics as kashmiri girl from raazi sets emerge online \n",
      "예측 요약 :  alia bhatt shares pic from sets of upcoming film shoot\n",
      "\n",
      "\n",
      "원문 : pm narendra modi inaugurate india longest river bridge km long bridge near china border may situated brahmaputra river aerial distance around km chinese border bridge withstand weight tonne battle tank bridge construction began cost crore \n",
      "실제 요약 : india longest bridge to be inaugurated on may by pm modi \n",
      "예측 요약 :  pm modi inaugurates india first bullet train in india\n",
      "\n",
      "\n",
      "원문 : rashtrapati bhavan mughal gardens open public february march pm president ram nath kovind annual monday major attraction imported netherlands garden open march exclusively differently abled persons defence personnel \n",
      "실제 요약 : to open for public from february \n"
     ]
    },
    {
     "name": "stdout",
     "output_type": "stream",
     "text": [
      "예측 요약 :  prez kovind to be celebrated as prez kovind\n",
      "\n",
      "\n",
      "원문 : debate fugitive economic offenders bill lok sabha thursday interim finance minister piyush goyal said fails understand foreign accent congress mp shashi tharoor tweet tharoor replied interesting see piyush goyal says cannot understand words explains party keeps \n",
      "실제 요약 : do not understand tharoor foreign accent piyush goyal \n",
      "예측 요약 :  why is the word of india cji on confidence motion\n",
      "\n",
      "\n"
     ]
    }
   ],
   "source": [
    "for i in range(50, 100):\n",
    "    print(\"원문 :\", seq2text(encoder_input_test[i]))\n",
    "    print(\"실제 요약 :\", seq2summary(decoder_input_test[i]))\n",
    "    print(\"예측 요약 :\", decode_sequence(encoder_input_test[i].reshape(1, text_max_len)))\n",
    "    print(\"\\n\")"
   ]
  },
  {
   "cell_type": "code",
   "execution_count": 158,
   "metadata": {},
   "outputs": [
    {
     "name": "stdout",
     "output_type": "stream",
     "text": [
      "원문 : sbi chairman rajnish kumar said apart banks borrowers government judiciary role play bad loan problem added power sector stress hope turnaround kumar explained banks mindset investigative agencies lend money based trust \n",
      "실제 요약 : govt courts also blame bad loan crisis sbi chairman \n",
      "예측 요약 :  sbi sbi deal sbi\n"
     ]
    }
   ],
   "source": [
    "print(\"원문 :\", seq2text(encoder_input_test[100]))\n",
    "print(\"실제 요약 :\", seq2summary(decoder_input_test[100]))\n",
    "print(\"예측 요약 :\", decode_sequence(encoder_input_test[100].reshape(1, text_max_len)))"
   ]
  },
  {
   "cell_type": "code",
   "execution_count": null,
   "metadata": {},
   "outputs": [],
   "source": []
  },
  {
   "cell_type": "code",
   "execution_count": null,
   "metadata": {},
   "outputs": [],
   "source": []
  },
  {
   "cell_type": "code",
   "execution_count": null,
   "metadata": {},
   "outputs": [],
   "source": []
  },
  {
   "cell_type": "markdown",
   "metadata": {},
   "source": [
    "## 요약 데이터에 대해서도 불용어를 제거해볼까?"
   ]
  },
  {
   "cell_type": "code",
   "execution_count": 56,
   "metadata": {},
   "outputs": [],
   "source": [
    "import pandas as pd\n",
    "import urllib.request\n",
    "urllib.request.urlretrieve(\"https://raw.githubusercontent.com/sunnysai12345/News_Summary/master/news_summary_more.csv\", filename=\"news_summary_more.csv\")\n",
    "data = pd.read_csv('news_summary_more.csv', encoding='iso-8859-1')"
   ]
  },
  {
   "cell_type": "code",
   "execution_count": 57,
   "metadata": {},
   "outputs": [
    {
     "name": "stdout",
     "output_type": "stream",
     "text": [
      "전체 샘플수 : 98360\n"
     ]
    }
   ],
   "source": [
    "data.drop_duplicates(subset = ['text'], inplace = True)\n",
    "print('전체 샘플수 :',(len(data)))"
   ]
  },
  {
   "cell_type": "code",
   "execution_count": 58,
   "metadata": {},
   "outputs": [
    {
     "data": {
      "text/plain": [
       "['saurav kant alumnus upgrad iiit pg program machine learning artificial intelligence sr systems engineer infosys almost years work experience program upgrad degree career support helped transition data scientist tech mahindra salary hike upgrad online power learning powered lakh careers',\n",
       " 'kunal shah credit card bill payment platform cred gave users chance win free food swiggy one year pranav kaushik delhi techie bagged reward spending cred coins users get one cred coin per rupee bill paid used avail rewards brands like ixigo bookmyshow ubereats cult fit',\n",
       " 'new zealand defeated india wickets fourth odi hamilton thursday win first match five match odi series india lost international match rohit sharma captaincy consecutive victories dating back march match witnessed india getting seventh lowest total odi cricket history',\n",
       " 'aegon life iterm insurance plan customers enjoy tax benefits premiums paid save taxes plan provides life cover age years also customers options insure critical illnesses disability accidental death benefit rider life cover age years',\n",
       " 'speaking sexual harassment allegations rajkumar hirani sonam kapoor said known hirani many years true metoo movement get derailed metoo movement always believe woman case need reserve judgment added hirani accused assistant worked sanju']"
      ]
     },
     "execution_count": 58,
     "metadata": {},
     "output_type": "execute_result"
    }
   ],
   "source": [
    "clean_text = []\n",
    "\n",
    "# 전체 Text 데이터에 대한 전처리 \n",
    "for s in data['text']:\n",
    "    clean_text.append(preprocess_sentence(s))\n",
    "\n",
    "# 전처리 후 출력\n",
    "clean_text[:5]"
   ]
  },
  {
   "cell_type": "code",
   "execution_count": 59,
   "metadata": {},
   "outputs": [
    {
     "data": {
      "text/plain": [
       "['upgrad learner switches career ml al salary hike',\n",
       " 'delhi techie wins free food swiggy one year cred',\n",
       " 'new zealand end rohit sharma led india match winning streak',\n",
       " 'aegon life iterm insurance plan helps customers save tax',\n",
       " 'known hirani yrs metoo claims true sonam']"
      ]
     },
     "execution_count": 59,
     "metadata": {},
     "output_type": "execute_result"
    }
   ],
   "source": [
    "clean_headline = []\n",
    "\n",
    "# 전체 Summary 데이터에 대한 전처리 \n",
    "for s in data['headlines']:\n",
    "    clean_headline.append(preprocess_sentence(s))\n",
    "\n",
    "clean_headline[:5]"
   ]
  },
  {
   "cell_type": "code",
   "execution_count": 60,
   "metadata": {},
   "outputs": [],
   "source": [
    "data['text'] = clean_text\n",
    "data['headlines'] = clean_headline\n",
    "\n",
    "# 빈 값을 Null 값으로 변환\n",
    "data.replace('', np.nan, inplace=True)"
   ]
  },
  {
   "cell_type": "code",
   "execution_count": 61,
   "metadata": {
    "scrolled": false
   },
   "outputs": [
    {
     "name": "stdout",
     "output_type": "stream",
     "text": [
      "텍스트의 최소 길이 : 1\n",
      "텍스트의 최대 길이 : 60\n",
      "텍스트의 평균 길이 : 35.097763318422125\n",
      "요약의 최소 길이 : 1\n",
      "요약의 최대 길이 : 13\n",
      "요약의 평균 길이 : 7.136213908092721\n"
     ]
    },
    {
     "data": {
      "image/png": "[encoded data removed]",
      "text/plain": [
       "<Figure size 432x288 with 2 Axes>"
      ]
     },
     "metadata": {
      "needs_background": "light"
     },
     "output_type": "display_data"
    },
    {
     "data": {
      "image/png": "[encoded data removed]",
      "text/plain": [
       "<Figure size 432x288 with 1 Axes>"
      ]
     },
     "metadata": {
      "needs_background": "light"
     },
     "output_type": "display_data"
    },
    {
     "data": {
      "image/png": "[encoded data removed]",
      "text/plain": [
       "<Figure size 432x288 with 1 Axes>"
      ]
     },
     "metadata": {
      "needs_background": "light"
     },
     "output_type": "display_data"
    }
   ],
   "source": [
    "# 길이 분포 출력\n",
    "import matplotlib.pyplot as plt\n",
    "\n",
    "text_len = [len(s.split()) for s in data['text']]\n",
    "headline_len = [len(s.split()) for s in data['headlines']]\n",
    "\n",
    "print('텍스트의 최소 길이 : {}'.format(np.min(text_len)))\n",
    "print('텍스트의 최대 길이 : {}'.format(np.max(text_len)))\n",
    "print('텍스트의 평균 길이 : {}'.format(np.mean(text_len)))\n",
    "print('요약의 최소 길이 : {}'.format(np.min(headline_len)))\n",
    "print('요약의 최대 길이 : {}'.format(np.max(headline_len)))\n",
    "print('요약의 평균 길이 : {}'.format(np.mean(headline_len)))\n",
    "\n",
    "plt.subplot(1,2,1)\n",
    "plt.boxplot(headline_len)\n",
    "plt.title('headline')\n",
    "plt.subplot(1,2,2)\n",
    "plt.boxplot(text_len)\n",
    "plt.title('text')\n",
    "plt.tight_layout()\n",
    "plt.show()\n",
    "\n",
    "plt.title('headline')\n",
    "plt.hist(headline_len, bins = 40)\n",
    "plt.xlabel('length of samples')\n",
    "plt.ylabel('number of samples')\n",
    "plt.show()\n",
    "\n",
    "plt.title('text')\n",
    "plt.hist(text_len, bins = 40)\n",
    "plt.xlabel('length of samples')\n",
    "plt.ylabel('number of samples')\n",
    "plt.show()"
   ]
  },
  {
   "cell_type": "code",
   "execution_count": 64,
   "metadata": {},
   "outputs": [],
   "source": [
    "text_max_len = 38\n",
    "headline_max_len = 9"
   ]
  },
  {
   "cell_type": "code",
   "execution_count": 65,
   "metadata": {},
   "outputs": [
    {
     "name": "stdout",
     "output_type": "stream",
     "text": [
      "전체 샘플 중 길이가 38 이하인 샘플의 비율: 0.8164497763318422\n",
      "전체 샘플 중 길이가 9 이하인 샘플의 비율: 0.9826250508336722\n"
     ]
    }
   ],
   "source": [
    "below_threshold_len(text_max_len, data['text'])\n",
    "below_threshold_len(headline_max_len,  data['headlines'])"
   ]
  },
  {
   "cell_type": "code",
   "execution_count": 66,
   "metadata": {},
   "outputs": [
    {
     "name": "stdout",
     "output_type": "stream",
     "text": [
      "전체 샘플수 : 79255\n"
     ]
    }
   ],
   "source": [
    "data = data[data['text'].apply(lambda x: len(x.split()) <= text_max_len)]\n",
    "data = data[data['headlines'].apply(lambda x: len(x.split()) <= headline_max_len)]\n",
    "print('전체 샘플수 :',(len(data)))"
   ]
  },
  {
   "cell_type": "code",
   "execution_count": 67,
   "metadata": {},
   "outputs": [
    {
     "data": {
      "text/html": [
       "<div>\n",
       "<style scoped>\n",
       "    .dataframe tbody tr th:only-of-type {\n",
       "        vertical-align: middle;\n",
       "    }\n",
       "\n",
       "    .dataframe tbody tr th {\n",
       "        vertical-align: top;\n",
       "    }\n",
       "\n",
       "    .dataframe thead th {\n",
       "        text-align: right;\n",
       "    }\n",
       "</style>\n",
       "<table border=\"1\" class=\"dataframe\">\n",
       "  <thead>\n",
       "    <tr style=\"text-align: right;\">\n",
       "      <th></th>\n",
       "      <th>headlines</th>\n",
       "      <th>text</th>\n",
       "      <th>decoder_input</th>\n",
       "      <th>decoder_target</th>\n",
       "    </tr>\n",
       "  </thead>\n",
       "  <tbody>\n",
       "    <tr>\n",
       "      <th>3</th>\n",
       "      <td>aegon life iterm insurance plan helps customer...</td>\n",
       "      <td>aegon life iterm insurance plan customers enjo...</td>\n",
       "      <td>sostoken aegon life iterm insurance plan helps...</td>\n",
       "      <td>aegon life iterm insurance plan helps customer...</td>\n",
       "    </tr>\n",
       "    <tr>\n",
       "      <th>4</th>\n",
       "      <td>known hirani yrs metoo claims true sonam</td>\n",
       "      <td>speaking sexual harassment allegations rajkuma...</td>\n",
       "      <td>sostoken known hirani yrs metoo claims true sonam</td>\n",
       "      <td>known hirani yrs metoo claims true sonam eostoken</td>\n",
       "    </tr>\n",
       "    <tr>\n",
       "      <th>5</th>\n",
       "      <td>rahat fateh ali khan denies getting notice smu...</td>\n",
       "      <td>pakistani singer rahat fateh ali khan denied r...</td>\n",
       "      <td>sostoken rahat fateh ali khan denies getting n...</td>\n",
       "      <td>rahat fateh ali khan denies getting notice smu...</td>\n",
       "    </tr>\n",
       "    <tr>\n",
       "      <th>6</th>\n",
       "      <td>india get lowest odi total new zealand</td>\n",
       "      <td>india recorded lowest odi total new zealand ge...</td>\n",
       "      <td>sostoken india get lowest odi total new zealand</td>\n",
       "      <td>india get lowest odi total new zealand eostoken</td>\n",
       "    </tr>\n",
       "    <tr>\n",
       "      <th>7</th>\n",
       "      <td>govt directs alok verma join work day retirement</td>\n",
       "      <td>weeks ex cbi director alok verma told departme...</td>\n",
       "      <td>sostoken govt directs alok verma join work day...</td>\n",
       "      <td>govt directs alok verma join work day retireme...</td>\n",
       "    </tr>\n",
       "  </tbody>\n",
       "</table>\n",
       "</div>"
      ],
      "text/plain": [
       "                                           headlines  \\\n",
       "3  aegon life iterm insurance plan helps customer...   \n",
       "4           known hirani yrs metoo claims true sonam   \n",
       "5  rahat fateh ali khan denies getting notice smu...   \n",
       "6             india get lowest odi total new zealand   \n",
       "7   govt directs alok verma join work day retirement   \n",
       "\n",
       "                                                text  \\\n",
       "3  aegon life iterm insurance plan customers enjo...   \n",
       "4  speaking sexual harassment allegations rajkuma...   \n",
       "5  pakistani singer rahat fateh ali khan denied r...   \n",
       "6  india recorded lowest odi total new zealand ge...   \n",
       "7  weeks ex cbi director alok verma told departme...   \n",
       "\n",
       "                                       decoder_input  \\\n",
       "3  sostoken aegon life iterm insurance plan helps...   \n",
       "4  sostoken known hirani yrs metoo claims true sonam   \n",
       "5  sostoken rahat fateh ali khan denies getting n...   \n",
       "6    sostoken india get lowest odi total new zealand   \n",
       "7  sostoken govt directs alok verma join work day...   \n",
       "\n",
       "                                      decoder_target  \n",
       "3  aegon life iterm insurance plan helps customer...  \n",
       "4  known hirani yrs metoo claims true sonam eostoken  \n",
       "5  rahat fateh ali khan denies getting notice smu...  \n",
       "6    india get lowest odi total new zealand eostoken  \n",
       "7  govt directs alok verma join work day retireme...  "
      ]
     },
     "execution_count": 67,
     "metadata": {},
     "output_type": "execute_result"
    }
   ],
   "source": [
    "# 요약 데이터에는 시작 토큰과 종료 토큰을 추가.\n",
    "\n",
    "data['decoder_input'] = data['headlines'].apply(lambda x : 'sostoken '+ x)\n",
    "data['decoder_target'] = data['headlines'].apply(lambda x : x + ' eostoken')\n",
    "data.head()"
   ]
  },
  {
   "cell_type": "code",
   "execution_count": 68,
   "metadata": {},
   "outputs": [],
   "source": [
    "# 인코더의 입력, 디코더의 입력과 레이블을 각각 다시 Numpy 타입으로 저장\n",
    "\n",
    "encoder_input = np.array(data['text']) # 인코더의 입력\n",
    "decoder_input = np.array(data['decoder_input']) # 디코더의 입력\n",
    "decoder_target = np.array(data['decoder_target']) # 디코더의 레이블"
   ]
  },
  {
   "cell_type": "code",
   "execution_count": 69,
   "metadata": {},
   "outputs": [
    {
     "name": "stdout",
     "output_type": "stream",
     "text": [
      "[ 2071 45949   537 ... 72954 39018 35166]\n"
     ]
    }
   ],
   "source": [
    "# 훈련 데이터 테스트 데이터 분리\n",
    "\n",
    "indices = np.arange(encoder_input.shape[0])  # encoder_input과 크기와 형태가 같은 정수 시퀀스 생성\n",
    "np.random.shuffle(indices)                   # 순서를 랜덤하게 섞어줍니다\n",
    "print(indices) # 랜덤한 정수 시퀀스 생성!"
   ]
  },
  {
   "cell_type": "code",
   "execution_count": 70,
   "metadata": {},
   "outputs": [],
   "source": [
    "# 샘플 순서를 랜덤 시퀀스를 이용해서 정의해줌\n",
    "\n",
    "encoder_input = encoder_input[indices]\n",
    "decoder_input = decoder_input[indices]\n",
    "decoder_target = decoder_target[indices]"
   ]
  },
  {
   "cell_type": "code",
   "execution_count": 71,
   "metadata": {},
   "outputs": [
    {
     "name": "stdout",
     "output_type": "stream",
     "text": [
      "테스트 데이터의 수 : 15851\n"
     ]
    }
   ],
   "source": [
    "# 8:2로 훈련셋 테스트셋 분리\n",
    "\n",
    "n_of_val = int(len(encoder_input)*0.2)\n",
    "print('테스트 데이터의 수 :', n_of_val)"
   ]
  },
  {
   "cell_type": "code",
   "execution_count": 72,
   "metadata": {},
   "outputs": [
    {
     "name": "stdout",
     "output_type": "stream",
     "text": [
      "훈련 데이터의 개수 :  63404\n",
      "훈련 레이블의 개수 :  63404\n",
      "테스트 데이터의 개수 :  15851\n",
      "테스트 데이터의 개수 :  15851\n"
     ]
    }
   ],
   "source": [
    "# 테스트 데이터의 갯수를 이용해 전체 데이터를 양분해줌\n",
    "\n",
    "encoder_input_train = encoder_input[:-n_of_val] # 뒤로 n_of_val개 빼고 나머지\n",
    "decoder_input_train = decoder_input[:-n_of_val] \n",
    "decoder_target_train = decoder_target[:-n_of_val]\n",
    "\n",
    "encoder_input_test = encoder_input[-n_of_val:] # 앞에 n_of_val개 빼고 나머지\n",
    "decoder_input_test = decoder_input[-n_of_val:]\n",
    "decoder_target_test = decoder_target[-n_of_val:]\n",
    "\n",
    "print('훈련 데이터의 개수 : ', len(encoder_input_train))\n",
    "print('훈련 레이블의 개수 : ', len(decoder_input_train))\n",
    "print('테스트 데이터의 개수 : ', len(encoder_input_test))\n",
    "print('테스트 데이터의 개수 : ', len(decoder_input_test))"
   ]
  },
  {
   "cell_type": "code",
   "execution_count": 73,
   "metadata": {},
   "outputs": [],
   "source": [
    "src_tokenizer = Tokenizer()    # 토크나이저 생성 - 입력된 훈련 데이터로부터 단어집합 생성 가능하게 해줌\n",
    "src_tokenizer.fit_on_texts(encoder_input_train)       # 입력된 데이터로부터 단어 집합 생성"
   ]
  },
  {
   "cell_type": "code",
   "execution_count": 74,
   "metadata": {},
   "outputs": [
    {
     "name": "stdout",
     "output_type": "stream",
     "text": [
      "단어 집합의 크기 :  60944\n",
      "등장 빈도가 7번 이하인 희귀 단어의 수: 42901\n",
      "단어 집합에서 희귀 단어를 제외시킬 경우의 단어 집합의 크기: 18043\n",
      "단어 집합에서 희귀 단어의 비율: 70.39413231819374\n",
      "전체 등장 빈도에서 희귀 단어 등장 빈도 비율: 4.395088787531026\n"
     ]
    }
   ],
   "source": [
    "threshold = 8\n",
    "total_count = len(src_tokenizer.word_index)      # 단어의 수\n",
    "rare_count = 0             # 등장 빈도수가 threshold보다 작은 단어의 개수를 count\n",
    "total_freq = 0             # 훈련 데이터의 전체 단어 빈도수 총 합\n",
    "rare_freq = 0              # 등장 빈도수가 threshold보다 작은 단어의 등장 빈도수 총 합\n",
    "\n",
    "# 단어와 빈도수의 쌍(pair)을 key와 value로 받음.\n",
    "for key, value in src_tokenizer.word_counts.items():\n",
    "    total_freq = total_freq + value\n",
    "    \n",
    "    # 단어의 등장 빈도수가 threshold보다 작으면\n",
    "    if (value < threshold) :\n",
    "        rare_count = rare_count + 1\n",
    "        rare_freq = rare_freq + value\n",
    "        \n",
    "print('단어 집합의 크기 : ', total_count)\n",
    "print('등장 빈도가 %s번 이하인 희귀 단어의 수: %s'%(threshold - 1, rare_count))\n",
    "print('단어 집합에서 희귀 단어를 제외시킬 경우의 단어 집합의 크기: %s'%(total_count - rare_count))\n",
    "print(\"단어 집합에서 희귀 단어의 비율:\", (rare_count / total_count)*100)\n",
    "print(\"전체 등장 빈도에서 희귀 단어 등장 빈도 비율:\", (rare_freq / total_freq)*100)"
   ]
  },
  {
   "cell_type": "code",
   "execution_count": 75,
   "metadata": {},
   "outputs": [],
   "source": [
    "src_vocab = 18000\n",
    "src_tokenizer = Tokenizer(num_words = src_vocab) # 단어 집합의 크기를 8,000으로 제한\n",
    "src_tokenizer.fit_on_texts(encoder_input_train) # 단어 집합 재생성."
   ]
  },
  {
   "cell_type": "code",
   "execution_count": 76,
   "metadata": {},
   "outputs": [
    {
     "name": "stdout",
     "output_type": "stream",
     "text": [
      "[[20, 220, 112, 6374, 1, 1253, 2063, 4272, 963, 2510, 2006, 6030, 738, 972, 2774, 5002, 2063, 2510, 2238, 2774, 5002, 805, 497, 738, 2881, 5002, 1909, 2538, 639], [1079, 371, 306, 633, 2949, 24, 1155, 313, 235, 3893, 14498, 1562, 33, 2949, 24, 14499, 313, 915, 476, 264, 131, 263, 236, 242, 1620, 7608, 1567, 754, 103, 16999, 973, 771, 6871], [181, 651, 114, 10469, 7467, 9899, 1, 45, 16030, 46, 114, 10167, 2355, 98, 3919, 1529, 239, 181, 651, 6757, 117, 5431, 1277, 7467, 9899, 2, 7909, 2356, 16031, 2167, 2]]\n"
     ]
    }
   ],
   "source": [
    "# 텍스트 시퀀스를 정수 시퀀스로 변환\n",
    "encoder_input_train = src_tokenizer.texts_to_sequences(encoder_input_train)\n",
    "encoder_input_test = src_tokenizer.texts_to_sequences(encoder_input_test)\n",
    "\n",
    "# 잘 진행되었는지 샘플 출력\n",
    "print(encoder_input_train[:3])"
   ]
  },
  {
   "cell_type": "code",
   "execution_count": 77,
   "metadata": {},
   "outputs": [],
   "source": [
    "# headlines 에도 동일한 작업해주기\n",
    "tar_tokenizer = Tokenizer()\n",
    "tar_tokenizer.fit_on_texts(decoder_input_train)"
   ]
  },
  {
   "cell_type": "code",
   "execution_count": 78,
   "metadata": {},
   "outputs": [
    {
     "name": "stdout",
     "output_type": "stream",
     "text": [
      "단어 집합의 크기 :  27078\n",
      "등장 빈도가 7번 이하인 희귀 단어의 수: 19473\n",
      "단어 집합에서 희귀 단어를 제외시킬 경우의 단어 집합의 크기: 7605\n",
      "단어 집합에서 희귀 단어의 비율: 71.91446931087968\n",
      "전체 등장 빈도에서 희귀 단어 등장 빈도 비율: 8.687743611953227\n"
     ]
    }
   ],
   "source": [
    "threshold = 8\n",
    "total_count = len(tar_tokenizer.word_index)      # 단어의 수\n",
    "rare_count = 0             # 등장 빈도수가 threshold보다 작은 단어의 개수를 count\n",
    "total_freq = 0             # 훈련 데이터의 전체 단어 빈도수 총 합\n",
    "rare_freq = 0              # 등장 빈도수가 threshold보다 작은 단어의 등장 빈도수 총 합\n",
    "\n",
    "# 단어와 빈도수의 쌍(pair)을 key와 value로 받음.\n",
    "for key, value in tar_tokenizer.word_counts.items():\n",
    "    total_freq = total_freq + value\n",
    "    \n",
    "    # 단어의 등장 빈도수가 threshold보다 작으면\n",
    "    if (value < threshold) :\n",
    "        rare_count = rare_count + 1\n",
    "        rare_freq = rare_freq + value\n",
    "        \n",
    "print('단어 집합의 크기 : ', total_count)\n",
    "print('등장 빈도가 %s번 이하인 희귀 단어의 수: %s'%(threshold - 1, rare_count))\n",
    "print('단어 집합에서 희귀 단어를 제외시킬 경우의 단어 집합의 크기: %s'%(total_count - rare_count))\n",
    "print(\"단어 집합에서 희귀 단어의 비율:\", (rare_count / total_count)*100)\n",
    "print(\"전체 등장 빈도에서 희귀 단어 등장 빈도 비율:\", (rare_freq / total_freq)*100)"
   ]
  },
  {
   "cell_type": "code",
   "execution_count": 79,
   "metadata": {},
   "outputs": [],
   "source": [
    "tar_vocab = 7500\n",
    "tar_tokenizer = Tokenizer(num_words = tar_vocab) \n",
    "tar_tokenizer.fit_on_texts(decoder_input_train)\n",
    "tar_tokenizer.fit_on_texts(decoder_target_train)"
   ]
  },
  {
   "cell_type": "code",
   "execution_count": 80,
   "metadata": {},
   "outputs": [
    {
     "name": "stdout",
     "output_type": "stream",
     "text": [
      "input\n",
      "input  [[1, 82, 5476, 1615, 2667, 3259, 2243], [1, 2161, 838, 415, 197, 106, 338], [1, 5477, 115, 1714, 1053, 223], [1, 557, 54, 953, 98, 88, 2818, 5174, 356], [1, 200, 546, 289, 4535, 54, 877, 563, 53]]\n",
      "target\n",
      "decoder  [[82, 5476, 1615, 2667, 3259, 2243, 2], [2161, 838, 415, 197, 106, 338, 2], [5477, 115, 1714, 1053, 223, 2], [557, 54, 953, 98, 88, 2818, 5174, 356, 2], [200, 546, 289, 4535, 54, 877, 563, 53, 2]]\n"
     ]
    }
   ],
   "source": [
    "# 텍스트 시퀀스를 정수 시퀀스로 변환\n",
    "decoder_input_train = tar_tokenizer.texts_to_sequences(decoder_input_train) \n",
    "decoder_target_train = tar_tokenizer.texts_to_sequences(decoder_target_train)\n",
    "decoder_input_test = tar_tokenizer.texts_to_sequences(decoder_input_test)\n",
    "decoder_target_test = tar_tokenizer.texts_to_sequences(decoder_target_test)\n",
    "\n",
    "#잘 변환되었는지 확인\n",
    "print('input')\n",
    "print('input ',decoder_input_train[:5])\n",
    "print('target')\n",
    "print('decoder ',decoder_target_train[:5])"
   ]
  },
  {
   "cell_type": "code",
   "execution_count": 81,
   "metadata": {},
   "outputs": [
    {
     "name": "stdout",
     "output_type": "stream",
     "text": [
      "삭제할 훈련 데이터의 개수 : 4\n",
      "삭제할 테스트 데이터의 개수 : 0\n",
      "훈련 데이터의 개수 : 63400\n",
      "훈련 레이블의 개수 : 63400\n",
      "테스트 데이터의 개수 : 15851\n",
      "테스트 레이블의 개수 : 15851\n"
     ]
    },
    {
     "name": "stderr",
     "output_type": "stream",
     "text": [
      "/home/ssac18/anaconda3/envs/aiffel/lib/python3.7/site-packages/numpy/core/_asarray.py:83: VisibleDeprecationWarning: Creating an ndarray from ragged nested sequences (which is a list-or-tuple of lists-or-tuples-or ndarrays with different lengths or shapes) is deprecated. If you meant to do this, you must specify 'dtype=object' when creating the ndarray\n",
      "  return array(a, dtype, copy=False, order=order)\n"
     ]
    }
   ],
   "source": [
    "# headline의 길이가 1인 경우(실제로는 길이가 0)의 인덱스를 저장해보자\n",
    "drop_train = [index for index, sentence in enumerate(decoder_input_train) if len(sentence) == 1]\n",
    "drop_test = [index for index, sentence in enumerate(decoder_input_test) if len(sentence) == 1]\n",
    "\n",
    "print('삭제할 훈련 데이터의 개수 :',len(drop_train))\n",
    "print('삭제할 테스트 데이터의 개수 :',len(drop_test))\n",
    "\n",
    "encoder_input_train = np.delete(encoder_input_train, drop_train, axis=0)\n",
    "decoder_input_train = np.delete(decoder_input_train, drop_train, axis=0)\n",
    "decoder_target_train = np.delete(decoder_target_train, drop_train, axis=0)\n",
    "\n",
    "encoder_input_test = np.delete(encoder_input_test, drop_test, axis=0)\n",
    "decoder_input_test = np.delete(decoder_input_test, drop_test, axis=0)\n",
    "decoder_target_test = np.delete(decoder_target_test, drop_test, axis=0)\n",
    "\n",
    "print('훈련 데이터의 개수 :', len(encoder_input_train))\n",
    "print('훈련 레이블의 개수 :',len(decoder_input_train))\n",
    "print('테스트 데이터의 개수 :',len(encoder_input_test))\n",
    "print('테스트 레이블의 개수 :',len(decoder_input_test))"
   ]
  },
  {
   "cell_type": "code",
   "execution_count": 82,
   "metadata": {},
   "outputs": [],
   "source": [
    "# post padding. 뒤의 공간에 숫자 0을 넣어준다\n",
    "# 아까 지정해주었던 최대 길이로 패딩.\n",
    "encoder_input_train = pad_sequences(encoder_input_train, maxlen = text_max_len, padding='post')\n",
    "encoder_input_test = pad_sequences(encoder_input_test, maxlen = text_max_len, padding='post')\n",
    "decoder_input_train = pad_sequences(decoder_input_train, maxlen = headline_max_len, padding='post')\n",
    "decoder_target_train = pad_sequences(decoder_target_train, maxlen = headline_max_len, padding='post')\n",
    "decoder_input_test = pad_sequences(decoder_input_test, maxlen = headline_max_len, padding='post')\n",
    "decoder_target_test = pad_sequences(decoder_target_test, maxlen = headline_max_len, padding='post')"
   ]
  },
  {
   "cell_type": "code",
   "execution_count": 84,
   "metadata": {},
   "outputs": [
    {
     "name": "stdout",
     "output_type": "stream",
     "text": [
      "WARNING:tensorflow:Layer lstm_8 will not use cuDNN kernel since it doesn't meet the cuDNN kernel criteria. It will use generic GPU kernel as fallback when running on GPU\n",
      "WARNING:tensorflow:Layer lstm_9 will not use cuDNN kernel since it doesn't meet the cuDNN kernel criteria. It will use generic GPU kernel as fallback when running on GPU\n",
      "WARNING:tensorflow:Layer lstm_10 will not use cuDNN kernel since it doesn't meet the cuDNN kernel criteria. It will use generic GPU kernel as fallback when running on GPU\n",
      "WARNING:tensorflow:Layer lstm_11 will not use cuDNN kernel since it doesn't meet the cuDNN kernel criteria. It will use generic GPU kernel as fallback when running on GPU\n"
     ]
    }
   ],
   "source": [
    "# 인코더 설계 시작\n",
    "embedding_dim = 128\n",
    "hidden_size = 256\n",
    "\n",
    "# 인코더\n",
    "encoder_inputs = Input(shape=(text_max_len,))\n",
    "\n",
    "# 인코더의 임베딩 층\n",
    "enc_emb = Embedding(src_vocab, embedding_dim)(encoder_inputs)\n",
    "\n",
    "# 인코더의 LSTM 1\n",
    "encoder_lstm1 = LSTM(hidden_size, return_sequences=True, return_state=True, dropout=0.4, recurrent_dropout = 0.4 )\n",
    "encoder_output1, state_h1, state_c1 = encoder_lstm1(enc_emb) \n",
    "\n",
    "# 인코더의 LSTM 2\n",
    "encoder_lstm2 = LSTM(hidden_size, return_sequences=True, return_state=True, dropout=0.4, recurrent_dropout=0.4)\n",
    "encoder_output2, state_h2, state_c2 = encoder_lstm2(encoder_output1)\n",
    "\n",
    "# 인코더의 LSTM 3\n",
    "encoder_lstm3 = LSTM(hidden_size, return_state=True, return_sequences=True, dropout=0.4, recurrent_dropout=0.4)\n",
    "encoder_output3, state_h, state_c= encoder_lstm3(encoder_output2)\n",
    "\n",
    "# 인코더의 LSTM 4\n",
    "encoder_lstm4 = LSTM(hidden_size, return_state=True, return_sequences=True, dropout=0.4, recurrent_dropout=0.4)\n",
    "encoder_outputs, state_h, state_c= encoder_lstm4(encoder_output3)"
   ]
  },
  {
   "cell_type": "code",
   "execution_count": 85,
   "metadata": {},
   "outputs": [
    {
     "name": "stdout",
     "output_type": "stream",
     "text": [
      "WARNING:tensorflow:Layer lstm_12 will not use cuDNN kernel since it doesn't meet the cuDNN kernel criteria. It will use generic GPU kernel as fallback when running on GPU\n"
     ]
    }
   ],
   "source": [
    "# 디코더 설계\n",
    "\n",
    "decoder_inputs = Input(shape=(None,))\n",
    "\n",
    "# 디코더의 임베딩 층\n",
    "dec_emb_layer = Embedding(tar_vocab, embedding_dim)\n",
    "dec_emb = dec_emb_layer(decoder_inputs)\n",
    "\n",
    "# 디코더의 LSTM\n",
    "decoder_lstm = LSTM(hidden_size, return_sequences = True, return_state = True, dropout = 0.4, recurrent_dropout=0.2)\n",
    "decoder_outputs, _, _ = decoder_lstm(dec_emb, initial_state = [state_h, state_c])"
   ]
  },
  {
   "cell_type": "code",
   "execution_count": 86,
   "metadata": {},
   "outputs": [
    {
     "name": "stdout",
     "output_type": "stream",
     "text": [
      "Model: \"model_4\"\n",
      "__________________________________________________________________________________________________\n",
      "Layer (type)                    Output Shape         Param #     Connected to                     \n",
      "==================================================================================================\n",
      "input_7 (InputLayer)            [(None, 38)]         0                                            \n",
      "__________________________________________________________________________________________________\n",
      "embedding_3 (Embedding)         (None, 38, 128)      2304000     input_7[0][0]                    \n",
      "__________________________________________________________________________________________________\n",
      "lstm_8 (LSTM)                   [(None, 38, 256), (N 394240      embedding_3[0][0]                \n",
      "__________________________________________________________________________________________________\n",
      "lstm_9 (LSTM)                   [(None, 38, 256), (N 525312      lstm_8[0][0]                     \n",
      "__________________________________________________________________________________________________\n",
      "input_8 (InputLayer)            [(None, None)]       0                                            \n",
      "__________________________________________________________________________________________________\n",
      "lstm_10 (LSTM)                  [(None, 38, 256), (N 525312      lstm_9[0][0]                     \n",
      "__________________________________________________________________________________________________\n",
      "embedding_4 (Embedding)         (None, None, 128)    960000      input_8[0][0]                    \n",
      "__________________________________________________________________________________________________\n",
      "lstm_11 (LSTM)                  [(None, 38, 256), (N 525312      lstm_10[0][0]                    \n",
      "__________________________________________________________________________________________________\n",
      "lstm_12 (LSTM)                  [(None, None, 256),  394240      embedding_4[0][0]                \n",
      "                                                                 lstm_11[0][1]                    \n",
      "                                                                 lstm_11[0][2]                    \n",
      "__________________________________________________________________________________________________\n",
      "dense_2 (Dense)                 (None, None, 7500)   1927500     lstm_12[0][0]                    \n",
      "==================================================================================================\n",
      "Total params: 7,555,916\n",
      "Trainable params: 7,555,916\n",
      "Non-trainable params: 0\n",
      "__________________________________________________________________________________________________\n"
     ]
    }
   ],
   "source": [
    "# 디코더의 출력층\n",
    "decoder_softmax_layer = Dense(tar_vocab, activation = 'softmax')\n",
    "decoder_softmax_outputs = decoder_softmax_layer(decoder_outputs) \n",
    "\n",
    "# 모델 정의\n",
    "model = Model([encoder_inputs, decoder_inputs], decoder_softmax_outputs)\n",
    "model.summary()"
   ]
  },
  {
   "cell_type": "code",
   "execution_count": 87,
   "metadata": {},
   "outputs": [
    {
     "name": "stdout",
     "output_type": "stream",
     "text": [
      "Model: \"model_5\"\n",
      "__________________________________________________________________________________________________\n",
      "Layer (type)                    Output Shape         Param #     Connected to                     \n",
      "==================================================================================================\n",
      "input_7 (InputLayer)            [(None, 38)]         0                                            \n",
      "__________________________________________________________________________________________________\n",
      "embedding_3 (Embedding)         (None, 38, 128)      2304000     input_7[0][0]                    \n",
      "__________________________________________________________________________________________________\n",
      "lstm_8 (LSTM)                   [(None, 38, 256), (N 394240      embedding_3[0][0]                \n",
      "__________________________________________________________________________________________________\n",
      "lstm_9 (LSTM)                   [(None, 38, 256), (N 525312      lstm_8[0][0]                     \n",
      "__________________________________________________________________________________________________\n",
      "input_8 (InputLayer)            [(None, None)]       0                                            \n",
      "__________________________________________________________________________________________________\n",
      "lstm_10 (LSTM)                  [(None, 38, 256), (N 525312      lstm_9[0][0]                     \n",
      "__________________________________________________________________________________________________\n",
      "embedding_4 (Embedding)         (None, None, 128)    960000      input_8[0][0]                    \n",
      "__________________________________________________________________________________________________\n",
      "lstm_11 (LSTM)                  [(None, 38, 256), (N 525312      lstm_10[0][0]                    \n",
      "__________________________________________________________________________________________________\n",
      "lstm_12 (LSTM)                  [(None, None, 256),  394240      embedding_4[0][0]                \n",
      "                                                                 lstm_11[0][1]                    \n",
      "                                                                 lstm_11[0][2]                    \n",
      "__________________________________________________________________________________________________\n",
      "attention_layer (AttentionLayer ((None, None, 256),  131328      lstm_11[0][0]                    \n",
      "                                                                 lstm_12[0][0]                    \n",
      "__________________________________________________________________________________________________\n",
      "concat_layer (Concatenate)      (None, None, 512)    0           lstm_12[0][0]                    \n",
      "                                                                 attention_layer[0][0]            \n",
      "__________________________________________________________________________________________________\n",
      "dense_3 (Dense)                 (None, None, 7500)   3847500     concat_layer[0][0]               \n",
      "==================================================================================================\n",
      "Total params: 9,607,244\n",
      "Trainable params: 9,607,244\n",
      "Non-trainable params: 0\n",
      "__________________________________________________________________________________________________\n"
     ]
    }
   ],
   "source": [
    "# 어텐션 층(어텐션 함수)\n",
    "attn_layer = AttentionLayer(name='attention_layer')\n",
    "# 인코더와 디코더의 모든 time step의 hidden state를 어텐션 층에 전달하고 결과를 리턴\n",
    "attn_out, attn_states = attn_layer([encoder_outputs, decoder_outputs])\n",
    "\n",
    "# 어텐션의 결과와 디코더의 hidden state들을 연결\n",
    "decoder_concat_input = Concatenate(axis = -1, name='concat_layer')([decoder_outputs, attn_out])\n",
    "\n",
    "# 디코더의 출력층\n",
    "decoder_softmax_layer = Dense(tar_vocab, activation='softmax')\n",
    "decoder_softmax_outputs = decoder_softmax_layer(decoder_concat_input)\n",
    "\n",
    "# 모델 정의\n",
    "model = Model([encoder_inputs, decoder_inputs], decoder_softmax_outputs)\n",
    "model.summary()"
   ]
  },
  {
   "cell_type": "code",
   "execution_count": 88,
   "metadata": {},
   "outputs": [
    {
     "name": "stdout",
     "output_type": "stream",
     "text": [
      "Epoch 1/50\n",
      "248/248 [==============================] - 80s 321ms/step - loss: 5.8476 - val_loss: 5.4772\n",
      "Epoch 2/50\n",
      "248/248 [==============================] - 81s 325ms/step - loss: 5.3492 - val_loss: 5.1126\n",
      "Epoch 3/50\n",
      "248/248 [==============================] - 81s 326ms/step - loss: 5.0233 - val_loss: 4.8779\n",
      "Epoch 4/50\n",
      "248/248 [==============================] - 81s 326ms/step - loss: 4.7713 - val_loss: 4.6905\n",
      "Epoch 5/50\n",
      "248/248 [==============================] - 81s 327ms/step - loss: 4.5555 - val_loss: 4.5450\n",
      "Epoch 6/50\n",
      "248/248 [==============================] - 81s 326ms/step - loss: 4.3698 - val_loss: 4.4340\n",
      "Epoch 7/50\n",
      "248/248 [==============================] - 81s 328ms/step - loss: 4.2091 - val_loss: 4.3319\n",
      "Epoch 8/50\n",
      "248/248 [==============================] - 82s 329ms/step - loss: 4.0706 - val_loss: 4.2685\n",
      "Epoch 9/50\n",
      "248/248 [==============================] - 82s 330ms/step - loss: 3.9428 - val_loss: 4.2211\n",
      "Epoch 10/50\n",
      "248/248 [==============================] - 82s 330ms/step - loss: 3.8298 - val_loss: 4.1537\n",
      "Epoch 11/50\n",
      "248/248 [==============================] - 82s 329ms/step - loss: 3.7275 - val_loss: 4.1220\n",
      "Epoch 12/50\n",
      "248/248 [==============================] - 82s 330ms/step - loss: 3.6359 - val_loss: 4.0849\n",
      "Epoch 13/50\n",
      "248/248 [==============================] - 81s 329ms/step - loss: 3.5467 - val_loss: 4.0609\n",
      "Epoch 14/50\n",
      "248/248 [==============================] - 82s 330ms/step - loss: 3.4678 - val_loss: 4.0447\n",
      "Epoch 15/50\n",
      "248/248 [==============================] - 81s 328ms/step - loss: 3.3943 - val_loss: 4.0318\n",
      "Epoch 16/50\n",
      "248/248 [==============================] - 81s 328ms/step - loss: 3.3232 - val_loss: 4.0240\n",
      "Epoch 17/50\n",
      "248/248 [==============================] - 82s 329ms/step - loss: 3.2580 - val_loss: 4.0045\n",
      "Epoch 18/50\n",
      "248/248 [==============================] - 82s 332ms/step - loss: 3.1980 - val_loss: 3.9952\n",
      "Epoch 19/50\n",
      "248/248 [==============================] - 81s 328ms/step - loss: 3.1417 - val_loss: 3.9894\n",
      "Epoch 20/50\n",
      "248/248 [==============================] - 81s 327ms/step - loss: 3.0852 - val_loss: 3.9860\n",
      "Epoch 21/50\n",
      "248/248 [==============================] - 81s 327ms/step - loss: 3.0306 - val_loss: 3.9817\n",
      "Epoch 22/50\n",
      "248/248 [==============================] - 81s 327ms/step - loss: 2.9799 - val_loss: 3.9843\n",
      "Epoch 23/50\n",
      "248/248 [==============================] - 80s 325ms/step - loss: 2.9327 - val_loss: 3.9874\n",
      "Epoch 00023: early stopping\n"
     ]
    }
   ],
   "source": [
    "model.compile(optimizer='rmsprop', loss='sparse_categorical_crossentropy')\n",
    "es = EarlyStopping(monitor='val_loss', mode='min', verbose=1, patience = 2)\n",
    "history = model.fit(x = [encoder_input_train, decoder_input_train], y = decoder_target_train, \\\n",
    "          validation_data = ([encoder_input_test, decoder_input_test], decoder_target_test),\n",
    "          batch_size = 256, callbacks=[es], epochs = 50)"
   ]
  },
  {
   "cell_type": "code",
   "execution_count": 89,
   "metadata": {},
   "outputs": [
    {
     "data": {
      "image/png": "[encoded data removed]",
      "text/plain": [
       "<Figure size 432x288 with 1 Axes>"
      ]
     },
     "metadata": {
      "needs_background": "light"
     },
     "output_type": "display_data"
    }
   ],
   "source": [
    "# train, test loss \n",
    "plt.plot(history.history['loss'], label='train')\n",
    "plt.plot(history.history['val_loss'], label='test')\n",
    "plt.legend()\n",
    "plt.show()"
   ]
  },
  {
   "cell_type": "code",
   "execution_count": 90,
   "metadata": {},
   "outputs": [],
   "source": [
    "# 정수 인덱스로 되어있던 텍스트 데이터를 실제 데이터로 복원하기\n",
    "\n",
    "src_index_to_word = src_tokenizer.index_word    # 원문 단어 집합에서 정수 -> 단어를 얻음\n",
    "tar_word_to_index = tar_tokenizer.word_index    # 요약 단어 집합에서 단어 -> 정수를 얻음\n",
    "tar_index_to_word = tar_tokenizer.index_word    # 요약 던어 집합에서 정수 -> 단어를 얻음"
   ]
  },
  {
   "cell_type": "code",
   "execution_count": 91,
   "metadata": {},
   "outputs": [],
   "source": [
    "# 인퍼런스 단계에서는 인코더 모델과 디코더 모델 분리해서 설계\n",
    "\n",
    "# 인코더 설계\n",
    "encoder_model = Model(inputs=encoder_inputs, outputs=[encoder_outputs, state_h, state_c])\n",
    "\n",
    "# 이전 시점의 상태들을 저장하는 텐서\n",
    "decoder_state_input_h = Input(shape=(hidden_size,))\n",
    "decoder_state_input_c = Input(shape=(hidden_size,))\n",
    "\n",
    "dec_emb2 = dec_emb_layer(decoder_inputs)\n",
    "# 문장의 다음 단어를 예측하기 위해 초기 상태를 이전 시점 상태로 사용. 이는 뒤의 함수 decode_sequence()에 구현\n",
    "# 훈련과정과 달리 LSTM의 리턴하는 은닉 상태와 셀 상태인 state_h, state_c 를 버리지 않음\n",
    "decoder_outputs2, state_h2, state_c2 = decoder_lstm(dec_emb2, initial_state=[decoder_state_input_h, decoder_state_input_c])\n"
   ]
  },
  {
   "cell_type": "code",
   "execution_count": 92,
   "metadata": {},
   "outputs": [],
   "source": [
    "# 어텐션 함수\n",
    "decoder_hidden_state_input = Input(shape=(text_max_len, hidden_size))\n",
    "attn_out_inf, attn_states_inf = attn_layer([decoder_hidden_state_input, decoder_outputs2])\n",
    "decoder_inf_concat = Concatenate(axis=-1, name='concat')([decoder_outputs2, attn_out_inf])\n",
    "\n",
    "# 디코더의 출력층\n",
    "decoder_outputs2 = decoder_softmax_layer(decoder_inf_concat)\n",
    "\n",
    "# 최종 디코더 모델\n",
    "decoder_model = Model([decoder_inputs] + [decoder_hidden_state_input,decoder_state_input_h, decoder_state_input_c],\n",
    "    [decoder_outputs2] + [state_h2, state_c2])"
   ]
  },
  {
   "cell_type": "code",
   "execution_count": 94,
   "metadata": {
    "scrolled": true
   },
   "outputs": [
    {
     "name": "stdout",
     "output_type": "stream",
     "text": [
      "원문 : study financial services company ubs revealed person working mumbai work days afford iphone delhi person work days cairo person work days person zurich afford iphone days \n",
      "실제 헤드라인 : many days one work around world buy iphone \n",
      "예측 헤드라인 :  indian cola revenue\n",
      "\n",
      "\n",
      "원문 : reacting french footballer antoine griezmann new haircut user tweeted griezmann shocks world sporting possibly worst haircut history users reacted tweets like antoine griezmann new haircut words griezmann looking like refusing shower completes move united solidarity \n",
      "실제 헤드라인 : history worst possible tweets user \n",
      "예측 헤드라인 :  twitter reacts opponent\n",
      "\n",
      "\n",
      "원문 : mexican drug lord el guzman claimed extradition us mexico violated terms us mexico treaty according terms guzman transferred either california texas however day extradition mexico waived terms instead send new york guzman lawyers said \n",
      "실제 헤드라인 : mexican drug lord questions us extradition \n",
      "예측 헤드라인 :  us senator accuses us embassy jerusalem\n",
      "\n",
      "\n",
      "원문 : mumbai railway lines chronic accident spots commuters die crossing tracks government railway police audit report revealed spots kalyan absence tracks insufficient foot illegal entry exit points main reasons behind fatalities caused spots added \n",
      "실제 헤드라인 : accident spots mumbai railway lines audit \n",
      "예측 헤드라인 :  mumbai railway station station station\n",
      "\n",
      "\n",
      "원문 : least five passengers injured four front coaches local train derailed harbour line near mumbai station friday coaches derailed train reversing platform problem overhead power supplying equipment third derailment two major long distance train past one week \n",
      "실제 헤드라인 : injured four coaches local train derail mumbai \n",
      "예측 헤드라인 :  mumbai traffic derails reported due heavy rain\n",
      "\n",
      "\n",
      "원문 : female teacher uttarakhand roorkee booked allegedly stripping two class girls publicly scoring low marks test parents girls alleged teacher first reprimanded daughters took shirts front entire class performed poorly english test police officials said \n",
      "실제 헤드라인 : teacher stripped girls scoring poor marks booked \n",
      "예측 헤드라인 :  teacher gets students students got kid\n",
      "\n",
      "\n",
      "원문 : retired sc judge chelameswar said closed door meeting run country supreme court judges must questioned chelameswar written former chief justice js khehar alleged proximity sitting sc judge andhra pradesh cm chandrababu naidu \n",
      "실제 헤드라인 : question closed door meetings politicians judges retd judge \n",
      "예측 헤드라인 :  sc judge ayodhya dispute\n",
      "\n",
      "\n",
      "원문 : addressing press conference dubai congress president rahul gandhi saturday said peaceful relationship pakistan absolutely tolerate violence carried innocent indians pakistani state gandhi two day visit dubai also discussed massive employment crisis criticised policies like gst demonetisation \n",
      "실제 헤드라인 : peace pak tolerate violence rahul \n",
      "예측 헤드라인 :  rahul gandhi calls pak terrorists\n",
      "\n",
      "\n",
      "원문 : facebook ceo mark zuckerberg said company hired people safety security year adding facebook improving ability detect block fake accounts zuckerberg said still difficult identify sophisticated actors build networks manually one fake account time \n",
      "실제 헤드라인 : hired people security facebook ceo \n",
      "예측 헤드라인 :  zuckerberg asks zuckerberg fake news news\n",
      "\n",
      "\n",
      "원문 : peoples democratic party leader abdul dar shot monday suspected terrorists jammu kashmir pulwama district travelling car following succumbed injuries pulwama district president first admitted local hospital later shifted hospital srinagar condition deteriorated \n",
      "실제 헤드라인 : pdp leader abdul shot dead \n",
      "예측 헤드라인 :  pdp leader shot dead encounter\n",
      "\n",
      "\n",
      "원문 : actress sanya malhotra known starring dangal seen opposite nawazuddin siddiqui second film film directed ritesh batra directed film speaking film ritesh said set mumbai love story sorts poor photographer \n",
      "실제 헤드라인 : dangal actress sanya star opposite nawazuddin film \n",
      "예측 헤드라인 :  sonakshi star film film hits theatres\n",
      "\n",
      "\n",
      "원문 : sunny deol tweeted picture son karan mark first day shoot debut film pal pal dil ke paas father launched launching son said sunny directing co producing film title reportedly inspired song dharmendra film black mail \n",
      "실제 헤드라인 : sunny shares pic son st day shoot debut film \n",
      "예측 헤드라인 :  sunny deol shares pic sets th birthday\n",
      "\n",
      "\n",
      "원문 : reacting india win first test australia users reacted tweets like test cricket crazy beauty another user reacted win tweet read india win first ever first test australia making hard opponents made even memorable test \n",
      "실제 헤드라인 : test cricket crazy beauty tweets user india win \n",
      "예측 헤드라인 :  smith tweets user tweets user\n",
      "\n",
      "\n",
      "원문 : model whose face completely covered walked ramp label shetty mishra amazon india fashion week spring summer model helped models complete full walk said collection essentially de \n",
      "실제 헤드라인 : model face fully covered walks amazon fashion week \n",
      "예측 헤드라인 :  new york made sale\n",
      "\n",
      "\n",
      "원문 : dera sacha sauda chief gurmeet ram rahim singh video appealed followers leave panchkula haryana rape case verdict scheduled friday requested dera return home maintain peace order go verdict us respect law rahim added \n",
      "실제 헤드라인 : leave panchkula go home ram rahim appeals followers \n",
      "예측 헤드라인 :  ram rahim jail dera dera dera verdict\n",
      "\n",
      "\n",
      "원문 : supermodel kate accused fashion brand guess co founder paul sexually harassing women year old supermodel mention specific incident tweeted disappointing iconic women brand guess still empowering paul creative director metoo became celebrity guess \n",
      "실제 헤드라인 : kate accuses guess co founder sexual harassment \n",
      "예측 헤드라인 :  startup founder sexual harassment\n",
      "\n",
      "\n",
      "원문 : badminton player saina nehwal tweeting picture actor prabhas wrote baahubali actor known playing titular role baahubali baahubali film franchise reacting picture user wrote baahubali fields another comment read baahubali ka hai kya saina ji \n",
      "실제 헤드라인 : saina nehwal shares pic baahubali actor prabhas \n",
      "예측 헤드라인 :  first look biopic john cena\n",
      "\n",
      "\n",
      "원문 : egypt blocked website one prominent financial newspapers al according reports comes egypt blocked media websites last week accusing supporting terrorism spreading false news notably company assets frozen last december alleged ties outlawed muslim brotherhood charge \n",
      "실제 헤드라인 : egypt blocks financial newspaper media \n",
      "예측 헤드라인 :  wikileaks bans news news report\n",
      "\n",
      "\n",
      "원문 : former uidai chairman nandan nilekani said aadhaar card scheme helped government save billion eliminating fraud beneficiary lists government transferred billion accounts real time world largest cash transfer system said nilekani added aadhaar billion people registered system \n",
      "실제 헤드라인 : aadhaar helped government save billion nandan nilekani \n",
      "예측 헤드라인 :  uidai allows aadhaar airtel data breach\n",
      "\n",
      "\n",
      "원문 : unit mass using planck constant year old physical prototype kilogram retires new system uses balance weight balanced electromagnetic force late british physicist bryan latest balance measure planck constant parts per billion \n",
      "실제 헤드라인 : new kilogram \n",
      "예측 헤드라인 :  scientists claim million\n",
      "\n",
      "\n",
      "원문 : indians named paradise papers leak detailing offshore dealings india ranked th among countries terms number names revealed leak indian company also figures second largest client law firm data leaked \n",
      "실제 헤드라인 : indians leaked paradise papers \n",
      "예측 헤드라인 :  indian origin us chief quits quits\n",
      "\n",
      "\n",
      "원문 : nearly month government banned delhi various eateries bars reportedly switched selling serving hookah pens palm sized electronic called national capital claiming liquid used fall tobacco laws eatery owners said rules regarding vague \n",
      "실제 헤드라인 : delhi bars sell hookah pens ban hookah \n",
      "예측 헤드라인 :  delhi govt fined lakh illegal\n",
      "\n",
      "\n",
      "원문 : billionaire anand mahindra welcomed government choice shaktikanta das rbi governor batch ias officer tamil nadu cadre das led state industry secretary also stint mahindra industrial park chennai joint secretary private sector company \n",
      "실제 헤드라인 : choice das rbi governor welcome move mahindra \n",
      "예측 헤드라인 :  anand mahindra denies new demonetisation\n",
      "\n",
      "\n",
      "원문 : addressing function occasion hindi diwas president ram nath kovind thursday asked hindi speakers give respect space regional languages speakers adding felt hindi imposed said adoption languages cultures would help unite people country \n",
      "실제 헤드라인 : give respect languages prez hindi \n",
      "예측 헤드라인 :  ram hindi language\n",
      "\n",
      "\n",
      "원문 : russian journalist shared pictures vending machine moscow mall lets users buy fake instagram likes post paying nearly lets users buy lakh followers likes per post people also get instagram posts printed vending machine \n",
      "실제 헤드라인 : russian vending machine sells instagram likes \n"
     ]
    },
    {
     "name": "stdout",
     "output_type": "stream",
     "text": [
      "예측 헤드라인 :  russian journalist accidentally lets users steal photos\n",
      "\n",
      "\n",
      "원문 : asserting cannabis indigenous india form congress mp shashi tharoor said india legalise regulate production supply use cannabis stating alcohol tobacco far harmful cannabis tharoor claimed regulation would allow consumers know strength drug \n",
      "실제 헤드라인 : shashi tharoor calls cannabis india \n",
      "예측 헤드라인 :  tharoor promises ban use plastic ads\n",
      "\n",
      "\n",
      "원문 : alumni association indian institute science bengaluru cancelled workshop scheduled next month facing opposition faculty members researchers alumni pointing belief system scientific basis protesters said workshop would grave damage reputation integrity institution \n",
      "실제 헤드라인 : iisc bengaluru cancelled protest \n",
      "예측 헤드라인 :  railways launches new\n",
      "\n",
      "\n",
      "원문 : huma qureshi speaking red carpet appearances cannes film festival said bollywood got right many years looked beautiful yet different one another think anyone went top time added huma said always excited know wearing red carpet \n",
      "실제 헤드라인 : wood got right many yrs huma cannes fest \n",
      "예측 헤드라인 :  huma made huma bhumi\n",
      "\n",
      "\n",
      "원문 : delhi police arrested man allegedly abandoned infant baby bushes near rk khanna tennis stadium capital baby rescued traffic policemen thursday admitted safdarjung hospital accused kumar traced baby mother approached hospital revealed baby \n",
      "실제 헤드라인 : man abandoned infant near delhi stadium arrested \n",
      "예측 헤드라인 :  delhi man arrested trying baby baby\n",
      "\n",
      "\n",
      "원문 : income tax department decided high net worth individuals purchased costly jewellery nirav modi firms according reports comes department sent notices asking explain source income purchase jewellery denied making cash payments nirav firms \n",
      "실제 헤드라인 : buyers nirav modi jewellery \n",
      "예측 헤드라인 :  dept seizes kg nirav modi benami transactions\n",
      "\n",
      "\n",
      "원문 : tibetan spiritual leader dalai lama saturday said tibetan people decide wanted continue institution said planning call meeting senior monks year start discussing succession people feel institution longer relevant automatically cease added \n",
      "실제 헤드라인 : decide dalai lama \n",
      "예측 헤드라인 :  dalai lama dalai lama\n",
      "\n",
      "\n",
      "원문 : trailer hugh jackman zac michelle williams starrer greatest released film musical drama american pt founder circus became famous bros bailey circus known greatest show earth film directed michael \n",
      "실제 헤드라인 : trailer hugh greatest released \n",
      "예측 헤드라인 :  trailer trailer superhero film released\n",
      "\n",
      "\n",
      "원문 : space agency nasa planning day long campaign restore communication mars rover opportunity rover contact since early june major dust storm led discharge solar power inside rover nasa said skies opportunity rover clear agency immediately begin campaign \n",
      "실제 헤드라인 : nasa plans day campaign recover mars rover \n",
      "예측 헤드라인 :  nasa mars mars mars mars mars\n",
      "\n",
      "\n",
      "원문 : missing year old indonesian woman body found inside belly nearly foot long python police officials said woman body found villagers grew suspicious python cut open according police officials woman swallowed head first around villagers took part searching \n",
      "실제 헤드라인 : missing woman body found inside foot long python \n",
      "예측 헤드라인 :  man found dead dog found dead near mumbai\n",
      "\n",
      "\n",
      "원문 : guide boys uk criticised saying breasts exist two reasons namely make milk babies make girl look grown attractive growing boys added virtually breasts things following criticism publishing house apologised said revise guide \n",
      "실제 헤드라인 : boys guide says breasts exist make girls look \n",
      "예측 헤드라인 :  pope reveals kids like kids\n",
      "\n",
      "\n",
      "원문 : former prime minister atal bihari vajpayee name removed lucknow municipal corporation voter list inactive absent lucknow several years municipal officials said officials sought reply vajpayee october whether exercise right vote upcoming lucknow municipal elections \n",
      "실제 헤드라인 : atal vajpayee name removed lucknow voter list \n",
      "예측 헤드라인 :  pm vajpayee bags new york\n",
      "\n",
      "\n",
      "원문 : bajrang dal activists wednesday stopped hindu girl muslim boy getting interfaith marriage registered court uttar pradesh meerut activists reportedly barged court premises tried attack boy following police team called order protect couple activists \n",
      "실제 헤드라인 : bajrang dal workers stop hindu muslim couple marrying \n",
      "예측 헤드라인 :  muslim priest booked raping daughter\n",
      "\n",
      "\n",
      "원문 : indian army begun constructing temporary foot overbridge elphinstone road station two months people killed stampede station overbridge connect north end station station central railway construction expected completed end january \n",
      "실제 헤드라인 : army begins work foot station \n",
      "예측 헤드라인 :  army bridge hit storm hit storm\n",
      "\n",
      "\n",
      "원문 : bathing ganga sangam joins yamuna river allahabad could expose people levels faecal bacteria times permissible limit per central pollution control board data data showed ganga cleanest source uttarakhand deteriorating quality flows uttar pradesh west bengal \n",
      "실제 헤드라인 : dip ganga risks exposure high level bacteria \n",
      "예측 헤드라인 :  water water water water water study\n",
      "\n",
      "\n",
      "원문 : us president donald trump said vladimir putin probably person remarks made ahead summit russian president look get along russia good thing know met couple times added trump earlier called putin competitor \n",
      "실제 헤드라인 : putin probably person us president trump \n",
      "예측 헤드라인 :  trump calls putin summit\n",
      "\n",
      "\n",
      "원문 : brajesh thakur prime accused muzaffarpur shelter home sexual abuse case used force girls dance vulgar songs sex guests cbi said charge sheet added girls refused entertain guests offered salt night cbi filed charge sheet special pocso court \n",
      "실제 헤드라인 : bihar shelter girls forced sex dance vulgar songs cbi \n",
      "예측 헤드라인 :  bjp mla arrested sexual harassment violence\n",
      "\n",
      "\n",
      "원문 : following complaints passengers meals ministry railways released rate card food served ministry asked people lodge complaint case discrepancies regarding prices quality food menu rate tea breakfast among others \n",
      "실제 헤드라인 : railways issues food prices complaints overcharging \n",
      "예측 헤드라인 :  railways charge charge\n",
      "\n",
      "\n",
      "원문 : draft amendments food safety standards act country food regulator fssai proposed life imprisonment penalty least lakh food products adding minimum punishment shall seven years draft states person shall punished irrespective whether caused actual injury \n",
      "실제 헤드라인 : proposes life jail fine food \n",
      "예측 헤드라인 :  govt proposes free pan mandatory products\n",
      "\n",
      "\n",
      "원문 : india second largest telecom operator bharti airtel posted fall profit crore september quarter compared profit crore year ago delhi based company revenue fell crore airtel domestic average revenue per user nearly halved industry high nine quarters ago \n",
      "실제 헤드라인 : bharti airtel september quarter profit falls cr \n",
      "예측 헤드라인 :  airtel profit falls crore sept quarter\n",
      "\n",
      "\n",
      "원문 : south korean electronics company lg unveiled claims world largest transparent flexible oled display foot long display offers transparency fixed degrees panel also rolled radius mm without affecting function display \n",
      "실제 헤드라인 : lg unveils foot long transparent flexible display \n",
      "예측 헤드라인 :  lg unveils world first laptop\n",
      "\n",
      "\n",
      "원문 : formula one driver former champion button disqualified cycling section button participating california finished third later stripped title went speed limit cycling section riders supposed slow safety reasons \n",
      "실제 헤드라인 : ex champ disqualified speeding \n",
      "예측 헤드라인 :  man made kg painting\n",
      "\n",
      "\n",
      "원문 : least six people injured two trapped passengers rescued double decker bus crashed shop high street london thursday according passenger driver collision life threatening life changing injuries police said \n",
      "실제 헤드라인 : double bus rams shop london \n",
      "예측 헤드라인 :  coaches coaches derail mumbai bank\n",
      "\n",
      "\n",
      "원문 : ips officer surendra kumar das allegedly consumed poison wednesday searching ways end life google since last days depressed state also watched certain videos using poison tool suicide official said \n",
      "실제 헤드라인 : ips officer ways end life consuming poison \n",
      "예측 헤드라인 :  man takes bail fb page\n",
      "\n",
      "\n",
      "원문 : two women inmates broke facility canada earlier week caught within hours nearby escape room interactive game facility part game participants locked room must solve variety challenges get \n",
      "실제 헤드라인 : canada prison caught escape room game facility \n",
      "예측 헤드라인 :  women women inmates found\n",
      "\n",
      "\n",
      "원문 : individuals accused rape molestation haryana barred government services including losing driving arms licenses old age pension till trial completed cm manohar lal khattar announced victims cases provided want hire lawyer one provided state \n",
      "실제 헤드라인 : rape accused haryana lose driving license pension \n",
      "예측 헤드라인 :  rape accused rape cases madhya pradesh\n",
      "\n",
      "\n"
     ]
    }
   ],
   "source": [
    "for i in range(50, 100):\n",
    "    print(\"원문 :\", seq2text(encoder_input_test[i]))\n",
    "    print(\"실제 헤드라인 :\", seq2summary(decoder_input_test[i]))\n",
    "    print(\"예측 헤드라인 :\", decode_sequence(encoder_input_test[i].reshape(1, text_max_len)))\n",
    "    print(\"\\n\")"
   ]
  },
  {
   "cell_type": "code",
   "execution_count": null,
   "metadata": {},
   "outputs": [],
   "source": [
    "print(\"원문 :\", seq2text(encoder_input_test[100]))\n",
    "print(\"실제 요약 :\", seq2summary(decoder_input_test[100]))\n",
    "print(\"예측 요약 :\", decode_sequence(encoder_input_test[100].reshape(1, text_max_len)))"
   ]
  },
  {
   "cell_type": "code",
   "execution_count": null,
   "metadata": {},
   "outputs": [],
   "source": []
  },
  {
   "cell_type": "code",
   "execution_count": null,
   "metadata": {},
   "outputs": [],
   "source": []
  },
  {
   "cell_type": "markdown",
   "metadata": {},
   "source": [
    "## 5. Summa을 이용해서 추출적 요약해보기"
   ]
  },
  {
   "cell_type": "code",
   "execution_count": 136,
   "metadata": {},
   "outputs": [],
   "source": [
    "import requests\n",
    "from summa.summarizer import summarize"
   ]
  },
  {
   "cell_type": "code",
   "execution_count": 137,
   "metadata": {},
   "outputs": [],
   "source": [
    "urllib.request.urlretrieve(\"https://raw.githubusercontent.com/sunnysai12345/News_Summary/master/news_summary_more.csv\", filename=\"news_summary_more.csv\")\n",
    "data = pd.read_csv('news_summary_more.csv', encoding='iso-8859-1')"
   ]
  },
  {
   "cell_type": "code",
   "execution_count": 138,
   "metadata": {},
   "outputs": [
    {
     "data": {
      "text/plain": [
       "\"Saurav Kant, an alumnus of upGrad and IIIT-B's PG Program in Machine learning and Artificial Intelligence, was a Sr Systems Engineer at Infosys with almost 5 years of work experience. The program and upGrad's 360-degree career support helped him transition to a Data Scientist at Tech Mahindra with 90% salary hike. upGrad's Online Power Learning has powered 3 lakh+ careers.\""
      ]
     },
     "execution_count": 138,
     "metadata": {},
     "output_type": "execute_result"
    }
   ],
   "source": [
    "text = data['text']\n",
    "text[0]"
   ]
  },
  {
   "cell_type": "code",
   "execution_count": 166,
   "metadata": {},
   "outputs": [
    {
     "name": "stdout",
     "output_type": "stream",
     "text": [
      "Summary:\n",
      "upGrad's Online Power Learning has powered 3 lakh+ careers.\n"
     ]
    }
   ],
   "source": [
    "print('Summary:')\n",
    "print(summarize(text[0], words=5))"
   ]
  },
  {
   "cell_type": "code",
   "execution_count": 154,
   "metadata": {},
   "outputs": [
    {
     "name": "stdout",
     "output_type": "stream",
     "text": [
      "Summary:\n",
      "[\"upGrad's Online Power Learning has powered 3 lakh+ careers.\"]\n"
     ]
    }
   ],
   "source": [
    "# 리스트로 출력결과 받기\n",
    "print('Summary:')\n",
    "print(summarize(text[0], ratio=0.4, split=True))"
   ]
  },
  {
   "cell_type": "code",
   "execution_count": 173,
   "metadata": {},
   "outputs": [],
   "source": [
    "headlines = []\n",
    "for i in range(len(text)):\n",
    "    headline = summarize(text[i], ratio=0.4)\n",
    "    headlines.append(headline)"
   ]
  },
  {
   "cell_type": "code",
   "execution_count": 174,
   "metadata": {},
   "outputs": [
    {
     "data": {
      "text/plain": [
       "[\"upGrad's Online Power Learning has powered 3 lakh+ careers.\",\n",
       " 'Users get one CRED coin per rupee of bill paid, which can be used to avail rewards from brands like Ixigo, BookMyShow, UberEats, Cult.Fit and more.',\n",
       " 'The match witnessed India getting all out for 92, their seventh lowest total in ODI cricket history.',\n",
       " 'Also, customers have options to insure against Critical Illnesses, Disability and Accidental Death Benefit Rider with a life cover up to the age of 80 years.',\n",
       " 'Speaking about the sexual harassment allegations against Rajkumar Hirani, Sonam Kapoor said, \"I\\'ve known Hirani for many years...What if it\\'s not true, the [#MeToo] movement will get derailed.\" \"In the #MeToo movement, I always believe a woman.']"
      ]
     },
     "execution_count": 174,
     "metadata": {},
     "output_type": "execute_result"
    }
   ],
   "source": [
    "headlines[:5]"
   ]
  },
  {
   "cell_type": "code",
   "execution_count": 176,
   "metadata": {
    "scrolled": false
   },
   "outputs": [
    {
     "name": "stdout",
     "output_type": "stream",
     "text": [
      "원문 : Saurav Kant, an alumnus of upGrad and IIIT-B's PG Program in Machine learning and Artificial Intelligence, was a Sr Systems Engineer at Infosys with almost 5 years of work experience. The program and upGrad's 360-degree career support helped him transition to a Data Scientist at Tech Mahindra with 90% salary hike. upGrad's Online Power Learning has powered 3 lakh+ careers.\n",
      "실제 헤드라인 : upGrad learner switches to career in ML & Al with 90% salary hike\n",
      "예측 헤드라인 : upGrad's Online Power Learning has powered 3 lakh+ careers.\n",
      "\n",
      "\n",
      "원문 : Kunal Shah's credit card bill payment platform, CRED, gave users a chance to win free food from Swiggy for one year. Pranav Kaushik, a Delhi techie, bagged this reward after spending 2000 CRED coins. Users get one CRED coin per rupee of bill paid, which can be used to avail rewards from brands like Ixigo, BookMyShow, UberEats, Cult.Fit and more.\n",
      "실제 헤드라인 : Delhi techie wins free food from Swiggy for one year on CRED\n",
      "예측 헤드라인 : Users get one CRED coin per rupee of bill paid, which can be used to avail rewards from brands like Ixigo, BookMyShow, UberEats, Cult.Fit and more.\n",
      "\n",
      "\n",
      "원문 : New Zealand defeated India by 8 wickets in the fourth ODI at Hamilton on Thursday to win their first match of the five-match ODI series. India lost an international match under Rohit Sharma's captaincy after 12 consecutive victories dating back to March 2018. The match witnessed India getting all out for 92, their seventh lowest total in ODI cricket history.\n",
      "실제 헤드라인 : New Zealand end Rohit Sharma-led India's 12-match winning streak\n",
      "예측 헤드라인 : The match witnessed India getting all out for 92, their seventh lowest total in ODI cricket history.\n",
      "\n",
      "\n",
      "원문 : With Aegon Life iTerm Insurance plan, customers can enjoy tax benefits on your premiums paid and save up to Ã¢ÂÂ¹46,800^ on taxes. The plan provides life cover up to the age of 100 years. Also, customers have options to insure against Critical Illnesses, Disability and Accidental Death Benefit Rider with a life cover up to the age of 80 years.\n",
      "실제 헤드라인 : Aegon life iTerm insurance plan helps customers save tax\n",
      "예측 헤드라인 : Also, customers have options to insure against Critical Illnesses, Disability and Accidental Death Benefit Rider with a life cover up to the age of 80 years.\n",
      "\n",
      "\n",
      "원문 : Speaking about the sexual harassment allegations against Rajkumar Hirani, Sonam Kapoor said, \"I've known Hirani for many years...What if it's not true, the [#MeToo] movement will get derailed.\" \"In the #MeToo movement, I always believe a woman. But in this case, we need to reserve our judgment,\" she added. Hirani has been accused by an assistant who worked in 'Sanju'.\n",
      "실제 헤드라인 : Have known Hirani for yrs, what if MeToo claims are not true: Sonam\n",
      "예측 헤드라인 : Speaking about the sexual harassment allegations against Rajkumar Hirani, Sonam Kapoor said, \"I've known Hirani for many years...What if it's not true, the [#MeToo] movement will get derailed.\" \"In the #MeToo movement, I always believe a woman.\n",
      "\n",
      "\n",
      "원문 : Pakistani singer Rahat Fateh Ali Khan has denied receiving any notice from the Enforcement Directorate over allegedly smuggling foreign currency out of India. \"It would have been better if the authorities would have served the notice first if any and then publicised this,\" reads a press release issued on behalf of Rahat. The statement further called the allegation \"bizarre\".\n",
      "실제 헤드라인 : Rahat Fateh Ali Khan denies getting notice for smuggling currency\n",
      "예측 헤드라인 : Pakistani singer Rahat Fateh Ali Khan has denied receiving any notice from the Enforcement Directorate over allegedly smuggling foreign currency out of India.\n",
      "\n",
      "\n",
      "원문 : India recorded their lowest ODI total in New Zealand after getting all out for 92 runs in 30.5 overs in the fourth ODI at Hamilton on Thursday. Seven of India's batsmen were dismissed for single-digit scores, while their number ten batsman Yuzvendra Chahal top-scored with 18*(37). India's previous lowest ODI total in New Zealand was 108.\n",
      "실제 헤드라인 : India get all out for 92, their lowest ODI total in New Zealand\n",
      "예측 헤드라인 : India's previous lowest ODI total in New Zealand was 108.\n",
      "\n",
      "\n",
      "원문 : Weeks after ex-CBI Director Alok Verma told the Department of Personnel and Training to consider him retired, the Home Ministry asked him to join work on the last day of his fixed tenure as Director on Thursday. The ministry directed him to immediately join as DG, Fire Services, the post he was transferred to after his removal as CBI chief.\n",
      "실제 헤드라인 : Govt directs Alok Verma to join work 1 day before his retirement\n",
      "예측 헤드라인 : \n",
      "\n",
      "\n",
      "원문 : Andhra Pradesh CM N Chandrababu Naidu has said, \"When I met then US President Bill Clinton, I addressed him as Mr Clinton, not as 'sir'. (PM Narendra) Modi is my junior in politics...I addressed him as sir 10 times.\" \"I did this...to satisfy his ego in the hope that he will do justice to the state,\" he added.\n",
      "실제 헤드라인 : Called PM Modi 'sir' 10 times to satisfy his ego: Andhra CM\n",
      "예측 헤드라인 : \n",
      "\n",
      "\n",
      "원문 : Congress candidate Shafia Zubair won the Ramgarh Assembly seat in Rajasthan, by defeating BJP's Sukhwant Singh with a margin of 12,228 votes in the bypoll. With this victory, Congress has taken its total to 100 seats in the 200-member assembly. The election to the Ramgarh seat was delayed due to the death of sitting MLA and BSP candidate Laxman Singh.\n",
      "실제 헤드라인 : Cong wins Ramgarh bypoll in Rajasthan, takes total to 100 seats\n",
      "예측 헤드라인 : Congress candidate Shafia Zubair won the Ramgarh Assembly seat in Rajasthan, by defeating BJP's Sukhwant Singh with a margin of 12,228 votes in the bypoll.\n",
      "\n",
      "\n"
     ]
    }
   ],
   "source": [
    "for i in range(10):\n",
    "    print(\"원문 :\", data['text'][i])\n",
    "    print(\"실제 헤드라인 :\", data['headlines'][i])\n",
    "    print(\"예측 헤드라인 :\", headlines[i])\n",
    "    print(\"\\n\")"
   ]
  },
  {
   "cell_type": "markdown",
   "metadata": {},
   "source": [
    "## [결과 및 회고]\n",
    "\n",
    "이번 프로젝트에서는 어텐션 모델을 활용하여 뉴스 텍스트를 추상적으로 요약해보았습니다.    \n",
    "처음에는 아예 말도 안되는 문장들이 나오기도 했다가, max len과 단어집합의 크기를 조정하면서 어느 정도 실제 헤드라인과 얼추 비슷한 단어들을 포함한 문장을 뽑아낼 수 있었습니다. 그렇지만 아무리 조정해도 공통적으로 발견되는 문제점이 있었는데\n",
    "\n",
    "1. 똑같은 단어를 2번 정도 중복해서 뽑아낼 때가 있다.\n",
    "2. 그러다보니 문장이 맺어지지 않고 중간에서 끊기기도 한다.\n",
    "3. 문법적으로 어색한 문장이 있다.\n",
    "\n",
    "였습니다. 어텐션 모델의 성능을 올리기 위해 LSTM 층을 하나 더 추가하거나 헤드라인에서도 불용어를 제거해주기도 했습니다. 헤드라인에서 불용어를 제거하지 않고 요약봇을 만든 것과 제거하고 요약봇을 만든 것을 비교해보면, 제 생각에는 헤드라인에서도 불용어를 제거한 것이 더 좋은 결과를 나타냈다고 생각합니다.   \n",
    "또한 Summa를 이용한 추출적 요약도 시도했는데, 뉴스 원문 자체가 길지 않아 정확한 헤드라인을 뽑아낸다고 보기는 어려운 것 같습니다. ratio나 words를 변경하면서 살펴봤는데,\n",
    "1. 값을 적게 주면 아예 헤드라인을 뽑아내지 못하였고,   \n",
    "2. 큰 값을 주면 문장 전체를 통째로 뽑아내버려서 유의미한 요약이 아니었습니다.   \n",
    "\n",
    "그렇지만 그만큼 추상적 요약보다는 문법적으로 어색하지 않고 중복되는 단어를 가지지 않는 헤드라인을 만들 수 있었습니다.   \n",
    "\n",
    "\n"
   ]
  },
  {
   "cell_type": "code",
   "execution_count": null,
   "metadata": {},
   "outputs": [],
   "source": []
  }
 ],
 "metadata": {
  "kernelspec": {
   "display_name": "Python 3",
   "language": "python",
   "name": "python3"
  },
  "language_info": {
   "codemirror_mode": {
    "name": "ipython",
    "version": 3
   },
   "file_extension": ".py",
   "mimetype": "text/x-python",
   "name": "python",
   "nbconvert_exporter": "python",
   "pygments_lexer": "ipython3",
   "version": "3.7.9"
  }
 },
 "nbformat": 4,
 "nbformat_minor": 4
}
